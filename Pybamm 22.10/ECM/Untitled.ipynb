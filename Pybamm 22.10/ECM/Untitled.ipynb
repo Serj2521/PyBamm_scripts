{
 "cells": [
  {
   "cell_type": "code",
   "execution_count": 11,
   "id": "ed9f4cdb",
   "metadata": {},
   "outputs": [],
   "source": [
    "try:\n",
    "    import liionpack as lp\n",
    "except:\n",
    "    !pip install -q git+https://github.com/pybamm-team/liionpack.git@main\n",
    "    import liionpack as lp\n",
    "import pybamm\n",
    "import numpy as np"
   ]
  },
  {
   "cell_type": "code",
   "execution_count": 12,
   "id": "c697ef94",
   "metadata": {},
   "outputs": [],
   "source": [
    "I_mag = 5.0\n",
    "OCV_init = 4.0  # used for intial guess\n",
    "Ri_init = 5e-2  # used for intial guess\n",
    "R_busbar = 1.5e-3\n",
    "R_connection = 1e-2\n",
    "Np = 4\n",
    "Ns = 1\n",
    "Nbatt = Np * Ns\n",
    "netlist = lp.setup_circuit(\n",
    "    Np=Np, Ns=Ns, Rb=R_busbar, Rc=R_connection, Ri=Ri_init, V=OCV_init, I=I_mag\n",
    ")"
   ]
  },
  {
   "cell_type": "code",
   "execution_count": 13,
   "id": "fa3cd0b4",
   "metadata": {},
   "outputs": [],
   "source": [
    "netlist = lp.setup_circuit(Np=Np, Ns=Ns, Rb=R_busbar, Rc=R_connection, Ri=Ri_init, V=OCV_init, I=I_mag)"
   ]
  },
  {
   "cell_type": "code",
   "execution_count": 14,
   "id": "b58dfd4c",
   "metadata": {},
   "outputs": [],
   "source": [
    "experiment = pybamm.Experiment(\n",
    "    [\"Charge at 15 A for 10 minutes\", \"Rest for 10 minutes\", \"Discharge at 15 A for 10 minutes\", \"Rest for 10 minutes\"]*100,\n",
    "    period=\"30 seconds\",)"
   ]
  },
  {
   "cell_type": "code",
   "execution_count": 15,
   "id": "1b02283e",
   "metadata": {},
   "outputs": [],
   "source": [
    "parameter_values = pybamm.ParameterValues(\"Chen2020\")"
   ]
  },
  {
   "cell_type": "code",
   "execution_count": 16,
   "id": "b17fd721",
   "metadata": {},
   "outputs": [],
   "source": [
    "output_variables = [  \n",
    "    'X-averaged total SEI thickness [m]',\n",
    "    'Loss of capacity to SEI [A.h]',\n",
    "    ]"
   ]
  },
  {
   "cell_type": "code",
   "execution_count": 17,
   "id": "6d588eee",
   "metadata": {},
   "outputs": [],
   "source": [
    "def SEI_degradation(parameter_values=None):\n",
    "    \"\"\"\n",
    "    Create a PyBaMM simulation set up for integration with liionpack\n",
    "\n",
    "    Args:\n",
    "        parameter_values (pybamm.ParameterValues):\n",
    "            The default is None.\n",
    "\n",
    "    Returns:\n",
    "        pybamm.Simulation:\n",
    "            A simulation that can be solved individually or passed into the\n",
    "            liionpack solve method\n",
    "\n",
    "    \"\"\"\n",
    "    # Create the pybamm model\n",
    "    model = pybamm.lithium_ion.SPM(\n",
    "        options={\n",
    "            \"SEI\": \"ec reaction limited\",\n",
    "            \"SEI film resistance\": \"distributed\",\n",
    "            \"SEI porosity change\": \"true\",\n",
    "        }\n",
    "    )\n",
    "\n",
    "    # Add events to the model\n",
    "    model = lp.add_events_to_model(model)\n",
    "\n",
    "    # Set up parameter values\n",
    "    if parameter_values is None:\n",
    "        parameter_values = pybamm.ParameterValues(\"Chen2020\")\n",
    "\n",
    "    # Set up solver and simulation\n",
    "    solver = pybamm.CasadiSolver(mode=\"safe\")\n",
    "    sim = pybamm.Simulation(\n",
    "        model=model,\n",
    "        parameter_values=parameter_values,\n",
    "        solver=solver,\n",
    "    )\n",
    "\n",
    "    return sim"
   ]
  },
  {
   "cell_type": "code",
   "execution_count": 18,
   "id": "7282f1ab",
   "metadata": {},
   "outputs": [
    {
     "ename": "AttributeError",
     "evalue": "'ElectrodeSOHSolver' object has no attribute 'get_initial_stoichiometries'",
     "output_type": "error",
     "traceback": [
      "\u001b[1;31m---------------------------------------------------------------------------\u001b[0m",
      "\u001b[1;31mAttributeError\u001b[0m                            Traceback (most recent call last)",
      "Cell \u001b[1;32mIn[18], line 1\u001b[0m\n\u001b[1;32m----> 1\u001b[0m output \u001b[38;5;241m=\u001b[39m \u001b[43mlp\u001b[49m\u001b[38;5;241;43m.\u001b[39;49m\u001b[43msolve\u001b[49m\u001b[43m(\u001b[49m\n\u001b[0;32m      2\u001b[0m \u001b[43m    \u001b[49m\u001b[43mnetlist\u001b[49m\u001b[38;5;241;43m=\u001b[39;49m\u001b[43mnetlist\u001b[49m\u001b[43m,\u001b[49m\n\u001b[0;32m      3\u001b[0m \u001b[43m    \u001b[49m\u001b[43mparameter_values\u001b[49m\u001b[38;5;241;43m=\u001b[39;49m\u001b[43mparameter_values\u001b[49m\u001b[43m,\u001b[49m\n\u001b[0;32m      4\u001b[0m \u001b[43m    \u001b[49m\u001b[43mexperiment\u001b[49m\u001b[38;5;241;43m=\u001b[39;49m\u001b[43mexperiment\u001b[49m\u001b[43m,\u001b[49m\n\u001b[0;32m      5\u001b[0m \u001b[43m    \u001b[49m\u001b[43msim_func\u001b[49m\u001b[38;5;241;43m=\u001b[39;49m\u001b[43mSEI_degradation\u001b[49m\u001b[43m,\u001b[49m\n\u001b[0;32m      6\u001b[0m \u001b[43m    \u001b[49m\u001b[43moutput_variables\u001b[49m\u001b[38;5;241;43m=\u001b[39;49m\u001b[43moutput_variables\u001b[49m\u001b[43m,\u001b[49m\n\u001b[0;32m      7\u001b[0m \u001b[43m    \u001b[49m\u001b[43minitial_soc\u001b[49m\u001b[38;5;241;43m=\u001b[39;49m\u001b[38;5;241;43m0.5\u001b[39;49m\u001b[43m,\u001b[49m\n\u001b[0;32m      8\u001b[0m \u001b[43m)\u001b[49m\n",
      "File \u001b[1;32m~\\Documents\\GIT\\env\\lib\\site-packages\\liionpack\\solver_utils.py:431\u001b[0m, in \u001b[0;36msolve\u001b[1;34m(netlist, sim_func, parameter_values, experiment, inputs, external_variables, initial_soc, nproc, output_variables, manager)\u001b[0m\n\u001b[0;32m    428\u001b[0m     rm \u001b[38;5;241m=\u001b[39m lp\u001b[38;5;241m.\u001b[39mCasadiManager()\n\u001b[0;32m    429\u001b[0m     lp\u001b[38;5;241m.\u001b[39mlogger\u001b[38;5;241m.\u001b[39mnotice(\u001b[38;5;124m\"\u001b[39m\u001b[38;5;124mmanager instruction not supported, using default\u001b[39m\u001b[38;5;124m\"\u001b[39m)\n\u001b[1;32m--> 431\u001b[0m output \u001b[38;5;241m=\u001b[39m \u001b[43mrm\u001b[49m\u001b[38;5;241;43m.\u001b[39;49m\u001b[43msolve\u001b[49m\u001b[43m(\u001b[49m\n\u001b[0;32m    432\u001b[0m \u001b[43m    \u001b[49m\u001b[43mnetlist\u001b[49m\u001b[38;5;241;43m=\u001b[39;49m\u001b[43mnetlist\u001b[49m\u001b[43m,\u001b[49m\n\u001b[0;32m    433\u001b[0m \u001b[43m    \u001b[49m\u001b[43msim_func\u001b[49m\u001b[38;5;241;43m=\u001b[39;49m\u001b[43msim_func\u001b[49m\u001b[43m,\u001b[49m\n\u001b[0;32m    434\u001b[0m \u001b[43m    \u001b[49m\u001b[43mparameter_values\u001b[49m\u001b[38;5;241;43m=\u001b[39;49m\u001b[43mparameter_values\u001b[49m\u001b[43m,\u001b[49m\n\u001b[0;32m    435\u001b[0m \u001b[43m    \u001b[49m\u001b[43mexperiment\u001b[49m\u001b[38;5;241;43m=\u001b[39;49m\u001b[43mexperiment\u001b[49m\u001b[43m,\u001b[49m\n\u001b[0;32m    436\u001b[0m \u001b[43m    \u001b[49m\u001b[43moutput_variables\u001b[49m\u001b[38;5;241;43m=\u001b[39;49m\u001b[43moutput_variables\u001b[49m\u001b[43m,\u001b[49m\n\u001b[0;32m    437\u001b[0m \u001b[43m    \u001b[49m\u001b[43minputs\u001b[49m\u001b[38;5;241;43m=\u001b[39;49m\u001b[43minputs\u001b[49m\u001b[43m,\u001b[49m\n\u001b[0;32m    438\u001b[0m \u001b[43m    \u001b[49m\u001b[43mexternal_variables\u001b[49m\u001b[38;5;241;43m=\u001b[39;49m\u001b[43mexternal_variables\u001b[49m\u001b[43m,\u001b[49m\n\u001b[0;32m    439\u001b[0m \u001b[43m    \u001b[49m\u001b[43mnproc\u001b[49m\u001b[38;5;241;43m=\u001b[39;49m\u001b[43mnproc\u001b[49m\u001b[43m,\u001b[49m\n\u001b[0;32m    440\u001b[0m \u001b[43m    \u001b[49m\u001b[43minitial_soc\u001b[49m\u001b[38;5;241;43m=\u001b[39;49m\u001b[43minitial_soc\u001b[49m\u001b[43m,\u001b[49m\n\u001b[0;32m    441\u001b[0m \u001b[43m    \u001b[49m\u001b[43msetup_only\u001b[49m\u001b[38;5;241;43m=\u001b[39;49m\u001b[38;5;28;43;01mFalse\u001b[39;49;00m\u001b[43m,\u001b[49m\n\u001b[0;32m    442\u001b[0m \u001b[43m\u001b[49m\u001b[43m)\u001b[49m\n\u001b[0;32m    443\u001b[0m \u001b[38;5;28;01mreturn\u001b[39;00m output\n",
      "File \u001b[1;32m~\\Documents\\GIT\\env\\lib\\site-packages\\liionpack\\solvers.py:359\u001b[0m, in \u001b[0;36mGenericManager.solve\u001b[1;34m(self, netlist, sim_func, parameter_values, experiment, inputs, external_variables, output_variables, initial_soc, nproc, setup_only)\u001b[0m\n\u001b[0;32m    355\u001b[0m \u001b[38;5;28mself\u001b[39m\u001b[38;5;241m.\u001b[39minputs_dict \u001b[38;5;241m=\u001b[39m lp\u001b[38;5;241m.\u001b[39mbuild_inputs_dict(\n\u001b[0;32m    356\u001b[0m     \u001b[38;5;28mself\u001b[39m\u001b[38;5;241m.\u001b[39mshm_i_app[\u001b[38;5;241m0\u001b[39m, :], \u001b[38;5;28mself\u001b[39m\u001b[38;5;241m.\u001b[39minputs, external_variables\n\u001b[0;32m    357\u001b[0m )\n\u001b[0;32m    358\u001b[0m \u001b[38;5;66;03m# Solver specific setup\u001b[39;00m\n\u001b[1;32m--> 359\u001b[0m \u001b[38;5;28;43mself\u001b[39;49m\u001b[38;5;241;43m.\u001b[39;49m\u001b[43msetup_actors\u001b[49m\u001b[43m(\u001b[49m\u001b[43mnproc\u001b[49m\u001b[43m,\u001b[49m\u001b[43m \u001b[49m\u001b[38;5;28;43mself\u001b[39;49m\u001b[38;5;241;43m.\u001b[39;49m\u001b[43minputs_dict\u001b[49m\u001b[43m,\u001b[49m\u001b[43m \u001b[49m\u001b[43minitial_soc\u001b[49m\u001b[43m)\u001b[49m\n\u001b[0;32m    360\u001b[0m \u001b[38;5;66;03m# Get the initial state of the system\u001b[39;00m\n\u001b[0;32m    361\u001b[0m \u001b[38;5;28mself\u001b[39m\u001b[38;5;241m.\u001b[39mevaluate_actors()\n",
      "File \u001b[1;32m~\\Documents\\GIT\\env\\lib\\site-packages\\liionpack\\solvers.py:630\u001b[0m, in \u001b[0;36mCasadiManager.setup_actors\u001b[1;34m(self, nproc, inputs, initial_soc)\u001b[0m\n\u001b[0;32m    628\u001b[0m \u001b[38;5;28mself\u001b[39m\u001b[38;5;241m.\u001b[39mactors \u001b[38;5;241m=\u001b[39m [GenericActor()]\n\u001b[0;32m    629\u001b[0m \u001b[38;5;28;01mfor\u001b[39;00m a \u001b[38;5;129;01min\u001b[39;00m \u001b[38;5;28mself\u001b[39m\u001b[38;5;241m.\u001b[39mactors:\n\u001b[1;32m--> 630\u001b[0m     \u001b[43ma\u001b[49m\u001b[38;5;241;43m.\u001b[39;49m\u001b[43msetup\u001b[49m\u001b[43m(\u001b[49m\n\u001b[0;32m    631\u001b[0m \u001b[43m        \u001b[49m\u001b[43mNspm\u001b[49m\u001b[38;5;241;43m=\u001b[39;49m\u001b[38;5;28;43mself\u001b[39;49m\u001b[38;5;241;43m.\u001b[39;49m\u001b[43mspm_per_worker\u001b[49m\u001b[43m,\u001b[49m\n\u001b[0;32m    632\u001b[0m \u001b[43m        \u001b[49m\u001b[43msim_func\u001b[49m\u001b[38;5;241;43m=\u001b[39;49m\u001b[38;5;28;43mself\u001b[39;49m\u001b[38;5;241;43m.\u001b[39;49m\u001b[43msim_func\u001b[49m\u001b[43m,\u001b[49m\n\u001b[0;32m    633\u001b[0m \u001b[43m        \u001b[49m\u001b[43mparameter_values\u001b[49m\u001b[38;5;241;43m=\u001b[39;49m\u001b[38;5;28;43mself\u001b[39;49m\u001b[38;5;241;43m.\u001b[39;49m\u001b[43mparameter_values\u001b[49m\u001b[43m,\u001b[49m\n\u001b[0;32m    634\u001b[0m \u001b[43m        \u001b[49m\u001b[43mdt\u001b[49m\u001b[38;5;241;43m=\u001b[39;49m\u001b[38;5;28;43mself\u001b[39;49m\u001b[38;5;241;43m.\u001b[39;49m\u001b[43mdt\u001b[49m\u001b[43m,\u001b[49m\n\u001b[0;32m    635\u001b[0m \u001b[43m        \u001b[49m\u001b[43minputs\u001b[49m\u001b[38;5;241;43m=\u001b[39;49m\u001b[43minputs\u001b[49m\u001b[43m,\u001b[49m\n\u001b[0;32m    636\u001b[0m \u001b[43m        \u001b[49m\u001b[43mvariable_names\u001b[49m\u001b[38;5;241;43m=\u001b[39;49m\u001b[38;5;28;43mself\u001b[39;49m\u001b[38;5;241;43m.\u001b[39;49m\u001b[43mvariable_names\u001b[49m\u001b[43m,\u001b[49m\n\u001b[0;32m    637\u001b[0m \u001b[43m        \u001b[49m\u001b[43minitial_soc\u001b[49m\u001b[38;5;241;43m=\u001b[39;49m\u001b[43minitial_soc\u001b[49m\u001b[43m,\u001b[49m\n\u001b[0;32m    638\u001b[0m \u001b[43m        \u001b[49m\u001b[43mnproc\u001b[49m\u001b[38;5;241;43m=\u001b[39;49m\u001b[43mnproc\u001b[49m\u001b[43m,\u001b[49m\n\u001b[0;32m    639\u001b[0m \u001b[43m    \u001b[49m\u001b[43m)\u001b[49m\n\u001b[0;32m    640\u001b[0m toc \u001b[38;5;241m=\u001b[39m ticker\u001b[38;5;241m.\u001b[39mtime()\n\u001b[0;32m    641\u001b[0m lp\u001b[38;5;241m.\u001b[39mlogger\u001b[38;5;241m.\u001b[39minfo(\n\u001b[0;32m    642\u001b[0m     \u001b[38;5;124m\"\u001b[39m\u001b[38;5;124mCasadi actor setup in time \u001b[39m\u001b[38;5;124m\"\u001b[39m \u001b[38;5;241m+\u001b[39m \u001b[38;5;28mstr\u001b[39m(np\u001b[38;5;241m.\u001b[39maround(toc \u001b[38;5;241m-\u001b[39m tic, \u001b[38;5;241m3\u001b[39m)) \u001b[38;5;241m+\u001b[39m \u001b[38;5;124m\"\u001b[39m\u001b[38;5;124ms\u001b[39m\u001b[38;5;124m\"\u001b[39m\n\u001b[0;32m    643\u001b[0m )\n",
      "File \u001b[1;32m~\\Documents\\GIT\\env\\lib\\site-packages\\liionpack\\solvers.py:46\u001b[0m, in \u001b[0;36mGenericActor.setup\u001b[1;34m(self, Nspm, sim_func, parameter_values, dt, inputs, variable_names, initial_soc, nproc)\u001b[0m\n\u001b[0;32m     40\u001b[0m \u001b[38;5;28;01mif\u001b[39;00m initial_soc \u001b[38;5;129;01mis\u001b[39;00m \u001b[38;5;129;01mnot\u001b[39;00m \u001b[38;5;28;01mNone\u001b[39;00m:\n\u001b[0;32m     41\u001b[0m     \u001b[38;5;28;01mif\u001b[39;00m (\n\u001b[0;32m     42\u001b[0m         (\u001b[38;5;28mtype\u001b[39m(initial_soc) \u001b[38;5;129;01min\u001b[39;00m [\u001b[38;5;28mfloat\u001b[39m, \u001b[38;5;28mint\u001b[39m])\n\u001b[0;32m     43\u001b[0m         \u001b[38;5;129;01mor\u001b[39;00m (\u001b[38;5;28mtype\u001b[39m(initial_soc) \u001b[38;5;129;01mis\u001b[39;00m \u001b[38;5;28mlist\u001b[39m \u001b[38;5;129;01mand\u001b[39;00m \u001b[38;5;28mlen\u001b[39m(initial_soc) \u001b[38;5;241m==\u001b[39m \u001b[38;5;241m1\u001b[39m)\n\u001b[0;32m     44\u001b[0m         \u001b[38;5;129;01mor\u001b[39;00m (\u001b[38;5;28mtype\u001b[39m(initial_soc) \u001b[38;5;129;01mis\u001b[39;00m np\u001b[38;5;241m.\u001b[39mndarray \u001b[38;5;129;01mand\u001b[39;00m \u001b[38;5;28mlen\u001b[39m(initial_soc) \u001b[38;5;241m==\u001b[39m \u001b[38;5;241m1\u001b[39m)\n\u001b[0;32m     45\u001b[0m     ):\n\u001b[1;32m---> 46\u001b[0m         _, _ \u001b[38;5;241m=\u001b[39m \u001b[43mlp\u001b[49m\u001b[38;5;241;43m.\u001b[39;49m\u001b[43mupdate_init_conc\u001b[49m\u001b[43m(\u001b[49m\u001b[43mparameter_values\u001b[49m\u001b[43m,\u001b[49m\u001b[43m \u001b[49m\u001b[43minitial_soc\u001b[49m\u001b[43m,\u001b[49m\u001b[43m \u001b[49m\u001b[43mupdate\u001b[49m\u001b[38;5;241;43m=\u001b[39;49m\u001b[38;5;28;43;01mTrue\u001b[39;49;00m\u001b[43m)\u001b[49m\n\u001b[0;32m     47\u001b[0m     \u001b[38;5;28;01melse\u001b[39;00m:\n\u001b[0;32m     48\u001b[0m         lp\u001b[38;5;241m.\u001b[39mlogger\u001b[38;5;241m.\u001b[39mwarning(\n\u001b[0;32m     49\u001b[0m             \u001b[38;5;124m\"\u001b[39m\u001b[38;5;124mUsing a list or an array of initial_soc \u001b[39m\u001b[38;5;124m\"\u001b[39m\n\u001b[0;32m     50\u001b[0m             \u001b[38;5;241m+\u001b[39m \u001b[38;5;124m\"\u001b[39m\u001b[38;5;124mis not supported, please set the initial \u001b[39m\u001b[38;5;124m\"\u001b[39m\n\u001b[0;32m     51\u001b[0m             \u001b[38;5;241m+\u001b[39m \u001b[38;5;124m\"\u001b[39m\u001b[38;5;124mconcentrations via inputs\u001b[39m\u001b[38;5;124m\"\u001b[39m\n\u001b[0;32m     52\u001b[0m         )\n",
      "File \u001b[1;32m~\\Documents\\GIT\\env\\lib\\site-packages\\liionpack\\sim_utils.py:53\u001b[0m, in \u001b[0;36mupdate_init_conc\u001b[1;34m(param, SoC, update)\u001b[0m\n\u001b[0;32m     51\u001b[0m c_n_max \u001b[38;5;241m=\u001b[39m param[\u001b[38;5;124m\"\u001b[39m\u001b[38;5;124mMaximum concentration in negative electrode [mol.m-3]\u001b[39m\u001b[38;5;124m\"\u001b[39m]\n\u001b[0;32m     52\u001b[0m c_p_max \u001b[38;5;241m=\u001b[39m param[\u001b[38;5;124m\"\u001b[39m\u001b[38;5;124mMaximum concentration in positive electrode [mol.m-3]\u001b[39m\u001b[38;5;124m\"\u001b[39m]\n\u001b[1;32m---> 53\u001b[0m x, y \u001b[38;5;241m=\u001b[39m \u001b[43mlp\u001b[49m\u001b[38;5;241;43m.\u001b[39;49m\u001b[43mget_initial_stoichiometries\u001b[49m\u001b[43m(\u001b[49m\u001b[43mSoC\u001b[49m\u001b[43m,\u001b[49m\u001b[43m \u001b[49m\u001b[43mparam\u001b[49m\u001b[43m)\u001b[49m\n\u001b[0;32m     54\u001b[0m \u001b[38;5;28;01mif\u001b[39;00m x \u001b[38;5;129;01mis\u001b[39;00m \u001b[38;5;129;01mnot\u001b[39;00m \u001b[38;5;28;01mNone\u001b[39;00m:\n\u001b[0;32m     55\u001b[0m     c_s_n_init, c_s_p_init \u001b[38;5;241m=\u001b[39m x \u001b[38;5;241m*\u001b[39m c_n_max, y \u001b[38;5;241m*\u001b[39m c_p_max\n",
      "File \u001b[1;32m~\\Documents\\GIT\\env\\lib\\site-packages\\liionpack\\sim_utils.py:31\u001b[0m, in \u001b[0;36mget_initial_stoichiometries\u001b[1;34m(initial_soc, parameter_values)\u001b[0m\n\u001b[0;32m     29\u001b[0m param \u001b[38;5;241m=\u001b[39m pybamm\u001b[38;5;241m.\u001b[39mLithiumIonParameters()\n\u001b[0;32m     30\u001b[0m esoh_solver \u001b[38;5;241m=\u001b[39m pybamm\u001b[38;5;241m.\u001b[39mlithium_ion\u001b[38;5;241m.\u001b[39mElectrodeSOHSolver(parameter_values, param)\n\u001b[1;32m---> 31\u001b[0m \u001b[38;5;28;01mreturn\u001b[39;00m \u001b[43mesoh_solver\u001b[49m\u001b[38;5;241;43m.\u001b[39;49m\u001b[43mget_initial_stoichiometries\u001b[49m(initial_soc)\n",
      "\u001b[1;31mAttributeError\u001b[0m: 'ElectrodeSOHSolver' object has no attribute 'get_initial_stoichiometries'"
     ]
    }
   ],
   "source": [
    "output = lp.solve(\n",
    "    netlist=netlist,\n",
    "    parameter_values=parameter_values,\n",
    "    experiment=experiment,\n",
    "    sim_func=SEI_degradation,\n",
    "    output_variables=output_variables,\n",
    "    initial_soc=0.5,\n",
    ")"
   ]
  },
  {
   "cell_type": "code",
   "execution_count": null,
   "id": "71f0105c",
   "metadata": {},
   "outputs": [],
   "source": []
  }
 ],
 "metadata": {
  "kernelspec": {
   "display_name": "Python 3 (ipykernel)",
   "language": "python",
   "name": "python3"
  },
  "language_info": {
   "codemirror_mode": {
    "name": "ipython",
    "version": 3
   },
   "file_extension": ".py",
   "mimetype": "text/x-python",
   "name": "python",
   "nbconvert_exporter": "python",
   "pygments_lexer": "ipython3",
   "version": "3.9.13"
  }
 },
 "nbformat": 4,
 "nbformat_minor": 5
}

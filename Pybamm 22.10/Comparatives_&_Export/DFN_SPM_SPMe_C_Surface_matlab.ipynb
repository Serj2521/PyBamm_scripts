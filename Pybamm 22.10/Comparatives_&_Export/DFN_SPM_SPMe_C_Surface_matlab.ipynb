{
 "cells": [
  {
   "cell_type": "code",
   "execution_count": 47,
   "id": "4b498393",
   "metadata": {},
   "outputs": [],
   "source": [
    "#\n",
    "# Compare lithium-ion battery models\n",
    "#\n",
    "import pybamm\n",
    "import numpy as np\n",
    "import matplotlib.pyplot as plt"
   ]
  },
  {
   "cell_type": "code",
   "execution_count": 48,
   "id": "01864179",
   "metadata": {},
   "outputs": [
    {
     "name": "stderr",
     "output_type": "stream",
     "text": [
      "2022-12-02 14:25:13.536 - [INFO] base_model._build_model(572): Start building Single Particle Model\n",
      "2022-12-02 14:25:13.598 - [INFO] base_battery_model.build_model(1019): Finish building Single Particle Model\n",
      "2022-12-02 14:25:13.640 - [INFO] base_model._build_model(572): Start building Single Particle Model with electrolyte\n",
      "2022-12-02 14:25:13.692 - [INFO] base_battery_model.build_model(1019): Finish building Single Particle Model with electrolyte\n",
      "2022-12-02 14:25:13.723 - [INFO] base_model._build_model(572): Start building Doyle-Fuller-Newman model\n",
      "2022-12-02 14:25:13.770 - [INFO] base_battery_model.build_model(1019): Finish building Doyle-Fuller-Newman model\n"
     ]
    }
   ],
   "source": [
    "pybamm.set_logging_level(\"INFO\")\n",
    "\n",
    "# load models\n",
    "model = [\n",
    "    pybamm.lithium_ion.SPM(),\n",
    "    pybamm.lithium_ion.SPMe(),\n",
    "    pybamm.lithium_ion.DFN(),\n",
    "]\n",
    "\n",
    "# Load Chemistry\n",
    "parameter_values = pybamm.ParameterValues(\"Chen2020\")"
   ]
  },
  {
   "cell_type": "code",
   "execution_count": 49,
   "id": "4c034587",
   "metadata": {},
   "outputs": [
    {
     "name": "stderr",
     "output_type": "stream",
     "text": [
      "2022-12-02 14:25:14.848 - [INFO] callbacks.on_experiment_start(166): Start running experiment\n",
      "2022-12-02 14:25:14.855 - [INFO] parameter_values.process_model(371): Start setting parameters for Single Particle Model\n",
      "2022-12-02 14:25:14.896 - [INFO] parameter_values.process_model(474): Finish setting parameters for Single Particle Model\n",
      "2022-12-02 14:25:14.898 - [INFO] parameter_values.process_model(371): Start setting parameters for Single Particle Model\n",
      "2022-12-02 14:25:14.941 - [INFO] parameter_values.process_model(474): Finish setting parameters for Single Particle Model\n",
      "2022-12-02 14:25:14.943 - [INFO] parameter_values.process_model(371): Start setting parameters for Single Particle Model\n",
      "2022-12-02 14:25:15.400 - [INFO] parameter_values.process_model(474): Finish setting parameters for Single Particle Model\n",
      "2022-12-02 14:25:15.400 - [INFO] parameter_values.process_model(371): Start setting parameters for Single Particle Model\n",
      "2022-12-02 14:25:15.444 - [INFO] parameter_values.process_model(474): Finish setting parameters for Single Particle Model\n",
      "2022-12-02 14:25:15.446 - [INFO] discretisation.process_model(149): Start discretising Single Particle Model\n",
      "2022-12-02 14:25:15.448 - [INFO] discretisation.remove_independent_variables_from_rhs(1199): removing variable Discharge capacity [A.h] from rhs\n",
      "2022-12-02 14:25:15.560 - [INFO] discretisation.process_model(271): Finish discretising Single Particle Model\n",
      "2022-12-02 14:25:15.560 - [INFO] discretisation.process_model(149): Start discretising Single Particle Model\n",
      "2022-12-02 14:25:15.563 - [INFO] discretisation.remove_independent_variables_from_rhs(1199): removing variable Discharge capacity [A.h] from rhs\n",
      "2022-12-02 14:25:15.655 - [INFO] discretisation.process_model(271): Finish discretising Single Particle Model\n",
      "2022-12-02 14:25:15.655 - [INFO] discretisation.process_model(149): Start discretising Single Particle Model\n",
      "2022-12-02 14:25:15.655 - [INFO] discretisation.remove_independent_variables_from_rhs(1199): removing variable Discharge capacity [A.h] from rhs\n",
      "2022-12-02 14:25:15.795 - [INFO] discretisation.process_model(271): Finish discretising Single Particle Model\n",
      "2022-12-02 14:25:15.795 - [INFO] discretisation.process_model(149): Start discretising Single Particle Model\n",
      "2022-12-02 14:25:15.795 - [INFO] discretisation.remove_independent_variables_from_rhs(1199): removing variable Discharge capacity [A.h] from rhs\n",
      "2022-12-02 14:25:15.940 - [INFO] discretisation.process_model(271): Finish discretising Single Particle Model\n",
      "2022-12-02 14:25:15.948 - [NOTICE] callbacks.on_cycle_start(174): Cycle 1/5 (6.194 ms elapsed) --------------------\n",
      "2022-12-02 14:25:15.948 - [NOTICE] callbacks.on_step_start(182): Cycle 1/5, step 1/1: Discharge at 1C until 2.5 V\n",
      "2022-12-02 14:25:15.948 - [INFO] base_solver.set_up(110): Start solver set-up\n",
      "2022-12-02 14:25:15.975 - [INFO] base_solver.set_up(235): Finish solver set-up\n",
      "2022-12-02 14:25:16.065 - [INFO] parameter_values.process_model(371): Start setting parameters for ElectrodeSOH model\n",
      "2022-12-02 14:25:16.078 - [INFO] parameter_values.process_model(474): Finish setting parameters for ElectrodeSOH model\n",
      "2022-12-02 14:25:16.078 - [INFO] discretisation.process_model(149): Start discretising ElectrodeSOH model\n",
      "2022-12-02 14:25:16.091 - [INFO] discretisation.process_model(271): Finish discretising ElectrodeSOH model\n",
      "2022-12-02 14:25:16.092 - [INFO] base_solver.solve(703): Start solving ElectrodeSOH model with Algebraic solver (lm)\n",
      "2022-12-02 14:25:16.093 - [INFO] base_solver.set_up(110): Start solver set-up\n",
      "2022-12-02 14:25:16.106 - [INFO] base_solver.set_up(235): Finish solver set-up\n",
      "2022-12-02 14:25:16.113 - [INFO] base_solver.solve(936): Finish solving ElectrodeSOH model (success)\n",
      "2022-12-02 14:25:16.114 - [INFO] base_solver.solve(937): Set-up time: 14.232 ms, Solve time: 5.457 ms (of which integration time: 4.949 ms), Total time: 19.689 ms\n",
      "2022-12-02 14:25:16.132 - [NOTICE] callbacks.on_cycle_start(174): Cycle 2/5 (188.672 ms elapsed) --------------------\n",
      "2022-12-02 14:25:16.133 - [NOTICE] callbacks.on_step_start(182): Cycle 2/5, step 1/1: Rest for 2 hours\n",
      "2022-12-02 14:25:16.137 - [INFO] base_solver.set_up(110): Start solver set-up\n",
      "2022-12-02 14:25:16.145 - [INFO] base_solver.set_up(235): Finish solver set-up\n",
      "2022-12-02 14:25:16.225 - [INFO] base_solver.solve(703): Start solving ElectrodeSOH model with Algebraic solver (lm)\n",
      "2022-12-02 14:25:16.225 - [INFO] base_solver.solve(936): Finish solving ElectrodeSOH model (success)\n",
      "2022-12-02 14:25:16.225 - [INFO] base_solver.solve(937): Set-up time: 30.700 us, Solve time: 954.800 us (of which integration time: 573.500 us), Total time: 985.500 us\n",
      "2022-12-02 14:25:16.232 - [NOTICE] callbacks.on_cycle_start(174): Cycle 3/5 (288.040 ms elapsed) --------------------\n",
      "2022-12-02 14:25:16.232 - [NOTICE] callbacks.on_step_start(182): Cycle 3/5, step 1/1: Charge at C/5 until 4.2 V\n",
      "2022-12-02 14:25:16.235 - [INFO] base_solver.set_up(110): Start solver set-up\n",
      "2022-12-02 14:25:16.251 - [INFO] base_solver.set_up(235): Finish solver set-up\n",
      "2022-12-02 14:25:16.443 - [INFO] base_solver.solve(703): Start solving ElectrodeSOH model with Algebraic solver (lm)\n",
      "2022-12-02 14:25:16.445 - [INFO] base_solver.solve(936): Finish solving ElectrodeSOH model (success)\n",
      "2022-12-02 14:25:16.446 - [INFO] base_solver.solve(937): Set-up time: 23.600 us, Solve time: 1.149 ms (of which integration time: 697.000 us), Total time: 1.173 ms\n",
      "2022-12-02 14:25:16.450 - [NOTICE] callbacks.on_cycle_start(174): Cycle 4/5 (506.392 ms elapsed) --------------------\n",
      "2022-12-02 14:25:16.451 - [NOTICE] callbacks.on_step_start(182): Cycle 4/5, step 1/1: Charge at 4.2 V until 5 mA\n",
      "2022-12-02 14:25:16.454 - [INFO] base_solver.set_up(110): Start solver set-up\n",
      "2022-12-02 14:25:16.481 - [INFO] base_solver.set_up(235): Finish solver set-up\n",
      "2022-12-02 14:25:16.604 - [INFO] base_solver.solve(703): Start solving ElectrodeSOH model with Algebraic solver (lm)\n",
      "2022-12-02 14:25:16.607 - [INFO] base_solver.solve(936): Finish solving ElectrodeSOH model (success)\n",
      "2022-12-02 14:25:16.607 - [INFO] base_solver.solve(937): Set-up time: 34.000 us, Solve time: 1.571 ms (of which integration time: 1.002 ms), Total time: 1.605 ms\n",
      "2022-12-02 14:25:16.610 - [NOTICE] callbacks.on_cycle_start(174): Cycle 5/5 (666.169 ms elapsed) --------------------\n",
      "2022-12-02 14:25:16.610 - [NOTICE] callbacks.on_step_start(182): Cycle 5/5, step 1/1: Rest for 2 hours\n",
      "2022-12-02 14:25:16.673 - [INFO] base_solver.solve(703): Start solving ElectrodeSOH model with Algebraic solver (lm)\n",
      "2022-12-02 14:25:16.675 - [INFO] base_solver.solve(936): Finish solving ElectrodeSOH model (success)\n",
      "2022-12-02 14:25:16.676 - [INFO] base_solver.solve(937): Set-up time: 25.200 us, Solve time: 935.400 us (of which integration time: 567.100 us), Total time: 960.600 us\n",
      "2022-12-02 14:25:16.680 - [NOTICE] callbacks.on_experiment_end(222): Finish experiment simulation, took 735.258 ms\n",
      "2022-12-02 14:25:16.681 - [INFO] callbacks.on_experiment_start(166): Start running experiment\n",
      "2022-12-02 14:25:16.682 - [INFO] parameter_values.process_model(371): Start setting parameters for Single Particle Model with electrolyte\n",
      "2022-12-02 14:25:16.773 - [INFO] parameter_values.process_model(474): Finish setting parameters for Single Particle Model with electrolyte\n",
      "2022-12-02 14:25:16.774 - [INFO] parameter_values.process_model(371): Start setting parameters for Single Particle Model with electrolyte\n",
      "2022-12-02 14:25:16.849 - [INFO] parameter_values.process_model(474): Finish setting parameters for Single Particle Model with electrolyte\n",
      "2022-12-02 14:25:16.852 - [INFO] parameter_values.process_model(371): Start setting parameters for Single Particle Model with electrolyte\n",
      "2022-12-02 14:25:16.926 - [INFO] parameter_values.process_model(474): Finish setting parameters for Single Particle Model with electrolyte\n",
      "2022-12-02 14:25:16.929 - [INFO] parameter_values.process_model(371): Start setting parameters for Single Particle Model with electrolyte\n",
      "2022-12-02 14:25:17.010 - [INFO] parameter_values.process_model(474): Finish setting parameters for Single Particle Model with electrolyte\n",
      "2022-12-02 14:25:17.012 - [INFO] discretisation.process_model(149): Start discretising Single Particle Model with electrolyte\n"
     ]
    },
    {
     "name": "stderr",
     "output_type": "stream",
     "text": [
      "2022-12-02 14:25:17.014 - [INFO] discretisation.remove_independent_variables_from_rhs(1199): removing variable Discharge capacity [A.h] from rhs\n",
      "2022-12-02 14:25:17.229 - [INFO] discretisation.process_model(271): Finish discretising Single Particle Model with electrolyte\n",
      "2022-12-02 14:25:17.230 - [INFO] discretisation.process_model(149): Start discretising Single Particle Model with electrolyte\n",
      "2022-12-02 14:25:17.234 - [INFO] discretisation.remove_independent_variables_from_rhs(1199): removing variable Discharge capacity [A.h] from rhs\n",
      "2022-12-02 14:25:17.411 - [INFO] discretisation.process_model(271): Finish discretising Single Particle Model with electrolyte\n",
      "2022-12-02 14:25:17.412 - [INFO] discretisation.process_model(149): Start discretising Single Particle Model with electrolyte\n",
      "2022-12-02 14:25:17.417 - [INFO] discretisation.remove_independent_variables_from_rhs(1199): removing variable Discharge capacity [A.h] from rhs\n",
      "2022-12-02 14:25:17.648 - [INFO] discretisation.process_model(271): Finish discretising Single Particle Model with electrolyte\n",
      "2022-12-02 14:25:17.649 - [INFO] discretisation.process_model(149): Start discretising Single Particle Model with electrolyte\n",
      "2022-12-02 14:25:17.656 - [INFO] discretisation.remove_independent_variables_from_rhs(1199): removing variable Discharge capacity [A.h] from rhs\n",
      "2022-12-02 14:25:17.907 - [INFO] discretisation.process_model(271): Finish discretising Single Particle Model with electrolyte\n",
      "2022-12-02 14:25:17.913 - [NOTICE] callbacks.on_cycle_start(174): Cycle 1/5 (5.164 ms elapsed) --------------------\n",
      "2022-12-02 14:25:17.915 - [NOTICE] callbacks.on_step_start(182): Cycle 1/5, step 1/1: Discharge at 1C until 2.5 V\n",
      "2022-12-02 14:25:17.918 - [INFO] base_solver.set_up(110): Start solver set-up\n",
      "2022-12-02 14:25:17.967 - [INFO] base_solver.set_up(235): Finish solver set-up\n",
      "2022-12-02 14:25:18.080 - [INFO] parameter_values.process_model(371): Start setting parameters for ElectrodeSOH model\n",
      "2022-12-02 14:25:18.092 - [INFO] parameter_values.process_model(474): Finish setting parameters for ElectrodeSOH model\n",
      "2022-12-02 14:25:18.093 - [INFO] discretisation.process_model(149): Start discretising ElectrodeSOH model\n",
      "2022-12-02 14:25:18.104 - [INFO] discretisation.process_model(271): Finish discretising ElectrodeSOH model\n",
      "2022-12-02 14:25:18.106 - [INFO] base_solver.solve(703): Start solving ElectrodeSOH model with Algebraic solver (lm)\n",
      "2022-12-02 14:25:18.107 - [INFO] base_solver.set_up(110): Start solver set-up\n",
      "2022-12-02 14:25:18.126 - [INFO] base_solver.set_up(235): Finish solver set-up\n",
      "2022-12-02 14:25:18.131 - [INFO] base_solver.solve(936): Finish solving ElectrodeSOH model (success)\n",
      "2022-12-02 14:25:18.132 - [INFO] base_solver.solve(937): Set-up time: 19.787 ms, Solve time: 4.040 ms (of which integration time: 3.459 ms), Total time: 23.827 ms\n",
      "2022-12-02 14:25:18.149 - [NOTICE] callbacks.on_cycle_start(174): Cycle 2/5 (241.049 ms elapsed) --------------------\n",
      "2022-12-02 14:25:18.150 - [NOTICE] callbacks.on_step_start(182): Cycle 2/5, step 1/1: Rest for 2 hours\n",
      "2022-12-02 14:25:18.155 - [INFO] base_solver.set_up(110): Start solver set-up\n",
      "2022-12-02 14:25:18.184 - [INFO] base_solver.set_up(235): Finish solver set-up\n",
      "2022-12-02 14:25:18.295 - [INFO] base_solver.solve(703): Start solving ElectrodeSOH model with Algebraic solver (lm)\n",
      "2022-12-02 14:25:18.298 - [INFO] base_solver.solve(936): Finish solving ElectrodeSOH model (success)\n",
      "2022-12-02 14:25:18.299 - [INFO] base_solver.solve(937): Set-up time: 46.700 us, Solve time: 1.587 ms (of which integration time: 1.121 ms), Total time: 1.634 ms\n",
      "2022-12-02 14:25:18.302 - [NOTICE] callbacks.on_cycle_start(174): Cycle 3/5 (393.425 ms elapsed) --------------------\n",
      "2022-12-02 14:25:18.303 - [NOTICE] callbacks.on_step_start(182): Cycle 3/5, step 1/1: Charge at C/5 until 4.2 V\n",
      "2022-12-02 14:25:18.308 - [INFO] base_solver.set_up(110): Start solver set-up\n",
      "2022-12-02 14:25:18.351 - [INFO] base_solver.set_up(235): Finish solver set-up\n",
      "2022-12-02 14:25:18.627 - [INFO] base_solver.solve(703): Start solving ElectrodeSOH model with Algebraic solver (lm)\n",
      "2022-12-02 14:25:18.630 - [INFO] base_solver.solve(936): Finish solving ElectrodeSOH model (success)\n",
      "2022-12-02 14:25:18.631 - [INFO] base_solver.solve(937): Set-up time: 38.400 us, Solve time: 1.662 ms (of which integration time: 1.092 ms), Total time: 1.701 ms\n",
      "2022-12-02 14:25:18.637 - [NOTICE] callbacks.on_cycle_start(174): Cycle 4/5 (728.463 ms elapsed) --------------------\n",
      "2022-12-02 14:25:18.638 - [NOTICE] callbacks.on_step_start(182): Cycle 4/5, step 1/1: Charge at 4.2 V until 5 mA\n",
      "2022-12-02 14:25:18.643 - [INFO] base_solver.set_up(110): Start solver set-up\n",
      "2022-12-02 14:25:18.734 - [INFO] base_solver.set_up(235): Finish solver set-up\n",
      "2022-12-02 14:25:19.143 - [INFO] base_solver.solve(703): Start solving ElectrodeSOH model with Algebraic solver (lm)\n",
      "2022-12-02 14:25:19.145 - [INFO] base_solver.solve(936): Finish solving ElectrodeSOH model (success)\n",
      "2022-12-02 14:25:19.145 - [INFO] base_solver.solve(937): Set-up time: 28.600 us, Solve time: 1.213 ms (of which integration time: 764.500 us), Total time: 1.241 ms\n",
      "2022-12-02 14:25:19.148 - [NOTICE] callbacks.on_cycle_start(174): Cycle 5/5 (1.239 s elapsed) --------------------\n",
      "2022-12-02 14:25:19.149 - [NOTICE] callbacks.on_step_start(182): Cycle 5/5, step 1/1: Rest for 2 hours\n",
      "2022-12-02 14:25:19.239 - [INFO] base_solver.solve(703): Start solving ElectrodeSOH model with Algebraic solver (lm)\n",
      "2022-12-02 14:25:19.241 - [INFO] base_solver.solve(936): Finish solving ElectrodeSOH model (success)\n",
      "2022-12-02 14:25:19.241 - [INFO] base_solver.solve(937): Set-up time: 6.900 us, Solve time: 1.156 ms (of which integration time: 752.700 us), Total time: 1.163 ms\n",
      "2022-12-02 14:25:19.244 - [NOTICE] callbacks.on_experiment_end(222): Finish experiment simulation, took 1.335 s\n",
      "2022-12-02 14:25:19.245 - [INFO] callbacks.on_experiment_start(166): Start running experiment\n",
      "2022-12-02 14:25:19.246 - [INFO] parameter_values.process_model(371): Start setting parameters for Doyle-Fuller-Newman model\n",
      "2022-12-02 14:25:19.304 - [INFO] parameter_values.process_model(474): Finish setting parameters for Doyle-Fuller-Newman model\n",
      "2022-12-02 14:25:19.305 - [INFO] parameter_values.process_model(371): Start setting parameters for Doyle-Fuller-Newman model\n",
      "2022-12-02 14:25:19.373 - [INFO] parameter_values.process_model(474): Finish setting parameters for Doyle-Fuller-Newman model\n",
      "2022-12-02 14:25:19.376 - [INFO] parameter_values.process_model(371): Start setting parameters for Doyle-Fuller-Newman model\n",
      "2022-12-02 14:25:19.430 - [INFO] parameter_values.process_model(474): Finish setting parameters for Doyle-Fuller-Newman model\n",
      "2022-12-02 14:25:19.434 - [INFO] parameter_values.process_model(371): Start setting parameters for Doyle-Fuller-Newman model\n",
      "2022-12-02 14:25:19.488 - [INFO] parameter_values.process_model(474): Finish setting parameters for Doyle-Fuller-Newman model\n",
      "2022-12-02 14:25:19.490 - [INFO] discretisation.process_model(149): Start discretising Doyle-Fuller-Newman model\n",
      "2022-12-02 14:25:19.494 - [INFO] discretisation.remove_independent_variables_from_rhs(1199): removing variable Discharge capacity [A.h] from rhs\n",
      "2022-12-02 14:25:19.787 - [INFO] discretisation.process_model(271): Finish discretising Doyle-Fuller-Newman model\n",
      "2022-12-02 14:25:19.788 - [INFO] discretisation.process_model(149): Start discretising Doyle-Fuller-Newman model\n",
      "2022-12-02 14:25:19.792 - [INFO] discretisation.remove_independent_variables_from_rhs(1199): removing variable Discharge capacity [A.h] from rhs\n",
      "2022-12-02 14:25:20.027 - [INFO] discretisation.process_model(271): Finish discretising Doyle-Fuller-Newman model\n",
      "2022-12-02 14:25:20.027 - [INFO] discretisation.process_model(149): Start discretising Doyle-Fuller-Newman model\n",
      "2022-12-02 14:25:20.035 - [INFO] discretisation.remove_independent_variables_from_rhs(1199): removing variable Discharge capacity [A.h] from rhs\n",
      "2022-12-02 14:25:20.275 - [INFO] discretisation.process_model(271): Finish discretising Doyle-Fuller-Newman model\n",
      "2022-12-02 14:25:20.280 - [INFO] discretisation.process_model(149): Start discretising Doyle-Fuller-Newman model\n",
      "2022-12-02 14:25:20.285 - [INFO] discretisation.remove_independent_variables_from_rhs(1199): removing variable Discharge capacity [A.h] from rhs\n"
     ]
    },
    {
     "name": "stderr",
     "output_type": "stream",
     "text": [
      "2022-12-02 14:25:20.559 - [INFO] discretisation.process_model(271): Finish discretising Doyle-Fuller-Newman model\n",
      "2022-12-02 14:25:20.566 - [NOTICE] callbacks.on_cycle_start(174): Cycle 1/5 (5.823 ms elapsed) --------------------\n",
      "2022-12-02 14:25:20.567 - [NOTICE] callbacks.on_step_start(182): Cycle 1/5, step 1/1: Discharge at 1C until 2.5 V\n",
      "2022-12-02 14:25:20.570 - [INFO] base_solver.set_up(110): Start solver set-up\n",
      "2022-12-02 14:25:20.637 - [INFO] base_solver.set_up(235): Finish solver set-up\n",
      "2022-12-02 14:25:21.534 - [INFO] parameter_values.process_model(371): Start setting parameters for ElectrodeSOH model\n",
      "2022-12-02 14:25:21.543 - [INFO] parameter_values.process_model(474): Finish setting parameters for ElectrodeSOH model\n",
      "2022-12-02 14:25:21.544 - [INFO] discretisation.process_model(149): Start discretising ElectrodeSOH model\n",
      "2022-12-02 14:25:21.555 - [INFO] discretisation.process_model(271): Finish discretising ElectrodeSOH model\n",
      "2022-12-02 14:25:21.555 - [INFO] base_solver.solve(703): Start solving ElectrodeSOH model with Algebraic solver (lm)\n",
      "2022-12-02 14:25:21.556 - [INFO] base_solver.set_up(110): Start solver set-up\n",
      "2022-12-02 14:25:21.570 - [INFO] base_solver.set_up(235): Finish solver set-up\n",
      "2022-12-02 14:25:21.574 - [INFO] base_solver.solve(936): Finish solving ElectrodeSOH model (success)\n",
      "2022-12-02 14:25:21.575 - [INFO] base_solver.solve(937): Set-up time: 14.284 ms, Solve time: 3.586 ms (of which integration time: 3.144 ms), Total time: 17.870 ms\n",
      "2022-12-02 14:25:21.591 - [NOTICE] callbacks.on_cycle_start(174): Cycle 2/5 (1.032 s elapsed) --------------------\n",
      "2022-12-02 14:25:21.592 - [NOTICE] callbacks.on_step_start(182): Cycle 2/5, step 1/1: Rest for 2 hours\n",
      "2022-12-02 14:25:21.596 - [INFO] base_solver.set_up(110): Start solver set-up\n",
      "2022-12-02 14:25:21.662 - [INFO] base_solver.set_up(235): Finish solver set-up\n",
      "2022-12-02 14:25:22.903 - [INFO] base_solver.solve(703): Start solving ElectrodeSOH model with Algebraic solver (lm)\n",
      "2022-12-02 14:25:22.906 - [INFO] base_solver.solve(936): Finish solving ElectrodeSOH model (success)\n",
      "2022-12-02 14:25:22.907 - [INFO] base_solver.solve(937): Set-up time: 32.200 us, Solve time: 1.475 ms (of which integration time: 1.064 ms), Total time: 1.507 ms\n",
      "2022-12-02 14:25:22.910 - [NOTICE] callbacks.on_cycle_start(174): Cycle 3/5 (2.350 s elapsed) --------------------\n",
      "2022-12-02 14:25:22.911 - [NOTICE] callbacks.on_step_start(182): Cycle 3/5, step 1/1: Charge at C/5 until 4.2 V\n",
      "2022-12-02 14:25:22.914 - [INFO] base_solver.set_up(110): Start solver set-up\n",
      "2022-12-02 14:25:22.979 - [INFO] base_solver.set_up(235): Finish solver set-up\n",
      "2022-12-02 14:25:26.585 - [INFO] base_solver.solve(703): Start solving ElectrodeSOH model with Algebraic solver (lm)\n",
      "2022-12-02 14:25:26.587 - [INFO] base_solver.solve(936): Finish solving ElectrodeSOH model (success)\n",
      "2022-12-02 14:25:26.588 - [INFO] base_solver.solve(937): Set-up time: 36.500 us, Solve time: 1.290 ms (of which integration time: 876.000 us), Total time: 1.326 ms\n",
      "2022-12-02 14:25:26.591 - [NOTICE] callbacks.on_cycle_start(174): Cycle 4/5 (6.031 s elapsed) --------------------\n",
      "2022-12-02 14:25:26.592 - [NOTICE] callbacks.on_step_start(182): Cycle 4/5, step 1/1: Charge at 4.2 V until 5 mA\n",
      "2022-12-02 14:25:26.594 - [INFO] base_solver.set_up(110): Start solver set-up\n",
      "2022-12-02 14:25:26.687 - [INFO] base_solver.set_up(235): Finish solver set-up\n",
      "2022-12-02 14:25:27.935 - [INFO] base_solver.solve(703): Start solving ElectrodeSOH model with Algebraic solver (lm)\n",
      "2022-12-02 14:25:27.935 - [INFO] base_solver.solve(936): Finish solving ElectrodeSOH model (success)\n",
      "2022-12-02 14:25:27.935 - [INFO] base_solver.solve(937): Set-up time: 24.500 us, Solve time: 1.143 ms (of which integration time: 747.100 us), Total time: 1.168 ms\n",
      "2022-12-02 14:25:27.945 - [NOTICE] callbacks.on_cycle_start(174): Cycle 5/5 (7.388 s elapsed) --------------------\n",
      "2022-12-02 14:25:27.945 - [NOTICE] callbacks.on_step_start(182): Cycle 5/5, step 1/1: Rest for 2 hours\n",
      "2022-12-02 14:25:29.234 - [INFO] base_solver.solve(703): Start solving ElectrodeSOH model with Algebraic solver (lm)\n",
      "2022-12-02 14:25:29.236 - [INFO] base_solver.solve(936): Finish solving ElectrodeSOH model (success)\n",
      "2022-12-02 14:25:29.237 - [INFO] base_solver.solve(937): Set-up time: 28.800 us, Solve time: 1.043 ms (of which integration time: 648.800 us), Total time: 1.072 ms\n",
      "2022-12-02 14:25:29.240 - [NOTICE] callbacks.on_experiment_end(222): Finish experiment simulation, took 8.680 s\n"
     ]
    }
   ],
   "source": [
    "#\n",
    "# CCCV test\n",
    "#\n",
    "\n",
    "experiment = pybamm.Experiment(\n",
    "    [   \"Discharge at 1C until 2.5 V\",\n",
    "        \"Rest for 2 hours\",\n",
    "        \"Charge at C/5 until 4.2 V\",\n",
    "        \"Charge at 4.2 V until 5 mA\",\n",
    "        \"Rest for 2 hours\",],\n",
    ")\n",
    "\n",
    "# Run simulations\n",
    "sims = []\n",
    "for model in models:\n",
    "    sim = pybamm.Simulation(model, experiment=experiment, parameter_values=parameter_values, solver=pybamm.CasadiSolver())\n",
    "    sim.solve()\n",
    "    sims.append(sim)"
   ]
  },
  {
   "cell_type": "code",
   "execution_count": 50,
   "id": "1fecd79c",
   "metadata": {
    "scrolled": true
   },
   "outputs": [
    {
     "data": {
      "application/vnd.jupyter.widget-view+json": {
       "model_id": "e33a944a64f74cb2ac7629b9d2812683",
       "version_major": 2,
       "version_minor": 0
      },
      "text/plain": [
       "interactive(children=(FloatSlider(value=0.0, description='t', max=11.301482616465062, step=0.11301482616465063…"
      ]
     },
     "metadata": {},
     "output_type": "display_data"
    },
    {
     "data": {
      "text/plain": [
       "<pybamm.plotting.quick_plot.QuickPlot at 0x28d874330d0>"
      ]
     },
     "execution_count": 50,
     "metadata": {},
     "output_type": "execute_result"
    }
   ],
   "source": [
    "# plot\n",
    "pybamm.dynamic_plot(sims)"
   ]
  },
  {
   "cell_type": "code",
   "execution_count": 51,
   "id": "79ad1c52",
   "metadata": {},
   "outputs": [
    {
     "name": "stdout",
     "output_type": "stream",
     "text": [
      "Average negative particle concentration\n",
      "Average negative particle concentration [mol.m-3]\n",
      "Average positive particle concentration\n",
      "Average positive particle concentration [mol.m-3]\n",
      "Maximum negative particle concentration\n",
      "Maximum negative particle concentration [mol.m-3]\n",
      "Maximum negative particle surface concentration\n",
      "Maximum negative particle surface concentration [mol.m-3]\n",
      "Maximum positive particle concentration\n",
      "Maximum positive particle concentration [mol.m-3]\n",
      "Maximum positive particle surface concentration\n",
      "Maximum positive particle surface concentration [mol.m-3]\n",
      "Minimum negative particle concentration\n",
      "Minimum negative particle concentration [mol.m-3]\n",
      "Minimum negative particle surface concentration\n",
      "Minimum negative particle surface concentration [mol.m-3]\n",
      "Minimum positive particle concentration\n",
      "Minimum positive particle concentration [mol.m-3]\n",
      "Minimum positive particle surface concentration\n",
      "Minimum positive particle surface concentration [mol.m-3]\n",
      "Negative particle bc\n",
      "Negative particle concentration\n",
      "Negative particle concentration [mol.m-3]\n",
      "Negative particle crack length\n",
      "Negative particle crack length [m]\n",
      "Negative particle cracking rate\n",
      "Negative particle effective diffusivity\n",
      "Negative particle effective diffusivity [m2.s-1]\n",
      "Negative particle flux\n",
      "Negative particle radius\n",
      "Negative particle radius [m]\n",
      "Negative particle rhs\n",
      "Negative particle surface concentration\n",
      "Negative particle surface concentration [mol.m-3]\n",
      "Positive particle bc\n",
      "Positive particle concentration\n",
      "Positive particle concentration [mol.m-3]\n",
      "Positive particle crack length\n",
      "Positive particle crack length [m]\n",
      "Positive particle cracking rate\n",
      "Positive particle effective diffusivity\n",
      "Positive particle effective diffusivity [m2.s-1]\n",
      "Positive particle flux\n",
      "Positive particle radius\n",
      "Positive particle radius [m]\n",
      "Positive particle rhs\n",
      "Positive particle surface concentration\n",
      "Positive particle surface concentration [mol.m-3]\n",
      "R-averaged negative particle concentration\n",
      "R-averaged negative particle concentration [mol.m-3]\n",
      "R-averaged positive particle concentration\n",
      "R-averaged positive particle concentration [mol.m-3]\n",
      "Total lithium in particles [mol]\n",
      "Total lithium lost from particles [mol]\n",
      "X-averaged negative particle concentration\n",
      "X-averaged negative particle concentration [mol.m-3]\n",
      "X-averaged negative particle crack length\n",
      "X-averaged negative particle crack length [m]\n",
      "X-averaged negative particle cracking rate\n",
      "X-averaged negative particle effective diffusivity\n",
      "X-averaged negative particle effective diffusivity [m2.s-1]\n",
      "X-averaged negative particle surface concentration\n",
      "X-averaged negative particle surface concentration [mol.m-3]\n",
      "X-averaged positive particle concentration\n",
      "X-averaged positive particle concentration [mol.m-3]\n",
      "X-averaged positive particle crack length\n",
      "X-averaged positive particle crack length [m]\n",
      "X-averaged positive particle cracking rate\n",
      "X-averaged positive particle effective diffusivity\n",
      "X-averaged positive particle effective diffusivity [m2.s-1]\n",
      "X-averaged positive particle surface concentration\n",
      "X-averaged positive particle surface concentration [mol.m-3]\n"
     ]
    }
   ],
   "source": [
    "model.variables.search(\"particle\")\n"
   ]
  },
  {
   "cell_type": "code",
   "execution_count": 52,
   "id": "50a67d28",
   "metadata": {},
   "outputs": [
    {
     "data": {
      "application/vnd.jupyter.widget-view+json": {
       "model_id": "3dc78757c216459aba222444c977b6c2",
       "version_major": 2,
       "version_minor": 0
      },
      "text/plain": [
       "interactive(children=(FloatSlider(value=0.0, description='t', max=11.301482616465062, step=0.11301482616465063…"
      ]
     },
     "metadata": {},
     "output_type": "display_data"
    },
    {
     "data": {
      "text/plain": [
       "<pybamm.plotting.quick_plot.QuickPlot at 0x28d87a27280>"
      ]
     },
     "execution_count": 52,
     "metadata": {},
     "output_type": "execute_result"
    }
   ],
   "source": [
    "pybamm.dynamic_plot(\n",
    "    sims,\n",
    "    [\n",
    "        \"X-averaged positive particle concentration [mol.m-3]\", \n",
    "        \n",
    "    ],\n",
    ")"
   ]
  },
  {
   "cell_type": "code",
   "execution_count": 53,
   "id": "571fc71d",
   "metadata": {},
   "outputs": [
    {
     "data": {
      "application/vnd.jupyter.widget-view+json": {
       "model_id": "32bb23a6899e4bb290d2c2564cfef25a",
       "version_major": 2,
       "version_minor": 0
      },
      "text/plain": [
       "interactive(children=(FloatSlider(value=0.0, description='t', max=11.301482616465062, step=0.11301482616465063…"
      ]
     },
     "metadata": {},
     "output_type": "display_data"
    },
    {
     "data": {
      "text/plain": [
       "<pybamm.plotting.quick_plot.QuickPlot at 0x28d83d82760>"
      ]
     },
     "execution_count": 53,
     "metadata": {},
     "output_type": "execute_result"
    }
   ],
   "source": [
    "pybamm.dynamic_plot(\n",
    "    sim,\n",
    "    [\n",
    "        \"X-averaged positive particle concentration [mol.m-3]\", \n",
    "        \"R-averaged positive particle concentration [mol.m-3]\",\n",
    "        \"Positive particle rhs\"\n",
    "    ],\n",
    ")"
   ]
  },
  {
   "cell_type": "code",
   "execution_count": 58,
   "id": "3c1be5ce",
   "metadata": {},
   "outputs": [
    {
     "ename": "TypeError",
     "evalue": "'list' object is not callable",
     "output_type": "error",
     "traceback": [
      "\u001b[1;31m---------------------------------------------------------------------------\u001b[0m",
      "\u001b[1;31mTypeError\u001b[0m                                 Traceback (most recent call last)",
      "Cell \u001b[1;32mIn[58], line 1\u001b[0m\n\u001b[1;32m----> 1\u001b[0m \u001b[43msims\u001b[49m\u001b[43m(\u001b[49m\u001b[38;5;241;43m1\u001b[39;49m\u001b[43m)\u001b[49m\u001b[38;5;241m.\u001b[39msolution\u001b[38;5;241m.\u001b[39msave_data(\n\u001b[0;32m      2\u001b[0m     \u001b[38;5;124m\"\u001b[39m\u001b[38;5;124moutput.mat\u001b[39m\u001b[38;5;124m\"\u001b[39m,\n\u001b[0;32m      3\u001b[0m     [\n\u001b[0;32m      4\u001b[0m         \u001b[38;5;124m\"\u001b[39m\u001b[38;5;124mTime [h]\u001b[39m\u001b[38;5;124m\"\u001b[39m,\n\u001b[0;32m      5\u001b[0m         \u001b[38;5;124m\"\u001b[39m\u001b[38;5;124mCurrent [A]\u001b[39m\u001b[38;5;124m\"\u001b[39m,\n\u001b[0;32m      6\u001b[0m         \u001b[38;5;124m\"\u001b[39m\u001b[38;5;124mTerminal voltage [V]\u001b[39m\u001b[38;5;124m\"\u001b[39m,\n\u001b[0;32m      7\u001b[0m         \u001b[38;5;124m\"\u001b[39m\u001b[38;5;124mDischarge capacity [A.h]\u001b[39m\u001b[38;5;124m\"\u001b[39m,\n\u001b[0;32m      8\u001b[0m         \u001b[38;5;124m\"\u001b[39m\u001b[38;5;124mX-averaged cell temperature [K]\u001b[39m\u001b[38;5;124m\"\u001b[39m,\n\u001b[0;32m      9\u001b[0m         \u001b[38;5;124m\"\u001b[39m\u001b[38;5;124mElectrolyte concentration [mol.m-3]\u001b[39m\u001b[38;5;124m\"\u001b[39m,\n\u001b[0;32m     10\u001b[0m     ],\n\u001b[0;32m     11\u001b[0m     to_format\u001b[38;5;241m=\u001b[39m\u001b[38;5;124m\"\u001b[39m\u001b[38;5;124mmatlab\u001b[39m\u001b[38;5;124m\"\u001b[39m,\n\u001b[0;32m     12\u001b[0m     short_names\u001b[38;5;241m=\u001b[39m{\n\u001b[0;32m     13\u001b[0m         \u001b[38;5;124m\"\u001b[39m\u001b[38;5;124mTime [h]\u001b[39m\u001b[38;5;124m\"\u001b[39m: \u001b[38;5;124m\"\u001b[39m\u001b[38;5;124mt\u001b[39m\u001b[38;5;124m\"\u001b[39m,\n\u001b[0;32m     14\u001b[0m         \u001b[38;5;124m\"\u001b[39m\u001b[38;5;124mCurrent [A]\u001b[39m\u001b[38;5;124m\"\u001b[39m: \u001b[38;5;124m\"\u001b[39m\u001b[38;5;124mI\u001b[39m\u001b[38;5;124m\"\u001b[39m,\n\u001b[0;32m     15\u001b[0m         \u001b[38;5;124m\"\u001b[39m\u001b[38;5;124mTerminal voltage [V]\u001b[39m\u001b[38;5;124m\"\u001b[39m: \u001b[38;5;124m\"\u001b[39m\u001b[38;5;124mV\u001b[39m\u001b[38;5;124m\"\u001b[39m,\n\u001b[0;32m     16\u001b[0m         \u001b[38;5;124m\"\u001b[39m\u001b[38;5;124mDischarge capacity [A.h]\u001b[39m\u001b[38;5;124m\"\u001b[39m: \u001b[38;5;124m\"\u001b[39m\u001b[38;5;124mQ\u001b[39m\u001b[38;5;124m\"\u001b[39m,\n\u001b[0;32m     17\u001b[0m         \u001b[38;5;124m\"\u001b[39m\u001b[38;5;124mX-averaged cell temperature [K]\u001b[39m\u001b[38;5;124m\"\u001b[39m: \u001b[38;5;124m\"\u001b[39m\u001b[38;5;124mT\u001b[39m\u001b[38;5;124m\"\u001b[39m,\n\u001b[0;32m     18\u001b[0m         \u001b[38;5;124m\"\u001b[39m\u001b[38;5;124mElectrolyte concentration [mol.m-3]\u001b[39m\u001b[38;5;124m\"\u001b[39m: \u001b[38;5;124m\"\u001b[39m\u001b[38;5;124mc_e\u001b[39m\u001b[38;5;124m\"\u001b[39m,\n\u001b[0;32m     19\u001b[0m     },\n\u001b[0;32m     20\u001b[0m )\n",
      "\u001b[1;31mTypeError\u001b[0m: 'list' object is not callable"
     ]
    }
   ],
   "source": [
    "sims.solution.save_data(\n",
    "    \"output.mat\",\n",
    "    [\n",
    "        \"Time [h]\",\n",
    "        \"Current [A]\",\n",
    "        \"Terminal voltage [V]\",\n",
    "        \"Discharge capacity [A.h]\",\n",
    "        \"X-averaged cell temperature [K]\",\n",
    "        \"Electrolyte concentration [mol.m-3]\",\n",
    "    ],\n",
    "    to_format=\"matlab\",\n",
    "    short_names={\n",
    "        \"Time [h]\": \"t\",\n",
    "        \"Current [A]\": \"I\",\n",
    "        \"Terminal voltage [V]\": \"V\",\n",
    "        \"Discharge capacity [A.h]\": \"Q\",\n",
    "        \"X-averaged cell temperature [K]\": \"T\",\n",
    "        \"Electrolyte concentration [mol.m-3]\": \"c_e\",\n",
    "    },\n",
    ")"
   ]
  },
  {
   "cell_type": "code",
   "execution_count": null,
   "id": "b4440265",
   "metadata": {},
   "outputs": [],
   "source": []
  }
 ],
 "metadata": {
  "kernelspec": {
   "display_name": "Python 3 (ipykernel)",
   "language": "python",
   "name": "python3"
  },
  "language_info": {
   "codemirror_mode": {
    "name": "ipython",
    "version": 3
   },
   "file_extension": ".py",
   "mimetype": "text/x-python",
   "name": "python",
   "nbconvert_exporter": "python",
   "pygments_lexer": "ipython3",
   "version": "3.9.13"
  }
 },
 "nbformat": 4,
 "nbformat_minor": 5
}

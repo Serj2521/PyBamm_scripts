{
 "cells": [
  {
   "cell_type": "code",
   "execution_count": 2,
   "id": "8371def1",
   "metadata": {},
   "outputs": [
    {
     "name": "stderr",
     "output_type": "stream",
     "text": [
      "2022-11-28 12:36:26.352 - [INFO] base_model._build_model(572): Start building Doyle-Fuller-Newman model\n",
      "2022-11-28 12:36:26.517 - [INFO] base_battery_model.build_model(1019): Finish building Doyle-Fuller-Newman model\n",
      "2022-11-28 12:36:26.532 - [INFO] parameter_values.process_model(371): Start setting parameters for Doyle-Fuller-Newman model\n",
      "2022-11-28 12:36:26.693 - [INFO] parameter_values.process_model(474): Finish setting parameters for Doyle-Fuller-Newman model\n",
      "2022-11-28 12:36:26.695 - [INFO] discretisation.process_model(149): Start discretising Doyle-Fuller-Newman model\n",
      "2022-11-28 12:36:26.708 - [INFO] discretisation.remove_independent_variables_from_rhs(1199): removing variable Discharge capacity [A.h] from rhs\n",
      "2022-11-28 12:36:27.482 - [INFO] discretisation.process_model(271): Finish discretising Doyle-Fuller-Newman model\n",
      "2022-11-28 12:36:27.483 - [INFO] base_solver.solve(703): Start solving Doyle-Fuller-Newman model with CasADi solver with 'safe' mode\n",
      "2022-11-28 12:36:27.488 - [INFO] base_solver.set_up(110): Start solver set-up\n",
      "2022-11-28 12:36:27.707 - [INFO] base_solver.set_up(235): Finish solver set-up\n",
      "2022-11-28 12:36:29.285 - [INFO] base_solver.solve(936): Finish solving Doyle-Fuller-Newman model (event: Minimum voltage)\n",
      "2022-11-28 12:36:29.285 - [INFO] base_solver.solve(937): Set-up time: 221.599 ms, Solve time: 1.574 s (of which integration time: 1.252 s), Total time: 1.796 s\n"
     ]
    },
    {
     "data": {
      "application/vnd.jupyter.widget-view+json": {
       "model_id": "7a15265f2f764133bf26281af8c60d5d",
       "version_major": 2,
       "version_minor": 0
      },
      "text/plain": [
       "interactive(children=(FloatSlider(value=0.0, description='t', max=3554.1847197447373, step=35.541847197447375)…"
      ]
     },
     "metadata": {},
     "output_type": "display_data"
    },
    {
     "data": {
      "text/plain": [
       "<pybamm.plotting.quick_plot.QuickPlot at 0x206b62044f0>"
      ]
     },
     "execution_count": 2,
     "metadata": {},
     "output_type": "execute_result"
    }
   ],
   "source": [
    "import pybamm\n",
    "\n",
    "pybamm.set_logging_level(\"INFO\")\n",
    "model = pybamm.lithium_ion.DFN()\n",
    "\n",
    "parameter_values = pybamm.ParameterValues(\"Chen2020\")\n",
    "\n",
    "sim = pybamm.Simulation(model, parameter_values=parameter_values, C_rate=1)\n",
    "sim.solve([0, 3600])\n",
    "sim.plot()"
   ]
  },
  {
   "cell_type": "code",
   "execution_count": null,
   "id": "fb81a0cf",
   "metadata": {},
   "outputs": [],
   "source": []
  }
 ],
 "metadata": {
  "kernelspec": {
   "display_name": "Python 3 (ipykernel)",
   "language": "python",
   "name": "python3"
  },
  "language_info": {
   "codemirror_mode": {
    "name": "ipython",
    "version": 3
   },
   "file_extension": ".py",
   "mimetype": "text/x-python",
   "name": "python",
   "nbconvert_exporter": "python",
   "pygments_lexer": "ipython3",
   "version": "3.9.13"
  }
 },
 "nbformat": 4,
 "nbformat_minor": 5
}

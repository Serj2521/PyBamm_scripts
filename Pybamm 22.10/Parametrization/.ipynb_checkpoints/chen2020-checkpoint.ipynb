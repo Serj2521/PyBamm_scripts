{
 "cells": [
  {
   "cell_type": "code",
   "execution_count": 17,
   "id": "04b50ac5",
   "metadata": {},
   "outputs": [
    {
     "ename": "SyntaxError",
     "evalue": "positional argument follows keyword argument (3411131107.py, line 24)",
     "output_type": "error",
     "traceback": [
      "\u001b[1;36m  Cell \u001b[1;32mIn [17], line 24\u001b[1;36m\u001b[0m\n\u001b[1;33m    )\u001b[0m\n\u001b[1;37m    ^\u001b[0m\n\u001b[1;31mSyntaxError\u001b[0m\u001b[1;31m:\u001b[0m positional argument follows keyword argument\n"
     ]
    }
   ],
   "source": [
    "import pybamm as pb\n",
    "\n",
    "pb.set_logging_level(\"INFO\")\n",
    "\n",
    "model = pb.lithium_ion.DFN()\n",
    "\n",
    "experiment = pb.Experiment(\n",
    "    [\n",
    "        (\n",
    "            \"Discharge at 1C until 3.3 V\",\n",
    "            \"Rest for 1 hour\",\n",
    "            \"Charge at 1C until 4.1 V\",\n",
    "            \"Hold at 4.1 V until 10 mA\",\n",
    "            \"Rest for 1 hour\",\n",
    "        )\n",
    "    ]\n",
    ")\n",
    "\n",
    "\n",
    "parameter_values = pb.ParameterValues(\"Chen2020\")\n",
    "\n",
    "sim = pb.Simulation(\n",
    "    model, experiment=experiment, parameter_values, solver=pb.CasadiSolver(\"fast with events\")\n",
    ")\n",
    "sim.solve()\n",
    "\n",
    "# plot\n",
    "pb.dynamic_plot(sim)"
   ]
  },
  {
   "cell_type": "code",
   "execution_count": null,
   "id": "0b26ee23",
   "metadata": {},
   "outputs": [],
   "source": []
  }
 ],
 "metadata": {
  "kernelspec": {
   "display_name": "Python 3 (ipykernel)",
   "language": "python",
   "name": "python3"
  },
  "language_info": {
   "codemirror_mode": {
    "name": "ipython",
    "version": 3
   },
   "file_extension": ".py",
   "mimetype": "text/x-python",
   "name": "python",
   "nbconvert_exporter": "python",
   "pygments_lexer": "ipython3",
   "version": "3.9.13"
  }
 },
 "nbformat": 4,
 "nbformat_minor": 5
}

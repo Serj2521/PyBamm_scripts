{
 "cells": [
  {
   "cell_type": "code",
   "execution_count": 12,
   "id": "04b50ac5",
   "metadata": {},
   "outputs": [
    {
     "name": "stderr",
     "output_type": "stream",
     "text": [
      "2022-12-14 10:59:53.973 - [INFO] base_model._build_model(572): Start building Doyle-Fuller-Newman model\n",
      "2022-12-14 10:59:54.343 - [INFO] base_battery_model.build_model(1019): Finish building Doyle-Fuller-Newman model\n",
      "2022-12-14 10:59:54.362 - [INFO] callbacks.on_experiment_start(166): Start running experiment\n",
      "2022-12-14 10:59:54.365 - [INFO] parameter_values.process_model(371): Start setting parameters for Doyle-Fuller-Newman model\n",
      "2022-12-14 10:59:54.500 - [INFO] parameter_values.process_model(474): Finish setting parameters for Doyle-Fuller-Newman model\n",
      "2022-12-14 10:59:54.502 - [INFO] parameter_values.process_model(371): Start setting parameters for Doyle-Fuller-Newman model\n",
      "2022-12-14 10:59:54.644 - [INFO] parameter_values.process_model(474): Finish setting parameters for Doyle-Fuller-Newman model\n",
      "2022-12-14 10:59:54.647 - [INFO] parameter_values.process_model(371): Start setting parameters for Doyle-Fuller-Newman model\n",
      "2022-12-14 10:59:54.781 - [INFO] parameter_values.process_model(474): Finish setting parameters for Doyle-Fuller-Newman model\n",
      "2022-12-14 10:59:54.786 - [INFO] parameter_values.process_model(371): Start setting parameters for Doyle-Fuller-Newman model\n",
      "2022-12-14 10:59:54.926 - [INFO] parameter_values.process_model(474): Finish setting parameters for Doyle-Fuller-Newman model\n",
      "2022-12-14 10:59:54.929 - [INFO] discretisation.process_model(149): Start discretising Doyle-Fuller-Newman model\n",
      "2022-12-14 10:59:54.938 - [INFO] discretisation.remove_independent_variables_from_rhs(1199): removing variable Discharge capacity [A.h] from rhs\n",
      "2022-12-14 10:59:55.596 - [INFO] discretisation.process_model(271): Finish discretising Doyle-Fuller-Newman model\n",
      "2022-12-14 10:59:55.597 - [INFO] discretisation.process_model(149): Start discretising Doyle-Fuller-Newman model\n",
      "2022-12-14 10:59:55.609 - [INFO] discretisation.remove_independent_variables_from_rhs(1199): removing variable Discharge capacity [A.h] from rhs\n",
      "2022-12-14 10:59:56.243 - [INFO] discretisation.process_model(271): Finish discretising Doyle-Fuller-Newman model\n",
      "2022-12-14 10:59:56.244 - [INFO] discretisation.process_model(149): Start discretising Doyle-Fuller-Newman model\n",
      "2022-12-14 10:59:56.256 - [INFO] discretisation.remove_independent_variables_from_rhs(1199): removing variable Discharge capacity [A.h] from rhs\n",
      "2022-12-14 10:59:56.887 - [INFO] discretisation.process_model(271): Finish discretising Doyle-Fuller-Newman model\n",
      "2022-12-14 10:59:56.889 - [INFO] discretisation.process_model(149): Start discretising Doyle-Fuller-Newman model\n",
      "2022-12-14 10:59:56.898 - [INFO] discretisation.remove_independent_variables_from_rhs(1199): removing variable Discharge capacity [A.h] from rhs\n",
      "2022-12-14 10:59:57.583 - [INFO] discretisation.process_model(271): Finish discretising Doyle-Fuller-Newman model\n",
      "2022-12-14 10:59:57.600 - [NOTICE] callbacks.on_cycle_start(174): Cycle 1/1 (14.678 ms elapsed) --------------------\n",
      "2022-12-14 10:59:57.601 - [NOTICE] callbacks.on_step_start(182): Cycle 1/1, step 1/5: Discharge at 1C until 2.5 V\n",
      "2022-12-14 10:59:57.605 - [INFO] base_solver.set_up(110): Start solver set-up\n",
      "2022-12-14 10:59:57.774 - [INFO] base_solver.set_up(235): Finish solver set-up\n",
      "2022-12-14 10:59:58.449 - [NOTICE] callbacks.on_step_start(182): Cycle 1/1, step 2/5: Rest for 1 hour\n",
      "2022-12-14 10:59:58.456 - [INFO] base_solver.set_up(110): Start solver set-up\n",
      "2022-12-14 10:59:58.638 - [INFO] base_solver.set_up(235): Finish solver set-up\n",
      "2022-12-14 10:59:58.956 - [NOTICE] callbacks.on_step_start(182): Cycle 1/1, step 3/5: Charge at 1C until 4.2 V\n",
      "2022-12-14 10:59:58.964 - [INFO] base_solver.set_up(110): Start solver set-up\n",
      "2022-12-14 10:59:59.144 - [INFO] base_solver.set_up(235): Finish solver set-up\n",
      "2022-12-14 10:59:59.897 - [NOTICE] callbacks.on_step_start(182): Cycle 1/1, step 4/5: Hold at 4.2 V until 10 mA\n",
      "2022-12-14 10:59:59.903 - [INFO] base_solver.set_up(110): Start solver set-up\n",
      "2022-12-14 11:00:00.105 - [INFO] base_solver.set_up(235): Finish solver set-up\n",
      "2022-12-14 11:00:01.408 - [NOTICE] callbacks.on_step_start(182): Cycle 1/1, step 5/5: Rest for 1 hour\n",
      "2022-12-14 11:00:01.818 - [INFO] parameter_values.process_model(371): Start setting parameters for ElectrodeSOH model\n",
      "2022-12-14 11:00:01.843 - [INFO] parameter_values.process_model(474): Finish setting parameters for ElectrodeSOH model\n",
      "2022-12-14 11:00:01.844 - [INFO] discretisation.process_model(149): Start discretising ElectrodeSOH model\n",
      "2022-12-14 11:00:01.872 - [INFO] discretisation.process_model(271): Finish discretising ElectrodeSOH model\n",
      "2022-12-14 11:00:01.874 - [INFO] base_solver.solve(703): Start solving ElectrodeSOH model with Algebraic solver (lm)\n",
      "2022-12-14 11:00:01.876 - [INFO] base_solver.set_up(110): Start solver set-up\n",
      "2022-12-14 11:00:01.902 - [INFO] base_solver.set_up(235): Finish solver set-up\n",
      "2022-12-14 11:00:01.911 - [INFO] base_solver.solve(936): Finish solving ElectrodeSOH model (success)\n",
      "2022-12-14 11:00:01.914 - [INFO] base_solver.solve(937): Set-up time: 27.226 ms, Solve time: 7.544 ms (of which integration time: 6.698 ms), Total time: 34.770 ms\n",
      "2022-12-14 11:00:01.962 - [NOTICE] callbacks.on_experiment_end(222): Finish experiment simulation, took 4.377 s\n"
     ]
    },
    {
     "data": {
      "application/vnd.jupyter.widget-view+json": {
       "model_id": "ed5af4bdc8064888bfaad5dab97564bb",
       "version_major": 2,
       "version_minor": 0
      },
      "text/plain": [
       "interactive(children=(FloatSlider(value=0.0, description='t', max=5.695085181642927, step=0.05695085181642927)…"
      ]
     },
     "metadata": {},
     "output_type": "display_data"
    },
    {
     "data": {
      "text/plain": [
       "<pybamm.plotting.quick_plot.QuickPlot at 0x29dd7716070>"
      ]
     },
     "execution_count": 12,
     "metadata": {},
     "output_type": "execute_result"
    }
   ],
   "source": [
    "#DFN\n",
    "\n",
    "import pybamm as pb\n",
    "\n",
    "pb.set_logging_level(\"INFO\")\n",
    "\n",
    "model = pb.lithium_ion.DFN()\n",
    "\n",
    "experiment = pb.Experiment(\n",
    "    [\n",
    "        (\n",
    "            \"Discharge at 1C until 2.5 V\",\n",
    "            \"Rest for 1 hour\",\n",
    "            \"Charge at 1C until 4.2 V\",\n",
    "            \"Hold at 4.2 V until 10 mA\",\n",
    "            \"Rest for 1 hour\",\n",
    "        )\n",
    "    ]\n",
    ")\n",
    "\n",
    "\n",
    "parameter_values = pb.ParameterValues(\"Chen2020\")\n",
    "\n",
    "sim = pb.Simulation(\n",
    "    model, experiment=experiment, parameter_values=parameter_values, solver=pb.CasadiSolver(\"fast with events\")\n",
    ")\n",
    "sim.solve()\n",
    "\n",
    "# plot\n",
    "pb.dynamic_plot(sim)"
   ]
  },
  {
   "cell_type": "code",
   "execution_count": 20,
   "id": "203a8bd6",
   "metadata": {},
   "outputs": [
    {
     "name": "stdout",
     "output_type": "stream",
     "text": [
      "Electrolyte flux\n",
      "Electrolyte flux [mol.m-2.s-1]\n",
      "Negative particle flux\n",
      "Positive particle flux\n"
     ]
    },
    {
     "data": {
      "application/vnd.jupyter.widget-view+json": {
       "model_id": "52982a1419764f11978b4563b7819e84",
       "version_major": 2,
       "version_minor": 0
      },
      "text/plain": [
       "interactive(children=(FloatSlider(value=0.0, description='t', max=5.695085181642927, step=0.05695085181642927)…"
      ]
     },
     "metadata": {},
     "output_type": "display_data"
    },
    {
     "data": {
      "text/plain": [
       "<pybamm.plotting.quick_plot.QuickPlot at 0x29ddc480ee0>"
      ]
     },
     "execution_count": 20,
     "metadata": {},
     "output_type": "execute_result"
    }
   ],
   "source": [
    "model.variables.search(\"flux\")\n",
    "\n",
    "# plot\n",
    "pb.dynamic_plot(\n",
    "    sim,\n",
    "    [\n",
    "        \"X-averaged positive particle surface concentration [mol.m-3]\",\"Positive particle flux\"\n",
    "    ],\n",
    ")"
   ]
  },
  {
   "cell_type": "code",
   "execution_count": 17,
   "id": "0b26ee23",
   "metadata": {},
   "outputs": [],
   "source": [
    "# Save time, voltage, current, discharge capacity, temperature, and electrolyte\n",
    "# concentration to matlab format\n",
    "sim.solution.save_data(\n",
    "    \"output_DFN.mat\",\n",
    "    [\n",
    "        \"Time [h]\",\n",
    "        \"Current [A]\",\n",
    "        \"Terminal voltage [V]\",\n",
    "        \"Discharge capacity [A.h]\",\n",
    "        \"X-averaged cell temperature [K]\",\n",
    "        \"X-averaged positive particle concentration [mol.m-3]\",\n",
    "    ],\n",
    "    to_format=\"matlab\",\n",
    "    short_names={\n",
    "        \"Time [h]\": \"t\",\n",
    "        \"Current [A]\": \"I\",\n",
    "        \"Terminal voltage [V]\": \"V\",\n",
    "        \"Discharge capacity [A.h]\": \"Q\",\n",
    "        \"X-averaged cell temperature [K]\": \"T\",\n",
    "        \"X-averaged positive particle concentration [mol.m-3]\": \"c_p\",\n",
    "    },\n",
    ")"
   ]
  },
  {
   "cell_type": "code",
   "execution_count": 21,
   "id": "d67ffacb",
   "metadata": {},
   "outputs": [
    {
     "name": "stderr",
     "output_type": "stream",
     "text": [
      "2022-12-14 15:09:59.617 - [INFO] base_model._build_model(572): Start building Single Particle Model\n",
      "2022-12-14 15:09:59.693 - [INFO] base_battery_model.build_model(1019): Finish building Single Particle Model\n",
      "2022-12-14 15:09:59.810 - [INFO] callbacks.on_experiment_start(166): Start running experiment\n",
      "2022-12-14 15:09:59.812 - [INFO] parameter_values.process_model(371): Start setting parameters for Single Particle Model\n",
      "2022-12-14 15:09:59.856 - [INFO] parameter_values.process_model(474): Finish setting parameters for Single Particle Model\n",
      "2022-12-14 15:09:59.858 - [INFO] parameter_values.process_model(371): Start setting parameters for Single Particle Model\n",
      "2022-12-14 15:09:59.896 - [INFO] parameter_values.process_model(474): Finish setting parameters for Single Particle Model\n",
      "2022-12-14 15:09:59.899 - [INFO] parameter_values.process_model(371): Start setting parameters for Single Particle Model\n",
      "2022-12-14 15:09:59.957 - [INFO] parameter_values.process_model(474): Finish setting parameters for Single Particle Model\n",
      "2022-12-14 15:09:59.959 - [INFO] parameter_values.process_model(371): Start setting parameters for Single Particle Model\n",
      "2022-12-14 15:10:00.015 - [INFO] parameter_values.process_model(474): Finish setting parameters for Single Particle Model\n",
      "2022-12-14 15:10:00.020 - [INFO] discretisation.process_model(149): Start discretising Single Particle Model\n",
      "2022-12-14 15:10:00.025 - [INFO] discretisation.remove_independent_variables_from_rhs(1199): removing variable Discharge capacity [A.h] from rhs\n",
      "2022-12-14 15:10:00.166 - [INFO] discretisation.process_model(271): Finish discretising Single Particle Model\n",
      "2022-12-14 15:10:00.167 - [INFO] discretisation.process_model(149): Start discretising Single Particle Model\n",
      "2022-12-14 15:10:00.169 - [INFO] discretisation.remove_independent_variables_from_rhs(1199): removing variable Discharge capacity [A.h] from rhs\n",
      "2022-12-14 15:10:00.285 - [INFO] discretisation.process_model(271): Finish discretising Single Particle Model\n",
      "2022-12-14 15:10:00.285 - [INFO] discretisation.process_model(149): Start discretising Single Particle Model\n",
      "2022-12-14 15:10:00.288 - [INFO] discretisation.remove_independent_variables_from_rhs(1199): removing variable Discharge capacity [A.h] from rhs\n",
      "2022-12-14 15:10:00.435 - [INFO] discretisation.process_model(271): Finish discretising Single Particle Model\n",
      "2022-12-14 15:10:00.436 - [INFO] discretisation.process_model(149): Start discretising Single Particle Model\n",
      "2022-12-14 15:10:00.439 - [INFO] discretisation.remove_independent_variables_from_rhs(1199): removing variable Discharge capacity [A.h] from rhs\n",
      "2022-12-14 15:10:00.604 - [INFO] discretisation.process_model(271): Finish discretising Single Particle Model\n",
      "2022-12-14 15:10:00.613 - [NOTICE] callbacks.on_cycle_start(174): Cycle 1/1 (9.145 ms elapsed) --------------------\n",
      "2022-12-14 15:10:00.614 - [NOTICE] callbacks.on_step_start(182): Cycle 1/1, step 1/5: Discharge at 1C until 2.5 V\n",
      "2022-12-14 15:10:00.617 - [INFO] base_solver.set_up(110): Start solver set-up\n",
      "2022-12-14 15:10:00.651 - [INFO] base_solver.set_up(235): Finish solver set-up\n",
      "2022-12-14 15:10:00.666 - [NOTICE] callbacks.on_step_start(182): Cycle 1/1, step 2/5: Rest for 1 hour\n",
      "2022-12-14 15:10:00.670 - [INFO] base_solver.set_up(110): Start solver set-up\n",
      "2022-12-14 15:10:00.692 - [INFO] base_solver.set_up(235): Finish solver set-up\n",
      "2022-12-14 15:10:00.702 - [NOTICE] callbacks.on_step_start(182): Cycle 1/1, step 3/5: Charge at 1C until 4.2 V\n",
      "2022-12-14 15:10:00.705 - [INFO] base_solver.set_up(110): Start solver set-up\n",
      "2022-12-14 15:10:00.731 - [INFO] base_solver.set_up(235): Finish solver set-up\n",
      "2022-12-14 15:10:00.750 - [NOTICE] callbacks.on_step_start(182): Cycle 1/1, step 4/5: Hold at 4.2 V until 10 mA\n",
      "2022-12-14 15:10:00.758 - [INFO] base_solver.set_up(110): Start solver set-up\n",
      "2022-12-14 15:10:00.840 - [INFO] base_solver.set_up(235): Finish solver set-up\n",
      "2022-12-14 15:10:00.897 - [NOTICE] callbacks.on_step_start(182): Cycle 1/1, step 5/5: Rest for 1 hour\n",
      "2022-12-14 15:10:01.030 - [INFO] parameter_values.process_model(371): Start setting parameters for ElectrodeSOH model\n",
      "2022-12-14 15:10:01.055 - [INFO] parameter_values.process_model(474): Finish setting parameters for ElectrodeSOH model\n",
      "2022-12-14 15:10:01.056 - [INFO] discretisation.process_model(149): Start discretising ElectrodeSOH model\n",
      "2022-12-14 15:10:01.105 - [INFO] discretisation.process_model(271): Finish discretising ElectrodeSOH model\n",
      "2022-12-14 15:10:01.107 - [INFO] base_solver.solve(703): Start solving ElectrodeSOH model with Algebraic solver (lm)\n",
      "2022-12-14 15:10:01.111 - [INFO] base_solver.set_up(110): Start solver set-up\n",
      "2022-12-14 15:10:01.155 - [INFO] base_solver.set_up(235): Finish solver set-up\n",
      "2022-12-14 15:10:01.168 - [INFO] base_solver.solve(936): Finish solving ElectrodeSOH model (success)\n",
      "2022-12-14 15:10:01.169 - [INFO] base_solver.solve(937): Set-up time: 45.030 ms, Solve time: 11.598 ms (of which integration time: 10.432 ms), Total time: 56.629 ms\n",
      "2022-12-14 15:10:01.209 - [NOTICE] callbacks.on_experiment_end(222): Finish experiment simulation, took 604.224 ms\n"
     ]
    },
    {
     "data": {
      "application/vnd.jupyter.widget-view+json": {
       "model_id": "f6da0430ea5f48629c338c6c682bcb75",
       "version_major": 2,
       "version_minor": 0
      },
      "text/plain": [
       "interactive(children=(FloatSlider(value=0.0, description='t', max=5.3854087722093755, step=0.05385408772209375…"
      ]
     },
     "metadata": {},
     "output_type": "display_data"
    },
    {
     "data": {
      "text/plain": [
       "<pybamm.plotting.quick_plot.QuickPlot at 0x29ddde3f2b0>"
      ]
     },
     "execution_count": 21,
     "metadata": {},
     "output_type": "execute_result"
    }
   ],
   "source": [
    "pb.set_logging_level(\"INFO\")\n",
    "\n",
    "model = pb.lithium_ion.SPM()\n",
    "\n",
    "experiment = pb.Experiment(\n",
    "    [\n",
    "        (\n",
    "            \"Discharge at 1C until 2.5 V\",\n",
    "            \"Rest for 1 hour\",\n",
    "            \"Charge at 1C until 4.2 V\",\n",
    "            \"Hold at 4.2 V until 10 mA\",\n",
    "            \"Rest for 1 hour\",\n",
    "        )\n",
    "    ]\n",
    ")\n",
    "\n",
    "\n",
    "parameter_values = pb.ParameterValues(\"Chen2020\")\n",
    "\n",
    "sim = pb.Simulation(\n",
    "    model, experiment=experiment, parameter_values=parameter_values, solver=pb.CasadiSolver(\"fast with events\")\n",
    ")\n",
    "sim.solve()\n",
    "\n",
    "# plot\n",
    "pb.dynamic_plot(sim)"
   ]
  },
  {
   "cell_type": "code",
   "execution_count": 23,
   "id": "a627e8e8",
   "metadata": {},
   "outputs": [
    {
     "name": "stdout",
     "output_type": "stream",
     "text": [
      "Electrolyte flux\n",
      "Electrolyte flux [mol.m-2.s-1]\n",
      "Negative particle flux\n",
      "Positive particle flux\n",
      "X-averaged negative particle flux\n",
      "X-averaged positive particle flux\n"
     ]
    },
    {
     "data": {
      "application/vnd.jupyter.widget-view+json": {
       "model_id": "62601878c93b4233939aad6fd6abfe85",
       "version_major": 2,
       "version_minor": 0
      },
      "text/plain": [
       "interactive(children=(FloatSlider(value=0.0, description='t', max=5.3854087722093755, step=0.05385408772209375…"
      ]
     },
     "metadata": {},
     "output_type": "display_data"
    },
    {
     "data": {
      "text/plain": [
       "<pybamm.plotting.quick_plot.QuickPlot at 0x29ddcf5c3a0>"
      ]
     },
     "execution_count": 23,
     "metadata": {},
     "output_type": "execute_result"
    }
   ],
   "source": [
    "model.variables.search(\"flux\")\n",
    "\n",
    "# plot\n",
    "pb.dynamic_plot(\n",
    "    sim,\n",
    "    [\n",
    "        \"X-averaged positive particle surface concentration [mol.m-3]\",\"Positive particle flux\",\n",
    "    ],\n",
    ")"
   ]
  },
  {
   "cell_type": "code",
   "execution_count": 24,
   "id": "6a4e5a01",
   "metadata": {},
   "outputs": [],
   "source": [
    "# Save time, voltage, current, discharge capacity, temperature, and electrolyte\n",
    "# concentration to matlab format\n",
    "sim.solution.save_data(\n",
    "    \"output_SPM.mat\",\n",
    "    [\n",
    "        \"Time [h]\",\n",
    "        \"Current [A]\",\n",
    "        \"Terminal voltage [V]\",\n",
    "        \"Discharge capacity [A.h]\",\n",
    "        \"X-averaged cell temperature [K]\",\n",
    "        \"X-averaged positive particle concentration [mol.m-3]\",\n",
    "    ],\n",
    "    to_format=\"matlab\",\n",
    "    short_names={\n",
    "        \"Time [h]\": \"t\",\n",
    "        \"Current [A]\": \"I\",\n",
    "        \"Terminal voltage [V]\": \"V\",\n",
    "        \"Discharge capacity [A.h]\": \"Q\",\n",
    "        \"X-averaged cell temperature [K]\": \"T\",\n",
    "        \"X-averaged positive particle concentration [mol.m-3]\": \"c_p\",\n",
    "    },\n",
    ")"
   ]
  },
  {
   "cell_type": "code",
   "execution_count": 25,
   "id": "0fb49e78",
   "metadata": {},
   "outputs": [
    {
     "name": "stdout",
     "output_type": "stream",
     "text": [
      "1 + dlnf/dlnc\t1.0\n",
      "Ambient temperature [K]\t298.15\n",
      "Bulk solvent concentration [mol.m-3]\t2636.0\n",
      "Cation transference number\t0.2594\n",
      "Cell cooling surface area [m2]\t0.00531\n",
      "Cell thermal expansion coefficient [m.K-1]\t1.1e-06\n",
      "Cell volume [m3]\t2.42e-05\n",
      "Current function [A]\t5.0\n",
      "EC diffusivity [m2.s-1]\t2e-18\n",
      "EC initial concentration in electrolyte [mol.m-3]\t4541.0\n",
      "Electrode height [m]\t0.065\n",
      "Electrode width [m]\t1.58\n",
      "Electrolyte conductivity [S.m-1]\t<function electrolyte_conductivity_Nyman2008 at 0x0000029DD6EB11F0>\n",
      "Electrolyte diffusivity [m2.s-1]\t<function electrolyte_diffusivity_Nyman2008 at 0x0000029DD6EB1160>\n",
      "Initial concentration in electrolyte [mol.m-3]\t1000.0\n",
      "Initial concentration in negative electrode [mol.m-3]\t29866.0\n",
      "Initial concentration in positive electrode [mol.m-3]\t17038.0\n",
      "Initial inner SEI thickness [m]\t2.5e-09\n",
      "Initial outer SEI thickness [m]\t2.5e-09\n",
      "Initial temperature [K]\t298.15\n",
      "Inner SEI electron conductivity [S.m-1]\t8.95e-14\n",
      "Inner SEI lithium interstitial diffusivity [m2.s-1]\t1e-20\n",
      "Inner SEI open-circuit potential [V]\t0.1\n",
      "Inner SEI partial molar volume [m3.mol-1]\t9.585e-05\n",
      "Inner SEI reaction proportion\t0.5\n",
      "Lithium interstitial reference concentration [mol.m-3]\t15.0\n",
      "Lower voltage cut-off [V]\t2.5\n",
      "Maximum concentration in negative electrode [mol.m-3]\t33133.0\n",
      "Maximum concentration in positive electrode [mol.m-3]\t63104.0\n",
      "Negative current collector conductivity [S.m-1]\t58411000.0\n",
      "Negative current collector density [kg.m-3]\t8960.0\n",
      "Negative current collector specific heat capacity [J.kg-1.K-1]\t385.0\n",
      "Negative current collector thermal conductivity [W.m-1.K-1]\t401.0\n",
      "Negative current collector thickness [m]\t1.2e-05\n",
      "Negative electrode Bruggeman coefficient (electrode)\t1.5\n",
      "Negative electrode Bruggeman coefficient (electrolyte)\t1.5\n",
      "Negative electrode OCP [V]\t<function graphite_LGM50_ocp_Chen2020 at 0x0000029DD6D7CF70>\n",
      "Negative electrode OCP entropic change [V.K-1]\t0.0\n",
      "Negative electrode active material volume fraction\t0.75\n",
      "Negative electrode cation signed stoichiometry\t-1.0\n",
      "Negative electrode charge transfer coefficient\t0.5\n",
      "Negative electrode conductivity [S.m-1]\t215.0\n",
      "Negative electrode density [kg.m-3]\t1657.0\n",
      "Negative electrode diffusivity [m2.s-1]\t3.3e-14\n",
      "Negative electrode double-layer capacity [F.m-2]\t0.2\n",
      "Negative electrode electrons in reaction\t1.0\n",
      "Negative electrode exchange-current density [A.m-2]\t<function graphite_LGM50_electrolyte_exchange_current_density_Chen2020 at 0x0000029DD6D7CEE0>\n",
      "Negative electrode porosity\t0.25\n",
      "Negative electrode reaction-driven LAM factor [m3.mol-1]\t0.0\n",
      "Negative electrode specific heat capacity [J.kg-1.K-1]\t700.0\n",
      "Negative electrode thermal conductivity [W.m-1.K-1]\t1.7\n",
      "Negative electrode thickness [m]\t8.52e-05\n",
      "Negative particle radius [m]\t5.86e-06\n",
      "Nominal cell capacity [A.h]\t5.0\n",
      "Number of cells connected in series to make a battery\t1.0\n",
      "Number of electrodes connected in parallel to make a cell\t1.0\n",
      "Outer SEI open-circuit potential [V]\t0.8\n",
      "Outer SEI partial molar volume [m3.mol-1]\t9.585e-05\n",
      "Outer SEI solvent diffusivity [m2.s-1]\t2.5000000000000002e-22\n",
      "Positive current collector conductivity [S.m-1]\t36914000.0\n",
      "Positive current collector density [kg.m-3]\t2700.0\n",
      "Positive current collector specific heat capacity [J.kg-1.K-1]\t897.0\n",
      "Positive current collector thermal conductivity [W.m-1.K-1]\t237.0\n",
      "Positive current collector thickness [m]\t1.6e-05\n",
      "Positive electrode Bruggeman coefficient (electrode)\t1.5\n",
      "Positive electrode Bruggeman coefficient (electrolyte)\t1.5\n",
      "Positive electrode OCP [V]\t<function nmc_LGM50_ocp_Chen2020 at 0x0000029DD6EB1040>\n",
      "Positive electrode OCP entropic change [V.K-1]\t0.0\n",
      "Positive electrode active material volume fraction\t0.665\n",
      "Positive electrode cation signed stoichiometry\t-1.0\n",
      "Positive electrode charge transfer coefficient\t0.5\n",
      "Positive electrode conductivity [S.m-1]\t0.18\n",
      "Positive electrode density [kg.m-3]\t3262.0\n",
      "Positive electrode diffusivity [m2.s-1]\t4e-15\n",
      "Positive electrode double-layer capacity [F.m-2]\t0.2\n",
      "Positive electrode electrons in reaction\t1.0\n",
      "Positive electrode exchange-current density [A.m-2]\t<function nmc_LGM50_electrolyte_exchange_current_density_Chen2020 at 0x0000029DD6EB10D0>\n",
      "Positive electrode porosity\t0.335\n",
      "Positive electrode reaction-driven LAM factor [m3.mol-1]\t0.0\n",
      "Positive electrode specific heat capacity [J.kg-1.K-1]\t700.0\n",
      "Positive electrode thermal conductivity [W.m-1.K-1]\t2.1\n",
      "Positive electrode thickness [m]\t7.56e-05\n",
      "Positive particle radius [m]\t5.22e-06\n",
      "Ratio of lithium moles to SEI moles\t2.0\n",
      "Reference temperature [K]\t298.15\n",
      "SEI growth activation energy [J.mol-1]\t0.0\n",
      "SEI kinetic rate constant [m.s-1]\t1e-12\n",
      "SEI open-circuit potential [V]\t0.4\n",
      "SEI reaction exchange current density [A.m-2]\t1.5e-07\n",
      "SEI resistivity [Ohm.m]\t200000.0\n",
      "Separator Bruggeman coefficient (electrolyte)\t1.5\n",
      "Separator density [kg.m-3]\t397.0\n",
      "Separator porosity\t0.47\n",
      "Separator specific heat capacity [J.kg-1.K-1]\t700.0\n",
      "Separator thermal conductivity [W.m-1.K-1]\t0.16\n",
      "Separator thickness [m]\t1.2e-05\n",
      "Total heat transfer coefficient [W.m-2.K-1]\t10.0\n",
      "Typical current [A]\t5.0\n",
      "Typical electrolyte concentration [mol.m-3]\t1000.0\n",
      "Upper voltage cut-off [V]\t4.2\n",
      "citations\t['Chen2020']\n"
     ]
    }
   ],
   "source": [
    "parameter_values.search(\"\")"
   ]
  },
  {
   "cell_type": "code",
   "execution_count": null,
   "id": "910f3629",
   "metadata": {},
   "outputs": [],
   "source": []
  }
 ],
 "metadata": {
  "kernelspec": {
   "display_name": "Python 3 (ipykernel)",
   "language": "python",
   "name": "python3"
  },
  "language_info": {
   "codemirror_mode": {
    "name": "ipython",
    "version": 3
   },
   "file_extension": ".py",
   "mimetype": "text/x-python",
   "name": "python",
   "nbconvert_exporter": "python",
   "pygments_lexer": "ipython3",
   "version": "3.9.13"
  }
 },
 "nbformat": 4,
 "nbformat_minor": 5
}

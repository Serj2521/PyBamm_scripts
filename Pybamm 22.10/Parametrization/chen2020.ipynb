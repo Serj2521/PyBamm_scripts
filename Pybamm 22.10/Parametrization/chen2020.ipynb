{
 "cells": [
  {
   "cell_type": "code",
   "execution_count": 7,
   "id": "04b50ac5",
   "metadata": {},
   "outputs": [
    {
     "name": "stderr",
     "output_type": "stream",
     "text": [
      "2022-11-28 16:46:43.908 - [INFO] base_model._build_model(572): Start building Doyle-Fuller-Newman model\n",
      "2022-11-28 16:46:44.048 - [INFO] base_battery_model.build_model(1019): Finish building Doyle-Fuller-Newman model\n",
      "2022-11-28 16:46:44.051 - [INFO] callbacks.on_experiment_start(166): Start running experiment\n",
      "2022-11-28 16:46:44.055 - [INFO] parameter_values.process_model(371): Start setting parameters for Doyle-Fuller-Newman model\n",
      "2022-11-28 16:46:44.235 - [INFO] parameter_values.process_model(474): Finish setting parameters for Doyle-Fuller-Newman model\n",
      "2022-11-28 16:46:44.238 - [INFO] parameter_values.process_model(371): Start setting parameters for Doyle-Fuller-Newman model\n",
      "2022-11-28 16:46:44.394 - [INFO] parameter_values.process_model(474): Finish setting parameters for Doyle-Fuller-Newman model\n",
      "2022-11-28 16:46:44.396 - [INFO] parameter_values.process_model(371): Start setting parameters for Doyle-Fuller-Newman model\n",
      "2022-11-28 16:46:44.562 - [INFO] parameter_values.process_model(474): Finish setting parameters for Doyle-Fuller-Newman model\n",
      "2022-11-28 16:46:44.566 - [INFO] parameter_values.process_model(371): Start setting parameters for Doyle-Fuller-Newman model\n",
      "2022-11-28 16:46:44.732 - [INFO] parameter_values.process_model(474): Finish setting parameters for Doyle-Fuller-Newman model\n",
      "2022-11-28 16:46:44.737 - [INFO] discretisation.process_model(149): Start discretising Doyle-Fuller-Newman model\n",
      "2022-11-28 16:46:44.746 - [INFO] discretisation.remove_independent_variables_from_rhs(1199): removing variable Discharge capacity [A.h] from rhs\n",
      "2022-11-28 16:46:45.488 - [INFO] discretisation.process_model(271): Finish discretising Doyle-Fuller-Newman model\n",
      "2022-11-28 16:46:45.489 - [INFO] discretisation.process_model(149): Start discretising Doyle-Fuller-Newman model\n",
      "2022-11-28 16:46:45.497 - [INFO] discretisation.remove_independent_variables_from_rhs(1199): removing variable Discharge capacity [A.h] from rhs\n",
      "2022-11-28 16:46:46.184 - [INFO] discretisation.process_model(271): Finish discretising Doyle-Fuller-Newman model\n",
      "2022-11-28 16:46:46.186 - [INFO] discretisation.process_model(149): Start discretising Doyle-Fuller-Newman model\n",
      "2022-11-28 16:46:46.195 - [INFO] discretisation.remove_independent_variables_from_rhs(1199): removing variable Discharge capacity [A.h] from rhs\n",
      "2022-11-28 16:46:46.943 - [INFO] discretisation.process_model(271): Finish discretising Doyle-Fuller-Newman model\n",
      "2022-11-28 16:46:46.944 - [INFO] discretisation.process_model(149): Start discretising Doyle-Fuller-Newman model\n",
      "2022-11-28 16:46:46.954 - [INFO] discretisation.remove_independent_variables_from_rhs(1199): removing variable Discharge capacity [A.h] from rhs\n",
      "2022-11-28 16:46:47.775 - [INFO] discretisation.process_model(271): Finish discretising Doyle-Fuller-Newman model\n",
      "2022-11-28 16:46:47.797 - [NOTICE] callbacks.on_cycle_start(174): Cycle 1/1 (21.343 ms elapsed) --------------------\n",
      "2022-11-28 16:46:47.799 - [NOTICE] callbacks.on_step_start(182): Cycle 1/1, step 1/5: Discharge at 1C until 2.5 V\n",
      "2022-11-28 16:46:47.805 - [INFO] base_solver.set_up(110): Start solver set-up\n",
      "2022-11-28 16:46:48.003 - [INFO] base_solver.set_up(235): Finish solver set-up\n",
      "2022-11-28 16:46:48.730 - [NOTICE] callbacks.on_step_start(182): Cycle 1/1, step 2/5: Rest for 1 hour\n",
      "2022-11-28 16:46:48.738 - [INFO] base_solver.set_up(110): Start solver set-up\n",
      "2022-11-28 16:46:48.939 - [INFO] base_solver.set_up(235): Finish solver set-up\n",
      "2022-11-28 16:46:49.274 - [NOTICE] callbacks.on_step_start(182): Cycle 1/1, step 3/5: Charge at 1C until 4.2 V\n",
      "2022-11-28 16:46:49.281 - [INFO] base_solver.set_up(110): Start solver set-up\n",
      "2022-11-28 16:46:49.484 - [INFO] base_solver.set_up(235): Finish solver set-up\n",
      "2022-11-28 16:46:50.298 - [NOTICE] callbacks.on_step_start(182): Cycle 1/1, step 4/5: Hold at 4.2 V until 10 mA\n",
      "2022-11-28 16:46:50.305 - [INFO] base_solver.set_up(110): Start solver set-up\n",
      "2022-11-28 16:46:50.524 - [INFO] base_solver.set_up(235): Finish solver set-up\n",
      "2022-11-28 16:46:51.691 - [NOTICE] callbacks.on_step_start(182): Cycle 1/1, step 5/5: Rest for 1 hour\n",
      "2022-11-28 16:46:52.146 - [INFO] parameter_values.process_model(371): Start setting parameters for ElectrodeSOH model\n",
      "2022-11-28 16:46:52.175 - [INFO] parameter_values.process_model(474): Finish setting parameters for ElectrodeSOH model\n",
      "2022-11-28 16:46:52.176 - [INFO] discretisation.process_model(149): Start discretising ElectrodeSOH model\n",
      "2022-11-28 16:46:52.206 - [INFO] discretisation.process_model(271): Finish discretising ElectrodeSOH model\n",
      "2022-11-28 16:46:52.207 - [INFO] base_solver.solve(703): Start solving ElectrodeSOH model with Algebraic solver (lm)\n",
      "2022-11-28 16:46:52.209 - [INFO] base_solver.set_up(110): Start solver set-up\n",
      "2022-11-28 16:46:52.244 - [INFO] base_solver.set_up(235): Finish solver set-up\n",
      "2022-11-28 16:46:52.257 - [INFO] base_solver.solve(936): Finish solving ElectrodeSOH model (success)\n",
      "2022-11-28 16:46:52.258 - [INFO] base_solver.solve(937): Set-up time: 36.604 ms, Solve time: 11.468 ms (of which integration time: 10.344 ms), Total time: 48.072 ms\n",
      "2022-11-28 16:46:52.302 - [NOTICE] callbacks.on_experiment_end(222): Finish experiment simulation, took 4.525 s\n"
     ]
    },
    {
     "data": {
      "application/vnd.jupyter.widget-view+json": {
       "model_id": "f3a96fe7d06e4b3b8dc11421458bdb7f",
       "version_major": 2,
       "version_minor": 0
      },
      "text/plain": [
       "interactive(children=(FloatSlider(value=0.0, description='t', max=5.695085181642927, step=0.05695085181642927)…"
      ]
     },
     "metadata": {},
     "output_type": "display_data"
    },
    {
     "data": {
      "text/plain": [
       "<pybamm.plotting.quick_plot.QuickPlot at 0x134e1b8ee20>"
      ]
     },
     "execution_count": 7,
     "metadata": {},
     "output_type": "execute_result"
    }
   ],
   "source": [
    "import pybamm as pb\n",
    "\n",
    "pb.set_logging_level(\"INFO\")\n",
    "\n",
    "model = pb.lithium_ion.DFN()\n",
    "\n",
    "experiment = pb.Experiment(\n",
    "    [\n",
    "        (\n",
    "            \"Discharge at 1C until 2.5 V\",\n",
    "            \"Rest for 1 hour\",\n",
    "            \"Charge at 1C until 4.2 V\",\n",
    "            \"Hold at 4.2 V until 10 mA\",\n",
    "            \"Rest for 1 hour\",\n",
    "        )\n",
    "    ]\n",
    ")\n",
    "\n",
    "\n",
    "parameter_values = pb.ParameterValues(\"Chen2020\")\n",
    "\n",
    "sim = pb.Simulation(\n",
    "    model, experiment=experiment, parameter_values=parameter_values, solver=pb.CasadiSolver(\"fast with events\")\n",
    ")\n",
    "sim.solve()\n",
    "\n",
    "# plot\n",
    "pb.dynamic_plot(sim)"
   ]
  },
  {
   "cell_type": "code",
   "execution_count": null,
   "id": "0b26ee23",
   "metadata": {},
   "outputs": [],
   "source": []
  }
 ],
 "metadata": {
  "kernelspec": {
   "display_name": "Python 3 (ipykernel)",
   "language": "python",
   "name": "python3"
  },
  "language_info": {
   "codemirror_mode": {
    "name": "ipython",
    "version": 3
   },
   "file_extension": ".py",
   "mimetype": "text/x-python",
   "name": "python",
   "nbconvert_exporter": "python",
   "pygments_lexer": "ipython3",
   "version": "3.9.13"
  }
 },
 "nbformat": 4,
 "nbformat_minor": 5
}

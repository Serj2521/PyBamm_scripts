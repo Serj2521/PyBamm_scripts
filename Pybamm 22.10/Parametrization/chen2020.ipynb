{
 "cells": [
  {
   "cell_type": "code",
   "execution_count": 1,
   "id": "04b50ac5",
   "metadata": {},
   "outputs": [
    {
     "name": "stderr",
     "output_type": "stream",
     "text": [
      "2022-12-02 13:21:26.803 - [INFO] base_model._build_model(572): Start building Doyle-Fuller-Newman model\n",
      "2022-12-02 13:21:26.861 - [INFO] base_battery_model.build_model(1019): Finish building Doyle-Fuller-Newman model\n",
      "2022-12-02 13:21:26.863 - [INFO] callbacks.on_experiment_start(166): Start running experiment\n",
      "2022-12-02 13:21:26.863 - [INFO] parameter_values.process_model(371): Start setting parameters for Doyle-Fuller-Newman model\n",
      "2022-12-02 13:21:26.963 - [INFO] parameter_values.process_model(474): Finish setting parameters for Doyle-Fuller-Newman model\n",
      "2022-12-02 13:21:26.970 - [INFO] parameter_values.process_model(371): Start setting parameters for Doyle-Fuller-Newman model\n",
      "2022-12-02 13:21:27.108 - [INFO] parameter_values.process_model(474): Finish setting parameters for Doyle-Fuller-Newman model\n",
      "2022-12-02 13:21:27.113 - [INFO] parameter_values.process_model(371): Start setting parameters for Doyle-Fuller-Newman model\n",
      "2022-12-02 13:21:27.185 - [INFO] parameter_values.process_model(474): Finish setting parameters for Doyle-Fuller-Newman model\n",
      "2022-12-02 13:21:27.190 - [INFO] parameter_values.process_model(371): Start setting parameters for Doyle-Fuller-Newman model\n",
      "2022-12-02 13:21:27.393 - [INFO] parameter_values.process_model(474): Finish setting parameters for Doyle-Fuller-Newman model\n",
      "2022-12-02 13:21:27.401 - [INFO] discretisation.process_model(149): Start discretising Doyle-Fuller-Newman model\n",
      "2022-12-02 13:21:27.413 - [INFO] discretisation.remove_independent_variables_from_rhs(1199): removing variable Discharge capacity [A.h] from rhs\n",
      "2022-12-02 13:21:27.723 - [INFO] discretisation.process_model(271): Finish discretising Doyle-Fuller-Newman model\n",
      "2022-12-02 13:21:27.723 - [INFO] discretisation.process_model(149): Start discretising Doyle-Fuller-Newman model\n",
      "2022-12-02 13:21:27.732 - [INFO] discretisation.remove_independent_variables_from_rhs(1199): removing variable Discharge capacity [A.h] from rhs\n",
      "2022-12-02 13:21:28.003 - [INFO] discretisation.process_model(271): Finish discretising Doyle-Fuller-Newman model\n",
      "2022-12-02 13:21:28.003 - [INFO] discretisation.process_model(149): Start discretising Doyle-Fuller-Newman model\n",
      "2022-12-02 13:21:28.009 - [INFO] discretisation.remove_independent_variables_from_rhs(1199): removing variable Discharge capacity [A.h] from rhs\n",
      "2022-12-02 13:21:28.326 - [INFO] discretisation.process_model(271): Finish discretising Doyle-Fuller-Newman model\n",
      "2022-12-02 13:21:28.327 - [INFO] discretisation.process_model(149): Start discretising Doyle-Fuller-Newman model\n",
      "2022-12-02 13:21:28.333 - [INFO] discretisation.remove_independent_variables_from_rhs(1199): removing variable Discharge capacity [A.h] from rhs\n",
      "2022-12-02 13:21:28.778 - [INFO] discretisation.process_model(271): Finish discretising Doyle-Fuller-Newman model\n",
      "2022-12-02 13:21:28.788 - [NOTICE] callbacks.on_cycle_start(174): Cycle 1/1 (9.533 ms elapsed) --------------------\n",
      "2022-12-02 13:21:28.789 - [NOTICE] callbacks.on_step_start(182): Cycle 1/1, step 1/5: Discharge at 1C until 2.5 V\n",
      "2022-12-02 13:21:28.792 - [INFO] base_solver.set_up(110): Start solver set-up\n",
      "2022-12-02 13:21:28.893 - [INFO] base_solver.set_up(235): Finish solver set-up\n",
      "2022-12-02 13:21:29.242 - [NOTICE] callbacks.on_step_start(182): Cycle 1/1, step 2/5: Rest for 1 hour\n",
      "2022-12-02 13:21:29.246 - [INFO] base_solver.set_up(110): Start solver set-up\n",
      "2022-12-02 13:21:29.333 - [INFO] base_solver.set_up(235): Finish solver set-up\n",
      "2022-12-02 13:21:29.493 - [NOTICE] callbacks.on_step_start(182): Cycle 1/1, step 3/5: Charge at 1C until 4.2 V\n",
      "2022-12-02 13:21:29.493 - [INFO] base_solver.set_up(110): Start solver set-up\n",
      "2022-12-02 13:21:29.583 - [INFO] base_solver.set_up(235): Finish solver set-up\n",
      "2022-12-02 13:21:29.933 - [NOTICE] callbacks.on_step_start(182): Cycle 1/1, step 4/5: Hold at 4.2 V until 10 mA\n",
      "2022-12-02 13:21:29.933 - [INFO] base_solver.set_up(110): Start solver set-up\n",
      "2022-12-02 13:21:30.047 - [INFO] base_solver.set_up(235): Finish solver set-up\n",
      "2022-12-02 13:21:30.643 - [NOTICE] callbacks.on_step_start(182): Cycle 1/1, step 5/5: Rest for 1 hour\n",
      "2022-12-02 13:21:30.863 - [INFO] parameter_values.process_model(371): Start setting parameters for ElectrodeSOH model\n",
      "2022-12-02 13:21:30.880 - [INFO] parameter_values.process_model(474): Finish setting parameters for ElectrodeSOH model\n",
      "2022-12-02 13:21:30.881 - [INFO] discretisation.process_model(149): Start discretising ElectrodeSOH model\n",
      "2022-12-02 13:21:30.893 - [INFO] discretisation.process_model(271): Finish discretising ElectrodeSOH model\n",
      "2022-12-02 13:21:30.894 - [INFO] base_solver.solve(703): Start solving ElectrodeSOH model with Algebraic solver (lm)\n",
      "2022-12-02 13:21:30.896 - [INFO] base_solver.set_up(110): Start solver set-up\n",
      "2022-12-02 13:21:30.913 - [INFO] base_solver.set_up(235): Finish solver set-up\n",
      "2022-12-02 13:21:30.924 - [INFO] base_solver.solve(936): Finish solving ElectrodeSOH model (success)\n",
      "2022-12-02 13:21:30.924 - [INFO] base_solver.solve(937): Set-up time: 19.136 ms, Solve time: 8.062 ms (of which integration time: 7.360 ms), Total time: 27.198 ms\n",
      "2022-12-02 13:21:30.945 - [NOTICE] callbacks.on_experiment_end(222): Finish experiment simulation, took 2.166 s\n"
     ]
    },
    {
     "data": {
      "application/vnd.jupyter.widget-view+json": {
       "model_id": "b8e7e6b2d86445eb937c55c7cdf13a79",
       "version_major": 2,
       "version_minor": 0
      },
      "text/plain": [
       "interactive(children=(FloatSlider(value=0.0, description='t', max=5.695085181642927, step=0.05695085181642927)…"
      ]
     },
     "metadata": {},
     "output_type": "display_data"
    },
    {
     "data": {
      "text/plain": [
       "<pybamm.plotting.quick_plot.QuickPlot at 0x1ab222a33a0>"
      ]
     },
     "execution_count": 1,
     "metadata": {},
     "output_type": "execute_result"
    }
   ],
   "source": [
    "import pybamm as pb\n",
    "\n",
    "pb.set_logging_level(\"INFO\")\n",
    "\n",
    "model = pb.lithium_ion.DFN()\n",
    "\n",
    "experiment = pb.Experiment(\n",
    "    [\n",
    "        (\n",
    "            \"Discharge at 1C until 2.5 V\",\n",
    "            \"Rest for 1 hour\",\n",
    "            \"Charge at 1C until 4.2 V\",\n",
    "            \"Hold at 4.2 V until 10 mA\",\n",
    "            \"Rest for 1 hour\",\n",
    "        )\n",
    "    ]\n",
    ")\n",
    "\n",
    "\n",
    "parameter_values = pb.ParameterValues(\"Chen2020\")\n",
    "\n",
    "sim = pb.Simulation(\n",
    "    model, experiment=experiment, parameter_values=parameter_values, solver=pb.CasadiSolver(\"fast with events\")\n",
    ")\n",
    "sim.solve()\n",
    "\n",
    "# plot\n",
    "pb.dynamic_plot(sim)"
   ]
  },
  {
   "cell_type": "code",
   "execution_count": null,
   "id": "0b26ee23",
   "metadata": {},
   "outputs": [],
   "source": []
  }
 ],
 "metadata": {
  "kernelspec": {
   "display_name": "Python 3 (ipykernel)",
   "language": "python",
   "name": "python3"
  },
  "language_info": {
   "codemirror_mode": {
    "name": "ipython",
    "version": 3
   },
   "file_extension": ".py",
   "mimetype": "text/x-python",
   "name": "python",
   "nbconvert_exporter": "python",
   "pygments_lexer": "ipython3",
   "version": "3.9.13"
  }
 },
 "nbformat": 4,
 "nbformat_minor": 5
}

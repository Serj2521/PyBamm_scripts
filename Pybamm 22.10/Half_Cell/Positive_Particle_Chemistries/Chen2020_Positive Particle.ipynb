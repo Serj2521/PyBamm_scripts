{
 "cells": [
  {
   "cell_type": "code",
   "execution_count": 1,
   "id": "16462a29",
   "metadata": {},
   "outputs": [],
   "source": [
    "import pybamm as pb\n",
    "import matplotlib.pyplot as plt"
   ]
  },
  {
   "cell_type": "code",
   "execution_count": 8,
   "id": "62bdaae0",
   "metadata": {},
   "outputs": [
    {
     "name": "stderr",
     "output_type": "stream",
     "text": [
      "2022-11-30 11:17:35.317 - [INFO] base_model._build_model(572): Start building Single Particle Model\n",
      "2022-11-30 11:17:35.427 - [INFO] base_battery_model.build_model(1019): Finish building Single Particle Model\n",
      "2022-11-30 11:17:35.529 - [INFO] base_model._build_model(572): Start building Single Particle Model with electrolyte\n",
      "2022-11-30 11:17:35.675 - [INFO] base_battery_model.build_model(1019): Finish building Single Particle Model with electrolyte\n",
      "2022-11-30 11:17:35.775 - [INFO] base_model._build_model(572): Start building Doyle-Fuller-Newman model\n",
      "2022-11-30 11:17:35.924 - [INFO] base_battery_model.build_model(1019): Finish building Doyle-Fuller-Newman model\n"
     ]
    }
   ],
   "source": [
    "pb.set_logging_level(\"INFO\")\n",
    "\n",
    "# Define the Models, problem with {\"working electrode\": \"positive\"}??\n",
    "models = [\n",
    "    pb.lithium_ion.SPM(),\n",
    "    pb.lithium_ion.SPMe(),\n",
    "    pb.lithium_ion.DFN(),\n",
    "]\n",
    "\n",
    "# Define the Chemistry\n",
    "parameter_values = pb.ParameterValues(\"Chen2020\")\n",
    "\n",
    "# Experiment\n",
    "\n",
    "experiment = pb.Experiment([\"Discharge at 1C until 2.5 V\"])\n"
   ]
  },
  {
   "cell_type": "code",
   "execution_count": 12,
   "id": "e4980b88",
   "metadata": {},
   "outputs": [
    {
     "name": "stderr",
     "output_type": "stream",
     "text": [
      "2022-11-30 11:19:46.034 - [INFO] callbacks.on_experiment_start(166): Start running experiment\n",
      "2022-11-30 11:19:46.039 - [INFO] parameter_values.process_model(371): Start setting parameters for Single Particle Model\n",
      "2022-11-30 11:19:46.108 - [INFO] parameter_values.process_model(474): Finish setting parameters for Single Particle Model\n",
      "2022-11-30 11:19:46.110 - [INFO] discretisation.process_model(149): Start discretising Single Particle Model\n",
      "2022-11-30 11:19:46.112 - [INFO] discretisation.remove_independent_variables_from_rhs(1199): removing variable Discharge capacity [A.h] from rhs\n",
      "2022-11-30 11:19:46.334 - [INFO] discretisation.process_model(271): Finish discretising Single Particle Model\n",
      "2022-11-30 11:19:46.352 - [NOTICE] callbacks.on_cycle_start(174): Cycle 1/1 (15.941 ms elapsed) --------------------\n",
      "2022-11-30 11:19:46.353 - [NOTICE] callbacks.on_step_start(182): Cycle 1/1, step 1/1: Discharge at 1C until 2.5 V\n",
      "2022-11-30 11:19:46.359 - [INFO] base_solver.set_up(110): Start solver set-up\n",
      "2022-11-30 11:19:46.416 - [INFO] base_solver.set_up(235): Finish solver set-up\n",
      "2022-11-30 11:19:46.576 - [INFO] parameter_values.process_model(371): Start setting parameters for ElectrodeSOH model\n",
      "2022-11-30 11:19:46.593 - [INFO] parameter_values.process_model(474): Finish setting parameters for ElectrodeSOH model\n",
      "2022-11-30 11:19:46.594 - [INFO] discretisation.process_model(149): Start discretising ElectrodeSOH model\n",
      "2022-11-30 11:19:46.611 - [INFO] discretisation.process_model(271): Finish discretising ElectrodeSOH model\n",
      "2022-11-30 11:19:46.612 - [INFO] base_solver.solve(703): Start solving ElectrodeSOH model with Algebraic solver (lm)\n",
      "2022-11-30 11:19:46.614 - [INFO] base_solver.set_up(110): Start solver set-up\n",
      "2022-11-30 11:19:46.634 - [INFO] base_solver.set_up(235): Finish solver set-up\n",
      "2022-11-30 11:19:46.643 - [INFO] base_solver.solve(936): Finish solving ElectrodeSOH model (success)\n",
      "2022-11-30 11:19:46.644 - [INFO] base_solver.solve(937): Set-up time: 22.022 ms, Solve time: 7.063 ms (of which integration time: 6.316 ms), Total time: 29.085 ms\n",
      "2022-11-30 11:19:46.668 - [NOTICE] callbacks.on_experiment_end(222): Finish experiment simulation, took 331.903 ms\n",
      "2022-11-30 11:19:46.672 - [INFO] callbacks.on_experiment_start(166): Start running experiment\n",
      "2022-11-30 11:19:46.675 - [INFO] parameter_values.process_model(371): Start setting parameters for Single Particle Model with electrolyte\n",
      "2022-11-30 11:19:46.833 - [INFO] parameter_values.process_model(474): Finish setting parameters for Single Particle Model with electrolyte\n",
      "2022-11-30 11:19:46.839 - [INFO] discretisation.process_model(149): Start discretising Single Particle Model with electrolyte\n",
      "2022-11-30 11:19:46.848 - [INFO] discretisation.remove_independent_variables_from_rhs(1199): removing variable Discharge capacity [A.h] from rhs\n",
      "2022-11-30 11:19:47.273 - [INFO] discretisation.process_model(271): Finish discretising Single Particle Model with electrolyte\n",
      "2022-11-30 11:19:47.283 - [NOTICE] callbacks.on_cycle_start(174): Cycle 1/1 (9.349 ms elapsed) --------------------\n",
      "2022-11-30 11:19:47.284 - [NOTICE] callbacks.on_step_start(182): Cycle 1/1, step 1/1: Discharge at 1C until 2.5 V\n",
      "2022-11-30 11:19:47.292 - [INFO] base_solver.set_up(110): Start solver set-up\n",
      "2022-11-30 11:19:47.399 - [INFO] base_solver.set_up(235): Finish solver set-up\n",
      "2022-11-30 11:19:47.573 - [INFO] parameter_values.process_model(371): Start setting parameters for ElectrodeSOH model\n",
      "2022-11-30 11:19:47.586 - [INFO] parameter_values.process_model(474): Finish setting parameters for ElectrodeSOH model\n",
      "2022-11-30 11:19:47.587 - [INFO] discretisation.process_model(149): Start discretising ElectrodeSOH model\n",
      "2022-11-30 11:19:47.611 - [INFO] discretisation.process_model(271): Finish discretising ElectrodeSOH model\n",
      "2022-11-30 11:19:47.612 - [INFO] base_solver.solve(703): Start solving ElectrodeSOH model with Algebraic solver (lm)\n",
      "2022-11-30 11:19:47.614 - [INFO] base_solver.set_up(110): Start solver set-up\n",
      "2022-11-30 11:19:47.641 - [INFO] base_solver.set_up(235): Finish solver set-up\n",
      "2022-11-30 11:19:47.649 - [INFO] base_solver.solve(936): Finish solving ElectrodeSOH model (success)\n",
      "2022-11-30 11:19:47.650 - [INFO] base_solver.solve(937): Set-up time: 28.934 ms, Solve time: 6.404 ms (of which integration time: 5.729 ms), Total time: 35.338 ms\n",
      "2022-11-30 11:19:47.688 - [NOTICE] callbacks.on_experiment_end(222): Finish experiment simulation, took 413.995 ms\n",
      "2022-11-30 11:19:47.690 - [INFO] callbacks.on_experiment_start(166): Start running experiment\n",
      "2022-11-30 11:19:47.695 - [INFO] parameter_values.process_model(371): Start setting parameters for Doyle-Fuller-Newman model\n",
      "2022-11-30 11:19:47.809 - [INFO] parameter_values.process_model(474): Finish setting parameters for Doyle-Fuller-Newman model\n",
      "2022-11-30 11:19:47.812 - [INFO] discretisation.process_model(149): Start discretising Doyle-Fuller-Newman model\n",
      "2022-11-30 11:19:47.822 - [INFO] discretisation.remove_independent_variables_from_rhs(1199): removing variable Discharge capacity [A.h] from rhs\n",
      "2022-11-30 11:19:48.230 - [INFO] discretisation.process_model(271): Finish discretising Doyle-Fuller-Newman model\n",
      "2022-11-30 11:19:48.245 - [NOTICE] callbacks.on_cycle_start(174): Cycle 1/1 (13.586 ms elapsed) --------------------\n",
      "2022-11-30 11:19:48.246 - [NOTICE] callbacks.on_step_start(182): Cycle 1/1, step 1/1: Discharge at 1C until 2.5 V\n",
      "2022-11-30 11:19:48.252 - [INFO] base_solver.set_up(110): Start solver set-up\n",
      "2022-11-30 11:19:48.390 - [INFO] base_solver.set_up(235): Finish solver set-up\n",
      "2022-11-30 11:19:49.594 - [INFO] parameter_values.process_model(371): Start setting parameters for ElectrodeSOH model\n",
      "2022-11-30 11:19:49.607 - [INFO] parameter_values.process_model(474): Finish setting parameters for ElectrodeSOH model\n",
      "2022-11-30 11:19:49.608 - [INFO] discretisation.process_model(149): Start discretising ElectrodeSOH model\n",
      "2022-11-30 11:19:49.628 - [INFO] discretisation.process_model(271): Finish discretising ElectrodeSOH model\n",
      "2022-11-30 11:19:49.629 - [INFO] base_solver.solve(703): Start solving ElectrodeSOH model with Algebraic solver (lm)\n",
      "2022-11-30 11:19:49.630 - [INFO] base_solver.set_up(110): Start solver set-up\n",
      "2022-11-30 11:19:49.658 - [INFO] base_solver.set_up(235): Finish solver set-up\n",
      "2022-11-30 11:19:49.674 - [INFO] base_solver.solve(936): Finish solving ElectrodeSOH model (success)\n",
      "2022-11-30 11:19:49.676 - [INFO] base_solver.solve(937): Set-up time: 31.373 ms, Solve time: 12.989 ms (of which integration time: 11.645 ms), Total time: 44.362 ms\n",
      "2022-11-30 11:19:49.720 - [NOTICE] callbacks.on_experiment_end(222): Finish experiment simulation, took 1.490 s\n"
     ]
    }
   ],
   "source": [
    "pb.set_logging_level(\"INFO\")\n",
    "\n",
    "# Variables definition\n",
    "\n",
    "c = pb.Variable(\n",
    "    \"Positive particle concentration [mol.m-3]\",\n",
    "    domain=\"positive particle\",\n",
    "    auxiliary_domains={\n",
    "        \"secondary\": \"positive electrode\",\n",
    "    },\n",
    ")\n",
    "\n",
    "c_surf = pb.surf(c)  # get the surface concentration\n",
    "\n",
    "# Run simulations and Plot\n",
    "\n",
    "sols = []\n",
    "for model in models:\n",
    "    sim = pb.Simulation(model, experiment=experiment, parameter_values=parameter_values, solver=pb.CasadiSolver())\n",
    "    sol = sim.solve()\n",
    "    sols.append(sim)\n",
    "    \n",
    "    model.variables = {\n",
    "    \"Positive particle surface concentration [mol.m-3]\": c_surf,\n",
    "    \"Average positive particle surface concentration [mol.m-3]\": pb.x_average(c_surf),\n",
    "    }\n",
    "\n",
    "\n",
    "    "
   ]
  },
  {
   "cell_type": "code",
   "execution_count": 14,
   "id": "a5945dfe",
   "metadata": {},
   "outputs": [
    {
     "ename": "NameError",
     "evalue": "name 'solution' is not defined",
     "output_type": "error",
     "traceback": [
      "\u001b[1;31m---------------------------------------------------------------------------\u001b[0m",
      "\u001b[1;31mNameError\u001b[0m                                 Traceback (most recent call last)",
      "Input \u001b[1;32mIn [14]\u001b[0m, in \u001b[0;36m<cell line: 2>\u001b[1;34m()\u001b[0m\n\u001b[0;32m      1\u001b[0m \u001b[38;5;66;03m# plot\u001b[39;00m\n\u001b[0;32m      2\u001b[0m pb\u001b[38;5;241m.\u001b[39mdynamic_plot(\n\u001b[1;32m----> 3\u001b[0m     \u001b[43msolution\u001b[49m,\n\u001b[0;32m      4\u001b[0m     [\n\u001b[0;32m      5\u001b[0m         \u001b[38;5;124m\"\u001b[39m\u001b[38;5;124mPositive electrode potential [V]\u001b[39m\u001b[38;5;124m\"\u001b[39m,\n\u001b[0;32m      6\u001b[0m         \u001b[38;5;124m\"\u001b[39m\u001b[38;5;124mElectrolyte potential [V]\u001b[39m\u001b[38;5;124m\"\u001b[39m,\n\u001b[0;32m      7\u001b[0m         \u001b[38;5;124m\"\u001b[39m\u001b[38;5;124mPositive particle surface concentration [mol.m-3]\u001b[39m\u001b[38;5;124m\"\u001b[39m,\n\u001b[0;32m      8\u001b[0m         \u001b[38;5;124m\"\u001b[39m\u001b[38;5;124mAverage positive particle surface concentration [mol.m-3]\u001b[39m\u001b[38;5;124m\"\u001b[39m,\n\u001b[0;32m      9\u001b[0m     ],\n\u001b[0;32m     10\u001b[0m )\n",
      "\u001b[1;31mNameError\u001b[0m: name 'solution' is not defined"
     ]
    }
   ],
   "source": [
    "# plot\n",
    "pb.dynamic_plot(\n",
    "    solution,\n",
    "    [\n",
    "        \"Positive electrode potential [V]\",\n",
    "        \"Electrolyte potential [V]\",\n",
    "        \"Positive particle surface concentration [mol.m-3]\",\n",
    "        \"Average positive particle surface concentration [mol.m-3]\",\n",
    "    ],\n",
    ")"
   ]
  },
  {
   "cell_type": "code",
   "execution_count": null,
   "id": "27d11561",
   "metadata": {},
   "outputs": [],
   "source": []
  }
 ],
 "metadata": {
  "kernelspec": {
   "display_name": "Python 3 (ipykernel)",
   "language": "python",
   "name": "python3"
  },
  "language_info": {
   "codemirror_mode": {
    "name": "ipython",
    "version": 3
   },
   "file_extension": ".py",
   "mimetype": "text/x-python",
   "name": "python",
   "nbconvert_exporter": "python",
   "pygments_lexer": "ipython3",
   "version": "3.9.13"
  }
 },
 "nbformat": 4,
 "nbformat_minor": 5
}

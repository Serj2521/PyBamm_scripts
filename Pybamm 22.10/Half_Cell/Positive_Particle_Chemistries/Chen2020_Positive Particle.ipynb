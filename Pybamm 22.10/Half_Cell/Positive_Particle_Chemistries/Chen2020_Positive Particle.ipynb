{
 "cells": [
  {
   "cell_type": "code",
   "execution_count": 1,
   "id": "16462a29",
   "metadata": {},
   "outputs": [],
   "source": [
    "import pybamm as pb\n",
    "import matplotlib.pyplot as plt"
   ]
  },
  {
   "cell_type": "code",
   "execution_count": 2,
   "id": "62bdaae0",
   "metadata": {},
   "outputs": [
    {
     "name": "stderr",
     "output_type": "stream",
     "text": [
      "2023-03-18 17:29:48.551 - [INFO] base_model._build_model(550): Start building Single Particle Model\n",
      "2023-03-18 17:29:48.608 - [INFO] base_battery_model.build_model(995): Finish building Single Particle Model\n",
      "2023-03-18 17:29:48.640 - [INFO] base_model._build_model(550): Start building Single Particle Model with electrolyte\n",
      "2023-03-18 17:29:48.723 - [INFO] base_battery_model.build_model(995): Finish building Single Particle Model with electrolyte\n",
      "2023-03-18 17:29:48.764 - [INFO] base_model._build_model(550): Start building Doyle-Fuller-Newman model\n",
      "2023-03-18 17:29:48.828 - [INFO] base_battery_model.build_model(995): Finish building Doyle-Fuller-Newman model\n"
     ]
    }
   ],
   "source": [
    "pb.set_logging_level(\"INFO\")\n",
    "\n",
    "# Define the Models, problem with {\"working electrode\": \"positive\"}??\n",
    "models = [\n",
    "    pb.lithium_ion.SPM(),\n",
    "    pb.lithium_ion.SPMe(),\n",
    "    pb.lithium_ion.DFN(),\n",
    "]\n",
    "\n",
    "# Define the Chemistry\n",
    "parameter_values = pb.ParameterValues(\"Chen2020\")\n",
    "\n",
    "# Experiment\n",
    "\n",
    "experiment = pb.Experiment([\"Discharge at 1C until 2.5 V\"])\n"
   ]
  },
  {
   "cell_type": "code",
   "execution_count": 3,
   "id": "e4980b88",
   "metadata": {},
   "outputs": [
    {
     "name": "stderr",
     "output_type": "stream",
     "text": [
      "2023-03-18 17:29:48.925 - [INFO] callbacks.on_experiment_start(166): Start running experiment\n",
      "2023-03-18 17:29:48.925 - [INFO] parameter_values.process_model(425): Start setting parameters for Single Particle Model\n",
      "2023-03-18 17:29:49.006 - [INFO] parameter_values.process_model(527): Finish setting parameters for Single Particle Model\n",
      "2023-03-18 17:29:49.006 - [INFO] discretisation.process_model(148): Start discretising Single Particle Model\n",
      "2023-03-18 17:29:49.014 - [INFO] discretisation.remove_independent_variables_from_rhs(1123): removing variable Discharge capacity [A.h] from rhs\n",
      "2023-03-18 17:29:49.169 - [INFO] discretisation.process_model(260): Finish discretising Single Particle Model\n",
      "2023-03-18 17:29:49.169 - [NOTICE] callbacks.on_cycle_start(174): Cycle 1/1 (47.200 us elapsed) --------------------\n",
      "2023-03-18 17:29:49.169 - [NOTICE] callbacks.on_step_start(182): Cycle 1/1, step 1/1: Discharge at 1C until 2.5 V\n",
      "2023-03-18 17:29:49.169 - [INFO] base_solver.set_up(111): Start solver set-up\n",
      "2023-03-18 17:29:49.218 - [INFO] base_solver.set_up(236): Finish solver set-up\n",
      "2023-03-18 17:29:49.380 - [INFO] parameter_values.process_model(425): Start setting parameters for ElectrodeSOH model\n",
      "2023-03-18 17:29:49.388 - [INFO] parameter_values.process_model(527): Finish setting parameters for ElectrodeSOH model\n",
      "2023-03-18 17:29:49.388 - [INFO] discretisation.process_model(148): Start discretising ElectrodeSOH model\n",
      "2023-03-18 17:29:49.405 - [INFO] discretisation.process_model(260): Finish discretising ElectrodeSOH model\n",
      "2023-03-18 17:29:49.405 - [INFO] base_solver.solve(704): Start solving ElectrodeSOH model with Algebraic solver (lm)\n",
      "2023-03-18 17:29:49.405 - [INFO] base_solver.set_up(111): Start solver set-up\n",
      "2023-03-18 17:29:49.421 - [INFO] base_solver.set_up(236): Finish solver set-up\n",
      "2023-03-18 17:29:49.445 - [INFO] base_solver.solve(938): Finish solving ElectrodeSOH model (success)\n",
      "2023-03-18 17:29:49.445 - [INFO] base_solver.solve(939): Set-up time: 19.264 ms, Solve time: 18.301 ms (of which integration time: 17.025 ms), Total time: 37.566 ms\n",
      "2023-03-18 17:29:49.486 - [NOTICE] callbacks.on_experiment_end(222): Finish experiment simulation, took 312.343 ms\n",
      "2023-03-18 17:29:49.486 - [INFO] callbacks.on_experiment_start(166): Start running experiment\n",
      "2023-03-18 17:29:49.486 - [INFO] parameter_values.process_model(425): Start setting parameters for Single Particle Model with electrolyte\n",
      "2023-03-18 17:29:49.599 - [INFO] parameter_values.process_model(527): Finish setting parameters for Single Particle Model with electrolyte\n",
      "2023-03-18 17:29:49.607 - [INFO] discretisation.process_model(148): Start discretising Single Particle Model with electrolyte\n",
      "2023-03-18 17:29:49.607 - [INFO] discretisation.remove_independent_variables_from_rhs(1123): removing variable Discharge capacity [A.h] from rhs\n",
      "2023-03-18 17:29:49.897 - [INFO] discretisation.process_model(260): Finish discretising Single Particle Model with electrolyte\n",
      "2023-03-18 17:29:49.897 - [NOTICE] callbacks.on_cycle_start(174): Cycle 1/1 (73.100 us elapsed) --------------------\n",
      "2023-03-18 17:29:49.903 - [NOTICE] callbacks.on_step_start(182): Cycle 1/1, step 1/1: Discharge at 1C until 2.5 V\n",
      "2023-03-18 17:29:49.903 - [INFO] base_solver.set_up(111): Start solver set-up\n",
      "2023-03-18 17:29:49.985 - [INFO] base_solver.set_up(236): Finish solver set-up\n",
      "2023-03-18 17:29:50.135 - [INFO] parameter_values.process_model(425): Start setting parameters for ElectrodeSOH model\n",
      "2023-03-18 17:29:50.148 - [INFO] parameter_values.process_model(527): Finish setting parameters for ElectrodeSOH model\n",
      "2023-03-18 17:29:50.148 - [INFO] discretisation.process_model(148): Start discretising ElectrodeSOH model\n",
      "2023-03-18 17:29:50.156 - [INFO] discretisation.process_model(260): Finish discretising ElectrodeSOH model\n",
      "2023-03-18 17:29:50.164 - [INFO] base_solver.solve(704): Start solving ElectrodeSOH model with Algebraic solver (lm)\n",
      "2023-03-18 17:29:50.164 - [INFO] base_solver.set_up(111): Start solver set-up\n",
      "2023-03-18 17:29:50.181 - [INFO] base_solver.set_up(236): Finish solver set-up\n",
      "2023-03-18 17:29:50.189 - [INFO] base_solver.solve(938): Finish solving ElectrodeSOH model (success)\n",
      "2023-03-18 17:29:50.189 - [INFO] base_solver.solve(939): Set-up time: 21.505 ms, Solve time: 3.673 ms (of which integration time: 2.978 ms), Total time: 25.178 ms\n",
      "2023-03-18 17:29:50.222 - [NOTICE] callbacks.on_experiment_end(222): Finish experiment simulation, took 320.884 ms\n",
      "2023-03-18 17:29:50.222 - [INFO] callbacks.on_experiment_start(166): Start running experiment\n",
      "2023-03-18 17:29:50.222 - [INFO] parameter_values.process_model(425): Start setting parameters for Doyle-Fuller-Newman model\n",
      "2023-03-18 17:29:50.400 - [INFO] parameter_values.process_model(527): Finish setting parameters for Doyle-Fuller-Newman model\n",
      "2023-03-18 17:29:50.400 - [INFO] discretisation.process_model(148): Start discretising Doyle-Fuller-Newman model\n",
      "2023-03-18 17:29:50.408 - [INFO] discretisation.remove_independent_variables_from_rhs(1123): removing variable Discharge capacity [A.h] from rhs\n",
      "2023-03-18 17:29:50.812 - [INFO] discretisation.process_model(260): Finish discretising Doyle-Fuller-Newman model\n",
      "2023-03-18 17:29:50.814 - [NOTICE] callbacks.on_cycle_start(174): Cycle 1/1 (219.000 us elapsed) --------------------\n",
      "2023-03-18 17:29:50.815 - [NOTICE] callbacks.on_step_start(182): Cycle 1/1, step 1/1: Discharge at 1C until 2.5 V\n",
      "2023-03-18 17:29:50.822 - [INFO] base_solver.set_up(111): Start solver set-up\n",
      "2023-03-18 17:29:50.944 - [INFO] base_solver.set_up(236): Finish solver set-up\n",
      "2023-03-18 17:29:51.936 - [INFO] parameter_values.process_model(425): Start setting parameters for ElectrodeSOH model\n",
      "2023-03-18 17:29:51.950 - [INFO] parameter_values.process_model(527): Finish setting parameters for ElectrodeSOH model\n",
      "2023-03-18 17:29:51.950 - [INFO] discretisation.process_model(148): Start discretising ElectrodeSOH model\n",
      "2023-03-18 17:29:51.966 - [INFO] discretisation.process_model(260): Finish discretising ElectrodeSOH model\n",
      "2023-03-18 17:29:51.966 - [INFO] base_solver.solve(704): Start solving ElectrodeSOH model with Algebraic solver (lm)\n",
      "2023-03-18 17:29:51.975 - [INFO] base_solver.set_up(111): Start solver set-up\n",
      "2023-03-18 17:29:51.991 - [INFO] base_solver.set_up(236): Finish solver set-up\n",
      "2023-03-18 17:29:51.991 - [INFO] base_solver.solve(938): Finish solving ElectrodeSOH model (success)\n",
      "2023-03-18 17:29:51.991 - [INFO] base_solver.solve(939): Set-up time: 17.641 ms, Solve time: 2.902 ms (of which integration time: 2.201 ms), Total time: 20.544 ms\n",
      "2023-03-18 17:29:52.023 - [NOTICE] callbacks.on_experiment_end(222): Finish experiment simulation, took 1.212 s\n"
     ]
    }
   ],
   "source": [
    "pb.set_logging_level(\"INFO\")\n",
    "\n",
    "# Variables definition\n",
    "\n",
    "c = pb.Variable(\n",
    "    \"Positive particle concentration [mol.m-3]\",\n",
    "    domain=\"positive particle\",\n",
    "    auxiliary_domains={\n",
    "        \"secondary\": \"positive electrode\",\n",
    "    },\n",
    ")\n",
    "\n",
    "c_surf = pb.surf(c)  # get the surface concentration\n",
    "\n",
    "# Run simulations and Plot\n",
    "\n",
    "sols = []\n",
    "for model in models:\n",
    "    sim = pb.Simulation(model, experiment=experiment, parameter_values=parameter_values, solver=pb.CasadiSolver())\n",
    "    sol = sim.solve()\n",
    "    sols.append(sim)\n",
    "    \n",
    "    model.variables = {\n",
    "    \"Positive particle surface concentration [mol.m-3]\": c_surf,\n",
    "    \"Average positive particle surface concentration [mol.m-3]\": pb.x_average(c_surf),\n",
    "    }\n",
    "\n",
    "\n",
    "    "
   ]
  },
  {
   "cell_type": "code",
   "execution_count": 4,
   "id": "a5945dfe",
   "metadata": {},
   "outputs": [
    {
     "ename": "NameError",
     "evalue": "name 'solution' is not defined",
     "output_type": "error",
     "traceback": [
      "\u001b[1;31m---------------------------------------------------------------------------\u001b[0m",
      "\u001b[1;31mNameError\u001b[0m                                 Traceback (most recent call last)",
      "Cell \u001b[1;32mIn[4], line 3\u001b[0m\n\u001b[0;32m      1\u001b[0m \u001b[39m# plot\u001b[39;00m\n\u001b[0;32m      2\u001b[0m pb\u001b[39m.\u001b[39mdynamic_plot(\n\u001b[1;32m----> 3\u001b[0m     solution,\n\u001b[0;32m      4\u001b[0m     [\n\u001b[0;32m      5\u001b[0m         \u001b[39m\"\u001b[39m\u001b[39mPositive electrode potential [V]\u001b[39m\u001b[39m\"\u001b[39m,\n\u001b[0;32m      6\u001b[0m         \u001b[39m\"\u001b[39m\u001b[39mElectrolyte potential [V]\u001b[39m\u001b[39m\"\u001b[39m,\n\u001b[0;32m      7\u001b[0m         \u001b[39m\"\u001b[39m\u001b[39mPositive particle surface concentration [mol.m-3]\u001b[39m\u001b[39m\"\u001b[39m,\n\u001b[0;32m      8\u001b[0m         \u001b[39m\"\u001b[39m\u001b[39mAverage positive particle surface concentration [mol.m-3]\u001b[39m\u001b[39m\"\u001b[39m,\n\u001b[0;32m      9\u001b[0m     ],\n\u001b[0;32m     10\u001b[0m )\n",
      "\u001b[1;31mNameError\u001b[0m: name 'solution' is not defined"
     ]
    }
   ],
   "source": [
    "# plot\n",
    "pb.dynamic_plot(\n",
    "    solution,\n",
    "    [\n",
    "        \"Positive electrode potential [V]\",\n",
    "        \"Electrolyte potential [V]\",\n",
    "        \"Positive particle surface concentration [mol.m-3]\",\n",
    "        \"Average positive particle surface concentration [mol.m-3]\",\n",
    "    ],\n",
    ")"
   ]
  },
  {
   "cell_type": "code",
   "execution_count": null,
   "id": "27d11561",
   "metadata": {},
   "outputs": [],
   "source": []
  }
 ],
 "metadata": {
  "kernelspec": {
   "display_name": "Python 3 (ipykernel)",
   "language": "python",
   "name": "python3"
  },
  "language_info": {
   "codemirror_mode": {
    "name": "ipython",
    "version": 3
   },
   "file_extension": ".py",
   "mimetype": "text/x-python",
   "name": "python",
   "nbconvert_exporter": "python",
   "pygments_lexer": "ipython3",
   "version": "3.9.13"
  }
 },
 "nbformat": 4,
 "nbformat_minor": 5
}

{
 "cells": [
  {
   "cell_type": "code",
   "execution_count": 4,
   "id": "14b7c89e",
   "metadata": {},
   "outputs": [
    {
     "name": "stderr",
     "output_type": "stream",
     "text": [
      "2022-11-25 14:29:29.918 - [INFO] base_model._build_model(572): Start building Doyle-Fuller-Newman model\n",
      "2022-11-25 14:29:29.990 - [INFO] base_battery_model.build_model(1019): Finish building Doyle-Fuller-Newman model\n",
      "2022-11-25 14:29:29.993 - [INFO] parameter_values.process_model(371): Start setting parameters for Doyle-Fuller-Newman model\n",
      "2022-11-25 14:29:30.074 - [INFO] parameter_values.process_model(474): Finish setting parameters for Doyle-Fuller-Newman model\n",
      "2022-11-25 14:29:30.080 - [INFO] discretisation.process_model(149): Start discretising Doyle-Fuller-Newman model\n",
      "2022-11-25 14:29:30.086 - [INFO] discretisation.remove_independent_variables_from_rhs(1199): removing variable Discharge capacity [A.h] from rhs\n",
      "2022-11-25 14:29:30.525 - [INFO] discretisation.process_model(271): Finish discretising Doyle-Fuller-Newman model\n",
      "2022-11-25 14:29:30.537 - [INFO] base_solver.solve(703): Start solving Doyle-Fuller-Newman model with CasADi solver with 'safe' mode\n",
      "2022-11-25 14:29:30.540 - [INFO] base_solver.set_up(110): Start solver set-up\n",
      "2022-11-25 14:29:30.617 - [INFO] base_solver.set_up(235): Finish solver set-up\n",
      "2022-11-25 14:29:30.946 - [INFO] base_solver.solve(936): Finish solving Doyle-Fuller-Newman model (the solver successfully reached the end of the integration interval)\n",
      "2022-11-25 14:29:30.947 - [INFO] base_solver.solve(937): Set-up time: 77.764 ms, Solve time: 327.522 ms (of which integration time: 249.896 ms), Total time: 405.286 ms\n"
     ]
    },
    {
     "data": {
      "application/vnd.jupyter.widget-view+json": {
       "model_id": "c4cced55bde34eb9972f4b235e700b9d",
       "version_major": 2,
       "version_minor": 0
      },
      "text/plain": [
       "interactive(children=(FloatSlider(value=0.0, description='t', max=3600.0, step=36.0), Output()), _dom_classes=…"
      ]
     },
     "metadata": {},
     "output_type": "display_data"
    }
   ],
   "source": [
    "#\n",
    "# Example showing how to load and solve the DFN\n",
    "#\n",
    "\n",
    "import pybamm\n",
    "import numpy as np\n",
    "\n",
    "pybamm.set_logging_level(\"INFO\")\n",
    "\n",
    "# load model\n",
    "model = pybamm.lithium_ion.DFN()\n",
    "# create geometry\n",
    "geometry = model.default_geometry\n",
    "# Define Chemistry\n",
    "values = pybamm.ParameterValues(\"Chen2020\")\n",
    "\n",
    "# load parameter values and process model and geometry\n",
    "param = model.default_parameter_values\n",
    "param.process_geometry(geometry)\n",
    "param.process_model(model)\n",
    "\n",
    "# set mesh\n",
    "var = pybamm.standard_spatial_vars\n",
    "var_pts = {var.x_n: 30, var.x_s: 30, var.x_p: 30, var.r_n: 10, var.r_p: 10}\n",
    "mesh = pybamm.Mesh(geometry, model.default_submesh_types, var_pts)\n",
    "\n",
    "# discretise model\n",
    "disc = pybamm.Discretisation(mesh, model.default_spatial_methods)\n",
    "disc.process_model(model)\n",
    "\n",
    "# solve model\n",
    "t_eval = np.linspace(0, 3600, 100)\n",
    "solver = pybamm.CasadiSolver(mode=\"safe\", atol=1e-6, rtol=1e-3)\n",
    "solution = solver.solve(model, t_eval)\n",
    "\n",
    "# plot\n",
    "plot = pybamm.QuickPlot(\n",
    "    solution,\n",
    "    [\n",
    "        \"Negative particle concentration [mol.m-3]\",\n",
    "        \"Electrolyte concentration [mol.m-3]\",\n",
    "        \"Positive particle concentration [mol.m-3]\",\n",
    "        \"Current [A]\",\n",
    "        \"Negative electrode potential [V]\",\n",
    "        \"Electrolyte potential [V]\",\n",
    "        \"Positive electrode potential [V]\",\n",
    "        \"Terminal voltage [V]\",\n",
    "    ],\n",
    "    time_unit=\"seconds\",\n",
    "    spatial_unit=\"um\",\n",
    ")\n",
    "plot.dynamic_plot()\n"
   ]
  },
  {
   "cell_type": "code",
   "execution_count": 5,
   "id": "0a74a952",
   "metadata": {},
   "outputs": [
    {
     "name": "stdout",
     "output_type": "stream",
     "text": [
      "Current function [A]\t0.680616\n"
     ]
    },
    {
     "data": {
      "text/plain": [
       "4.0"
      ]
     },
     "execution_count": 5,
     "metadata": {},
     "output_type": "execute_result"
    }
   ],
   "source": [
    "param.search(\"Current function [A]\")\n",
    "\n",
    "param.update(\n",
    "    {\n",
    "        \"Current function [A]\": 4.0\n",
    "    }\n",
    ")\n",
    "\n",
    "param[\"Current function [A]\"]"
   ]
  },
  {
   "cell_type": "code",
   "execution_count": 7,
   "id": "a5e3de16",
   "metadata": {},
   "outputs": [
    {
     "ename": "NameError",
     "evalue": "name 'values' is not defined",
     "output_type": "error",
     "traceback": [
      "\u001b[1;31m---------------------------------------------------------------------------\u001b[0m",
      "\u001b[1;31mNameError\u001b[0m                                 Traceback (most recent call last)",
      "Cell \u001b[1;32mIn [7], line 1\u001b[0m\n\u001b[1;32m----> 1\u001b[0m param \u001b[38;5;241m=\u001b[39m pybamm\u001b[38;5;241m.\u001b[39mParameterValues(\u001b[43mvalues\u001b[49m)\n\u001b[0;32m      2\u001b[0m param\n",
      "\u001b[1;31mNameError\u001b[0m: name 'values' is not defined"
     ]
    }
   ],
   "source": [
    "param = pybamm.ParameterValues(values)\n",
    "param"
   ]
  },
  {
   "cell_type": "code",
   "execution_count": null,
   "id": "cb7f4f27",
   "metadata": {},
   "outputs": [],
   "source": []
  }
 ],
 "metadata": {
  "kernelspec": {
   "display_name": "Python 3 (ipykernel)",
   "language": "python",
   "name": "python3"
  },
  "language_info": {
   "codemirror_mode": {
    "name": "ipython",
    "version": 3
   },
   "file_extension": ".py",
   "mimetype": "text/x-python",
   "name": "python",
   "nbconvert_exporter": "python",
   "pygments_lexer": "ipython3",
   "version": "3.9.13"
  }
 },
 "nbformat": 4,
 "nbformat_minor": 5
}

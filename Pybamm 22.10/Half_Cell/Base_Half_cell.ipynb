{
 "cells": [
  {
   "cell_type": "code",
   "execution_count": 1,
   "id": "06f4e3fd",
   "metadata": {},
   "outputs": [],
   "source": [
    "import pybamm\n",
    "import numpy as np\n",
    "import matplotlib.pyplot as plt\n",
    "\n",
    "model = pybamm.BaseModel()"
   ]
  },
  {
   "cell_type": "code",
   "execution_count": 2,
   "id": "10dfb079",
   "metadata": {},
   "outputs": [],
   "source": [
    "phi = pybamm.Variable(\"Positive electrode potential [V]\", domain=\"positive electrode\")"
   ]
  },
  {
   "cell_type": "code",
   "execution_count": 3,
   "id": "7ff44389",
   "metadata": {},
   "outputs": [],
   "source": [
    "phi_e_s = pybamm.Variable(\"Separator electrolyte potential [V]\", domain=\"separator\")\n",
    "phi_e_p = pybamm.Variable(\"Positive electrolyte potential [V]\", domain=\"positive electrode\")"
   ]
  },
  {
   "cell_type": "code",
   "execution_count": 4,
   "id": "e323703d",
   "metadata": {},
   "outputs": [],
   "source": [
    "phi_e = pybamm.concatenation(phi_e_s, phi_e_p)"
   ]
  },
  {
   "cell_type": "code",
   "execution_count": 5,
   "id": "1ac503b8",
   "metadata": {},
   "outputs": [],
   "source": [
    "c = pybamm.Variable(\n",
    "    \"Positive particle concentration [mol.m-3]\",\n",
    "    domain=\"positive particle\",\n",
    "    auxiliary_domains={\n",
    "        \"secondary\": \"positive electrode\",\n",
    "    },\n",
    ")"
   ]
  },
  {
   "cell_type": "code",
   "execution_count": 6,
   "id": "25157336",
   "metadata": {},
   "outputs": [],
   "source": [
    "from scipy import constants\n",
    "\n",
    "F = pybamm.Parameter(\"Faraday constant [C.mol-1]\")\n",
    "R = pybamm.Parameter(\"Molar gas constant [J.mol-1.K-1]\")\n",
    "T = pybamm.Parameter(\"Temperature [K]\")\n",
    "\n",
    "a = pybamm.Parameter(\"Surface area per unit volume [m-1]\")\n",
    "R_p = pybamm.Parameter(\"Positive particle radius [m]\")\n",
    "L_s = pybamm.Parameter(\"Separator thickness [m]\")\n",
    "L_p = pybamm.Parameter(\"Positive electrode thickness [m]\")\n",
    "A = pybamm.Parameter(\"Electrode cross-sectional area [m2]\")\n",
    "\n",
    "sigma = pybamm.Parameter(\"Positive electrode conductivity [S.m-1]\")\n",
    "kappa = pybamm.Parameter(\"Electrolyte conductivity [S.m-1]\")\n",
    "D = pybamm.Parameter(\"Diffusion coefficient [m2.s-1]\")\n",
    "\n",
    "I_app = pybamm.Parameter(\"Applied current [A]\")\n",
    "c0 = pybamm.Parameter(\"Initial concentration [mol.m-3]\")"
   ]
  },
  {
   "cell_type": "code",
   "execution_count": 7,
   "id": "24e603fe",
   "metadata": {},
   "outputs": [],
   "source": [
    "c_surf = pybamm.surf(c)  # get the surface concentration\n",
    "inputs = {\"Positive particle surface concentration [mol.m-3]\": c_surf}\n",
    "j0 =  pybamm.FunctionParameter(\"Positive electrode exchange-current density [A.m-2]\", inputs)\n",
    "U = pybamm.FunctionParameter(\"Positive electrode OCP [V]\", inputs)"
   ]
  },
  {
   "cell_type": "code",
   "execution_count": 8,
   "id": "49f59ad6",
   "metadata": {},
   "outputs": [],
   "source": [
    "\n",
    "j_s = pybamm.PrimaryBroadcast(0, \"separator\")\n",
    "j_p =  2 * j0 * pybamm.sinh((F / 2 / R / T) * (phi - phi_e_p - U))\n",
    "j = pybamm.concatenation(j_s, j_p)"
   ]
  },
  {
   "cell_type": "code",
   "execution_count": 9,
   "id": "ab2b7bec",
   "metadata": {},
   "outputs": [],
   "source": [
    "# charge conservation equations \n",
    "i = -sigma * pybamm.grad(phi)\n",
    "i_e = -kappa * pybamm.grad(phi_e)\n",
    "model.algebraic = {\n",
    "    phi: pybamm.div(i) + a * j_p,\n",
    "    phi_e: pybamm.div(i_e) - a * j,\n",
    "}\n",
    "# particle equations (mass conservation)\n",
    "N = -D * pybamm.grad(c)  # flux\n",
    "dcdt = -pybamm.div(N)\n",
    "model.rhs = {c: dcdt}  \n",
    "\n",
    "# boundary conditions \n",
    "model.boundary_conditions = {\n",
    "    phi: {\"left\": (pybamm.Scalar(0), \"Neumann\"), \"right\": (-I_app / A / sigma, \"Neumann\")},\n",
    "    phi_e: {\"left\": (pybamm.Scalar(0), \"Dirichlet\"), \"right\": (pybamm.Scalar(0), \"Neumann\")},\n",
    "    c: {\"left\": (pybamm.Scalar(0), \"Neumann\"), \"right\": (-j_p / F / D, \"Neumann\")}\n",
    "}\n",
    "\n",
    "# initial conditions\n",
    "inputs = {\"Initial concentration [mol.m-3]\": c0}\n",
    "U_init = pybamm.FunctionParameter(\"Positive electrode OCP [V]\", inputs)\n",
    "model.initial_conditions = {\n",
    "    phi: U_init,\n",
    "    phi_e: 0,\n",
    "    c: c0\n",
    "}"
   ]
  },
  {
   "cell_type": "code",
   "execution_count": 10,
   "id": "0b007040",
   "metadata": {},
   "outputs": [],
   "source": [
    "model.variables = {\n",
    "    \"Positive electrode potential [V]\": phi,\n",
    "    \"Electrolyte potential [V]\": phi_e,\n",
    "    \"Positive particle concentration [mol.m-3]\": c,\n",
    "    \"Positive particle surface concentration [mol.m-3]\": c_surf,\n",
    "    \"Average positive particle surface concentration [mol.m-3]\": pybamm.x_average(c_surf),\n",
    "    \"Positive electrode interfacial current density [A.m-2]\": j_p,\n",
    "    \"Positive electrode OCP [V]\":pybamm.boundary_value(U, \"right\"),\n",
    "    \"Terminal voltage [V]\": pybamm.boundary_value(phi, \"right\"),\n",
    "}"
   ]
  },
  {
   "cell_type": "code",
   "execution_count": 11,
   "id": "1b2f01aa",
   "metadata": {},
   "outputs": [],
   "source": [
    "from pybamm import tanh\n",
    "\n",
    "# both functions will depend on the maximum concentration \n",
    "c_max = pybamm.Parameter(\"Maximum concentration in positive electrode [mol.m-3]\")\n",
    "\n",
    "\n",
    "def exchange_current_density(c_surf):\n",
    "    k = 6 * 10 ** (-7)   # reaction rate [(A/m2)(m3/mol)**1.5]\n",
    "    c_e = 1000  # (constant) electrolyte concentration [mol.m-3]\n",
    "    return k * c_e** 0.5 * c_surf ** 0.5 * (c_max - c_surf) ** 0.5\n",
    "\n",
    "def open_circuit_potential(c_surf):\n",
    "    stretch = 1.062\n",
    "    sto = stretch * c_surf / c_max\n",
    "    \n",
    "    u_eq = (\n",
    "        2.16216\n",
    "        + 0.07645 * tanh(30.834 - 54.4806 * sto)\n",
    "        + 2.1581 * tanh(52.294 - 50.294 * sto)\n",
    "        - 0.14169 * tanh(11.0923 - 19.8543 * sto)\n",
    "        + 0.2051 * tanh(1.4684 - 5.4888 * sto)\n",
    "        + 0.2531 * tanh((-sto + 0.56478) / 0.1316)\n",
    "        - 0.02167 * tanh((sto - 0.525) / 0.006)\n",
    "    )\n",
    "    return u_eq"
   ]
  },
  {
   "cell_type": "code",
   "execution_count": 12,
   "id": "3212e364",
   "metadata": {},
   "outputs": [],
   "source": [
    "param = pybamm.ParameterValues(\n",
    "    {\n",
    "        \"Surface area per unit volume [m-1]\":0.15e6,\n",
    "        \"Positive particle radius [m]\": 10e-6,\n",
    "        \"Separator thickness [m]\": 25e-6,\n",
    "        \"Positive electrode thickness [m]\": 100e-6,\n",
    "        \"Electrode cross-sectional area [m2]\": 2.8e-2,\n",
    "        \"Applied current [A]\": 0.9,\n",
    "        \"Positive electrode conductivity [S.m-1]\": 10,\n",
    "        \"Electrolyte conductivity [S.m-1]\": 1,\n",
    "        \"Diffusion coefficient [m2.s-1]\": 1e-13,\n",
    "        \"Faraday constant [C.mol-1]\": 96485,\n",
    "        \"Initial concentration [mol.m-3]\": 25370,\n",
    "        \"Molar gas constant [J.mol-1.K-1]\": 8.314,\n",
    "        \"Temperature [K]\": 298.15,\n",
    "        \"Maximum concentration in positive electrode [mol.m-3]\": 51217,\n",
    "        \"Positive electrode exchange-current density [A.m-2]\": exchange_current_density,\n",
    "        \"Positive electrode OCP [V]\": open_circuit_potential,\n",
    "    }\n",
    ")"
   ]
  },
  {
   "cell_type": "code",
   "execution_count": 13,
   "id": "3ef0afa7",
   "metadata": {},
   "outputs": [],
   "source": [
    "r = pybamm.SpatialVariable(\n",
    "    \"r\", \n",
    "    domain=[\"positive particle\"],     \n",
    "    auxiliary_domains={\n",
    "        \"secondary\": \"positive electrode\"\n",
    "    },\n",
    "    coord_sys=\"spherical polar\")\n",
    "x_s = pybamm.SpatialVariable(\"x_s\", domain=[\"separator\"], coord_sys=\"cartesian\")\n",
    "x_p = pybamm.SpatialVariable(\"x_p\", domain=[\"positive electrode\"], coord_sys=\"cartesian\")\n",
    "\n",
    "\n",
    "geometry = {\n",
    "    \"separator\": {x_s: {\"min\": -L_s, \"max\": 0}},        \n",
    "    \"positive electrode\": {x_p: {\"min\": 0, \"max\": L_p}},\n",
    "    \"positive particle\": {r: {\"min\": 0, \"max\": R_p}},\n",
    "}"
   ]
  },
  {
   "cell_type": "code",
   "execution_count": 14,
   "id": "178635e2",
   "metadata": {},
   "outputs": [],
   "source": [
    "param.process_model(model)\n",
    "param.process_geometry(geometry)"
   ]
  },
  {
   "cell_type": "code",
   "execution_count": 15,
   "id": "b7244690",
   "metadata": {},
   "outputs": [],
   "source": [
    "submesh_types = {\n",
    "    \"separator\": pybamm.Uniform1DSubMesh,\n",
    "    \"positive electrode\": pybamm.Uniform1DSubMesh,\n",
    "    \"positive particle\": pybamm.Uniform1DSubMesh,\n",
    "}\n",
    "var_pts = {x_s: 10, x_p: 20, r: 30}\n",
    "mesh = pybamm.Mesh(geometry, submesh_types, var_pts)\n",
    "\n",
    "spatial_methods = {\n",
    "    \"separator\": pybamm.FiniteVolume(),\n",
    "    \"positive electrode\": pybamm.FiniteVolume(),\n",
    "    \"positive particle\": pybamm.FiniteVolume(),\n",
    "}\n",
    "disc = pybamm.Discretisation(mesh, spatial_methods)\n",
    "disc.process_model(model);"
   ]
  },
  {
   "cell_type": "code",
   "execution_count": 16,
   "id": "e4aa2d2d",
   "metadata": {},
   "outputs": [],
   "source": [
    "# solve\n",
    "solver = pybamm.CasadiSolver(root_tol=1e-3)\n",
    "t_eval = np.linspace(0, 5, 6)\n",
    "sim = solver.solve(model, t_eval)"
   ]
  },
  {
   "cell_type": "code",
   "execution_count": 17,
   "id": "70d6b7d3",
   "metadata": {},
   "outputs": [
    {
     "name": "stderr",
     "output_type": "stream",
     "text": [
      "2022-12-21 11:09:13.931 - [WARNING] processed_variable.get_spatial_scale(518): No length scale set for positive electrode. Using default of 1 [m].\n",
      "2022-12-21 11:09:13.939 - [WARNING] processed_variable.get_spatial_scale(518): No length scale set for separator. Using default of 1 [m].\n",
      "2022-12-21 11:09:13.947 - [WARNING] processed_variable.get_spatial_scale(518): No length scale set for positive electrode. Using default of 1 [m].\n",
      "2022-12-21 11:09:13.951 - [WARNING] processed_variable.get_spatial_scale(518): No length scale set for positive electrode. Using default of 1 [m].\n"
     ]
    },
    {
     "data": {
      "application/vnd.jupyter.widget-view+json": {
       "model_id": "878db49ff5d0450b8e5ccddf44528395",
       "version_major": 2,
       "version_minor": 0
      },
      "text/plain": [
       "interactive(children=(FloatSlider(value=0.0, description='t', max=5.0, step=0.05), Output()), _dom_classes=('w…"
      ]
     },
     "metadata": {},
     "output_type": "display_data"
    },
    {
     "data": {
      "text/plain": [
       "<pybamm.plotting.quick_plot.QuickPlot at 0x2a2df10fb20>"
      ]
     },
     "execution_count": 17,
     "metadata": {},
     "output_type": "execute_result"
    }
   ],
   "source": [
    "# plot\n",
    "pybamm.dynamic_plot(\n",
    "    sim,\n",
    "    [\n",
    "        \"Positive electrode potential [V]\",\n",
    "        \"Electrolyte potential [V]\",\n",
    "        \"Positive electrode interfacial current density [A.m-2]\",\n",
    "        \"Positive particle surface concentration [mol.m-3]\",\n",
    "        \"Average positive particle surface concentration [mol.m-3]\",\n",
    "        [\"Positive electrode OCP [V]\", \"Terminal voltage [V]\"],\n",
    "    ],\n",
    ")"
   ]
  },
  {
   "cell_type": "markdown",
   "id": "124c1228",
   "metadata": {},
   "source": []
  },
  {
   "cell_type": "code",
   "execution_count": 18,
   "id": "b987f102",
   "metadata": {},
   "outputs": [
    {
     "name": "stdout",
     "output_type": "stream",
     "text": [
      "Average positive particle surface concentration [mol.m-3]\n",
      "Electrolyte potential [V]\n",
      "Positive electrode OCP [V]\n",
      "Positive electrode interfacial current density [A.m-2]\n",
      "Positive electrode potential [V]\n",
      "Positive particle concentration [mol.m-3]\n",
      "Positive particle surface concentration [mol.m-3]\n",
      "Terminal voltage [V]\n"
     ]
    }
   ],
   "source": [
    "model.variables.search(\"\")"
   ]
  },
  {
   "cell_type": "code",
   "execution_count": 19,
   "id": "dcb5b6da",
   "metadata": {},
   "outputs": [
    {
     "name": "stderr",
     "output_type": "stream",
     "text": [
      "2022-12-21 11:09:15.342 - [WARNING] processed_variable.get_spatial_scale(518): No length scale set for positive particle. Using default of 1 [m].\n",
      "2022-12-21 11:09:15.343 - [WARNING] processed_variable.get_spatial_scale(518): No length scale set for positive electrode. Using default of 1 [m].\n"
     ]
    },
    {
     "data": {
      "application/vnd.jupyter.widget-view+json": {
       "model_id": "cb8b5f0fb17e42929d035865ef02b7d9",
       "version_major": 2,
       "version_minor": 0
      },
      "text/plain": [
       "interactive(children=(FloatSlider(value=0.0, description='t', max=5.0, step=0.05), Output()), _dom_classes=('w…"
      ]
     },
     "metadata": {},
     "output_type": "display_data"
    },
    {
     "data": {
      "text/plain": [
       "<pybamm.plotting.quick_plot.QuickPlot at 0x2a2e31b3100>"
      ]
     },
     "execution_count": 19,
     "metadata": {},
     "output_type": "execute_result"
    }
   ],
   "source": [
    "pybamm.dynamic_plot(\n",
    "    sim,\n",
    "    [\n",
    "        \"Positive particle surface concentration [mol.m-3]\",\"Positive particle concentration [mol.m-3]\",\n",
    "    ],\n",
    ")"
   ]
  },
  {
   "cell_type": "code",
   "execution_count": 20,
   "id": "38502198",
   "metadata": {},
   "outputs": [
    {
     "data": {
      "text/plain": [
       "BoundaryValue(0x3cd56da260d9091d, boundary value, children=['Positive particle concentration [mol.m-3]'], domains={'primary': ['positive electrode']})"
      ]
     },
     "execution_count": 20,
     "metadata": {},
     "output_type": "execute_result"
    }
   ],
   "source": [
    "c_surf"
   ]
  },
  {
   "cell_type": "code",
   "execution_count": 21,
   "id": "1c20ee89",
   "metadata": {},
   "outputs": [
    {
     "data": {
      "text/plain": [
       "Division(0x4e7ef6dc41d3f9e5, /, children=['Faraday constant [C.mol-1] / 2.0 / Molar gas constant [J.mol-1.K-1]', 'Temperature [K]'], domains={})"
      ]
     },
     "execution_count": 21,
     "metadata": {},
     "output_type": "execute_result"
    }
   ],
   "source": [
    "F / 2 / R / T"
   ]
  },
  {
   "cell_type": "code",
   "execution_count": 22,
   "id": "910db6aa",
   "metadata": {},
   "outputs": [
    {
     "name": "stdout",
     "output_type": "stream",
     "text": [
      "Positive electrode OCP [V]\t<function open_circuit_potential at 0x000002A2DF0B0F70>\n"
     ]
    }
   ],
   "source": [
    "param.search(\"Positive electrode OCP [V]\")"
   ]
  },
  {
   "cell_type": "code",
   "execution_count": 23,
   "id": "8f39dbc2",
   "metadata": {},
   "outputs": [
    {
     "ename": "AttributeError",
     "evalue": "'Solution' object has no attribute 'solution'",
     "output_type": "error",
     "traceback": [
      "\u001b[1;31m---------------------------------------------------------------------------\u001b[0m",
      "\u001b[1;31mAttributeError\u001b[0m                            Traceback (most recent call last)",
      "Cell \u001b[1;32mIn[23], line 3\u001b[0m\n\u001b[0;32m      1\u001b[0m \u001b[38;5;66;03m# Save time, voltage, current, discharge capacity, temperature, and electrolyte\u001b[39;00m\n\u001b[0;32m      2\u001b[0m \u001b[38;5;66;03m# concentration to matlab format\u001b[39;00m\n\u001b[1;32m----> 3\u001b[0m \u001b[43msim\u001b[49m\u001b[38;5;241;43m.\u001b[39;49m\u001b[43msolution\u001b[49m\u001b[38;5;241m.\u001b[39msave_data(\n\u001b[0;32m      4\u001b[0m     \u001b[38;5;124m\"\u001b[39m\u001b[38;5;124moutput_SPM_base.mat\u001b[39m\u001b[38;5;124m\"\u001b[39m,\n\u001b[0;32m      5\u001b[0m     [\n\u001b[0;32m      6\u001b[0m         \u001b[38;5;124m\"\u001b[39m\u001b[38;5;124mTerminal voltage [V]\u001b[39m\u001b[38;5;124m\"\u001b[39m,\n\u001b[0;32m      7\u001b[0m     ],\n\u001b[0;32m      8\u001b[0m     to_format\u001b[38;5;241m=\u001b[39m\u001b[38;5;124m\"\u001b[39m\u001b[38;5;124mmatlab\u001b[39m\u001b[38;5;124m\"\u001b[39m,\n\u001b[0;32m      9\u001b[0m     short_names\u001b[38;5;241m=\u001b[39m{\n\u001b[0;32m     10\u001b[0m         \u001b[38;5;124m\"\u001b[39m\u001b[38;5;124mTerminal voltage [V]\u001b[39m\u001b[38;5;124m\"\u001b[39m: \u001b[38;5;124m\"\u001b[39m\u001b[38;5;124mV_SPM_Half_b\u001b[39m\u001b[38;5;124m\"\u001b[39m,\n\u001b[0;32m     11\u001b[0m     },\n\u001b[0;32m     12\u001b[0m )\n",
      "\u001b[1;31mAttributeError\u001b[0m: 'Solution' object has no attribute 'solution'"
     ]
    }
   ],
   "source": [
    "# Save time, voltage, current, discharge capacity, temperature, and electrolyte\n",
    "# concentration to matlab format\n",
    "sim.solution.save_data(\n",
    "    \"output_SPM_base.mat\",\n",
    "    [\n",
    "        \"Terminal voltage [V]\",\n",
    "    ],\n",
    "    to_format=\"matlab\",\n",
    "    short_names={\n",
    "        \"Terminal voltage [V]\": \"V_SPM_Half_b\",\n",
    "    },\n",
    ")"
   ]
  },
  {
   "cell_type": "code",
   "execution_count": null,
   "id": "4adb8790",
   "metadata": {},
   "outputs": [],
   "source": [
    "tanh(2)"
   ]
  },
  {
   "cell_type": "code",
   "execution_count": null,
   "id": "e6cf15b3",
   "metadata": {},
   "outputs": [],
   "source": []
  },
  {
   "cell_type": "code",
   "execution_count": null,
   "id": "23b4a54f",
   "metadata": {},
   "outputs": [],
   "source": []
  }
 ],
 "metadata": {
  "kernelspec": {
   "display_name": "Python 3 (ipykernel)",
   "language": "python",
   "name": "python3"
  },
  "language_info": {
   "codemirror_mode": {
    "name": "ipython",
    "version": 3
   },
   "file_extension": ".py",
   "mimetype": "text/x-python",
   "name": "python",
   "nbconvert_exporter": "python",
   "pygments_lexer": "ipython3",
   "version": "3.9.13"
  }
 },
 "nbformat": 4,
 "nbformat_minor": 5
}

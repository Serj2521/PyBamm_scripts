{
 "cells": [
  {
   "cell_type": "code",
   "execution_count": 1,
   "id": "06f4e3fd",
   "metadata": {},
   "outputs": [],
   "source": [
    "import pybamm\n",
    "import numpy as np\n",
    "import matplotlib.pyplot as plt\n",
    "\n",
    "model = pybamm.BaseModel()"
   ]
  },
  {
   "cell_type": "code",
   "execution_count": 2,
   "id": "10dfb079",
   "metadata": {},
   "outputs": [],
   "source": [
    "phi = pybamm.Variable(\"Positive electrode potential [V]\", domain=\"positive electrode\")"
   ]
  },
  {
   "cell_type": "code",
   "execution_count": 3,
   "id": "7ff44389",
   "metadata": {},
   "outputs": [],
   "source": [
    "phi_e_s = pybamm.Variable(\"Separator electrolyte potential [V]\", domain=\"separator\")\n",
    "phi_e_p = pybamm.Variable(\"Positive electrolyte potential [V]\", domain=\"positive electrode\")"
   ]
  },
  {
   "cell_type": "code",
   "execution_count": 4,
   "id": "e323703d",
   "metadata": {},
   "outputs": [],
   "source": [
    "phi_e = pybamm.concatenation(phi_e_s, phi_e_p)"
   ]
  },
  {
   "cell_type": "code",
   "execution_count": 5,
   "id": "1ac503b8",
   "metadata": {},
   "outputs": [],
   "source": [
    "c = pybamm.Variable(\n",
    "    \"Positive particle concentration [mol.m-3]\",\n",
    "    domain=\"positive particle\",\n",
    "    auxiliary_domains={\n",
    "        \"secondary\": \"positive electrode\",\n",
    "    },\n",
    ")"
   ]
  },
  {
   "cell_type": "code",
   "execution_count": 6,
   "id": "25157336",
   "metadata": {},
   "outputs": [],
   "source": [
    "from scipy import constants\n",
    "\n",
    "F = pybamm.Parameter(\"Faraday constant [C.mol-1]\")\n",
    "R = pybamm.Parameter(\"Molar gas constant [J.mol-1.K-1]\")\n",
    "T = pybamm.Parameter(\"Temperature [K]\")\n",
    "\n",
    "a = pybamm.Parameter(\"Surface area per unit volume [m-1]\")\n",
    "R_p = pybamm.Parameter(\"Positive particle radius [m]\")\n",
    "L_s = pybamm.Parameter(\"Separator thickness [m]\")\n",
    "L_p = pybamm.Parameter(\"Positive electrode thickness [m]\")\n",
    "A = pybamm.Parameter(\"Electrode cross-sectional area [m2]\")\n",
    "\n",
    "sigma = pybamm.Parameter(\"Positive electrode conductivity [S.m-1]\")\n",
    "kappa = pybamm.Parameter(\"Electrolyte conductivity [S.m-1]\")\n",
    "D = pybamm.Parameter(\"Diffusion coefficient [m2.s-1]\")\n",
    "\n",
    "I_app = pybamm.Parameter(\"Applied current [A]\")\n",
    "c0 = pybamm.Parameter(\"Initial concentration [mol.m-3]\")"
   ]
  },
  {
   "cell_type": "code",
   "execution_count": 7,
   "id": "24e603fe",
   "metadata": {},
   "outputs": [],
   "source": [
    "c_surf = pybamm.surf(c)  # get the surface concentration\n",
    "inputs = {\"Positive particle surface concentration [mol.m-3]\": c_surf}\n",
    "j0 =  pybamm.FunctionParameter(\"Positive electrode exchange-current density [A.m-2]\", inputs)\n",
    "U = pybamm.FunctionParameter(\"Positive electrode OCP [V]\", inputs)"
   ]
  },
  {
   "cell_type": "code",
   "execution_count": 8,
   "id": "49f59ad6",
   "metadata": {},
   "outputs": [],
   "source": [
    "\n",
    "j_s = pybamm.PrimaryBroadcast(0, \"separator\")\n",
    "j_p =  2 * j0 * pybamm.sinh((F / 2 / R / T) * (phi - phi_e_p - U))\n",
    "j = pybamm.concatenation(j_s, j_p)"
   ]
  },
  {
   "cell_type": "code",
   "execution_count": 9,
   "id": "ab2b7bec",
   "metadata": {},
   "outputs": [],
   "source": [
    "# charge conservation equations \n",
    "i = -sigma * pybamm.grad(phi)\n",
    "i_e = -kappa * pybamm.grad(phi_e)\n",
    "model.algebraic = {\n",
    "    phi: pybamm.div(i) + a * j_p,\n",
    "    phi_e: pybamm.div(i_e) - a * j,\n",
    "}\n",
    "# particle equations (mass conservation)\n",
    "N = -D * pybamm.grad(c)  # flux\n",
    "dcdt = -pybamm.div(N)\n",
    "model.rhs = {c: dcdt}  \n",
    "\n",
    "# boundary conditions \n",
    "model.boundary_conditions = {\n",
    "    phi: {\"left\": (pybamm.Scalar(0), \"Neumann\"), \"right\": (-I_app / A / sigma, \"Neumann\")},\n",
    "    phi_e: {\"left\": (pybamm.Scalar(0), \"Dirichlet\"), \"right\": (pybamm.Scalar(0), \"Neumann\")},\n",
    "    c: {\"left\": (pybamm.Scalar(0), \"Neumann\"), \"right\": (-j_p / F / D, \"Neumann\")}\n",
    "}\n",
    "\n",
    "# initial conditions\n",
    "inputs = {\"Initial concentration [mol.m-3]\": c0}\n",
    "U_init = pybamm.FunctionParameter(\"Positive electrode OCP [V]\", inputs)\n",
    "model.initial_conditions = {\n",
    "    phi: U_init,\n",
    "    phi_e: 0,\n",
    "    c: c0\n",
    "}"
   ]
  },
  {
   "cell_type": "code",
   "execution_count": 10,
   "id": "0b007040",
   "metadata": {},
   "outputs": [],
   "source": [
    "model.variables = {\n",
    "    \"Positive electrode potential [V]\": phi,\n",
    "    \"Electrolyte potential [V]\": phi_e,\n",
    "    \"Positive particle concentration [mol.m-3]\": c,\n",
    "    \"Positive particle surface concentration [mol.m-3]\": c_surf,\n",
    "    \"Average positive particle surface concentration [mol.m-3]\": pybamm.x_average(c_surf),\n",
    "    \"Positive electrode interfacial current density [A.m-2]\": j_p,\n",
    "    \"Positive electrode OCP [V]\":pybamm.boundary_value(U, \"right\"),\n",
    "    \"Terminal voltage [V]\": pybamm.boundary_value(phi, \"right\"),\n",
    "}"
   ]
  },
  {
   "cell_type": "code",
   "execution_count": 11,
   "id": "1b2f01aa",
   "metadata": {},
   "outputs": [],
   "source": [
    "from pybamm import tanh\n",
    "\n",
    "# both functions will depend on the maximum concentration \n",
    "c_max = pybamm.Parameter(\"Maximum concentration in positive electrode [mol.m-3]\")\n",
    "\n",
    "\n",
    "def exchange_current_density(c_surf):\n",
    "    k = 6 * 10 ** (-7)   # reaction rate [(A/m2)(m3/mol)**1.5]\n",
    "    c_e = 1000  # (constant) electrolyte concentration [mol.m-3]\n",
    "    return k * c_e** 0.5 * c_surf ** 0.5 * (c_max - c_surf) ** 0.5\n",
    "\n",
    "def open_circuit_potential(c_surf):\n",
    "    stretch = 1.062\n",
    "    sto = stretch * c_surf / c_max\n",
    "    \n",
    "    u_eq = (\n",
    "        2.16216\n",
    "        + 0.07645 * tanh(30.834 - 54.4806 * sto)\n",
    "        + 2.1581 * tanh(52.294 - 50.294 * sto)\n",
    "        - 0.14169 * tanh(11.0923 - 19.8543 * sto)\n",
    "        + 0.2051 * tanh(1.4684 - 5.4888 * sto)\n",
    "        + 0.2531 * tanh((-sto + 0.56478) / 0.1316)\n",
    "        - 0.02167 * tanh((sto - 0.525) / 0.006)\n",
    "    )\n",
    "    return u_eq"
   ]
  },
  {
   "cell_type": "code",
   "execution_count": 12,
   "id": "3212e364",
   "metadata": {},
   "outputs": [],
   "source": [
    "param = pybamm.ParameterValues(\n",
    "    {\n",
    "        \"Surface area per unit volume [m-1]\":0.15e6,\n",
    "        \"Positive particle radius [m]\": 10e-6,\n",
    "        \"Separator thickness [m]\": 25e-6,\n",
    "        \"Positive electrode thickness [m]\": 100e-6,\n",
    "        \"Electrode cross-sectional area [m2]\": 2.8e-2,\n",
    "        \"Applied current [A]\": 0.9,\n",
    "        \"Positive electrode conductivity [S.m-1]\": 10,\n",
    "        \"Electrolyte conductivity [S.m-1]\": 1,\n",
    "        \"Diffusion coefficient [m2.s-1]\": 1e-13,\n",
    "        \"Faraday constant [C.mol-1]\": 96485,\n",
    "        \"Initial concentration [mol.m-3]\": 25370,\n",
    "        \"Molar gas constant [J.mol-1.K-1]\": 8.314,\n",
    "        \"Temperature [K]\": 298.15,\n",
    "        \"Maximum concentration in positive electrode [mol.m-3]\": 51217,\n",
    "        \"Positive electrode exchange-current density [A.m-2]\": exchange_current_density,\n",
    "        \"Positive electrode OCP [V]\": open_circuit_potential,\n",
    "    }\n",
    ")"
   ]
  },
  {
   "cell_type": "code",
   "execution_count": 13,
   "id": "3ef0afa7",
   "metadata": {},
   "outputs": [],
   "source": [
    "r = pybamm.SpatialVariable(\n",
    "    \"r\", \n",
    "    domain=[\"positive particle\"],     \n",
    "    auxiliary_domains={\n",
    "        \"secondary\": \"positive electrode\"\n",
    "    },\n",
    "    coord_sys=\"spherical polar\")\n",
    "x_s = pybamm.SpatialVariable(\"x_s\", domain=[\"separator\"], coord_sys=\"cartesian\")\n",
    "x_p = pybamm.SpatialVariable(\"x_p\", domain=[\"positive electrode\"], coord_sys=\"cartesian\")\n",
    "\n",
    "\n",
    "geometry = {\n",
    "    \"separator\": {x_s: {\"min\": -L_s, \"max\": 0}},        \n",
    "    \"positive electrode\": {x_p: {\"min\": 0, \"max\": L_p}},\n",
    "    \"positive particle\": {r: {\"min\": 0, \"max\": R_p}},\n",
    "}"
   ]
  },
  {
   "cell_type": "code",
   "execution_count": 14,
   "id": "178635e2",
   "metadata": {},
   "outputs": [],
   "source": [
    "param.process_model(model)\n",
    "param.process_geometry(geometry)"
   ]
  },
  {
   "cell_type": "code",
   "execution_count": 15,
   "id": "b7244690",
   "metadata": {},
   "outputs": [],
   "source": [
    "submesh_types = {\n",
    "    \"separator\": pybamm.Uniform1DSubMesh,\n",
    "    \"positive electrode\": pybamm.Uniform1DSubMesh,\n",
    "    \"positive particle\": pybamm.Uniform1DSubMesh,\n",
    "}\n",
    "var_pts = {x_s: 10, x_p: 20, r: 30}\n",
    "mesh = pybamm.Mesh(geometry, submesh_types, var_pts)\n",
    "\n",
    "spatial_methods = {\n",
    "    \"separator\": pybamm.FiniteVolume(),\n",
    "    \"positive electrode\": pybamm.FiniteVolume(),\n",
    "    \"positive particle\": pybamm.FiniteVolume(),\n",
    "}\n",
    "disc = pybamm.Discretisation(mesh, spatial_methods)\n",
    "disc.process_model(model);"
   ]
  },
  {
   "cell_type": "code",
   "execution_count": 16,
   "id": "e4aa2d2d",
   "metadata": {},
   "outputs": [],
   "source": [
    "# solve\n",
    "solver = pybamm.CasadiSolver(root_tol=1e-3)\n",
    "t_eval = np.linspace(0, 3600, 600)\n",
    "solution = solver.solve(model, t_eval)"
   ]
  },
  {
   "cell_type": "code",
   "execution_count": 17,
   "id": "70d6b7d3",
   "metadata": {},
   "outputs": [
    {
     "name": "stderr",
     "output_type": "stream",
     "text": [
      "2022-12-01 15:41:11.630 - [WARNING] processed_variable.get_spatial_scale(518): No length scale set for positive electrode. Using default of 1 [m].\n",
      "2022-12-01 15:41:11.662 - [WARNING] processed_variable.get_spatial_scale(518): No length scale set for separator. Using default of 1 [m].\n",
      "2022-12-01 15:41:11.708 - [WARNING] processed_variable.get_spatial_scale(518): No length scale set for positive electrode. Using default of 1 [m].\n",
      "2022-12-01 15:41:11.749 - [WARNING] processed_variable.get_spatial_scale(518): No length scale set for positive electrode. Using default of 1 [m].\n"
     ]
    },
    {
     "data": {
      "application/vnd.jupyter.widget-view+json": {
       "model_id": "fca3e2e04b8e4f3aaa7e84bc99e47c89",
       "version_major": 2,
       "version_minor": 0
      },
      "text/plain": [
       "interactive(children=(FloatSlider(value=0.0, description='t', max=1.0, step=0.01), Output()), _dom_classes=('w…"
      ]
     },
     "metadata": {},
     "output_type": "display_data"
    },
    {
     "data": {
      "text/plain": [
       "<pybamm.plotting.quick_plot.QuickPlot at 0x237b0a58e50>"
      ]
     },
     "execution_count": 17,
     "metadata": {},
     "output_type": "execute_result"
    }
   ],
   "source": [
    "# plot\n",
    "pybamm.dynamic_plot(\n",
    "    solution,\n",
    "    [\n",
    "        \"Positive electrode potential [V]\",\n",
    "        \"Electrolyte potential [V]\",\n",
    "        \"Positive electrode interfacial current density [A.m-2]\",\n",
    "        \"Positive particle surface concentration [mol.m-3]\",\n",
    "        \"Average positive particle surface concentration [mol.m-3]\",\n",
    "        [\"Positive electrode OCP [V]\", \"Terminal voltage [V]\"],\n",
    "    ],\n",
    ")"
   ]
  },
  {
   "cell_type": "code",
   "execution_count": 18,
   "id": "c7ae44b1",
   "metadata": {},
   "outputs": [
    {
     "ename": "KeyError",
     "evalue": "\"'Electrolyte concentration [mol.m-3]' not found. Best matches are ['Positive particle concentration [mol.m-3]', 'Positive particle surface concentration [mol.m-3]', 'Electrolyte potential [V]']\"",
     "output_type": "error",
     "traceback": [
      "\u001b[1;31m---------------------------------------------------------------------------\u001b[0m",
      "\u001b[1;31mKeyError\u001b[0m                                  Traceback (most recent call last)",
      "File \u001b[1;32m~\\Documents\\GIT\\env\\lib\\site-packages\\pybamm\\util.py:58\u001b[0m, in \u001b[0;36mFuzzyDict.__getitem__\u001b[1;34m(self, key)\u001b[0m\n\u001b[0;32m     57\u001b[0m \u001b[38;5;28;01mtry\u001b[39;00m:\n\u001b[1;32m---> 58\u001b[0m     \u001b[38;5;28;01mreturn\u001b[39;00m \u001b[38;5;28;43msuper\u001b[39;49m\u001b[43m(\u001b[49m\u001b[43m)\u001b[49m\u001b[38;5;241;43m.\u001b[39;49m\u001b[38;5;21;43m__getitem__\u001b[39;49m\u001b[43m(\u001b[49m\u001b[43mkey\u001b[49m\u001b[43m)\u001b[49m\n\u001b[0;32m     59\u001b[0m \u001b[38;5;28;01mexcept\u001b[39;00m \u001b[38;5;167;01mKeyError\u001b[39;00m:\n",
      "\u001b[1;31mKeyError\u001b[0m: 'Electrolyte concentration [mol.m-3]'",
      "\nDuring handling of the above exception, another exception occurred:\n",
      "\u001b[1;31mKeyError\u001b[0m                                  Traceback (most recent call last)",
      "Cell \u001b[1;32mIn[18], line 2\u001b[0m\n\u001b[0;32m      1\u001b[0m \u001b[38;5;66;03m# plot\u001b[39;00m\n\u001b[1;32m----> 2\u001b[0m \u001b[43mpybamm\u001b[49m\u001b[38;5;241;43m.\u001b[39;49m\u001b[43mdynamic_plot\u001b[49m\u001b[43m(\u001b[49m\n\u001b[0;32m      3\u001b[0m \u001b[43m    \u001b[49m\u001b[43msolution\u001b[49m\u001b[43m,\u001b[49m\n\u001b[0;32m      4\u001b[0m \u001b[43m    \u001b[49m\u001b[43m[\u001b[49m\n\u001b[0;32m      5\u001b[0m \u001b[43m        \u001b[49m\u001b[38;5;124;43m\"\u001b[39;49m\u001b[38;5;124;43mElectrolyte concentration [mol.m-3]\u001b[39;49m\u001b[38;5;124;43m\"\u001b[39;49m\u001b[43m,\u001b[49m\n\u001b[0;32m      6\u001b[0m \u001b[43m    \u001b[49m\u001b[43m]\u001b[49m\u001b[43m,\u001b[49m\n\u001b[0;32m      7\u001b[0m \u001b[43m)\u001b[49m\n",
      "File \u001b[1;32m~\\Documents\\GIT\\env\\lib\\site-packages\\pybamm\\plotting\\dynamic_plot.py:20\u001b[0m, in \u001b[0;36mdynamic_plot\u001b[1;34m(*args, **kwargs)\u001b[0m\n\u001b[0;32m      8\u001b[0m \u001b[38;5;124;03m\"\"\"\u001b[39;00m\n\u001b[0;32m      9\u001b[0m \u001b[38;5;124;03mCreates a :class:`pybamm.QuickPlot` object (with arguments 'args' and keyword\u001b[39;00m\n\u001b[0;32m     10\u001b[0m \u001b[38;5;124;03marguments 'kwargs') and then calls :meth:`pybamm.QuickPlot.dynamic_plot`.\u001b[39;00m\n\u001b[1;32m   (...)\u001b[0m\n\u001b[0;32m     17\u001b[0m \u001b[38;5;124;03m    The 'QuickPlot' object that was created\u001b[39;00m\n\u001b[0;32m     18\u001b[0m \u001b[38;5;124;03m\"\"\"\u001b[39;00m\n\u001b[0;32m     19\u001b[0m kwargs_for_class \u001b[38;5;241m=\u001b[39m {k: v \u001b[38;5;28;01mfor\u001b[39;00m k, v \u001b[38;5;129;01min\u001b[39;00m kwargs\u001b[38;5;241m.\u001b[39mitems() \u001b[38;5;28;01mif\u001b[39;00m k \u001b[38;5;241m!=\u001b[39m \u001b[38;5;124m\"\u001b[39m\u001b[38;5;124mtesting\u001b[39m\u001b[38;5;124m\"\u001b[39m}\n\u001b[1;32m---> 20\u001b[0m plot \u001b[38;5;241m=\u001b[39m pybamm\u001b[38;5;241m.\u001b[39mQuickPlot(\u001b[38;5;241m*\u001b[39margs, \u001b[38;5;241m*\u001b[39m\u001b[38;5;241m*\u001b[39mkwargs_for_class)\n\u001b[0;32m     21\u001b[0m plot\u001b[38;5;241m.\u001b[39mdynamic_plot(kwargs\u001b[38;5;241m.\u001b[39mget(\u001b[38;5;124m\"\u001b[39m\u001b[38;5;124mtesting\u001b[39m\u001b[38;5;124m\"\u001b[39m, \u001b[38;5;28;01mFalse\u001b[39;00m))\n\u001b[0;32m     22\u001b[0m \u001b[38;5;28;01mreturn\u001b[39;00m plot\n",
      "File \u001b[1;32m~\\Documents\\GIT\\env\\lib\\site-packages\\pybamm\\plotting\\quick_plot.py:240\u001b[0m, in \u001b[0;36mQuickPlot.__init__\u001b[1;34m(self, solutions, output_variables, labels, colors, linestyles, figsize, n_rows, time_unit, spatial_unit, variable_limits)\u001b[0m\n\u001b[0;32m    235\u001b[0m         \u001b[38;5;28;01mexcept\u001b[39;00m \u001b[38;5;167;01mTypeError\u001b[39;00m:\n\u001b[0;32m    236\u001b[0m             \u001b[38;5;28;01mraise\u001b[39;00m \u001b[38;5;167;01mTypeError\u001b[39;00m(\n\u001b[0;32m    237\u001b[0m                 \u001b[38;5;124m\"\u001b[39m\u001b[38;5;124mvariable_limits must be \u001b[39m\u001b[38;5;124m'\u001b[39m\u001b[38;5;124mfixed\u001b[39m\u001b[38;5;124m'\u001b[39m\u001b[38;5;124m, \u001b[39m\u001b[38;5;124m'\u001b[39m\u001b[38;5;124mtight\u001b[39m\u001b[38;5;124m'\u001b[39m\u001b[38;5;124m, or a dict\u001b[39m\u001b[38;5;124m\"\u001b[39m\n\u001b[0;32m    238\u001b[0m             )\n\u001b[1;32m--> 240\u001b[0m \u001b[38;5;28;43mself\u001b[39;49m\u001b[38;5;241;43m.\u001b[39;49m\u001b[43mset_output_variables\u001b[49m\u001b[43m(\u001b[49m\u001b[43moutput_variable_tuples\u001b[49m\u001b[43m,\u001b[49m\u001b[43m \u001b[49m\u001b[43msolutions\u001b[49m\u001b[43m)\u001b[49m\n\u001b[0;32m    241\u001b[0m \u001b[38;5;28mself\u001b[39m\u001b[38;5;241m.\u001b[39mreset_axis()\n",
      "File \u001b[1;32m~\\Documents\\GIT\\env\\lib\\site-packages\\pybamm\\plotting\\quick_plot.py:264\u001b[0m, in \u001b[0;36mQuickPlot.set_output_variables\u001b[1;34m(self, output_variables, solutions)\u001b[0m\n\u001b[0;32m    262\u001b[0m variables[i] \u001b[38;5;241m=\u001b[39m []\n\u001b[0;32m    263\u001b[0m \u001b[38;5;28;01mfor\u001b[39;00m var \u001b[38;5;129;01min\u001b[39;00m variable_tuple:\n\u001b[1;32m--> 264\u001b[0m     sol \u001b[38;5;241m=\u001b[39m \u001b[43msolution\u001b[49m\u001b[43m[\u001b[49m\u001b[43mvar\u001b[49m\u001b[43m]\u001b[49m\n\u001b[0;32m    265\u001b[0m     \u001b[38;5;66;03m# Check variable isn't all-nan\u001b[39;00m\n\u001b[0;32m    266\u001b[0m     \u001b[38;5;28;01mif\u001b[39;00m np\u001b[38;5;241m.\u001b[39mall(np\u001b[38;5;241m.\u001b[39misnan(sol\u001b[38;5;241m.\u001b[39mentries)):\n",
      "File \u001b[1;32m~\\Documents\\GIT\\env\\lib\\site-packages\\pybamm\\solvers\\solution.py:537\u001b[0m, in \u001b[0;36mSolution.__getitem__\u001b[1;34m(self, key)\u001b[0m\n\u001b[0;32m    534\u001b[0m     \u001b[38;5;28;01mreturn\u001b[39;00m \u001b[38;5;28mself\u001b[39m\u001b[38;5;241m.\u001b[39m_variables[key]\n\u001b[0;32m    535\u001b[0m \u001b[38;5;28;01melse\u001b[39;00m:\n\u001b[0;32m    536\u001b[0m     \u001b[38;5;66;03m# otherwise create it, save it and then return it\u001b[39;00m\n\u001b[1;32m--> 537\u001b[0m     \u001b[38;5;28;43mself\u001b[39;49m\u001b[38;5;241;43m.\u001b[39;49m\u001b[43mupdate\u001b[49m\u001b[43m(\u001b[49m\u001b[43mkey\u001b[49m\u001b[43m)\u001b[49m\n\u001b[0;32m    538\u001b[0m     \u001b[38;5;28;01mreturn\u001b[39;00m \u001b[38;5;28mself\u001b[39m\u001b[38;5;241m.\u001b[39m_variables[key]\n",
      "File \u001b[1;32m~\\Documents\\GIT\\env\\lib\\site-packages\\pybamm\\solvers\\solution.py:476\u001b[0m, in \u001b[0;36mSolution.update\u001b[1;34m(self, variables)\u001b[0m\n\u001b[0;32m    474\u001b[0m cumtrapz_ic \u001b[38;5;241m=\u001b[39m \u001b[38;5;28;01mNone\u001b[39;00m\n\u001b[0;32m    475\u001b[0m pybamm\u001b[38;5;241m.\u001b[39mlogger\u001b[38;5;241m.\u001b[39mdebug(\u001b[38;5;124m\"\u001b[39m\u001b[38;5;124mPost-processing \u001b[39m\u001b[38;5;132;01m{}\u001b[39;00m\u001b[38;5;124m\"\u001b[39m\u001b[38;5;241m.\u001b[39mformat(key))\n\u001b[1;32m--> 476\u001b[0m vars_pybamm \u001b[38;5;241m=\u001b[39m [model\u001b[38;5;241m.\u001b[39mvariables_and_events[key] \u001b[38;5;28;01mfor\u001b[39;00m model \u001b[38;5;129;01min\u001b[39;00m \u001b[38;5;28mself\u001b[39m\u001b[38;5;241m.\u001b[39mall_models]\n\u001b[0;32m    478\u001b[0m \u001b[38;5;66;03m# Iterate through all models, some may be in the list several times and\u001b[39;00m\n\u001b[0;32m    479\u001b[0m \u001b[38;5;66;03m# therefore only get set up once\u001b[39;00m\n\u001b[0;32m    480\u001b[0m vars_casadi \u001b[38;5;241m=\u001b[39m []\n",
      "File \u001b[1;32m~\\Documents\\GIT\\env\\lib\\site-packages\\pybamm\\solvers\\solution.py:476\u001b[0m, in \u001b[0;36m<listcomp>\u001b[1;34m(.0)\u001b[0m\n\u001b[0;32m    474\u001b[0m cumtrapz_ic \u001b[38;5;241m=\u001b[39m \u001b[38;5;28;01mNone\u001b[39;00m\n\u001b[0;32m    475\u001b[0m pybamm\u001b[38;5;241m.\u001b[39mlogger\u001b[38;5;241m.\u001b[39mdebug(\u001b[38;5;124m\"\u001b[39m\u001b[38;5;124mPost-processing \u001b[39m\u001b[38;5;132;01m{}\u001b[39;00m\u001b[38;5;124m\"\u001b[39m\u001b[38;5;241m.\u001b[39mformat(key))\n\u001b[1;32m--> 476\u001b[0m vars_pybamm \u001b[38;5;241m=\u001b[39m [\u001b[43mmodel\u001b[49m\u001b[38;5;241;43m.\u001b[39;49m\u001b[43mvariables_and_events\u001b[49m\u001b[43m[\u001b[49m\u001b[43mkey\u001b[49m\u001b[43m]\u001b[49m \u001b[38;5;28;01mfor\u001b[39;00m model \u001b[38;5;129;01min\u001b[39;00m \u001b[38;5;28mself\u001b[39m\u001b[38;5;241m.\u001b[39mall_models]\n\u001b[0;32m    478\u001b[0m \u001b[38;5;66;03m# Iterate through all models, some may be in the list several times and\u001b[39;00m\n\u001b[0;32m    479\u001b[0m \u001b[38;5;66;03m# therefore only get set up once\u001b[39;00m\n\u001b[0;32m    480\u001b[0m vars_casadi \u001b[38;5;241m=\u001b[39m []\n",
      "File \u001b[1;32m~\\Documents\\GIT\\env\\lib\\site-packages\\pybamm\\util.py:61\u001b[0m, in \u001b[0;36mFuzzyDict.__getitem__\u001b[1;34m(self, key)\u001b[0m\n\u001b[0;32m     59\u001b[0m \u001b[38;5;28;01mexcept\u001b[39;00m \u001b[38;5;167;01mKeyError\u001b[39;00m:\n\u001b[0;32m     60\u001b[0m     best_matches \u001b[38;5;241m=\u001b[39m \u001b[38;5;28mself\u001b[39m\u001b[38;5;241m.\u001b[39mget_best_matches(key)\n\u001b[1;32m---> 61\u001b[0m     \u001b[38;5;28;01mraise\u001b[39;00m \u001b[38;5;167;01mKeyError\u001b[39;00m(\u001b[38;5;124mf\u001b[39m\u001b[38;5;124m\"\u001b[39m\u001b[38;5;124m'\u001b[39m\u001b[38;5;132;01m{\u001b[39;00mkey\u001b[38;5;132;01m}\u001b[39;00m\u001b[38;5;124m'\u001b[39m\u001b[38;5;124m not found. Best matches are \u001b[39m\u001b[38;5;132;01m{\u001b[39;00mbest_matches\u001b[38;5;132;01m}\u001b[39;00m\u001b[38;5;124m\"\u001b[39m)\n",
      "\u001b[1;31mKeyError\u001b[0m: \"'Electrolyte concentration [mol.m-3]' not found. Best matches are ['Positive particle concentration [mol.m-3]', 'Positive particle surface concentration [mol.m-3]', 'Electrolyte potential [V]']\""
     ]
    }
   ],
   "source": [
    "# plot\n",
    "pybamm.dynamic_plot(\n",
    "    solution,\n",
    "    [\n",
    "        \"Electrolyte concentration [mol.m-3]\",\n",
    "    ],\n",
    ")"
   ]
  },
  {
   "cell_type": "code",
   "execution_count": null,
   "id": "e02c0c4d",
   "metadata": {},
   "outputs": [],
   "source": []
  }
 ],
 "metadata": {
  "kernelspec": {
   "display_name": "Python 3 (ipykernel)",
   "language": "python",
   "name": "python3"
  },
  "language_info": {
   "codemirror_mode": {
    "name": "ipython",
    "version": 3
   },
   "file_extension": ".py",
   "mimetype": "text/x-python",
   "name": "python",
   "nbconvert_exporter": "python",
   "pygments_lexer": "ipython3",
   "version": "3.9.13"
  }
 },
 "nbformat": 4,
 "nbformat_minor": 5
}

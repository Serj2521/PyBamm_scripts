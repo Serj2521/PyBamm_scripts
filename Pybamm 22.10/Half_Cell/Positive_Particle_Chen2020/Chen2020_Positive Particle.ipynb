{
 "cells": [
  {
   "cell_type": "code",
   "execution_count": 1,
   "id": "16462a29",
   "metadata": {},
   "outputs": [],
   "source": [
    "import pybamm as pb\n",
    "import numpy as np\n",
    "import matplotlib.pyplot as plt"
   ]
  },
  {
   "cell_type": "code",
   "execution_count": 4,
   "id": "62bdaae0",
   "metadata": {},
   "outputs": [
    {
     "name": "stderr",
     "output_type": "stream",
     "text": [
      "2022-12-02 09:55:18.744 - [INFO] base_model._build_model(572): Start building Single Particle Model with electrolyte\n",
      "2022-12-02 09:55:18.831 - [INFO] base_battery_model.build_model(1019): Finish building Single Particle Model with electrolyte\n"
     ]
    }
   ],
   "source": [
    "pb.set_logging_level(\"INFO\")\n",
    "\n",
    "#Define the parameter values chemistry\n",
    "parameter_values = pb.ParameterValues(\"Chen2020\")\n",
    "\n",
    "#Define the model\n",
    "spm = pb.lithium_ion.SPMe()\n",
    "\n",
    "# Experiment\n",
    "\n",
    "experiment = pb.Experiment([\"Discharge at 1C until 2.5 V\"])\n"
   ]
  },
  {
   "cell_type": "code",
   "execution_count": 5,
   "id": "e4980b88",
   "metadata": {},
   "outputs": [
    {
     "name": "stdout",
     "output_type": "stream",
     "text": [
      "Negative electrode extent of lithiation\n",
      "Positive electrode extent of lithiation\n",
      "X-averaged negative electrode extent of lithiation\n",
      "X-averaged positive electrode extent of lithiation\n"
     ]
    }
   ],
   "source": [
    "spm.variables.search(\"lithiation\")"
   ]
  },
  {
   "cell_type": "code",
   "execution_count": 6,
   "id": "a5945dfe",
   "metadata": {},
   "outputs": [],
   "source": [
    "cpe = spm.variables[\"Positive electrode volume-averaged concentration [mol.m-3]\"]\n",
    "cxa = spm.variables[\"X-averaged positive particle concentration [mol.m-3]\"]\n"
   ]
  },
  {
   "cell_type": "code",
   "execution_count": 7,
   "id": "c9309a19",
   "metadata": {},
   "outputs": [
    {
     "data": {
      "text/plain": [
       "['current collector']"
      ]
     },
     "execution_count": 7,
     "metadata": {},
     "output_type": "execute_result"
    }
   ],
   "source": [
    "cpe.domain"
   ]
  },
  {
   "cell_type": "code",
   "execution_count": 8,
   "id": "297f4d85",
   "metadata": {},
   "outputs": [
    {
     "data": {
      "text/plain": [
       "['positive particle']"
      ]
     },
     "execution_count": 8,
     "metadata": {},
     "output_type": "execute_result"
    }
   ],
   "source": [
    "cxa.domain"
   ]
  },
  {
   "cell_type": "code",
   "execution_count": 9,
   "id": "02c88a3f",
   "metadata": {},
   "outputs": [
    {
     "name": "stdout",
     "output_type": "stream",
     "text": [
      "x_n has 20 mesh points\n",
      "x_s has 20 mesh points\n",
      "x_p has 20 mesh points\n",
      "r_n has 20 mesh points\n",
      "r_p has 20 mesh points\n",
      "r_n_prim has 20 mesh points\n",
      "r_p_prim has 20 mesh points\n",
      "r_n_sec has 20 mesh points\n",
      "r_p_sec has 20 mesh points\n",
      "y has 10 mesh points\n",
      "z has 10 mesh points\n",
      "R_n has 30 mesh points\n",
      "R_p has 30 mesh points\n"
     ]
    }
   ],
   "source": [
    "for var, npts in spm.default_var_pts.items():\n",
    "    print(var,'has', npts,'mesh points')"
   ]
  },
  {
   "cell_type": "code",
   "execution_count": 46,
   "id": "11adf1d6",
   "metadata": {},
   "outputs": [
    {
     "name": "stderr",
     "output_type": "stream",
     "text": [
      "2022-12-02 11:28:03.703 - [INFO] parameter_values.process_model(371): Start setting parameters for Single Particle Model with electrolyte\n",
      "2022-12-02 11:28:03.877 - [INFO] parameter_values.process_model(474): Finish setting parameters for Single Particle Model with electrolyte\n",
      "2022-12-02 11:28:03.879 - [INFO] discretisation.process_model(149): Start discretising Single Particle Model with electrolyte\n",
      "2022-12-02 11:28:03.882 - [INFO] discretisation.remove_independent_variables_from_rhs(1199): removing variable Discharge capacity [A.h] from rhs\n",
      "2022-12-02 11:28:04.099 - [INFO] discretisation.process_model(271): Finish discretising Single Particle Model with electrolyte\n",
      "2022-12-02 11:28:04.099 - [INFO] base_solver.solve(703): Start solving Single Particle Model with electrolyte with CasADi solver with 'safe' mode\n",
      "2022-12-02 11:28:04.108 - [INFO] base_solver.set_up(110): Start solver set-up\n",
      "2022-12-02 11:28:04.141 - [INFO] base_solver.set_up(235): Finish solver set-up\n",
      "2022-12-02 11:28:04.163 - [INFO] base_solver.solve(936): Finish solving Single Particle Model with electrolyte (the solver successfully reached the end of the integration interval)\n",
      "2022-12-02 11:28:04.165 - [INFO] base_solver.solve(937): Set-up time: 34.250 ms, Solve time: 21.025 ms (of which integration time: 6.458 ms), Total time: 55.276 ms\n"
     ]
    }
   ],
   "source": [
    "sim = pb.Simulation(spm)\n",
    "sim.solve(t_eval=[0,3600])\n",
    "solution = sim.solution"
   ]
  },
  {
   "cell_type": "code",
   "execution_count": 47,
   "id": "b306eb86",
   "metadata": {},
   "outputs": [
    {
     "data": {
      "application/vnd.jupyter.widget-view+json": {
       "model_id": "aaa7a757d6e64b938f8b3543ebc6b693",
       "version_major": 2,
       "version_minor": 0
      },
      "text/plain": [
       "interactive(children=(FloatSlider(value=0.0, description='t', max=1.0, step=0.01), Output()), _dom_classes=('w…"
      ]
     },
     "metadata": {},
     "output_type": "display_data"
    },
    {
     "data": {
      "text/plain": [
       "<pybamm.plotting.quick_plot.QuickPlot at 0x26071af4790>"
      ]
     },
     "execution_count": 47,
     "metadata": {},
     "output_type": "execute_result"
    }
   ],
   "source": [
    "#Plot variables depending on R\n",
    "output_vars = [\n",
    "    \n",
    "               \"X-averaged positive particle concentration [mol.m-3]\",\n",
    "               \"X-averaged negative particle concentration [mol.m-3]\",\n",
    "               \"Terminal voltage [V]\",\n",
    "               \"Positive particle surface concentration [mol.m-3]\",\n",
    "               \"Negative particle surface concentration [mol.m-3]\",\n",
    "               \"Electrolyte concentration [mol.m-3]\",\n",
    "               \n",
    "              ]\n",
    "\n",
    "# plot\n",
    "sim.plot(output_variables = output_vars)"
   ]
  },
  {
   "cell_type": "code",
   "execution_count": 48,
   "id": "c632533b",
   "metadata": {},
   "outputs": [
    {
     "data": {
      "application/vnd.jupyter.widget-view+json": {
       "model_id": "36fa4d9945dd4b9590180d5a7a884176",
       "version_major": 2,
       "version_minor": 0
      },
      "text/plain": [
       "interactive(children=(FloatSlider(value=0.0, description='t', max=1.0, step=0.01), Output()), _dom_classes=('w…"
      ]
     },
     "metadata": {},
     "output_type": "display_data"
    },
    {
     "data": {
      "text/plain": [
       "<pybamm.plotting.quick_plot.QuickPlot at 0x2606ffcfe20>"
      ]
     },
     "execution_count": 48,
     "metadata": {},
     "output_type": "execute_result"
    }
   ],
   "source": [
    "# plot\n",
    "pb.dynamic_plot(\n",
    "    sim,\n",
    "    [\n",
    "        \"Terminal voltage [V]\",\n",
    "        \"Electrolyte potential [V]\",\n",
    "    ],\n",
    ")"
   ]
  },
  {
   "cell_type": "code",
   "execution_count": 49,
   "id": "547d823f",
   "metadata": {},
   "outputs": [
    {
     "data": {
      "application/vnd.jupyter.widget-view+json": {
       "model_id": "9a5f48d1ed2143168016316bfd43c20b",
       "version_major": 2,
       "version_minor": 0
      },
      "text/plain": [
       "interactive(children=(FloatSlider(value=0.0, description='t', max=1.0, step=0.01), Output()), _dom_classes=('w…"
      ]
     },
     "metadata": {},
     "output_type": "display_data"
    },
    {
     "data": {
      "text/plain": [
       "<pybamm.plotting.quick_plot.QuickPlot at 0x260709225e0>"
      ]
     },
     "execution_count": 49,
     "metadata": {},
     "output_type": "execute_result"
    }
   ],
   "source": [
    "pb.dynamic_plot(sim, [\n",
    "    \"Positive particle surface concentration [mol.m-3]\",\n",
    "    \"Negative particle surface concentration [mol.m-3]\",\n",
    "    \"Electrolyte concentration [mol.m-3]\",\n",
    "    \"Positive electrode extent of lithiation\",\n",
    "    \"X-averaged positive electrode extent of lithiation\",\n",
    "    \"X-averaged negative electrode extent of lithiation\",\n",
    "    ]\n",
    " )"
   ]
  },
  {
   "cell_type": "code",
   "execution_count": 53,
   "id": "3e1f7032",
   "metadata": {},
   "outputs": [
    {
     "data": {
      "text/plain": [
       "(array([[0., 1., 2., 3., 4., 5.],\n",
       "        [0., 1., 2., 3., 4., 5.],\n",
       "        [0., 1., 2., 3., 4., 5.],\n",
       "        [0., 1., 2., 3., 4., 5.],\n",
       "        [0., 1., 2., 3., 4., 5.],\n",
       "        [0., 1., 2., 3., 4., 5.]]),\n",
       " array([[0., 0., 0., 0., 0., 0.],\n",
       "        [1., 1., 1., 1., 1., 1.],\n",
       "        [2., 2., 2., 2., 2., 2.],\n",
       "        [3., 3., 3., 3., 3., 3.],\n",
       "        [4., 4., 4., 4., 4., 4.],\n",
       "        [5., 5., 5., 5., 5., 5.]]))"
      ]
     },
     "execution_count": 53,
     "metadata": {},
     "output_type": "execute_result"
    }
   ],
   "source": [
    "nx, ny = (6, 6)\n",
    "x = np.linspace(0, 5, nx)\n",
    "y = np.linspace(0, 5, ny)\n",
    "xv, yv = np.meshgrid(x, y)\n",
    "Surf_c=solution[\"Positive particle surface concentration [mol.m-3]\"].data\n",
    "Surf_c\n",
    "xv,yv"
   ]
  },
  {
   "cell_type": "code",
   "execution_count": 54,
   "id": "bc7f0ec9",
   "metadata": {},
   "outputs": [
    {
     "data": {
      "text/plain": [
       "True"
      ]
     },
     "execution_count": 54,
     "metadata": {},
     "output_type": "execute_result"
    }
   ],
   "source": [
    "x = np.linspace(-5, 5, 101)\n",
    "y = np.linspace(-5, 5, 101)\n",
    "# full coordinate arrays\n",
    "xx, yy = np.meshgrid(x, y)\n",
    "zz = np.sqrt(xx**2 + yy**2)\n",
    "xx.shape, yy.shape, zz.shape\n",
    "# sparse coordinate arrays\n",
    "xs, ys = np.meshgrid(x, y, sparse=True)\n",
    "zs = np.sqrt(xs**2 + ys**2)\n",
    "xs.shape, ys.shape, zs.shape\n",
    "np.array_equal(zz, zs)"
   ]
  },
  {
   "cell_type": "code",
   "execution_count": 35,
   "id": "ff2db9df",
   "metadata": {},
   "outputs": [
    {
     "data": {
      "image/png": "[encoded data removed]",
      "text/plain": [
       "<Figure size 640x480 with 2 Axes>"
      ]
     },
     "metadata": {},
     "output_type": "display_data"
    }
   ],
   "source": [
    "import matplotlib.pyplot as plt\n",
    "h = plt.contourf(x, y, zs)\n",
    "plt.axis('scaled')\n",
    "plt.colorbar()\n",
    "plt.show()"
   ]
  },
  {
   "cell_type": "code",
   "execution_count": null,
   "id": "9a6764cf",
   "metadata": {},
   "outputs": [],
   "source": []
  }
 ],
 "metadata": {
  "kernelspec": {
   "display_name": "Python 3 (ipykernel)",
   "language": "python",
   "name": "python3"
  },
  "language_info": {
   "codemirror_mode": {
    "name": "ipython",
    "version": 3
   },
   "file_extension": ".py",
   "mimetype": "text/x-python",
   "name": "python",
   "nbconvert_exporter": "python",
   "pygments_lexer": "ipython3",
   "version": "3.9.13"
  }
 },
 "nbformat": 4,
 "nbformat_minor": 5
}

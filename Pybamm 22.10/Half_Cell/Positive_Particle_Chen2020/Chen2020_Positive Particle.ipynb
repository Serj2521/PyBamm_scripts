{
 "cells": [
  {
   "cell_type": "code",
   "execution_count": 49,
   "id": "16462a29",
   "metadata": {},
   "outputs": [],
   "source": [
    "import pybamm\n",
    "import numpy as np\n",
    "import matplotlib.pyplot as plt"
   ]
  },
  {
   "cell_type": "code",
   "execution_count": 50,
   "id": "62bdaae0",
   "metadata": {},
   "outputs": [
    {
     "name": "stderr",
     "output_type": "stream",
     "text": [
      "2022-11-30 12:21:21.390 - [INFO] base_model._build_model(572): Start building Single Particle Model\n",
      "2022-11-30 12:21:21.436 - [INFO] base_battery_model.build_model(1019): Finish building Single Particle Model\n"
     ]
    }
   ],
   "source": [
    "pb.set_logging_level(\"INFO\")\n",
    "\n",
    "#Define the parameter values chemistry\n",
    "parameter_values = pb.ParameterValues(\"Chen2020\")\n",
    "\n",
    "#Define the model\n",
    "spm = pybamm.lithium_ion.SPM()\n",
    "\n",
    "# Experiment\n",
    "\n",
    "experiment = pybamm.Experiment([\"Discharge at 1C until 2.5 V\"])\n"
   ]
  },
  {
   "cell_type": "code",
   "execution_count": 51,
   "id": "e4980b88",
   "metadata": {},
   "outputs": [
    {
     "name": "stdout",
     "output_type": "stream",
     "text": [
      "Average negative particle concentration\n",
      "Average negative particle concentration [mol.m-3]\n",
      "Average positive particle concentration\n",
      "Average positive particle concentration [mol.m-3]\n",
      "Dead lithium concentration\n",
      "Dead lithium concentration [mol.m-3]\n",
      "Electrolyte concentration\n",
      "Electrolyte concentration [Molar]\n",
      "Electrolyte concentration [mol.m-3]\n",
      "Inner SEI concentration [mol.m-3]\n",
      "Inner SEI on cracks concentration [mol.m-3]\n",
      "Lithium plating concentration\n",
      "Lithium plating concentration [mol.m-3]\n",
      "Maximum negative particle concentration\n",
      "Maximum negative particle concentration [mol.m-3]\n",
      "Maximum negative particle surface concentration\n",
      "Maximum negative particle surface concentration [mol.m-3]\n",
      "Maximum positive particle concentration\n",
      "Maximum positive particle concentration [mol.m-3]\n",
      "Maximum positive particle surface concentration\n",
      "Maximum positive particle surface concentration [mol.m-3]\n",
      "Minimum negative particle concentration\n",
      "Minimum negative particle concentration [mol.m-3]\n",
      "Minimum negative particle surface concentration\n",
      "Minimum negative particle surface concentration [mol.m-3]\n",
      "Minimum positive particle concentration\n",
      "Minimum positive particle concentration [mol.m-3]\n",
      "Minimum positive particle surface concentration\n",
      "Minimum positive particle surface concentration [mol.m-3]\n",
      "Negative electrode porosity times concentration\n",
      "Negative electrode volume-averaged concentration\n",
      "Negative electrode volume-averaged concentration [mol.m-3]\n",
      "Negative electrolyte concentration\n",
      "Negative electrolyte concentration [Molar]\n",
      "Negative electrolyte concentration [mol.m-3]\n",
      "Negative particle concentration\n",
      "Negative particle concentration [mol.m-3]\n",
      "Negative particle surface concentration\n",
      "Negative particle surface concentration [mol.m-3]\n",
      "Outer SEI concentration [mol.m-3]\n",
      "Outer SEI on cracks concentration [mol.m-3]\n",
      "Porosity times concentration\n",
      "Positive electrode porosity times concentration\n",
      "Positive electrode volume-averaged concentration\n",
      "Positive electrode volume-averaged concentration [mol.m-3]\n",
      "Positive electrolyte concentration\n",
      "Positive electrolyte concentration [Molar]\n",
      "Positive electrolyte concentration [mol.m-3]\n",
      "Positive particle concentration\n",
      "Positive particle concentration [mol.m-3]\n",
      "Positive particle surface concentration\n",
      "Positive particle surface concentration [mol.m-3]\n",
      "R-averaged negative particle concentration\n",
      "R-averaged negative particle concentration [mol.m-3]\n",
      "R-averaged positive particle concentration\n",
      "R-averaged positive particle concentration [mol.m-3]\n",
      "SEI concentration [mol.m-3]\n",
      "SEI on cracks concentration [mol.m-3]\n",
      "Separator electrolyte concentration\n",
      "Separator electrolyte concentration [Molar]\n",
      "Separator electrolyte concentration [mol.m-3]\n",
      "Separator porosity times concentration\n",
      "X-averaged SEI concentration [mol.m-3]\n",
      "X-averaged SEI on cracks concentration [mol.m-3]\n",
      "X-averaged battery concentration overpotential [V]\n",
      "X-averaged concentration overpotential\n",
      "X-averaged concentration overpotential [V]\n",
      "X-averaged dead lithium concentration\n",
      "X-averaged dead lithium concentration [mol.m-3]\n",
      "X-averaged electrolyte concentration\n",
      "X-averaged electrolyte concentration [Molar]\n",
      "X-averaged electrolyte concentration [mol.m-3]\n",
      "X-averaged inner SEI concentration [mol.m-3]\n",
      "X-averaged inner SEI on cracks concentration [mol.m-3]\n",
      "X-averaged lithium plating concentration\n",
      "X-averaged lithium plating concentration [mol.m-3]\n",
      "X-averaged negative electrolyte concentration\n",
      "X-averaged negative electrolyte concentration [Molar]\n",
      "X-averaged negative electrolyte concentration [mol.m-3]\n",
      "X-averaged negative particle concentration\n",
      "X-averaged negative particle concentration [mol.m-3]\n",
      "X-averaged negative particle surface concentration\n",
      "X-averaged negative particle surface concentration [mol.m-3]\n",
      "X-averaged outer SEI concentration [mol.m-3]\n",
      "X-averaged outer SEI on cracks concentration [mol.m-3]\n",
      "X-averaged positive electrolyte concentration\n",
      "X-averaged positive electrolyte concentration [Molar]\n",
      "X-averaged positive electrolyte concentration [mol.m-3]\n",
      "X-averaged positive particle concentration\n",
      "X-averaged positive particle concentration [mol.m-3]\n",
      "X-averaged positive particle surface concentration\n",
      "X-averaged positive particle surface concentration [mol.m-3]\n",
      "X-averaged separator electrolyte concentration\n",
      "X-averaged separator electrolyte concentration [Molar]\n",
      "X-averaged separator electrolyte concentration [mol.m-3]\n"
     ]
    }
   ],
   "source": [
    "spm.variables.search(\"concentration\")"
   ]
  },
  {
   "cell_type": "code",
   "execution_count": 52,
   "id": "a5945dfe",
   "metadata": {},
   "outputs": [],
   "source": [
    "cpe = spm.variables[\"Positive electrode volume-averaged concentration [mol.m-3]\"]\n",
    "cxa = spm.variables[\"X-averaged positive particle concentration [mol.m-3]\"]\n"
   ]
  },
  {
   "cell_type": "code",
   "execution_count": 53,
   "id": "c9309a19",
   "metadata": {},
   "outputs": [
    {
     "data": {
      "text/plain": [
       "['current collector']"
      ]
     },
     "execution_count": 53,
     "metadata": {},
     "output_type": "execute_result"
    }
   ],
   "source": [
    "cpe.domain"
   ]
  },
  {
   "cell_type": "code",
   "execution_count": 54,
   "id": "297f4d85",
   "metadata": {},
   "outputs": [
    {
     "data": {
      "text/plain": [
       "['positive particle']"
      ]
     },
     "execution_count": 54,
     "metadata": {},
     "output_type": "execute_result"
    }
   ],
   "source": [
    "cxa.domain"
   ]
  },
  {
   "cell_type": "code",
   "execution_count": 55,
   "id": "02c88a3f",
   "metadata": {},
   "outputs": [
    {
     "name": "stdout",
     "output_type": "stream",
     "text": [
      "x_n has 20 mesh points\n",
      "x_s has 20 mesh points\n",
      "x_p has 20 mesh points\n",
      "r_n has 20 mesh points\n",
      "r_p has 20 mesh points\n",
      "r_n_prim has 20 mesh points\n",
      "r_p_prim has 20 mesh points\n",
      "r_n_sec has 20 mesh points\n",
      "r_p_sec has 20 mesh points\n",
      "y has 10 mesh points\n",
      "z has 10 mesh points\n",
      "R_n has 30 mesh points\n",
      "R_p has 30 mesh points\n"
     ]
    }
   ],
   "source": [
    "for var, npts in spm.default_var_pts.items():\n",
    "    print(var,'has', npts,'mesh points')"
   ]
  },
  {
   "cell_type": "code",
   "execution_count": 56,
   "id": "11adf1d6",
   "metadata": {},
   "outputs": [
    {
     "name": "stderr",
     "output_type": "stream",
     "text": [
      "2022-11-30 12:26:56.943 - [INFO] parameter_values.process_model(371): Start setting parameters for Single Particle Model\n",
      "2022-11-30 12:26:57.015 - [INFO] parameter_values.process_model(474): Finish setting parameters for Single Particle Model\n",
      "2022-11-30 12:26:57.018 - [INFO] discretisation.process_model(149): Start discretising Single Particle Model\n",
      "2022-11-30 12:26:57.021 - [INFO] discretisation.remove_independent_variables_from_rhs(1199): removing variable Discharge capacity [A.h] from rhs\n",
      "2022-11-30 12:26:57.267 - [INFO] discretisation.process_model(271): Finish discretising Single Particle Model\n",
      "2022-11-30 12:26:57.268 - [INFO] base_solver.solve(703): Start solving Single Particle Model with CasADi solver with 'safe' mode\n",
      "2022-11-30 12:26:57.271 - [INFO] base_solver.set_up(110): Start solver set-up\n",
      "2022-11-30 12:26:57.294 - [INFO] base_solver.set_up(235): Finish solver set-up\n",
      "2022-11-30 12:26:57.315 - [INFO] base_solver.solve(936): Finish solving Single Particle Model (the solver successfully reached the end of the integration interval)\n",
      "2022-11-30 12:26:57.316 - [INFO] base_solver.solve(937): Set-up time: 24.748 ms, Solve time: 19.700 ms (of which integration time: 2.600 ms), Total time: 44.448 ms\n"
     ]
    },
    {
     "data": {
      "text/plain": [
       "<pybamm.solvers.solution.Solution at 0x19ebe90c2b0>"
      ]
     },
     "execution_count": 56,
     "metadata": {},
     "output_type": "execute_result"
    }
   ],
   "source": [
    "sim = pybamm.Simulation(spm)\n",
    "sim.solve(t_eval=[0,3600])"
   ]
  },
  {
   "cell_type": "code",
   "execution_count": 57,
   "id": "b306eb86",
   "metadata": {},
   "outputs": [
    {
     "data": {
      "application/vnd.jupyter.widget-view+json": {
       "model_id": "c08defdbf36c4dc1bb4d21da6a734f36",
       "version_major": 2,
       "version_minor": 0
      },
      "text/plain": [
       "interactive(children=(FloatSlider(value=0.0, description='t', max=1.0, step=0.01), Output()), _dom_classes=('w…"
      ]
     },
     "metadata": {},
     "output_type": "display_data"
    },
    {
     "data": {
      "text/plain": [
       "<pybamm.plotting.quick_plot.QuickPlot at 0x19ebaf539a0>"
      ]
     },
     "execution_count": 57,
     "metadata": {},
     "output_type": "execute_result"
    }
   ],
   "source": [
    "#Plot variables depending on R\n",
    "output_vars = [\n",
    "    \n",
    "               \"X-averaged positive particle concentration [mol.m-3]\",\n",
    "               \"X-averaged negative particle concentration [mol.m-3]\",\n",
    "               \"Terminal voltage [V]\",\n",
    "               \"Positive particle surface concentration [mol.m-3]\",\n",
    "               \"Negative particle surface concentration [mol.m-3]\",\n",
    "               \"Electrolyte concentration [mol.m-3]\",\n",
    "               \n",
    "              ]\n",
    "\n",
    "# plot\n",
    "sim.plot(output_variables = output_vars)"
   ]
  },
  {
   "cell_type": "code",
   "execution_count": null,
   "id": "c632533b",
   "metadata": {},
   "outputs": [],
   "source": [
    "# plot\n",
    "pb.dynamic_plot(\n",
    "    sols,\n",
    "    [\n",
    "        \"Terminal voltage [V]\",\n",
    "        \"Electrolyte potential [V]\",\n",
    "    ],\n",
    ")"
   ]
  },
  {
   "cell_type": "code",
   "execution_count": 26,
   "id": "547d823f",
   "metadata": {},
   "outputs": [
    {
     "data": {
      "application/vnd.jupyter.widget-view+json": {
       "model_id": "ce0d9ad6f2224116b45ce0d07e695b0c",
       "version_major": 2,
       "version_minor": 0
      },
      "text/plain": [
       "interactive(children=(FloatSlider(value=0.0, description='t', max=3567.8533292781535, step=35.67853329278154),…"
      ]
     },
     "metadata": {},
     "output_type": "display_data"
    },
    {
     "data": {
      "text/plain": [
       "<pybamm.plotting.quick_plot.QuickPlot at 0x19ebbe6d370>"
      ]
     },
     "execution_count": 26,
     "metadata": {},
     "output_type": "execute_result"
    }
   ],
   "source": [
    "pb.dynamic_plot(sols, [\n",
    "    \"Positive particle surface concentration [mol.m-3]\",\n",
    "    \"Negative particle surface concentration [mol.m-3]\",\n",
    "    \"Electrolyte concentration [mol.m-3]\",\n",
    "    ]\n",
    " )"
   ]
  },
  {
   "cell_type": "code",
   "execution_count": 59,
   "id": "3e1f7032",
   "metadata": {},
   "outputs": [
    {
     "ename": "TypeError",
     "evalue": "list indices must be integers or slices, not tuple",
     "output_type": "error",
     "traceback": [
      "\u001b[1;31m---------------------------------------------------------------------------\u001b[0m",
      "\u001b[1;31mTypeError\u001b[0m                                 Traceback (most recent call last)",
      "Input \u001b[1;32mIn [59]\u001b[0m, in \u001b[0;36m<cell line: 1>\u001b[1;34m()\u001b[0m\n\u001b[1;32m----> 1\u001b[0m \u001b[43mpb\u001b[49m\u001b[38;5;241;43m.\u001b[39;49m\u001b[43mSolution\u001b[49m\u001b[43m(\u001b[49m\n\u001b[0;32m      2\u001b[0m \u001b[43m     \u001b[49m\u001b[43m[\u001b[49m\u001b[38;5;241;43m1\u001b[39;49m\u001b[43m,\u001b[49m\u001b[38;5;241;43m45\u001b[39;49m\u001b[43m]\u001b[49m\u001b[43m,\u001b[49m\u001b[43m \u001b[49m\n\u001b[0;32m      3\u001b[0m \u001b[43m     \u001b[49m\u001b[43m[\u001b[49m\u001b[43m[\u001b[49m\u001b[38;5;241;43m2\u001b[39;49m\u001b[43m,\u001b[49m\u001b[43m \u001b[49m\u001b[38;5;241;43m1\u001b[39;49m\u001b[43m]\u001b[49m\u001b[43m,\u001b[49m\u001b[43m[\u001b[49m\u001b[38;5;241;43m2\u001b[39;49m\u001b[43m,\u001b[49m\u001b[43m \u001b[49m\u001b[38;5;241;43m1\u001b[39;49m\u001b[43m]\u001b[49m\u001b[43m]\u001b[49m\u001b[43m,\u001b[49m\u001b[43m \u001b[49m\n\u001b[0;32m      4\u001b[0m \u001b[43m     \u001b[49m\u001b[43mmodels\u001b[49m\u001b[43m,\u001b[49m\u001b[43m \u001b[49m\n\u001b[0;32m      5\u001b[0m \u001b[43m     \u001b[49m\u001b[43m[\u001b[49m\u001b[38;5;124;43m\"\u001b[39;49m\u001b[38;5;124;43mPositive particle surface concentration [mol.m-3]\u001b[39;49m\u001b[38;5;124;43m\"\u001b[39;49m\u001b[43m]\u001b[49m\u001b[43m,\u001b[49m\u001b[43m \u001b[49m\n\u001b[0;32m      6\u001b[0m \u001b[43m     \u001b[49m\u001b[43mt_event\u001b[49m\u001b[38;5;241;43m=\u001b[39;49m\u001b[38;5;28;43;01mNone\u001b[39;49;00m\u001b[43m,\u001b[49m\u001b[43m \u001b[49m\n\u001b[0;32m      7\u001b[0m \u001b[43m     \u001b[49m\u001b[43my_event\u001b[49m\u001b[38;5;241;43m=\u001b[39;49m\u001b[38;5;28;43;01mNone\u001b[39;49;00m\u001b[43m,\u001b[49m\u001b[43m \u001b[49m\n\u001b[0;32m      8\u001b[0m \u001b[43m     \u001b[49m\u001b[43mtermination\u001b[49m\u001b[38;5;241;43m=\u001b[39;49m\u001b[38;5;124;43m'\u001b[39;49m\u001b[38;5;124;43mfinal time\u001b[39;49m\u001b[38;5;124;43m'\u001b[39;49m\u001b[43m,\u001b[49m\u001b[43m \u001b[49m\n\u001b[0;32m      9\u001b[0m \u001b[43m     \u001b[49m\u001b[43msensitivities\u001b[49m\u001b[38;5;241;43m=\u001b[39;49m\u001b[38;5;28;43;01mFalse\u001b[39;49;00m\u001b[43m,\u001b[49m\u001b[43m \u001b[49m\n\u001b[0;32m     10\u001b[0m \u001b[43m     \u001b[49m\u001b[43mcheck_solution\u001b[49m\u001b[38;5;241;43m=\u001b[39;49m\u001b[38;5;28;43;01mTrue\u001b[39;49;00m\n\u001b[0;32m     11\u001b[0m \u001b[43m \u001b[49m\u001b[43m)\u001b[49m\n",
      "File \u001b[1;32m~\\OneDrive - IREC-edu\\PROGRAMS\\Python\\env\\lib\\site-packages\\pybamm\\solvers\\solution.py:107\u001b[0m, in \u001b[0;36mSolution.__init__\u001b[1;34m(self, all_ts, all_ys, all_models, all_inputs, t_event, y_event, termination, sensitivities, check_solution)\u001b[0m\n\u001b[0;32m    105\u001b[0m \u001b[38;5;66;03m# Check no ys are too large\u001b[39;00m\n\u001b[0;32m    106\u001b[0m \u001b[38;5;28;01mif\u001b[39;00m check_solution:\n\u001b[1;32m--> 107\u001b[0m     \u001b[38;5;28;43mself\u001b[39;49m\u001b[38;5;241;43m.\u001b[39;49m\u001b[43mcheck_ys_are_not_too_large\u001b[49m\u001b[43m(\u001b[49m\u001b[43m)\u001b[49m\n\u001b[0;32m    109\u001b[0m \u001b[38;5;66;03m# Copy the timescale_eval and lengthscale_evals if they exist\u001b[39;00m\n\u001b[0;32m    110\u001b[0m \u001b[38;5;28;01mif\u001b[39;00m \u001b[38;5;28mhasattr\u001b[39m(all_models[\u001b[38;5;241m0\u001b[39m], \u001b[38;5;124m\"\u001b[39m\u001b[38;5;124mtimescale_eval\u001b[39m\u001b[38;5;124m\"\u001b[39m):\n",
      "File \u001b[1;32m~\\OneDrive - IREC-edu\\PROGRAMS\\Python\\env\\lib\\site-packages\\pybamm\\solvers\\solution.py:321\u001b[0m, in \u001b[0;36mSolution.check_ys_are_not_too_large\u001b[1;34m(self)\u001b[0m\n\u001b[0;32m    316\u001b[0m \u001b[38;5;28;01mdef\u001b[39;00m \u001b[38;5;21mcheck_ys_are_not_too_large\u001b[39m(\u001b[38;5;28mself\u001b[39m):\n\u001b[0;32m    317\u001b[0m     \u001b[38;5;66;03m# Only check last one so that it doesn't take too long\u001b[39;00m\n\u001b[0;32m    318\u001b[0m     \u001b[38;5;66;03m# We only care about the cases where y is growing too large without any\u001b[39;00m\n\u001b[0;32m    319\u001b[0m     \u001b[38;5;66;03m# restraint, so if y gets large in the middle then comes back down that is ok\u001b[39;00m\n\u001b[0;32m    320\u001b[0m     y, model \u001b[38;5;241m=\u001b[39m \u001b[38;5;28mself\u001b[39m\u001b[38;5;241m.\u001b[39mall_ys[\u001b[38;5;241m-\u001b[39m\u001b[38;5;241m1\u001b[39m], \u001b[38;5;28mself\u001b[39m\u001b[38;5;241m.\u001b[39mall_models[\u001b[38;5;241m-\u001b[39m\u001b[38;5;241m1\u001b[39m]\n\u001b[1;32m--> 321\u001b[0m     y \u001b[38;5;241m=\u001b[39m \u001b[43my\u001b[49m\u001b[43m[\u001b[49m\u001b[43m:\u001b[49m\u001b[43m,\u001b[49m\u001b[43m \u001b[49m\u001b[38;5;241;43m-\u001b[39;49m\u001b[38;5;241;43m1\u001b[39;49m\u001b[43m]\u001b[49m\n\u001b[0;32m    322\u001b[0m     \u001b[38;5;28;01mif\u001b[39;00m np\u001b[38;5;241m.\u001b[39many(y \u001b[38;5;241m>\u001b[39m pybamm\u001b[38;5;241m.\u001b[39msettings\u001b[38;5;241m.\u001b[39mmax_y_value):\n\u001b[0;32m    323\u001b[0m         \u001b[38;5;28;01mfor\u001b[39;00m var \u001b[38;5;129;01min\u001b[39;00m [\u001b[38;5;241m*\u001b[39mmodel\u001b[38;5;241m.\u001b[39mrhs\u001b[38;5;241m.\u001b[39mkeys(), \u001b[38;5;241m*\u001b[39mmodel\u001b[38;5;241m.\u001b[39malgebraic\u001b[38;5;241m.\u001b[39mkeys()]:\n",
      "\u001b[1;31mTypeError\u001b[0m: list indices must be integers or slices, not tuple"
     ]
    }
   ],
   "source": [
    "pb.Solution(\n",
    "     [1,45], \n",
    "     [[2, 1],[2, 1]], \n",
    "     models, \n",
    "     [\"Positive particle surface concentration [mol.m-3]\"], \n",
    "     t_event=None, \n",
    "     y_event=None, \n",
    "     termination='final time', \n",
    "     sensitivities=False, \n",
    "     check_solution=True\n",
    " )"
   ]
  },
  {
   "cell_type": "code",
   "execution_count": null,
   "id": "bc7f0ec9",
   "metadata": {},
   "outputs": [],
   "source": []
  }
 ],
 "metadata": {
  "kernelspec": {
   "display_name": "Python 3 (ipykernel)",
   "language": "python",
   "name": "python3"
  },
  "language_info": {
   "codemirror_mode": {
    "name": "ipython",
    "version": 3
   },
   "file_extension": ".py",
   "mimetype": "text/x-python",
   "name": "python",
   "nbconvert_exporter": "python",
   "pygments_lexer": "ipython3",
   "version": "3.9.13"
  }
 },
 "nbformat": 4,
 "nbformat_minor": 5
}

{
 "cells": [
  {
   "cell_type": "code",
   "execution_count": 1,
   "id": "16462a29",
   "metadata": {},
   "outputs": [],
   "source": [
    "import pybamm as pb\n",
    "import matplotlib.pyplot as plt"
   ]
  },
  {
   "cell_type": "code",
   "execution_count": 8,
   "id": "62bdaae0",
   "metadata": {},
   "outputs": [
    {
     "name": "stderr",
     "output_type": "stream",
     "text": [
      "2022-11-30 11:17:35.317 - [INFO] base_model._build_model(572): Start building Single Particle Model\n",
      "2022-11-30 11:17:35.427 - [INFO] base_battery_model.build_model(1019): Finish building Single Particle Model\n",
      "2022-11-30 11:17:35.529 - [INFO] base_model._build_model(572): Start building Single Particle Model with electrolyte\n",
      "2022-11-30 11:17:35.675 - [INFO] base_battery_model.build_model(1019): Finish building Single Particle Model with electrolyte\n",
      "2022-11-30 11:17:35.775 - [INFO] base_model._build_model(572): Start building Doyle-Fuller-Newman model\n",
      "2022-11-30 11:17:35.924 - [INFO] base_battery_model.build_model(1019): Finish building Doyle-Fuller-Newman model\n"
     ]
    }
   ],
   "source": [
    "pb.set_logging_level(\"INFO\")\n",
    "\n",
    "# Define the Models, problem with {\"working electrode\": \"positive\"}??\n",
    "models = [\n",
    "    pb.lithium_ion.SPM(),\n",
    "    pb.lithium_ion.SPMe(),\n",
    "    pb.lithium_ion.DFN(),\n",
    "]\n",
    "\n",
    "# Define the Chemistry\n",
    "parameter_values = pb.ParameterValues(\"Chen2020\")\n",
    "\n",
    "# Experiment\n",
    "\n",
    "experiment = pb.Experiment([\"Discharge at 1C until 2.5 V\"])\n"
   ]
  },
  {
   "cell_type": "code",
   "execution_count": 15,
   "id": "e4980b88",
   "metadata": {},
   "outputs": [
    {
     "name": "stderr",
     "output_type": "stream",
     "text": [
      "2022-11-30 11:22:01.170 - [INFO] callbacks.on_experiment_start(166): Start running experiment\n"
     ]
    },
    {
     "ename": "KeyError",
     "evalue": "\"'Battery voltage [V]' not found. Best matches are []\"",
     "output_type": "error",
     "traceback": [
      "\u001b[1;31m---------------------------------------------------------------------------\u001b[0m",
      "\u001b[1;31mKeyError\u001b[0m                                  Traceback (most recent call last)",
      "File \u001b[1;32m~\\OneDrive - IREC-edu\\PROGRAMS\\Python\\env\\lib\\site-packages\\pybamm\\util.py:58\u001b[0m, in \u001b[0;36mFuzzyDict.__getitem__\u001b[1;34m(self, key)\u001b[0m\n\u001b[0;32m     57\u001b[0m \u001b[38;5;28;01mtry\u001b[39;00m:\n\u001b[1;32m---> 58\u001b[0m     \u001b[38;5;28;01mreturn\u001b[39;00m \u001b[38;5;28;43msuper\u001b[39;49m\u001b[43m(\u001b[49m\u001b[43m)\u001b[49m\u001b[38;5;241;43m.\u001b[39;49m\u001b[38;5;21;43m__getitem__\u001b[39;49m\u001b[43m(\u001b[49m\u001b[43mkey\u001b[49m\u001b[43m)\u001b[49m\n\u001b[0;32m     59\u001b[0m \u001b[38;5;28;01mexcept\u001b[39;00m \u001b[38;5;167;01mKeyError\u001b[39;00m:\n",
      "\u001b[1;31mKeyError\u001b[0m: 'Battery voltage [V]'",
      "\nDuring handling of the above exception, another exception occurred:\n",
      "\u001b[1;31mKeyError\u001b[0m                                  Traceback (most recent call last)",
      "Input \u001b[1;32mIn [15]\u001b[0m, in \u001b[0;36m<cell line: 18>\u001b[1;34m()\u001b[0m\n\u001b[0;32m     20\u001b[0m model\u001b[38;5;241m.\u001b[39mvariables \u001b[38;5;241m=\u001b[39m {\n\u001b[0;32m     21\u001b[0m \u001b[38;5;124m\"\u001b[39m\u001b[38;5;124mPositive particle surface concentration [mol.m-3]\u001b[39m\u001b[38;5;124m\"\u001b[39m: c_surf,\n\u001b[0;32m     22\u001b[0m \u001b[38;5;124m\"\u001b[39m\u001b[38;5;124mAverage positive particle surface concentration [mol.m-3]\u001b[39m\u001b[38;5;124m\"\u001b[39m: pb\u001b[38;5;241m.\u001b[39mx_average(c_surf),\n\u001b[0;32m     23\u001b[0m }\n\u001b[0;32m     25\u001b[0m sim \u001b[38;5;241m=\u001b[39m pb\u001b[38;5;241m.\u001b[39mSimulation(model, experiment\u001b[38;5;241m=\u001b[39mexperiment, parameter_values\u001b[38;5;241m=\u001b[39mparameter_values, solver\u001b[38;5;241m=\u001b[39mpb\u001b[38;5;241m.\u001b[39mCasadiSolver())\n\u001b[1;32m---> 26\u001b[0m sol \u001b[38;5;241m=\u001b[39m \u001b[43msim\u001b[49m\u001b[38;5;241;43m.\u001b[39;49m\u001b[43msolve\u001b[49m\u001b[43m(\u001b[49m\u001b[43m)\u001b[49m\n\u001b[0;32m     27\u001b[0m sols\u001b[38;5;241m.\u001b[39mappend(sim)\n",
      "File \u001b[1;32m~\\OneDrive - IREC-edu\\PROGRAMS\\Python\\env\\lib\\site-packages\\pybamm\\simulation.py:620\u001b[0m, in \u001b[0;36mSimulation.solve\u001b[1;34m(self, t_eval, solver, check_model, save_at_cycles, calc_esoh, starting_solution, initial_soc, callbacks, **kwargs)\u001b[0m\n\u001b[0;32m    618\u001b[0m \u001b[38;5;28;01melif\u001b[39;00m \u001b[38;5;28mself\u001b[39m\u001b[38;5;241m.\u001b[39moperating_mode \u001b[38;5;241m==\u001b[39m \u001b[38;5;124m\"\u001b[39m\u001b[38;5;124mwith experiment\u001b[39m\u001b[38;5;124m\"\u001b[39m:\n\u001b[0;32m    619\u001b[0m     callbacks\u001b[38;5;241m.\u001b[39mon_experiment_start(logs)\n\u001b[1;32m--> 620\u001b[0m     \u001b[38;5;28;43mself\u001b[39;49m\u001b[38;5;241;43m.\u001b[39;49m\u001b[43mbuild_for_experiment\u001b[49m\u001b[43m(\u001b[49m\u001b[43mcheck_model\u001b[49m\u001b[38;5;241;43m=\u001b[39;49m\u001b[43mcheck_model\u001b[49m\u001b[43m,\u001b[49m\u001b[43m \u001b[49m\u001b[43minitial_soc\u001b[49m\u001b[38;5;241;43m=\u001b[39;49m\u001b[43minitial_soc\u001b[49m\u001b[43m)\u001b[49m\n\u001b[0;32m    621\u001b[0m     \u001b[38;5;28;01mif\u001b[39;00m t_eval \u001b[38;5;129;01mis\u001b[39;00m \u001b[38;5;129;01mnot\u001b[39;00m \u001b[38;5;28;01mNone\u001b[39;00m:\n\u001b[0;32m    622\u001b[0m         pybamm\u001b[38;5;241m.\u001b[39mlogger\u001b[38;5;241m.\u001b[39mwarning(\n\u001b[0;32m    623\u001b[0m             \u001b[38;5;124m\"\u001b[39m\u001b[38;5;124mIgnoring t_eval as solution times are specified by the experiment\u001b[39m\u001b[38;5;124m\"\u001b[39m\n\u001b[0;32m    624\u001b[0m         )\n",
      "File \u001b[1;32m~\\OneDrive - IREC-edu\\PROGRAMS\\Python\\env\\lib\\site-packages\\pybamm\\simulation.py:454\u001b[0m, in \u001b[0;36mSimulation.build_for_experiment\u001b[1;34m(self, check_model, initial_soc)\u001b[0m\n\u001b[0;32m    452\u001b[0m     \u001b[38;5;28;01mreturn\u001b[39;00m\n\u001b[0;32m    453\u001b[0m \u001b[38;5;28;01melse\u001b[39;00m:\n\u001b[1;32m--> 454\u001b[0m     \u001b[38;5;28;43mself\u001b[39;49m\u001b[38;5;241;43m.\u001b[39;49m\u001b[43mset_up_and_parameterise_experiment\u001b[49m\u001b[43m(\u001b[49m\u001b[43m)\u001b[49m\n\u001b[0;32m    456\u001b[0m     \u001b[38;5;66;03m# Can process geometry with default parameter values (only electrical\u001b[39;00m\n\u001b[0;32m    457\u001b[0m     \u001b[38;5;66;03m# parameters change between parameter values)\u001b[39;00m\n\u001b[0;32m    458\u001b[0m     \u001b[38;5;28mself\u001b[39m\u001b[38;5;241m.\u001b[39m_parameter_values\u001b[38;5;241m.\u001b[39mprocess_geometry(\u001b[38;5;28mself\u001b[39m\u001b[38;5;241m.\u001b[39m_geometry)\n",
      "File \u001b[1;32m~\\OneDrive - IREC-edu\\PROGRAMS\\Python\\env\\lib\\site-packages\\pybamm\\simulation.py:199\u001b[0m, in \u001b[0;36mSimulation.set_up_and_parameterise_experiment\u001b[1;34m(self)\u001b[0m\n\u001b[0;32m    196\u001b[0m     op_conds[\u001b[38;5;124m\"\u001b[39m\u001b[38;5;124mtime\u001b[39m\u001b[38;5;124m\"\u001b[39m] \u001b[38;5;241m=\u001b[39m dt\n\u001b[0;32m    198\u001b[0m \u001b[38;5;66;03m# Set up model for experiment\u001b[39;00m\n\u001b[1;32m--> 199\u001b[0m \u001b[38;5;28;43mself\u001b[39;49m\u001b[38;5;241;43m.\u001b[39;49m\u001b[43mset_up_and_parameterise_model_for_experiment\u001b[49m\u001b[43m(\u001b[49m\u001b[43m)\u001b[49m\n",
      "File \u001b[1;32m~\\OneDrive - IREC-edu\\PROGRAMS\\Python\\env\\lib\\site-packages\\pybamm\\simulation.py:255\u001b[0m, in \u001b[0;36mSimulation.set_up_and_parameterise_model_for_experiment\u001b[1;34m(self)\u001b[0m\n\u001b[0;32m    251\u001b[0m \u001b[38;5;66;03m# Create a new model for this operating condition, since we will update\u001b[39;00m\n\u001b[0;32m    252\u001b[0m \u001b[38;5;66;03m# the events differently (based on parameter values and inputs) for\u001b[39;00m\n\u001b[0;32m    253\u001b[0m \u001b[38;5;66;03m# different models of the same type (current/voltage/power)\u001b[39;00m\n\u001b[0;32m    254\u001b[0m new_model \u001b[38;5;241m=\u001b[39m model\u001b[38;5;241m.\u001b[39mnew_copy()\n\u001b[1;32m--> 255\u001b[0m \u001b[38;5;28;43mself\u001b[39;49m\u001b[38;5;241;43m.\u001b[39;49m\u001b[43mupdate_new_model_events\u001b[49m\u001b[43m(\u001b[49m\u001b[43mnew_model\u001b[49m\u001b[43m,\u001b[49m\u001b[43m \u001b[49m\u001b[43mop\u001b[49m\u001b[43m)\u001b[49m\n\u001b[0;32m    256\u001b[0m \u001b[38;5;66;03m# Update parameter values\u001b[39;00m\n\u001b[0;32m    257\u001b[0m new_parameter_values \u001b[38;5;241m=\u001b[39m \u001b[38;5;28mself\u001b[39m\u001b[38;5;241m.\u001b[39mparameter_values\u001b[38;5;241m.\u001b[39mcopy()\n",
      "File \u001b[1;32m~\\OneDrive - IREC-edu\\PROGRAMS\\Python\\env\\lib\\site-packages\\pybamm\\simulation.py:327\u001b[0m, in \u001b[0;36mSimulation.update_new_model_events\u001b[1;34m(self, new_model, op)\u001b[0m\n\u001b[0;32m    318\u001b[0m         name \u001b[38;5;241m=\u001b[39m \u001b[38;5;124m\"\u001b[39m\u001b[38;5;124mCharge\u001b[39m\u001b[38;5;124m\"\u001b[39m\n\u001b[0;32m    319\u001b[0m     \u001b[38;5;28;01mif\u001b[39;00m sign \u001b[38;5;241m!=\u001b[39m \u001b[38;5;241m0\u001b[39m:\n\u001b[0;32m    320\u001b[0m         \u001b[38;5;66;03m# Event should be positive at initial conditions for both\u001b[39;00m\n\u001b[0;32m    321\u001b[0m         \u001b[38;5;66;03m# charge and discharge\u001b[39;00m\n\u001b[0;32m    322\u001b[0m         new_model\u001b[38;5;241m.\u001b[39mevents\u001b[38;5;241m.\u001b[39mappend(\n\u001b[0;32m    323\u001b[0m             pybamm\u001b[38;5;241m.\u001b[39mEvent(\n\u001b[0;32m    324\u001b[0m                 \u001b[38;5;124mf\u001b[39m\u001b[38;5;124m\"\u001b[39m\u001b[38;5;132;01m{\u001b[39;00mname\u001b[38;5;132;01m}\u001b[39;00m\u001b[38;5;124m voltage cut-off [V] [experiment]\u001b[39m\u001b[38;5;124m\"\u001b[39m,\n\u001b[0;32m    325\u001b[0m                 sign\n\u001b[0;32m    326\u001b[0m                 \u001b[38;5;241m*\u001b[39m (\n\u001b[1;32m--> 327\u001b[0m                     \u001b[43mnew_model\u001b[49m\u001b[38;5;241;43m.\u001b[39;49m\u001b[43mvariables\u001b[49m\u001b[43m[\u001b[49m\u001b[38;5;124;43m\"\u001b[39;49m\u001b[38;5;124;43mBattery voltage [V]\u001b[39;49m\u001b[38;5;124;43m\"\u001b[39;49m\u001b[43m]\u001b[49m\n\u001b[0;32m    328\u001b[0m                     \u001b[38;5;241m-\u001b[39m pybamm\u001b[38;5;241m.\u001b[39mInputParameter(\u001b[38;5;124m\"\u001b[39m\u001b[38;5;124mVoltage cut-off [V]\u001b[39m\u001b[38;5;124m\"\u001b[39m)\n\u001b[0;32m    329\u001b[0m                 ),\n\u001b[0;32m    330\u001b[0m             )\n\u001b[0;32m    331\u001b[0m         )\n\u001b[0;32m    333\u001b[0m \u001b[38;5;66;03m# Keep the min and max voltages as safeguards but add some tolerances\u001b[39;00m\n\u001b[0;32m    334\u001b[0m \u001b[38;5;66;03m# so that they are not triggered before the voltage limits in the\u001b[39;00m\n\u001b[0;32m    335\u001b[0m \u001b[38;5;66;03m# experiment\u001b[39;00m\n\u001b[0;32m    336\u001b[0m \u001b[38;5;28;01mfor\u001b[39;00m i, event \u001b[38;5;129;01min\u001b[39;00m \u001b[38;5;28menumerate\u001b[39m(new_model\u001b[38;5;241m.\u001b[39mevents):\n",
      "File \u001b[1;32m~\\OneDrive - IREC-edu\\PROGRAMS\\Python\\env\\lib\\site-packages\\pybamm\\util.py:61\u001b[0m, in \u001b[0;36mFuzzyDict.__getitem__\u001b[1;34m(self, key)\u001b[0m\n\u001b[0;32m     59\u001b[0m \u001b[38;5;28;01mexcept\u001b[39;00m \u001b[38;5;167;01mKeyError\u001b[39;00m:\n\u001b[0;32m     60\u001b[0m     best_matches \u001b[38;5;241m=\u001b[39m \u001b[38;5;28mself\u001b[39m\u001b[38;5;241m.\u001b[39mget_best_matches(key)\n\u001b[1;32m---> 61\u001b[0m     \u001b[38;5;28;01mraise\u001b[39;00m \u001b[38;5;167;01mKeyError\u001b[39;00m(\u001b[38;5;124mf\u001b[39m\u001b[38;5;124m\"\u001b[39m\u001b[38;5;124m'\u001b[39m\u001b[38;5;132;01m{\u001b[39;00mkey\u001b[38;5;132;01m}\u001b[39;00m\u001b[38;5;124m'\u001b[39m\u001b[38;5;124m not found. Best matches are \u001b[39m\u001b[38;5;132;01m{\u001b[39;00mbest_matches\u001b[38;5;132;01m}\u001b[39;00m\u001b[38;5;124m\"\u001b[39m)\n",
      "\u001b[1;31mKeyError\u001b[0m: \"'Battery voltage [V]' not found. Best matches are []\""
     ]
    }
   ],
   "source": [
    "pb.set_logging_level(\"INFO\")\n",
    "\n",
    "# Variables definition\n",
    "\n",
    "c = pb.Variable(\n",
    "    \"Positive particle concentration [mol.m-3]\",\n",
    "    domain=\"positive particle\",\n",
    "    auxiliary_domains={\n",
    "        \"secondary\": \"positive electrode\",\n",
    "    },\n",
    ")\n",
    "\n",
    "c_surf = pb.surf(c)  # get the surface concentration\n",
    "\n",
    "# Run simulations and Plot\n",
    "\n",
    "sols = []\n",
    "for model in models:\n",
    "    \n",
    "    model.variables = {\n",
    "    \"Positive particle surface concentration [mol.m-3]\": c_surf,\n",
    "    \"Average positive particle surface concentration [mol.m-3]\": pb.x_average(c_surf),\n",
    "    }\n",
    "\n",
    "    sim = pb.Simulation(model, experiment=experiment, parameter_values=parameter_values, solver=pb.CasadiSolver())\n",
    "    sol = sim.solve()\n",
    "    sols.append(sim)\n",
    "    \n",
    "\n",
    "\n",
    "    "
   ]
  },
  {
   "cell_type": "code",
   "execution_count": 14,
   "id": "a5945dfe",
   "metadata": {},
   "outputs": [
    {
     "ename": "NameError",
     "evalue": "name 'solution' is not defined",
     "output_type": "error",
     "traceback": [
      "\u001b[1;31m---------------------------------------------------------------------------\u001b[0m",
      "\u001b[1;31mNameError\u001b[0m                                 Traceback (most recent call last)",
      "Input \u001b[1;32mIn [14]\u001b[0m, in \u001b[0;36m<cell line: 2>\u001b[1;34m()\u001b[0m\n\u001b[0;32m      1\u001b[0m \u001b[38;5;66;03m# plot\u001b[39;00m\n\u001b[0;32m      2\u001b[0m pb\u001b[38;5;241m.\u001b[39mdynamic_plot(\n\u001b[1;32m----> 3\u001b[0m     \u001b[43msolution\u001b[49m,\n\u001b[0;32m      4\u001b[0m     [\n\u001b[0;32m      5\u001b[0m         \u001b[38;5;124m\"\u001b[39m\u001b[38;5;124mPositive electrode potential [V]\u001b[39m\u001b[38;5;124m\"\u001b[39m,\n\u001b[0;32m      6\u001b[0m         \u001b[38;5;124m\"\u001b[39m\u001b[38;5;124mElectrolyte potential [V]\u001b[39m\u001b[38;5;124m\"\u001b[39m,\n\u001b[0;32m      7\u001b[0m         \u001b[38;5;124m\"\u001b[39m\u001b[38;5;124mPositive particle surface concentration [mol.m-3]\u001b[39m\u001b[38;5;124m\"\u001b[39m,\n\u001b[0;32m      8\u001b[0m         \u001b[38;5;124m\"\u001b[39m\u001b[38;5;124mAverage positive particle surface concentration [mol.m-3]\u001b[39m\u001b[38;5;124m\"\u001b[39m,\n\u001b[0;32m      9\u001b[0m     ],\n\u001b[0;32m     10\u001b[0m )\n",
      "\u001b[1;31mNameError\u001b[0m: name 'solution' is not defined"
     ]
    }
   ],
   "source": [
    "# plot\n",
    "pb.dynamic_plot(\n",
    "    solution,\n",
    "    [\n",
    "        \"Positive electrode potential [V]\",\n",
    "        \"Electrolyte potential [V]\",\n",
    "        \"Positive particle surface concentration [mol.m-3]\",\n",
    "        \"Average positive particle surface concentration [mol.m-3]\",\n",
    "    ],\n",
    ")"
   ]
  },
  {
   "cell_type": "code",
   "execution_count": null,
   "id": "1ac4b41a",
   "metadata": {},
   "outputs": [],
   "source": []
  }
 ],
 "metadata": {
  "kernelspec": {
   "display_name": "Python 3 (ipykernel)",
   "language": "python",
   "name": "python3"
  },
  "language_info": {
   "codemirror_mode": {
    "name": "ipython",
    "version": 3
   },
   "file_extension": ".py",
   "mimetype": "text/x-python",
   "name": "python",
   "nbconvert_exporter": "python",
   "pygments_lexer": "ipython3",
   "version": "3.9.13"
  }
 },
 "nbformat": 4,
 "nbformat_minor": 5
}

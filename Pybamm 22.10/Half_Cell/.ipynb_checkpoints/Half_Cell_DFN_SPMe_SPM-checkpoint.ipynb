{
 "cells": [
  {
   "cell_type": "code",
   "execution_count": 13,
   "id": "5713c239",
   "metadata": {},
   "outputs": [],
   "source": [
    "#\n",
    "# Compare half-cell lithium-ion battery models\n",
    "#\n",
    "import pybamm\n",
    "import matplotlib.pyplot as plt"
   ]
  },
  {
   "cell_type": "code",
   "execution_count": 14,
   "id": "9b60b9ef",
   "metadata": {},
   "outputs": [
    {
     "name": "stderr",
     "output_type": "stream",
     "text": [
      "2022-12-02 13:13:51.881 - [INFO] base_model._build_model(572): Start building Single Particle Model\n",
      "2022-12-02 13:13:51.910 - [INFO] base_battery_model.build_model(1019): Finish building Single Particle Model\n",
      "2022-12-02 13:13:51.945 - [INFO] base_model._build_model(572): Start building Single Particle Model with electrolyte\n",
      "2022-12-02 13:13:52.082 - [INFO] base_battery_model.build_model(1019): Finish building Single Particle Model with electrolyte\n",
      "2022-12-02 13:13:52.132 - [INFO] base_model._build_model(572): Start building Doyle-Fuller-Newman model\n",
      "2022-12-02 13:13:52.168 - [INFO] base_battery_model.build_model(1019): Finish building Doyle-Fuller-Newman model\n"
     ]
    }
   ],
   "source": [
    "pybamm.set_logging_level(\"INFO\")\n",
    "\n",
    "# load models\n",
    "models = [\n",
    "    pybamm.lithium_ion.SPM({\"working electrode\": \"positive\"}),\n",
    "    pybamm.lithium_ion.SPMe({\"working electrode\": \"positive\"}),\n",
    "    pybamm.lithium_ion.DFN({\"working electrode\": \"positive\"}),\n",
    "]\n",
    "\n",
    "# Load Chemistry\n",
    "parameter_values = pybamm.ParameterValues(\"Chen2020\")"
   ]
  },
  {
   "cell_type": "code",
   "execution_count": 15,
   "id": "d26e443e",
   "metadata": {},
   "outputs": [
    {
     "name": "stderr",
     "output_type": "stream",
     "text": [
      "2022-12-02 13:13:53.631 - [INFO] callbacks.on_experiment_start(166): Start running experiment\n",
      "2022-12-02 13:13:53.635 - [INFO] parameter_values.process_model(371): Start setting parameters for Single Particle Model\n",
      "2022-12-02 13:13:53.675 - [INFO] parameter_values.process_model(474): Finish setting parameters for Single Particle Model\n",
      "2022-12-02 13:13:53.676 - [INFO] parameter_values.process_model(371): Start setting parameters for Single Particle Model\n",
      "2022-12-02 13:13:53.706 - [INFO] parameter_values.process_model(474): Finish setting parameters for Single Particle Model\n",
      "2022-12-02 13:13:53.708 - [INFO] parameter_values.process_model(371): Start setting parameters for Single Particle Model\n",
      "2022-12-02 13:13:53.736 - [INFO] parameter_values.process_model(474): Finish setting parameters for Single Particle Model\n",
      "2022-12-02 13:13:53.738 - [INFO] parameter_values.process_model(371): Start setting parameters for Single Particle Model\n",
      "2022-12-02 13:13:53.768 - [INFO] parameter_values.process_model(474): Finish setting parameters for Single Particle Model\n",
      "2022-12-02 13:13:53.771 - [INFO] discretisation.process_model(149): Start discretising Single Particle Model\n",
      "2022-12-02 13:13:53.773 - [INFO] discretisation.remove_independent_variables_from_rhs(1199): removing variable Discharge capacity [A.h] from rhs\n",
      "2022-12-02 13:13:53.851 - [INFO] discretisation.process_model(271): Finish discretising Single Particle Model\n",
      "2022-12-02 13:13:53.852 - [INFO] discretisation.process_model(149): Start discretising Single Particle Model\n",
      "2022-12-02 13:13:53.853 - [INFO] discretisation.remove_independent_variables_from_rhs(1199): removing variable Discharge capacity [A.h] from rhs\n",
      "2022-12-02 13:13:53.919 - [INFO] discretisation.process_model(271): Finish discretising Single Particle Model\n",
      "2022-12-02 13:13:53.920 - [INFO] discretisation.process_model(149): Start discretising Single Particle Model\n",
      "2022-12-02 13:13:53.921 - [INFO] discretisation.remove_independent_variables_from_rhs(1199): removing variable Discharge capacity [A.h] from rhs\n",
      "2022-12-02 13:13:53.992 - [INFO] discretisation.process_model(271): Finish discretising Single Particle Model\n",
      "2022-12-02 13:13:53.993 - [INFO] discretisation.process_model(149): Start discretising Single Particle Model\n",
      "2022-12-02 13:13:53.993 - [INFO] discretisation.remove_independent_variables_from_rhs(1199): removing variable Discharge capacity [A.h] from rhs\n",
      "2022-12-02 13:13:54.072 - [INFO] discretisation.process_model(271): Finish discretising Single Particle Model\n",
      "2022-12-02 13:13:54.072 - [NOTICE] callbacks.on_cycle_start(174): Cycle 1/5 (31.400 us elapsed) --------------------\n",
      "2022-12-02 13:13:54.072 - [NOTICE] callbacks.on_step_start(182): Cycle 1/5, step 1/1: Discharge at 1C until 2.5 V\n",
      "2022-12-02 13:13:54.072 - [INFO] base_solver.set_up(110): Start solver set-up\n",
      "2022-12-02 13:13:54.088 - [INFO] base_solver.set_up(235): Finish solver set-up\n",
      "2022-12-02 13:13:54.099 - [WARNING] callbacks.on_experiment_infeasible(233): \n",
      "\n",
      "\tExperiment is infeasible: 'event: Minimum voltage' was triggered during 'Discharge at 1C until 2.5 V'. The returned solution only contains up to step 1 of cycle 1. \n",
      "2022-12-02 13:13:54.119 - [NOTICE] callbacks.on_experiment_end(222): Finish experiment simulation, took 44.933 ms\n",
      "2022-12-02 13:13:54.121 - [INFO] callbacks.on_experiment_start(166): Start running experiment\n",
      "2022-12-02 13:13:54.122 - [INFO] parameter_values.process_model(371): Start setting parameters for Single Particle Model with electrolyte\n",
      "2022-12-02 13:13:54.175 - [INFO] parameter_values.process_model(474): Finish setting parameters for Single Particle Model with electrolyte\n",
      "2022-12-02 13:13:54.176 - [INFO] parameter_values.process_model(371): Start setting parameters for Single Particle Model with electrolyte\n",
      "2022-12-02 13:13:54.219 - [INFO] parameter_values.process_model(474): Finish setting parameters for Single Particle Model with electrolyte\n",
      "2022-12-02 13:13:54.220 - [INFO] parameter_values.process_model(371): Start setting parameters for Single Particle Model with electrolyte\n",
      "2022-12-02 13:13:54.267 - [INFO] parameter_values.process_model(474): Finish setting parameters for Single Particle Model with electrolyte\n",
      "2022-12-02 13:13:54.269 - [INFO] parameter_values.process_model(371): Start setting parameters for Single Particle Model with electrolyte\n",
      "2022-12-02 13:13:54.313 - [INFO] parameter_values.process_model(474): Finish setting parameters for Single Particle Model with electrolyte\n",
      "2022-12-02 13:13:54.316 - [INFO] discretisation.process_model(149): Start discretising Single Particle Model with electrolyte\n",
      "2022-12-02 13:13:54.319 - [INFO] discretisation.remove_independent_variables_from_rhs(1199): removing variable Discharge capacity [A.h] from rhs\n",
      "2022-12-02 13:13:54.501 - [INFO] discretisation.process_model(271): Finish discretising Single Particle Model with electrolyte\n",
      "2022-12-02 13:13:54.503 - [INFO] discretisation.process_model(149): Start discretising Single Particle Model with electrolyte\n",
      "2022-12-02 13:13:54.505 - [INFO] discretisation.remove_independent_variables_from_rhs(1199): removing variable Discharge capacity [A.h] from rhs\n",
      "2022-12-02 13:13:54.615 - [INFO] discretisation.process_model(271): Finish discretising Single Particle Model with electrolyte\n",
      "2022-12-02 13:13:54.616 - [INFO] discretisation.process_model(149): Start discretising Single Particle Model with electrolyte\n",
      "2022-12-02 13:13:54.618 - [INFO] discretisation.remove_independent_variables_from_rhs(1199): removing variable Discharge capacity [A.h] from rhs\n",
      "2022-12-02 13:13:54.774 - [INFO] discretisation.process_model(271): Finish discretising Single Particle Model with electrolyte\n",
      "2022-12-02 13:13:54.776 - [INFO] discretisation.process_model(149): Start discretising Single Particle Model with electrolyte\n",
      "2022-12-02 13:13:54.783 - [INFO] discretisation.remove_independent_variables_from_rhs(1199): removing variable Discharge capacity [A.h] from rhs\n",
      "2022-12-02 13:13:54.945 - [INFO] discretisation.process_model(271): Finish discretising Single Particle Model with electrolyte\n",
      "2022-12-02 13:13:54.946 - [NOTICE] callbacks.on_cycle_start(174): Cycle 1/5 (27.000 us elapsed) --------------------\n",
      "2022-12-02 13:13:54.946 - [NOTICE] callbacks.on_step_start(182): Cycle 1/5, step 1/1: Discharge at 1C until 2.5 V\n",
      "2022-12-02 13:13:54.948 - [INFO] base_solver.set_up(110): Start solver set-up\n",
      "2022-12-02 13:13:54.991 - [INFO] base_solver.set_up(235): Finish solver set-up\n",
      "2022-12-02 13:13:55.007 - [WARNING] callbacks.on_experiment_infeasible(233): \n",
      "\n",
      "\tExperiment is infeasible: 'event: Minimum voltage' was triggered during 'Discharge at 1C until 2.5 V'. The returned solution only contains up to step 1 of cycle 1. \n",
      "2022-12-02 13:13:55.042 - [NOTICE] callbacks.on_experiment_end(222): Finish experiment simulation, took 96.092 ms\n",
      "2022-12-02 13:13:55.043 - [INFO] callbacks.on_experiment_start(166): Start running experiment\n",
      "2022-12-02 13:13:55.045 - [INFO] parameter_values.process_model(371): Start setting parameters for Doyle-Fuller-Newman model\n",
      "2022-12-02 13:13:55.093 - [INFO] parameter_values.process_model(474): Finish setting parameters for Doyle-Fuller-Newman model\n",
      "2022-12-02 13:13:55.094 - [INFO] parameter_values.process_model(371): Start setting parameters for Doyle-Fuller-Newman model\n",
      "2022-12-02 13:13:55.139 - [INFO] parameter_values.process_model(474): Finish setting parameters for Doyle-Fuller-Newman model\n",
      "2022-12-02 13:13:55.141 - [INFO] parameter_values.process_model(371): Start setting parameters for Doyle-Fuller-Newman model\n",
      "2022-12-02 13:13:55.185 - [INFO] parameter_values.process_model(474): Finish setting parameters for Doyle-Fuller-Newman model\n",
      "2022-12-02 13:13:55.189 - [INFO] parameter_values.process_model(371): Start setting parameters for Doyle-Fuller-Newman model\n",
      "2022-12-02 13:13:55.235 - [INFO] parameter_values.process_model(474): Finish setting parameters for Doyle-Fuller-Newman model\n",
      "2022-12-02 13:13:55.236 - [INFO] discretisation.process_model(149): Start discretising Doyle-Fuller-Newman model\n",
      "2022-12-02 13:13:55.241 - [INFO] discretisation.remove_independent_variables_from_rhs(1199): removing variable Discharge capacity [A.h] from rhs\n",
      "2022-12-02 13:13:55.464 - [INFO] discretisation.process_model(271): Finish discretising Doyle-Fuller-Newman model\n"
     ]
    },
    {
     "name": "stderr",
     "output_type": "stream",
     "text": [
      "2022-12-02 13:13:55.465 - [INFO] discretisation.process_model(149): Start discretising Doyle-Fuller-Newman model\n",
      "2022-12-02 13:13:55.474 - [INFO] discretisation.remove_independent_variables_from_rhs(1199): removing variable Discharge capacity [A.h] from rhs\n",
      "2022-12-02 13:13:55.726 - [INFO] discretisation.process_model(271): Finish discretising Doyle-Fuller-Newman model\n",
      "2022-12-02 13:13:55.727 - [INFO] discretisation.process_model(149): Start discretising Doyle-Fuller-Newman model\n",
      "2022-12-02 13:13:55.730 - [INFO] discretisation.remove_independent_variables_from_rhs(1199): removing variable Discharge capacity [A.h] from rhs\n",
      "2022-12-02 13:13:55.912 - [INFO] discretisation.process_model(271): Finish discretising Doyle-Fuller-Newman model\n",
      "2022-12-02 13:13:55.912 - [INFO] discretisation.process_model(149): Start discretising Doyle-Fuller-Newman model\n",
      "2022-12-02 13:13:55.912 - [INFO] discretisation.remove_independent_variables_from_rhs(1199): removing variable Discharge capacity [A.h] from rhs\n",
      "2022-12-02 13:13:56.073 - [INFO] discretisation.process_model(271): Finish discretising Doyle-Fuller-Newman model\n",
      "2022-12-02 13:13:56.083 - [NOTICE] callbacks.on_cycle_start(174): Cycle 1/5 (28.200 us elapsed) --------------------\n",
      "2022-12-02 13:13:56.083 - [NOTICE] callbacks.on_step_start(182): Cycle 1/5, step 1/1: Discharge at 1C until 2.5 V\n",
      "2022-12-02 13:13:56.086 - [INFO] base_solver.set_up(110): Start solver set-up\n",
      "2022-12-02 13:13:56.147 - [INFO] base_solver.set_up(235): Finish solver set-up\n",
      "At t = 0.00491504, , mxstep steps taken before reaching tout.\n",
      "At t = 0.00491504 and h = 7.54643e-027, the corrector convergence failed repeatedly or with |h| = hmin.\n",
      "2022-12-02 13:13:57.353 - [WARNING] callbacks.on_experiment_infeasible(233): \n",
      "\n",
      "\tExperiment is infeasible: 'event: Minimum voltage' was triggered during 'Discharge at 1C until 2.5 V'. The returned solution only contains up to step 1 of cycle 1. \n",
      "2022-12-02 13:13:57.392 - [NOTICE] callbacks.on_experiment_end(222): Finish experiment simulation, took 1.310 s\n"
     ]
    }
   ],
   "source": [
    "#\n",
    "# GITT discharge\n",
    "#\n",
    "\n",
    "experiment = pybamm.Experiment(\n",
    "    [   \"Discharge at 1C until 2.5 V\",\n",
    "        \"Rest for 2 hours\",\n",
    "        \"Charge at C/3 until 4.2 V\",\n",
    "        \"Charge at 4.2 V until 5 mA\",\n",
    "        \"Rest for 2 hours\",\n",
    "    ],\n",
    ")\n",
    "\n",
    "# Run simulations\n",
    "sims = []\n",
    "for model in models:\n",
    "    sim = pb.Simulation(model, experiment=experiment, solver=pb.CasadiSolver())\n",
    "    sim.solve()\n",
    "    sims.append(sim)\n"
   ]
  },
  {
   "cell_type": "code",
   "execution_count": 16,
   "id": "e6b7ae37",
   "metadata": {},
   "outputs": [
    {
     "data": {
      "application/vnd.jupyter.widget-view+json": {
       "model_id": "a1e0271909564617b7197fdc4d11ec1e",
       "version_major": 2,
       "version_minor": 0
      },
      "text/plain": [
       "interactive(children=(FloatSlider(value=0.0, description='t', max=1.538590051057724, step=0.01538590051057724)…"
      ]
     },
     "metadata": {},
     "output_type": "display_data"
    },
    {
     "data": {
      "text/plain": [
       "<pybamm.plotting.quick_plot.QuickPlot at 0x1cc08311340>"
      ]
     },
     "execution_count": 16,
     "metadata": {},
     "output_type": "execute_result"
    }
   ],
   "source": [
    "# plot\n",
    "pybamm.dynamic_plot(sims)"
   ]
  },
  {
   "cell_type": "code",
   "execution_count": 17,
   "id": "b919e5af",
   "metadata": {},
   "outputs": [
    {
     "data": {
      "application/vnd.jupyter.widget-view+json": {
       "model_id": "53267383c1774f3295435eadddf7fe66",
       "version_major": 2,
       "version_minor": 0
      },
      "text/plain": [
       "interactive(children=(FloatSlider(value=0.0, description='t', max=1.538590051057724, step=0.01538590051057724)…"
      ]
     },
     "metadata": {},
     "output_type": "display_data"
    },
    {
     "data": {
      "text/plain": [
       "<pybamm.plotting.quick_plot.QuickPlot at 0x1cc08311880>"
      ]
     },
     "execution_count": 17,
     "metadata": {},
     "output_type": "execute_result"
    }
   ],
   "source": [
    "# plot\n",
    "pybamm.dynamic_plot(\n",
    "    sims,\n",
    "    [\n",
    "         \"Positive electrode interfacial current density [A.m-2]\",\n",
    "    ],\n",
    ")"
   ]
  },
  {
   "cell_type": "code",
   "execution_count": null,
   "id": "cf316c25",
   "metadata": {},
   "outputs": [],
   "source": []
  }
 ],
 "metadata": {
  "kernelspec": {
   "display_name": "Python 3 (ipykernel)",
   "language": "python",
   "name": "python3"
  },
  "language_info": {
   "codemirror_mode": {
    "name": "ipython",
    "version": 3
   },
   "file_extension": ".py",
   "mimetype": "text/x-python",
   "name": "python",
   "nbconvert_exporter": "python",
   "pygments_lexer": "ipython3",
   "version": "3.9.13"
  }
 },
 "nbformat": 4,
 "nbformat_minor": 5
}

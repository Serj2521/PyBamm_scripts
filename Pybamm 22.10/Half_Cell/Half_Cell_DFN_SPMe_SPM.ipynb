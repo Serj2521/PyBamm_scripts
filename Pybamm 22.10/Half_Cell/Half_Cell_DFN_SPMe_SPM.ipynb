{
 "cells": [
  {
   "cell_type": "code",
   "execution_count": 1,
   "id": "5713c239",
   "metadata": {},
   "outputs": [],
   "source": [
    "#\n",
    "# Compare half-cell lithium-ion battery models\n",
    "#\n",
    "import pybamm\n",
    "import matplotlib.pyplot as plt"
   ]
  },
  {
   "cell_type": "code",
   "execution_count": 2,
   "id": "9b60b9ef",
   "metadata": {},
   "outputs": [
    {
     "name": "stderr",
     "output_type": "stream",
     "text": [
      "2022-11-29 17:47:52.784 - [INFO] base_model._build_model(572): Start building Single Particle Model\n",
      "2022-11-29 17:47:52.840 - [INFO] base_battery_model.build_model(1019): Finish building Single Particle Model\n",
      "2022-11-29 17:47:52.880 - [INFO] base_model._build_model(572): Start building Single Particle Model with electrolyte\n",
      "2022-11-29 17:47:52.932 - [INFO] base_battery_model.build_model(1019): Finish building Single Particle Model with electrolyte\n",
      "2022-11-29 17:47:52.965 - [INFO] base_model._build_model(572): Start building Doyle-Fuller-Newman model\n",
      "2022-11-29 17:47:53.010 - [INFO] base_battery_model.build_model(1019): Finish building Doyle-Fuller-Newman model\n"
     ]
    }
   ],
   "source": [
    "pybamm.set_logging_level(\"INFO\")\n",
    "\n",
    "# load models\n",
    "models = [\n",
    "    pybamm.lithium_ion.SPM({\"working electrode\": \"positive\"}),\n",
    "    pybamm.lithium_ion.SPMe({\"working electrode\": \"positive\"}),\n",
    "    pybamm.lithium_ion.DFN({\"working electrode\": \"positive\"}),\n",
    "]\n",
    "\n",
    "# Load Chemistry\n",
    "parameter_values = pybamm.ParameterValues(\"Chen2020\")"
   ]
  },
  {
   "cell_type": "code",
   "execution_count": 3,
   "id": "d26e443e",
   "metadata": {},
   "outputs": [
    {
     "name": "stderr",
     "output_type": "stream",
     "text": [
      "2022-11-29 17:47:55.148 - [INFO] callbacks.on_experiment_start(166): Start running experiment\n",
      "2022-11-29 17:47:55.153 - [INFO] parameter_values.process_model(371): Start setting parameters for Single Particle Model\n",
      "2022-11-29 17:47:55.210 - [INFO] parameter_values.process_model(474): Finish setting parameters for Single Particle Model\n",
      "2022-11-29 17:47:55.212 - [INFO] parameter_values.process_model(371): Start setting parameters for Single Particle Model\n",
      "2022-11-29 17:47:55.284 - [INFO] parameter_values.process_model(474): Finish setting parameters for Single Particle Model\n",
      "2022-11-29 17:47:55.288 - [INFO] discretisation.process_model(149): Start discretising Single Particle Model\n",
      "2022-11-29 17:47:55.291 - [INFO] discretisation.remove_independent_variables_from_rhs(1199): removing variable Discharge capacity [A.h] from rhs\n",
      "2022-11-29 17:47:55.462 - [INFO] discretisation.process_model(271): Finish discretising Single Particle Model\n",
      "2022-11-29 17:47:55.463 - [INFO] discretisation.process_model(149): Start discretising Single Particle Model\n",
      "2022-11-29 17:47:55.465 - [INFO] discretisation.remove_independent_variables_from_rhs(1199): removing variable Discharge capacity [A.h] from rhs\n",
      "2022-11-29 17:47:55.532 - [INFO] discretisation.process_model(271): Finish discretising Single Particle Model\n",
      "2022-11-29 17:47:55.533 - [NOTICE] callbacks.on_cycle_start(174): Cycle 1/20 (37.400 us elapsed) --------------------\n",
      "2022-11-29 17:47:55.534 - [NOTICE] callbacks.on_step_start(182): Cycle 1/20, step 1/2: Discharge at C/20 for 1 hour\n",
      "2022-11-29 17:47:55.535 - [INFO] base_solver.set_up(110): Start solver set-up\n",
      "2022-11-29 17:47:55.546 - [INFO] base_solver.set_up(235): Finish solver set-up\n",
      "2022-11-29 17:47:55.634 - [NOTICE] callbacks.on_step_start(182): Cycle 1/20, step 2/2: Rest for 1 hour\n",
      "2022-11-29 17:47:55.636 - [INFO] base_solver.set_up(110): Start solver set-up\n",
      "2022-11-29 17:47:55.647 - [INFO] base_solver.set_up(235): Finish solver set-up\n",
      "2022-11-29 17:47:55.697 - [NOTICE] callbacks.on_cycle_start(174): Cycle 2/20 (164.836 ms elapsed) --------------------\n",
      "2022-11-29 17:47:55.698 - [NOTICE] callbacks.on_step_start(182): Cycle 2/20, step 1/2: Discharge at C/20 for 1 hour\n",
      "2022-11-29 17:47:55.702 - [NOTICE] callbacks.on_step_start(182): Cycle 2/20, step 2/2: Rest for 1 hour\n",
      "2022-11-29 17:47:55.717 - [NOTICE] callbacks.on_cycle_start(174): Cycle 3/20 (183.912 ms elapsed) --------------------\n",
      "2022-11-29 17:47:55.718 - [NOTICE] callbacks.on_step_start(182): Cycle 3/20, step 1/2: Discharge at C/20 for 1 hour\n",
      "2022-11-29 17:47:55.721 - [NOTICE] callbacks.on_step_start(182): Cycle 3/20, step 2/2: Rest for 1 hour\n",
      "2022-11-29 17:47:55.736 - [NOTICE] callbacks.on_cycle_start(174): Cycle 4/20 (204.093 ms elapsed) --------------------\n",
      "2022-11-29 17:47:55.737 - [NOTICE] callbacks.on_step_start(182): Cycle 4/20, step 1/2: Discharge at C/20 for 1 hour\n",
      "2022-11-29 17:47:55.741 - [NOTICE] callbacks.on_step_start(182): Cycle 4/20, step 2/2: Rest for 1 hour\n",
      "2022-11-29 17:47:55.757 - [NOTICE] callbacks.on_cycle_start(174): Cycle 5/20 (224.088 ms elapsed) --------------------\n",
      "2022-11-29 17:47:55.758 - [NOTICE] callbacks.on_step_start(182): Cycle 5/20, step 1/2: Discharge at C/20 for 1 hour\n",
      "2022-11-29 17:47:55.762 - [NOTICE] callbacks.on_step_start(182): Cycle 5/20, step 2/2: Rest for 1 hour\n",
      "2022-11-29 17:47:55.776 - [NOTICE] callbacks.on_cycle_start(174): Cycle 6/20 (243.097 ms elapsed) --------------------\n",
      "2022-11-29 17:47:55.779 - [NOTICE] callbacks.on_step_start(182): Cycle 6/20, step 1/2: Discharge at C/20 for 1 hour\n",
      "2022-11-29 17:47:55.784 - [NOTICE] callbacks.on_step_start(182): Cycle 6/20, step 2/2: Rest for 1 hour\n",
      "2022-11-29 17:47:55.799 - [NOTICE] callbacks.on_cycle_start(174): Cycle 7/20 (265.865 ms elapsed) --------------------\n",
      "2022-11-29 17:47:55.799 - [NOTICE] callbacks.on_step_start(182): Cycle 7/20, step 1/2: Discharge at C/20 for 1 hour\n",
      "2022-11-29 17:47:55.803 - [NOTICE] callbacks.on_step_start(182): Cycle 7/20, step 2/2: Rest for 1 hour\n",
      "2022-11-29 17:47:55.818 - [NOTICE] callbacks.on_cycle_start(174): Cycle 8/20 (284.952 ms elapsed) --------------------\n",
      "2022-11-29 17:47:55.819 - [NOTICE] callbacks.on_step_start(182): Cycle 8/20, step 1/2: Discharge at C/20 for 1 hour\n",
      "2022-11-29 17:47:55.823 - [NOTICE] callbacks.on_step_start(182): Cycle 8/20, step 2/2: Rest for 1 hour\n",
      "2022-11-29 17:47:55.837 - [NOTICE] callbacks.on_cycle_start(174): Cycle 9/20 (304.756 ms elapsed) --------------------\n",
      "2022-11-29 17:47:55.838 - [NOTICE] callbacks.on_step_start(182): Cycle 9/20, step 1/2: Discharge at C/20 for 1 hour\n",
      "2022-11-29 17:47:55.842 - [NOTICE] callbacks.on_step_start(182): Cycle 9/20, step 2/2: Rest for 1 hour\n",
      "2022-11-29 17:47:55.858 - [NOTICE] callbacks.on_cycle_start(174): Cycle 10/20 (325.032 ms elapsed) --------------------\n",
      "2022-11-29 17:47:55.859 - [NOTICE] callbacks.on_step_start(182): Cycle 10/20, step 1/2: Discharge at C/20 for 1 hour\n",
      "2022-11-29 17:47:55.864 - [NOTICE] callbacks.on_step_start(182): Cycle 10/20, step 2/2: Rest for 1 hour\n",
      "2022-11-29 17:47:55.878 - [NOTICE] callbacks.on_cycle_start(174): Cycle 11/20 (345.737 ms elapsed) --------------------\n",
      "2022-11-29 17:47:55.880 - [NOTICE] callbacks.on_step_start(182): Cycle 11/20, step 1/2: Discharge at C/20 for 1 hour\n",
      "2022-11-29 17:47:55.884 - [NOTICE] callbacks.on_step_start(182): Cycle 11/20, step 2/2: Rest for 1 hour\n",
      "2022-11-29 17:47:55.898 - [NOTICE] callbacks.on_cycle_start(174): Cycle 12/20 (366.021 ms elapsed) --------------------\n",
      "2022-11-29 17:47:55.900 - [NOTICE] callbacks.on_step_start(182): Cycle 12/20, step 1/2: Discharge at C/20 for 1 hour\n",
      "2022-11-29 17:47:55.903 - [NOTICE] callbacks.on_step_start(182): Cycle 12/20, step 2/2: Rest for 1 hour\n",
      "2022-11-29 17:47:55.917 - [NOTICE] callbacks.on_cycle_start(174): Cycle 13/20 (384.671 ms elapsed) --------------------\n",
      "2022-11-29 17:47:55.918 - [NOTICE] callbacks.on_step_start(182): Cycle 13/20, step 1/2: Discharge at C/20 for 1 hour\n",
      "2022-11-29 17:47:55.922 - [NOTICE] callbacks.on_step_start(182): Cycle 13/20, step 2/2: Rest for 1 hour\n",
      "2022-11-29 17:47:55.936 - [NOTICE] callbacks.on_cycle_start(174): Cycle 14/20 (403.566 ms elapsed) --------------------\n",
      "2022-11-29 17:47:55.937 - [NOTICE] callbacks.on_step_start(182): Cycle 14/20, step 1/2: Discharge at C/20 for 1 hour\n",
      "2022-11-29 17:47:55.941 - [NOTICE] callbacks.on_step_start(182): Cycle 14/20, step 2/2: Rest for 1 hour\n",
      "2022-11-29 17:47:55.962 - [NOTICE] callbacks.on_cycle_start(174): Cycle 15/20 (427.704 ms elapsed) --------------------\n",
      "2022-11-29 17:47:55.964 - [NOTICE] callbacks.on_step_start(182): Cycle 15/20, step 1/2: Discharge at C/20 for 1 hour\n",
      "2022-11-29 17:47:55.967 - [NOTICE] callbacks.on_step_start(182): Cycle 15/20, step 2/2: Rest for 1 hour\n",
      "2022-11-29 17:47:55.981 - [NOTICE] callbacks.on_cycle_start(174): Cycle 16/20 (448.643 ms elapsed) --------------------\n",
      "2022-11-29 17:47:55.982 - [NOTICE] callbacks.on_step_start(182): Cycle 16/20, step 1/2: Discharge at C/20 for 1 hour\n",
      "2022-11-29 17:47:55.984 - [NOTICE] callbacks.on_step_start(182): Cycle 16/20, step 2/2: Rest for 1 hour\n",
      "2022-11-29 17:47:55.997 - [NOTICE] callbacks.on_cycle_start(174): Cycle 17/20 (465.316 ms elapsed) --------------------\n",
      "2022-11-29 17:47:55.998 - [NOTICE] callbacks.on_step_start(182): Cycle 17/20, step 1/2: Discharge at C/20 for 1 hour\n",
      "2022-11-29 17:47:56.002 - [NOTICE] callbacks.on_step_start(182): Cycle 17/20, step 2/2: Rest for 1 hour\n",
      "2022-11-29 17:47:56.017 - [NOTICE] callbacks.on_cycle_start(174): Cycle 18/20 (484.170 ms elapsed) --------------------\n",
      "2022-11-29 17:47:56.018 - [NOTICE] callbacks.on_step_start(182): Cycle 18/20, step 1/2: Discharge at C/20 for 1 hour\n",
      "2022-11-29 17:47:56.020 - [NOTICE] callbacks.on_step_start(182): Cycle 18/20, step 2/2: Rest for 1 hour\n",
      "2022-11-29 17:47:56.033 - [NOTICE] callbacks.on_cycle_start(174): Cycle 19/20 (500.996 ms elapsed) --------------------\n",
      "2022-11-29 17:47:56.034 - [NOTICE] callbacks.on_step_start(182): Cycle 19/20, step 1/2: Discharge at C/20 for 1 hour\n",
      "2022-11-29 17:47:56.037 - [NOTICE] callbacks.on_step_start(182): Cycle 19/20, step 2/2: Rest for 1 hour\n",
      "2022-11-29 17:47:56.052 - [NOTICE] callbacks.on_cycle_start(174): Cycle 20/20 (520.126 ms elapsed) --------------------\n"
     ]
    },
    {
     "name": "stderr",
     "output_type": "stream",
     "text": [
      "2022-11-29 17:47:56.053 - [NOTICE] callbacks.on_step_start(182): Cycle 20/20, step 1/2: Discharge at C/20 for 1 hour\n",
      "2022-11-29 17:47:56.057 - [NOTICE] callbacks.on_step_start(182): Cycle 20/20, step 2/2: Rest for 1 hour\n",
      "2022-11-29 17:47:56.073 - [NOTICE] callbacks.on_experiment_end(222): Finish experiment simulation, took 540.583 ms\n",
      "2022-11-29 17:47:56.075 - [INFO] callbacks.on_experiment_start(166): Start running experiment\n",
      "2022-11-29 17:47:56.078 - [INFO] parameter_values.process_model(371): Start setting parameters for Single Particle Model with electrolyte\n",
      "2022-11-29 17:47:56.130 - [INFO] parameter_values.process_model(474): Finish setting parameters for Single Particle Model with electrolyte\n",
      "2022-11-29 17:47:56.132 - [INFO] parameter_values.process_model(371): Start setting parameters for Single Particle Model with electrolyte\n",
      "2022-11-29 17:47:56.200 - [INFO] parameter_values.process_model(474): Finish setting parameters for Single Particle Model with electrolyte\n",
      "2022-11-29 17:47:56.203 - [INFO] discretisation.process_model(149): Start discretising Single Particle Model with electrolyte\n",
      "2022-11-29 17:47:56.206 - [INFO] discretisation.remove_independent_variables_from_rhs(1199): removing variable Discharge capacity [A.h] from rhs\n",
      "2022-11-29 17:47:56.434 - [INFO] discretisation.process_model(271): Finish discretising Single Particle Model with electrolyte\n",
      "2022-11-29 17:47:56.435 - [INFO] discretisation.process_model(149): Start discretising Single Particle Model with electrolyte\n",
      "2022-11-29 17:47:56.437 - [INFO] discretisation.remove_independent_variables_from_rhs(1199): removing variable Discharge capacity [A.h] from rhs\n",
      "2022-11-29 17:47:56.541 - [INFO] discretisation.process_model(271): Finish discretising Single Particle Model with electrolyte\n",
      "2022-11-29 17:47:56.542 - [NOTICE] callbacks.on_cycle_start(174): Cycle 1/20 (24.700 us elapsed) --------------------\n",
      "2022-11-29 17:47:56.543 - [NOTICE] callbacks.on_step_start(182): Cycle 1/20, step 1/2: Discharge at C/20 for 1 hour\n",
      "2022-11-29 17:47:56.545 - [INFO] base_solver.set_up(110): Start solver set-up\n",
      "2022-11-29 17:47:56.574 - [INFO] base_solver.set_up(235): Finish solver set-up\n",
      "2022-11-29 17:47:56.581 - [NOTICE] callbacks.on_step_start(182): Cycle 1/20, step 2/2: Rest for 1 hour\n",
      "2022-11-29 17:47:56.583 - [INFO] base_solver.set_up(110): Start solver set-up\n",
      "2022-11-29 17:47:56.608 - [INFO] base_solver.set_up(235): Finish solver set-up\n",
      "2022-11-29 17:47:56.661 - [NOTICE] callbacks.on_cycle_start(174): Cycle 2/20 (119.271 ms elapsed) --------------------\n",
      "2022-11-29 17:47:56.661 - [NOTICE] callbacks.on_step_start(182): Cycle 2/20, step 1/2: Discharge at C/20 for 1 hour\n",
      "2022-11-29 17:47:56.668 - [NOTICE] callbacks.on_step_start(182): Cycle 2/20, step 2/2: Rest for 1 hour\n",
      "2022-11-29 17:47:56.684 - [NOTICE] callbacks.on_cycle_start(174): Cycle 3/20 (142.120 ms elapsed) --------------------\n",
      "2022-11-29 17:47:56.685 - [NOTICE] callbacks.on_step_start(182): Cycle 3/20, step 1/2: Discharge at C/20 for 1 hour\n",
      "2022-11-29 17:47:56.690 - [NOTICE] callbacks.on_step_start(182): Cycle 3/20, step 2/2: Rest for 1 hour\n",
      "2022-11-29 17:47:56.707 - [NOTICE] callbacks.on_cycle_start(174): Cycle 4/20 (165.131 ms elapsed) --------------------\n",
      "2022-11-29 17:47:56.707 - [NOTICE] callbacks.on_step_start(182): Cycle 4/20, step 1/2: Discharge at C/20 for 1 hour\n",
      "2022-11-29 17:47:56.713 - [NOTICE] callbacks.on_step_start(182): Cycle 4/20, step 2/2: Rest for 1 hour\n",
      "2022-11-29 17:47:56.730 - [NOTICE] callbacks.on_cycle_start(174): Cycle 5/20 (188.529 ms elapsed) --------------------\n",
      "2022-11-29 17:47:56.731 - [NOTICE] callbacks.on_step_start(182): Cycle 5/20, step 1/2: Discharge at C/20 for 1 hour\n",
      "2022-11-29 17:47:56.738 - [NOTICE] callbacks.on_step_start(182): Cycle 5/20, step 2/2: Rest for 1 hour\n",
      "2022-11-29 17:47:56.757 - [NOTICE] callbacks.on_cycle_start(174): Cycle 6/20 (215.845 ms elapsed) --------------------\n",
      "2022-11-29 17:47:56.758 - [NOTICE] callbacks.on_step_start(182): Cycle 6/20, step 1/2: Discharge at C/20 for 1 hour\n",
      "2022-11-29 17:47:56.763 - [NOTICE] callbacks.on_step_start(182): Cycle 6/20, step 2/2: Rest for 1 hour\n",
      "2022-11-29 17:47:56.783 - [NOTICE] callbacks.on_cycle_start(174): Cycle 7/20 (240.830 ms elapsed) --------------------\n",
      "2022-11-29 17:47:56.784 - [NOTICE] callbacks.on_step_start(182): Cycle 7/20, step 1/2: Discharge at C/20 for 1 hour\n",
      "2022-11-29 17:47:56.789 - [NOTICE] callbacks.on_step_start(182): Cycle 7/20, step 2/2: Rest for 1 hour\n",
      "2022-11-29 17:47:56.806 - [NOTICE] callbacks.on_cycle_start(174): Cycle 8/20 (264.204 ms elapsed) --------------------\n",
      "2022-11-29 17:47:56.807 - [NOTICE] callbacks.on_step_start(182): Cycle 8/20, step 1/2: Discharge at C/20 for 1 hour\n",
      "2022-11-29 17:47:56.813 - [NOTICE] callbacks.on_step_start(182): Cycle 8/20, step 2/2: Rest for 1 hour\n",
      "2022-11-29 17:47:56.831 - [NOTICE] callbacks.on_cycle_start(174): Cycle 9/20 (288.796 ms elapsed) --------------------\n",
      "2022-11-29 17:47:56.832 - [NOTICE] callbacks.on_step_start(182): Cycle 9/20, step 1/2: Discharge at C/20 for 1 hour\n",
      "2022-11-29 17:47:56.836 - [NOTICE] callbacks.on_step_start(182): Cycle 9/20, step 2/2: Rest for 1 hour\n",
      "2022-11-29 17:47:56.854 - [NOTICE] callbacks.on_cycle_start(174): Cycle 10/20 (311.939 ms elapsed) --------------------\n",
      "2022-11-29 17:47:56.855 - [NOTICE] callbacks.on_step_start(182): Cycle 10/20, step 1/2: Discharge at C/20 for 1 hour\n",
      "2022-11-29 17:47:56.861 - [NOTICE] callbacks.on_step_start(182): Cycle 10/20, step 2/2: Rest for 1 hour\n",
      "2022-11-29 17:47:56.878 - [NOTICE] callbacks.on_cycle_start(174): Cycle 11/20 (336.141 ms elapsed) --------------------\n",
      "2022-11-29 17:47:56.879 - [NOTICE] callbacks.on_step_start(182): Cycle 11/20, step 1/2: Discharge at C/20 for 1 hour\n",
      "2022-11-29 17:47:56.884 - [NOTICE] callbacks.on_step_start(182): Cycle 11/20, step 2/2: Rest for 1 hour\n",
      "2022-11-29 17:47:56.901 - [NOTICE] callbacks.on_cycle_start(174): Cycle 12/20 (358.957 ms elapsed) --------------------\n",
      "2022-11-29 17:47:56.902 - [NOTICE] callbacks.on_step_start(182): Cycle 12/20, step 1/2: Discharge at C/20 for 1 hour\n",
      "2022-11-29 17:47:56.908 - [NOTICE] callbacks.on_step_start(182): Cycle 12/20, step 2/2: Rest for 1 hour\n",
      "2022-11-29 17:47:56.927 - [NOTICE] callbacks.on_cycle_start(174): Cycle 13/20 (385.862 ms elapsed) --------------------\n",
      "2022-11-29 17:47:56.928 - [NOTICE] callbacks.on_step_start(182): Cycle 13/20, step 1/2: Discharge at C/20 for 1 hour\n",
      "2022-11-29 17:47:56.934 - [NOTICE] callbacks.on_step_start(182): Cycle 13/20, step 2/2: Rest for 1 hour\n",
      "2022-11-29 17:47:56.954 - [NOTICE] callbacks.on_cycle_start(174): Cycle 14/20 (412.106 ms elapsed) --------------------\n",
      "2022-11-29 17:47:56.955 - [NOTICE] callbacks.on_step_start(182): Cycle 14/20, step 1/2: Discharge at C/20 for 1 hour\n",
      "2022-11-29 17:47:57.042 - [NOTICE] callbacks.on_step_start(182): Cycle 14/20, step 2/2: Rest for 1 hour\n",
      "2022-11-29 17:47:57.062 - [NOTICE] callbacks.on_cycle_start(174): Cycle 15/20 (520.468 ms elapsed) --------------------\n",
      "2022-11-29 17:47:57.063 - [NOTICE] callbacks.on_step_start(182): Cycle 15/20, step 1/2: Discharge at C/20 for 1 hour\n",
      "2022-11-29 17:47:57.069 - [NOTICE] callbacks.on_step_start(182): Cycle 15/20, step 2/2: Rest for 1 hour\n",
      "2022-11-29 17:47:57.087 - [NOTICE] callbacks.on_cycle_start(174): Cycle 16/20 (544.913 ms elapsed) --------------------\n",
      "2022-11-29 17:47:57.088 - [NOTICE] callbacks.on_step_start(182): Cycle 16/20, step 1/2: Discharge at C/20 for 1 hour\n",
      "2022-11-29 17:47:57.093 - [NOTICE] callbacks.on_step_start(182): Cycle 16/20, step 2/2: Rest for 1 hour\n",
      "2022-11-29 17:47:57.113 - [NOTICE] callbacks.on_cycle_start(174): Cycle 17/20 (571.002 ms elapsed) --------------------\n",
      "2022-11-29 17:47:57.113 - [NOTICE] callbacks.on_step_start(182): Cycle 17/20, step 1/2: Discharge at C/20 for 1 hour\n",
      "2022-11-29 17:47:57.121 - [NOTICE] callbacks.on_step_start(182): Cycle 17/20, step 2/2: Rest for 1 hour\n",
      "2022-11-29 17:47:57.145 - [NOTICE] callbacks.on_cycle_start(174): Cycle 18/20 (603.283 ms elapsed) --------------------\n",
      "2022-11-29 17:47:57.146 - [NOTICE] callbacks.on_step_start(182): Cycle 18/20, step 1/2: Discharge at C/20 for 1 hour\n",
      "2022-11-29 17:47:57.152 - [NOTICE] callbacks.on_step_start(182): Cycle 18/20, step 2/2: Rest for 1 hour\n"
     ]
    },
    {
     "name": "stderr",
     "output_type": "stream",
     "text": [
      "2022-11-29 17:47:57.173 - [NOTICE] callbacks.on_cycle_start(174): Cycle 19/20 (630.764 ms elapsed) --------------------\n",
      "2022-11-29 17:47:57.174 - [NOTICE] callbacks.on_step_start(182): Cycle 19/20, step 1/2: Discharge at C/20 for 1 hour\n",
      "2022-11-29 17:47:57.182 - [NOTICE] callbacks.on_step_start(182): Cycle 19/20, step 2/2: Rest for 1 hour\n",
      "2022-11-29 17:47:57.201 - [NOTICE] callbacks.on_cycle_start(174): Cycle 20/20 (659.193 ms elapsed) --------------------\n",
      "2022-11-29 17:47:57.202 - [NOTICE] callbacks.on_step_start(182): Cycle 20/20, step 1/2: Discharge at C/20 for 1 hour\n",
      "2022-11-29 17:47:57.215 - [NOTICE] callbacks.on_step_start(182): Cycle 20/20, step 2/2: Rest for 1 hour\n",
      "2022-11-29 17:47:57.270 - [NOTICE] callbacks.on_experiment_end(222): Finish experiment simulation, took 727.891 ms\n",
      "2022-11-29 17:47:57.273 - [INFO] callbacks.on_experiment_start(166): Start running experiment\n",
      "2022-11-29 17:47:57.279 - [INFO] parameter_values.process_model(371): Start setting parameters for Doyle-Fuller-Newman model\n",
      "2022-11-29 17:47:57.380 - [INFO] parameter_values.process_model(474): Finish setting parameters for Doyle-Fuller-Newman model\n",
      "2022-11-29 17:47:57.381 - [INFO] parameter_values.process_model(371): Start setting parameters for Doyle-Fuller-Newman model\n",
      "2022-11-29 17:47:57.419 - [INFO] parameter_values.process_model(474): Finish setting parameters for Doyle-Fuller-Newman model\n",
      "2022-11-29 17:47:57.421 - [INFO] discretisation.process_model(149): Start discretising Doyle-Fuller-Newman model\n",
      "2022-11-29 17:47:57.424 - [INFO] discretisation.remove_independent_variables_from_rhs(1199): removing variable Discharge capacity [A.h] from rhs\n",
      "2022-11-29 17:47:57.631 - [INFO] discretisation.process_model(271): Finish discretising Doyle-Fuller-Newman model\n",
      "2022-11-29 17:47:57.632 - [INFO] discretisation.process_model(149): Start discretising Doyle-Fuller-Newman model\n",
      "2022-11-29 17:47:57.636 - [INFO] discretisation.remove_independent_variables_from_rhs(1199): removing variable Discharge capacity [A.h] from rhs\n",
      "2022-11-29 17:47:57.861 - [INFO] discretisation.process_model(271): Finish discretising Doyle-Fuller-Newman model\n",
      "2022-11-29 17:47:57.861 - [NOTICE] callbacks.on_cycle_start(174): Cycle 1/20 (33.800 us elapsed) --------------------\n",
      "2022-11-29 17:47:57.862 - [NOTICE] callbacks.on_step_start(182): Cycle 1/20, step 1/2: Discharge at C/20 for 1 hour\n",
      "2022-11-29 17:47:57.865 - [INFO] base_solver.set_up(110): Start solver set-up\n",
      "2022-11-29 17:47:57.918 - [INFO] base_solver.set_up(235): Finish solver set-up\n",
      "2022-11-29 17:47:58.042 - [NOTICE] callbacks.on_step_start(182): Cycle 1/20, step 2/2: Rest for 1 hour\n",
      "2022-11-29 17:47:58.044 - [INFO] base_solver.set_up(110): Start solver set-up\n",
      "2022-11-29 17:47:58.096 - [INFO] base_solver.set_up(235): Finish solver set-up\n",
      "2022-11-29 17:47:58.219 - [NOTICE] callbacks.on_cycle_start(174): Cycle 2/20 (357.987 ms elapsed) --------------------\n",
      "2022-11-29 17:47:58.220 - [NOTICE] callbacks.on_step_start(182): Cycle 2/20, step 1/2: Discharge at C/20 for 1 hour\n",
      "2022-11-29 17:47:58.275 - [NOTICE] callbacks.on_step_start(182): Cycle 2/20, step 2/2: Rest for 1 hour\n",
      "2022-11-29 17:47:58.348 - [NOTICE] callbacks.on_cycle_start(174): Cycle 3/20 (487.042 ms elapsed) --------------------\n",
      "2022-11-29 17:47:58.349 - [NOTICE] callbacks.on_step_start(182): Cycle 3/20, step 1/2: Discharge at C/20 for 1 hour\n",
      "2022-11-29 17:47:58.399 - [NOTICE] callbacks.on_step_start(182): Cycle 3/20, step 2/2: Rest for 1 hour\n",
      "2022-11-29 17:47:58.454 - [NOTICE] callbacks.on_cycle_start(174): Cycle 4/20 (592.870 ms elapsed) --------------------\n",
      "2022-11-29 17:47:58.455 - [NOTICE] callbacks.on_step_start(182): Cycle 4/20, step 1/2: Discharge at C/20 for 1 hour\n",
      "2022-11-29 17:47:58.498 - [NOTICE] callbacks.on_step_start(182): Cycle 4/20, step 2/2: Rest for 1 hour\n",
      "2022-11-29 17:47:58.553 - [NOTICE] callbacks.on_cycle_start(174): Cycle 5/20 (691.660 ms elapsed) --------------------\n",
      "2022-11-29 17:47:58.554 - [NOTICE] callbacks.on_step_start(182): Cycle 5/20, step 1/2: Discharge at C/20 for 1 hour\n",
      "2022-11-29 17:47:58.596 - [NOTICE] callbacks.on_step_start(182): Cycle 5/20, step 2/2: Rest for 1 hour\n",
      "2022-11-29 17:47:58.657 - [NOTICE] callbacks.on_cycle_start(174): Cycle 6/20 (795.496 ms elapsed) --------------------\n",
      "2022-11-29 17:47:58.658 - [NOTICE] callbacks.on_step_start(182): Cycle 6/20, step 1/2: Discharge at C/20 for 1 hour\n",
      "2022-11-29 17:47:58.699 - [NOTICE] callbacks.on_step_start(182): Cycle 6/20, step 2/2: Rest for 1 hour\n",
      "2022-11-29 17:47:58.754 - [NOTICE] callbacks.on_cycle_start(174): Cycle 7/20 (892.752 ms elapsed) --------------------\n",
      "2022-11-29 17:47:58.755 - [NOTICE] callbacks.on_step_start(182): Cycle 7/20, step 1/2: Discharge at C/20 for 1 hour\n",
      "2022-11-29 17:47:58.797 - [NOTICE] callbacks.on_step_start(182): Cycle 7/20, step 2/2: Rest for 1 hour\n",
      "2022-11-29 17:47:58.853 - [NOTICE] callbacks.on_cycle_start(174): Cycle 8/20 (992.441 ms elapsed) --------------------\n",
      "2022-11-29 17:47:58.854 - [NOTICE] callbacks.on_step_start(182): Cycle 8/20, step 1/2: Discharge at C/20 for 1 hour\n",
      "2022-11-29 17:47:58.896 - [NOTICE] callbacks.on_step_start(182): Cycle 8/20, step 2/2: Rest for 1 hour\n",
      "2022-11-29 17:47:58.952 - [NOTICE] callbacks.on_cycle_start(174): Cycle 9/20 (1.091 s elapsed) --------------------\n",
      "2022-11-29 17:47:58.953 - [NOTICE] callbacks.on_step_start(182): Cycle 9/20, step 1/2: Discharge at C/20 for 1 hour\n",
      "2022-11-29 17:47:59.000 - [NOTICE] callbacks.on_step_start(182): Cycle 9/20, step 2/2: Rest for 1 hour\n",
      "2022-11-29 17:47:59.060 - [NOTICE] callbacks.on_cycle_start(174): Cycle 10/20 (1.199 s elapsed) --------------------\n",
      "2022-11-29 17:47:59.061 - [NOTICE] callbacks.on_step_start(182): Cycle 10/20, step 1/2: Discharge at C/20 for 1 hour\n",
      "2022-11-29 17:47:59.106 - [NOTICE] callbacks.on_step_start(182): Cycle 10/20, step 2/2: Rest for 1 hour\n",
      "2022-11-29 17:47:59.165 - [NOTICE] callbacks.on_cycle_start(174): Cycle 11/20 (1.304 s elapsed) --------------------\n",
      "2022-11-29 17:47:59.165 - [NOTICE] callbacks.on_step_start(182): Cycle 11/20, step 1/2: Discharge at C/20 for 1 hour\n",
      "2022-11-29 17:47:59.218 - [NOTICE] callbacks.on_step_start(182): Cycle 11/20, step 2/2: Rest for 1 hour\n",
      "2022-11-29 17:47:59.316 - [NOTICE] callbacks.on_cycle_start(174): Cycle 12/20 (1.455 s elapsed) --------------------\n",
      "2022-11-29 17:47:59.318 - [NOTICE] callbacks.on_step_start(182): Cycle 12/20, step 1/2: Discharge at C/20 for 1 hour\n",
      "2022-11-29 17:47:59.368 - [NOTICE] callbacks.on_step_start(182): Cycle 12/20, step 2/2: Rest for 1 hour\n",
      "2022-11-29 17:47:59.461 - [NOTICE] callbacks.on_cycle_start(174): Cycle 13/20 (1.600 s elapsed) --------------------\n",
      "2022-11-29 17:47:59.463 - [NOTICE] callbacks.on_step_start(182): Cycle 13/20, step 1/2: Discharge at C/20 for 1 hour\n",
      "2022-11-29 17:47:59.519 - [NOTICE] callbacks.on_step_start(182): Cycle 13/20, step 2/2: Rest for 1 hour\n",
      "2022-11-29 17:47:59.579 - [NOTICE] callbacks.on_cycle_start(174): Cycle 14/20 (1.718 s elapsed) --------------------\n",
      "2022-11-29 17:47:59.580 - [NOTICE] callbacks.on_step_start(182): Cycle 14/20, step 1/2: Discharge at C/20 for 1 hour\n",
      "2022-11-29 17:47:59.628 - [NOTICE] callbacks.on_step_start(182): Cycle 14/20, step 2/2: Rest for 1 hour\n",
      "2022-11-29 17:47:59.690 - [NOTICE] callbacks.on_cycle_start(174): Cycle 15/20 (1.829 s elapsed) --------------------\n",
      "2022-11-29 17:47:59.692 - [NOTICE] callbacks.on_step_start(182): Cycle 15/20, step 1/2: Discharge at C/20 for 1 hour\n",
      "2022-11-29 17:47:59.733 - [NOTICE] callbacks.on_step_start(182): Cycle 15/20, step 2/2: Rest for 1 hour\n",
      "2022-11-29 17:47:59.791 - [NOTICE] callbacks.on_cycle_start(174): Cycle 16/20 (1.930 s elapsed) --------------------\n",
      "2022-11-29 17:47:59.792 - [NOTICE] callbacks.on_step_start(182): Cycle 16/20, step 1/2: Discharge at C/20 for 1 hour\n",
      "2022-11-29 17:47:59.836 - [NOTICE] callbacks.on_step_start(182): Cycle 16/20, step 2/2: Rest for 1 hour\n",
      "2022-11-29 17:47:59.895 - [NOTICE] callbacks.on_cycle_start(174): Cycle 17/20 (2.034 s elapsed) --------------------\n",
      "2022-11-29 17:47:59.895 - [NOTICE] callbacks.on_step_start(182): Cycle 17/20, step 1/2: Discharge at C/20 for 1 hour\n",
      "2022-11-29 17:47:59.937 - [NOTICE] callbacks.on_step_start(182): Cycle 17/20, step 2/2: Rest for 1 hour\n"
     ]
    },
    {
     "name": "stderr",
     "output_type": "stream",
     "text": [
      "2022-11-29 17:47:59.994 - [NOTICE] callbacks.on_cycle_start(174): Cycle 18/20 (2.133 s elapsed) --------------------\n",
      "2022-11-29 17:47:59.995 - [NOTICE] callbacks.on_step_start(182): Cycle 18/20, step 1/2: Discharge at C/20 for 1 hour\n",
      "2022-11-29 17:48:00.060 - [NOTICE] callbacks.on_step_start(182): Cycle 18/20, step 2/2: Rest for 1 hour\n",
      "2022-11-29 17:48:00.164 - [NOTICE] callbacks.on_cycle_start(174): Cycle 19/20 (2.303 s elapsed) --------------------\n",
      "2022-11-29 17:48:00.165 - [NOTICE] callbacks.on_step_start(182): Cycle 19/20, step 1/2: Discharge at C/20 for 1 hour\n",
      "2022-11-29 17:48:00.256 - [NOTICE] callbacks.on_step_start(182): Cycle 19/20, step 2/2: Rest for 1 hour\n",
      "2022-11-29 17:48:00.338 - [NOTICE] callbacks.on_cycle_start(174): Cycle 20/20 (2.476 s elapsed) --------------------\n",
      "2022-11-29 17:48:00.339 - [NOTICE] callbacks.on_step_start(182): Cycle 20/20, step 1/2: Discharge at C/20 for 1 hour\n",
      "2022-11-29 17:48:00.419 - [NOTICE] callbacks.on_step_start(182): Cycle 20/20, step 2/2: Rest for 1 hour\n",
      "2022-11-29 17:48:00.495 - [NOTICE] callbacks.on_experiment_end(222): Finish experiment simulation, took 2.634 s\n"
     ]
    }
   ],
   "source": [
    "#\n",
    "# GITT discharge\n",
    "#\n",
    "\n",
    "experiment = pybamm.Experiment(\n",
    "    [(\"Discharge at C/20 for 1 hour\", \"Rest for 1 hour\")] * 20,\n",
    ")\n",
    "\n",
    "# Run simulations\n",
    "sims = []\n",
    "for model in models:\n",
    "    sim = pybamm.Simulation(model, experiment=experiment, solver=pybamm.CasadiSolver())\n",
    "    sim.solve()\n",
    "    sims.append(sim)\n"
   ]
  },
  {
   "cell_type": "code",
   "execution_count": 4,
   "id": "e6b7ae37",
   "metadata": {},
   "outputs": [
    {
     "data": {
      "application/vnd.jupyter.widget-view+json": {
       "model_id": "289626a40b5342d6b3b3142a80742d7a",
       "version_major": 2,
       "version_minor": 0
      },
      "text/plain": [
       "interactive(children=(FloatSlider(value=0.0, description='t', max=39.99999999999998, step=0.3999999999999998),…"
      ]
     },
     "metadata": {},
     "output_type": "display_data"
    },
    {
     "data": {
      "text/plain": [
       "<pybamm.plotting.quick_plot.QuickPlot at 0x1d2bccaabb0>"
      ]
     },
     "execution_count": 4,
     "metadata": {},
     "output_type": "execute_result"
    }
   ],
   "source": [
    "# plot\n",
    "pybamm.dynamic_plot(sims)"
   ]
  },
  {
   "cell_type": "code",
   "execution_count": 9,
   "id": "b919e5af",
   "metadata": {},
   "outputs": [
    {
     "data": {
      "application/vnd.jupyter.widget-view+json": {
       "model_id": "eab03647328244d0adb8e7b033672ef8",
       "version_major": 2,
       "version_minor": 0
      },
      "text/plain": [
       "interactive(children=(FloatSlider(value=0.0, description='t', max=39.99999999999998, step=0.3999999999999998),…"
      ]
     },
     "metadata": {},
     "output_type": "display_data"
    },
    {
     "data": {
      "text/plain": [
       "<pybamm.plotting.quick_plot.QuickPlot at 0x1d2c5feffa0>"
      ]
     },
     "execution_count": 9,
     "metadata": {},
     "output_type": "execute_result"
    }
   ],
   "source": [
    "# plot\n",
    "pybamm.dynamic_plot(\n",
    "    sims,\n",
    "    [\n",
    "         \"Positive electrode interfacial current density [A.m-2]\",\n",
    "    ],\n",
    ")"
   ]
  },
  {
   "cell_type": "code",
   "execution_count": null,
   "id": "cf316c25",
   "metadata": {},
   "outputs": [],
   "source": []
  }
 ],
 "metadata": {
  "kernelspec": {
   "display_name": "Python 3 (ipykernel)",
   "language": "python",
   "name": "python3"
  },
  "language_info": {
   "codemirror_mode": {
    "name": "ipython",
    "version": 3
   },
   "file_extension": ".py",
   "mimetype": "text/x-python",
   "name": "python",
   "nbconvert_exporter": "python",
   "pygments_lexer": "ipython3",
   "version": "3.9.13"
  }
 },
 "nbformat": 4,
 "nbformat_minor": 5
}

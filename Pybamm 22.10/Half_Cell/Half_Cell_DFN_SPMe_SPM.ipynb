{
 "cells": [
  {
   "cell_type": "code",
   "execution_count": 13,
   "id": "5713c239",
   "metadata": {},
   "outputs": [],
   "source": [
    "#\n",
    "# Compare half-cell lithium-ion battery models\n",
    "#\n",
    "import pybamm\n",
    "import matplotlib.pyplot as plt"
   ]
  },
  {
   "cell_type": "code",
   "execution_count": 14,
   "id": "9b60b9ef",
   "metadata": {},
   "outputs": [
    {
     "name": "stderr",
     "output_type": "stream",
     "text": [
      "2022-12-02 13:13:51.881 - [INFO] base_model._build_model(572): Start building Single Particle Model\n",
      "2022-12-02 13:13:51.910 - [INFO] base_battery_model.build_model(1019): Finish building Single Particle Model\n",
      "2022-12-02 13:13:51.945 - [INFO] base_model._build_model(572): Start building Single Particle Model with electrolyte\n",
      "2022-12-02 13:13:52.082 - [INFO] base_battery_model.build_model(1019): Finish building Single Particle Model with electrolyte\n",
      "2022-12-02 13:13:52.132 - [INFO] base_model._build_model(572): Start building Doyle-Fuller-Newman model\n",
      "2022-12-02 13:13:52.168 - [INFO] base_battery_model.build_model(1019): Finish building Doyle-Fuller-Newman model\n"
     ]
    }
   ],
   "source": [
    "pybamm.set_logging_level(\"INFO\")\n",
    "\n",
    "# load models\n",
    "models = [\n",
    "    pybamm.lithium_ion.SPM({\"working electrode\": \"positive\"}),\n",
    "    pybamm.lithium_ion.SPMe({\"working electrode\": \"positive\"}),\n",
    "    pybamm.lithium_ion.DFN({\"working electrode\": \"positive\"}),\n",
    "]\n",
    "\n",
    "# Load Chemistry\n",
    "parameter_values = pybamm.ParameterValues(\"Chen2020\")"
   ]
  },
  {
   "cell_type": "code",
   "execution_count": 20,
   "id": "d26e443e",
   "metadata": {},
   "outputs": [
    {
     "name": "stderr",
     "output_type": "stream",
     "text": [
      "2022-12-02 13:15:21.081 - [INFO] callbacks.on_experiment_start(166): Start running experiment\n",
      "2022-12-02 13:15:21.083 - [INFO] parameter_values.process_model(371): Start setting parameters for Single Particle Model\n",
      "2022-12-02 13:15:21.160 - [INFO] parameter_values.process_model(474): Finish setting parameters for Single Particle Model\n",
      "2022-12-02 13:15:21.162 - [INFO] parameter_values.process_model(371): Start setting parameters for Single Particle Model\n",
      "2022-12-02 13:15:21.189 - [INFO] parameter_values.process_model(474): Finish setting parameters for Single Particle Model\n",
      "2022-12-02 13:15:21.191 - [INFO] discretisation.process_model(149): Start discretising Single Particle Model\n",
      "2022-12-02 13:15:21.193 - [INFO] discretisation.remove_independent_variables_from_rhs(1199): removing variable Discharge capacity [A.h] from rhs\n",
      "2022-12-02 13:15:21.265 - [INFO] discretisation.process_model(271): Finish discretising Single Particle Model\n",
      "2022-12-02 13:15:21.266 - [INFO] discretisation.process_model(149): Start discretising Single Particle Model\n",
      "2022-12-02 13:15:21.267 - [INFO] discretisation.remove_independent_variables_from_rhs(1199): removing variable Discharge capacity [A.h] from rhs\n",
      "2022-12-02 13:15:21.339 - [INFO] discretisation.process_model(271): Finish discretising Single Particle Model\n",
      "2022-12-02 13:15:21.341 - [NOTICE] callbacks.on_cycle_start(174): Cycle 1/20 (33.300 us elapsed) --------------------\n",
      "2022-12-02 13:15:21.341 - [NOTICE] callbacks.on_step_start(182): Cycle 1/20, step 1/2: Discharge at C/20 for 1 hour\n",
      "2022-12-02 13:15:21.343 - [INFO] base_solver.set_up(110): Start solver set-up\n",
      "2022-12-02 13:15:21.355 - [INFO] base_solver.set_up(235): Finish solver set-up\n",
      "2022-12-02 13:15:21.361 - [NOTICE] callbacks.on_step_start(182): Cycle 1/20, step 2/2: Rest for 1 hour\n",
      "2022-12-02 13:15:21.362 - [INFO] base_solver.set_up(110): Start solver set-up\n",
      "2022-12-02 13:15:21.374 - [INFO] base_solver.set_up(235): Finish solver set-up\n",
      "2022-12-02 13:15:21.416 - [NOTICE] callbacks.on_cycle_start(174): Cycle 2/20 (74.745 ms elapsed) --------------------\n",
      "2022-12-02 13:15:21.417 - [NOTICE] callbacks.on_step_start(182): Cycle 2/20, step 1/2: Discharge at C/20 for 1 hour\n",
      "2022-12-02 13:15:21.421 - [NOTICE] callbacks.on_step_start(182): Cycle 2/20, step 2/2: Rest for 1 hour\n",
      "2022-12-02 13:15:21.437 - [NOTICE] callbacks.on_cycle_start(174): Cycle 3/20 (96.328 ms elapsed) --------------------\n",
      "2022-12-02 13:15:21.438 - [NOTICE] callbacks.on_step_start(182): Cycle 3/20, step 1/2: Discharge at C/20 for 1 hour\n",
      "2022-12-02 13:15:21.442 - [NOTICE] callbacks.on_step_start(182): Cycle 3/20, step 2/2: Rest for 1 hour\n",
      "2022-12-02 13:15:21.458 - [NOTICE] callbacks.on_cycle_start(174): Cycle 4/20 (117.506 ms elapsed) --------------------\n",
      "2022-12-02 13:15:21.459 - [NOTICE] callbacks.on_step_start(182): Cycle 4/20, step 1/2: Discharge at C/20 for 1 hour\n",
      "2022-12-02 13:15:21.463 - [NOTICE] callbacks.on_step_start(182): Cycle 4/20, step 2/2: Rest for 1 hour\n",
      "2022-12-02 13:15:21.481 - [NOTICE] callbacks.on_cycle_start(174): Cycle 5/20 (140.009 ms elapsed) --------------------\n",
      "2022-12-02 13:15:21.483 - [NOTICE] callbacks.on_step_start(182): Cycle 5/20, step 1/2: Discharge at C/20 for 1 hour\n",
      "2022-12-02 13:15:21.487 - [NOTICE] callbacks.on_step_start(182): Cycle 5/20, step 2/2: Rest for 1 hour\n",
      "2022-12-02 13:15:21.500 - [NOTICE] callbacks.on_cycle_start(174): Cycle 6/20 (159.674 ms elapsed) --------------------\n",
      "2022-12-02 13:15:21.501 - [NOTICE] callbacks.on_step_start(182): Cycle 6/20, step 1/2: Discharge at C/20 for 1 hour\n",
      "2022-12-02 13:15:21.503 - [NOTICE] callbacks.on_step_start(182): Cycle 6/20, step 2/2: Rest for 1 hour\n",
      "2022-12-02 13:15:21.518 - [NOTICE] callbacks.on_cycle_start(174): Cycle 7/20 (177.496 ms elapsed) --------------------\n",
      "2022-12-02 13:15:21.520 - [NOTICE] callbacks.on_step_start(182): Cycle 7/20, step 1/2: Discharge at C/20 for 1 hour\n",
      "2022-12-02 13:15:21.522 - [NOTICE] callbacks.on_step_start(182): Cycle 7/20, step 2/2: Rest for 1 hour\n",
      "2022-12-02 13:15:21.538 - [NOTICE] callbacks.on_cycle_start(174): Cycle 8/20 (196.188 ms elapsed) --------------------\n",
      "2022-12-02 13:15:21.538 - [NOTICE] callbacks.on_step_start(182): Cycle 8/20, step 1/2: Discharge at C/20 for 1 hour\n",
      "2022-12-02 13:15:21.543 - [NOTICE] callbacks.on_step_start(182): Cycle 8/20, step 2/2: Rest for 1 hour\n",
      "2022-12-02 13:15:21.558 - [NOTICE] callbacks.on_cycle_start(174): Cycle 9/20 (216.754 ms elapsed) --------------------\n",
      "2022-12-02 13:15:21.559 - [NOTICE] callbacks.on_step_start(182): Cycle 9/20, step 1/2: Discharge at C/20 for 1 hour\n",
      "2022-12-02 13:15:21.566 - [NOTICE] callbacks.on_step_start(182): Cycle 9/20, step 2/2: Rest for 1 hour\n",
      "2022-12-02 13:15:21.580 - [NOTICE] callbacks.on_cycle_start(174): Cycle 10/20 (239.017 ms elapsed) --------------------\n",
      "2022-12-02 13:15:21.581 - [NOTICE] callbacks.on_step_start(182): Cycle 10/20, step 1/2: Discharge at C/20 for 1 hour\n",
      "2022-12-02 13:15:21.584 - [NOTICE] callbacks.on_step_start(182): Cycle 10/20, step 2/2: Rest for 1 hour\n",
      "2022-12-02 13:15:21.602 - [NOTICE] callbacks.on_cycle_start(174): Cycle 11/20 (260.422 ms elapsed) --------------------\n",
      "2022-12-02 13:15:21.602 - [NOTICE] callbacks.on_step_start(182): Cycle 11/20, step 1/2: Discharge at C/20 for 1 hour\n",
      "2022-12-02 13:15:21.605 - [NOTICE] callbacks.on_step_start(182): Cycle 11/20, step 2/2: Rest for 1 hour\n",
      "2022-12-02 13:15:21.620 - [NOTICE] callbacks.on_cycle_start(174): Cycle 12/20 (278.413 ms elapsed) --------------------\n",
      "2022-12-02 13:15:21.620 - [NOTICE] callbacks.on_step_start(182): Cycle 12/20, step 1/2: Discharge at C/20 for 1 hour\n",
      "2022-12-02 13:15:21.625 - [NOTICE] callbacks.on_step_start(182): Cycle 12/20, step 2/2: Rest for 1 hour\n",
      "2022-12-02 13:15:21.637 - [NOTICE] callbacks.on_cycle_start(174): Cycle 13/20 (296.731 ms elapsed) --------------------\n",
      "2022-12-02 13:15:21.639 - [NOTICE] callbacks.on_step_start(182): Cycle 13/20, step 1/2: Discharge at C/20 for 1 hour\n",
      "2022-12-02 13:15:21.643 - [NOTICE] callbacks.on_step_start(182): Cycle 13/20, step 2/2: Rest for 1 hour\n",
      "2022-12-02 13:15:21.657 - [NOTICE] callbacks.on_cycle_start(174): Cycle 14/20 (316.412 ms elapsed) --------------------\n",
      "2022-12-02 13:15:21.659 - [NOTICE] callbacks.on_step_start(182): Cycle 14/20, step 1/2: Discharge at C/20 for 1 hour\n",
      "2022-12-02 13:15:21.663 - [NOTICE] callbacks.on_step_start(182): Cycle 14/20, step 2/2: Rest for 1 hour\n",
      "2022-12-02 13:15:21.684 - [NOTICE] callbacks.on_cycle_start(174): Cycle 15/20 (343.461 ms elapsed) --------------------\n",
      "2022-12-02 13:15:21.685 - [NOTICE] callbacks.on_step_start(182): Cycle 15/20, step 1/2: Discharge at C/20 for 1 hour\n",
      "2022-12-02 13:15:21.689 - [NOTICE] callbacks.on_step_start(182): Cycle 15/20, step 2/2: Rest for 1 hour\n",
      "2022-12-02 13:15:21.705 - [NOTICE] callbacks.on_cycle_start(174): Cycle 16/20 (364.159 ms elapsed) --------------------\n",
      "2022-12-02 13:15:21.706 - [NOTICE] callbacks.on_step_start(182): Cycle 16/20, step 1/2: Discharge at C/20 for 1 hour\n",
      "2022-12-02 13:15:21.711 - [NOTICE] callbacks.on_step_start(182): Cycle 16/20, step 2/2: Rest for 1 hour\n",
      "2022-12-02 13:15:21.725 - [NOTICE] callbacks.on_cycle_start(174): Cycle 17/20 (383.889 ms elapsed) --------------------\n",
      "2022-12-02 13:15:21.726 - [NOTICE] callbacks.on_step_start(182): Cycle 17/20, step 1/2: Discharge at C/20 for 1 hour\n",
      "2022-12-02 13:15:21.730 - [NOTICE] callbacks.on_step_start(182): Cycle 17/20, step 2/2: Rest for 1 hour\n",
      "2022-12-02 13:15:21.744 - [NOTICE] callbacks.on_cycle_start(174): Cycle 18/20 (402.904 ms elapsed) --------------------\n",
      "2022-12-02 13:15:21.744 - [NOTICE] callbacks.on_step_start(182): Cycle 18/20, step 1/2: Discharge at C/20 for 1 hour\n",
      "2022-12-02 13:15:21.750 - [NOTICE] callbacks.on_step_start(182): Cycle 18/20, step 2/2: Rest for 1 hour\n",
      "2022-12-02 13:15:21.772 - [NOTICE] callbacks.on_cycle_start(174): Cycle 19/20 (431.175 ms elapsed) --------------------\n",
      "2022-12-02 13:15:21.773 - [NOTICE] callbacks.on_step_start(182): Cycle 19/20, step 1/2: Discharge at C/20 for 1 hour\n",
      "2022-12-02 13:15:21.778 - [NOTICE] callbacks.on_step_start(182): Cycle 19/20, step 2/2: Rest for 1 hour\n",
      "2022-12-02 13:15:21.948 - [NOTICE] callbacks.on_cycle_start(174): Cycle 20/20 (607.513 ms elapsed) --------------------\n",
      "2022-12-02 13:15:21.949 - [NOTICE] callbacks.on_step_start(182): Cycle 20/20, step 1/2: Discharge at C/20 for 1 hour\n"
     ]
    },
    {
     "name": "stderr",
     "output_type": "stream",
     "text": [
      "2022-12-02 13:15:21.952 - [NOTICE] callbacks.on_step_start(182): Cycle 20/20, step 2/2: Rest for 1 hour\n",
      "2022-12-02 13:15:21.970 - [NOTICE] callbacks.on_experiment_end(222): Finish experiment simulation, took 628.729 ms\n",
      "2022-12-02 13:15:21.971 - [INFO] callbacks.on_experiment_start(166): Start running experiment\n",
      "2022-12-02 13:15:21.974 - [INFO] parameter_values.process_model(371): Start setting parameters for Single Particle Model with electrolyte\n",
      "2022-12-02 13:15:22.025 - [INFO] parameter_values.process_model(474): Finish setting parameters for Single Particle Model with electrolyte\n",
      "2022-12-02 13:15:22.027 - [INFO] parameter_values.process_model(371): Start setting parameters for Single Particle Model with electrolyte\n",
      "2022-12-02 13:15:22.078 - [INFO] parameter_values.process_model(474): Finish setting parameters for Single Particle Model with electrolyte\n",
      "2022-12-02 13:15:22.080 - [INFO] discretisation.process_model(149): Start discretising Single Particle Model with electrolyte\n",
      "2022-12-02 13:15:22.082 - [INFO] discretisation.remove_independent_variables_from_rhs(1199): removing variable Discharge capacity [A.h] from rhs\n",
      "2022-12-02 13:15:22.224 - [INFO] discretisation.process_model(271): Finish discretising Single Particle Model with electrolyte\n",
      "2022-12-02 13:15:22.224 - [INFO] discretisation.process_model(149): Start discretising Single Particle Model with electrolyte\n",
      "2022-12-02 13:15:22.224 - [INFO] discretisation.remove_independent_variables_from_rhs(1199): removing variable Discharge capacity [A.h] from rhs\n",
      "2022-12-02 13:15:22.334 - [INFO] discretisation.process_model(271): Finish discretising Single Particle Model with electrolyte\n",
      "2022-12-02 13:15:22.335 - [NOTICE] callbacks.on_cycle_start(174): Cycle 1/20 (32.000 us elapsed) --------------------\n",
      "2022-12-02 13:15:22.336 - [NOTICE] callbacks.on_step_start(182): Cycle 1/20, step 1/2: Discharge at C/20 for 1 hour\n",
      "2022-12-02 13:15:22.339 - [INFO] base_solver.set_up(110): Start solver set-up\n",
      "2022-12-02 13:15:22.368 - [INFO] base_solver.set_up(235): Finish solver set-up\n",
      "2022-12-02 13:15:22.379 - [NOTICE] callbacks.on_step_start(182): Cycle 1/20, step 2/2: Rest for 1 hour\n",
      "2022-12-02 13:15:22.382 - [INFO] base_solver.set_up(110): Start solver set-up\n",
      "2022-12-02 13:15:22.404 - [INFO] base_solver.set_up(235): Finish solver set-up\n",
      "2022-12-02 13:15:22.465 - [NOTICE] callbacks.on_cycle_start(174): Cycle 2/20 (129.042 ms elapsed) --------------------\n",
      "2022-12-02 13:15:22.466 - [NOTICE] callbacks.on_step_start(182): Cycle 2/20, step 1/2: Discharge at C/20 for 1 hour\n",
      "2022-12-02 13:15:22.471 - [NOTICE] callbacks.on_step_start(182): Cycle 2/20, step 2/2: Rest for 1 hour\n",
      "2022-12-02 13:15:22.488 - [NOTICE] callbacks.on_cycle_start(174): Cycle 3/20 (152.713 ms elapsed) --------------------\n",
      "2022-12-02 13:15:22.490 - [NOTICE] callbacks.on_step_start(182): Cycle 3/20, step 1/2: Discharge at C/20 for 1 hour\n",
      "2022-12-02 13:15:22.495 - [NOTICE] callbacks.on_step_start(182): Cycle 3/20, step 2/2: Rest for 1 hour\n",
      "2022-12-02 13:15:22.516 - [NOTICE] callbacks.on_cycle_start(174): Cycle 4/20 (179.514 ms elapsed) --------------------\n",
      "2022-12-02 13:15:22.517 - [NOTICE] callbacks.on_step_start(182): Cycle 4/20, step 1/2: Discharge at C/20 for 1 hour\n",
      "2022-12-02 13:15:22.523 - [NOTICE] callbacks.on_step_start(182): Cycle 4/20, step 2/2: Rest for 1 hour\n",
      "2022-12-02 13:15:22.541 - [NOTICE] callbacks.on_cycle_start(174): Cycle 5/20 (204.819 ms elapsed) --------------------\n",
      "2022-12-02 13:15:22.541 - [NOTICE] callbacks.on_step_start(182): Cycle 5/20, step 1/2: Discharge at C/20 for 1 hour\n",
      "2022-12-02 13:15:22.548 - [NOTICE] callbacks.on_step_start(182): Cycle 5/20, step 2/2: Rest for 1 hour\n",
      "2022-12-02 13:15:22.564 - [NOTICE] callbacks.on_cycle_start(174): Cycle 6/20 (228.214 ms elapsed) --------------------\n",
      "2022-12-02 13:15:22.565 - [NOTICE] callbacks.on_step_start(182): Cycle 6/20, step 1/2: Discharge at C/20 for 1 hour\n",
      "2022-12-02 13:15:22.571 - [NOTICE] callbacks.on_step_start(182): Cycle 6/20, step 2/2: Rest for 1 hour\n",
      "2022-12-02 13:15:22.591 - [NOTICE] callbacks.on_cycle_start(174): Cycle 7/20 (255.123 ms elapsed) --------------------\n",
      "2022-12-02 13:15:22.592 - [NOTICE] callbacks.on_step_start(182): Cycle 7/20, step 1/2: Discharge at C/20 for 1 hour\n",
      "2022-12-02 13:15:22.600 - [NOTICE] callbacks.on_step_start(182): Cycle 7/20, step 2/2: Rest for 1 hour\n",
      "2022-12-02 13:15:22.619 - [NOTICE] callbacks.on_cycle_start(174): Cycle 8/20 (282.854 ms elapsed) --------------------\n",
      "2022-12-02 13:15:22.620 - [NOTICE] callbacks.on_step_start(182): Cycle 8/20, step 1/2: Discharge at C/20 for 1 hour\n",
      "2022-12-02 13:15:22.625 - [NOTICE] callbacks.on_step_start(182): Cycle 8/20, step 2/2: Rest for 1 hour\n",
      "2022-12-02 13:15:22.646 - [NOTICE] callbacks.on_cycle_start(174): Cycle 9/20 (309.958 ms elapsed) --------------------\n",
      "2022-12-02 13:15:22.647 - [NOTICE] callbacks.on_step_start(182): Cycle 9/20, step 1/2: Discharge at C/20 for 1 hour\n",
      "2022-12-02 13:15:22.652 - [NOTICE] callbacks.on_step_start(182): Cycle 9/20, step 2/2: Rest for 1 hour\n",
      "2022-12-02 13:15:22.668 - [NOTICE] callbacks.on_cycle_start(174): Cycle 10/20 (332.039 ms elapsed) --------------------\n",
      "2022-12-02 13:15:22.669 - [NOTICE] callbacks.on_step_start(182): Cycle 10/20, step 1/2: Discharge at C/20 for 1 hour\n",
      "2022-12-02 13:15:22.676 - [NOTICE] callbacks.on_step_start(182): Cycle 10/20, step 2/2: Rest for 1 hour\n",
      "2022-12-02 13:15:22.693 - [NOTICE] callbacks.on_cycle_start(174): Cycle 11/20 (357.279 ms elapsed) --------------------\n",
      "2022-12-02 13:15:22.694 - [NOTICE] callbacks.on_step_start(182): Cycle 11/20, step 1/2: Discharge at C/20 for 1 hour\n",
      "2022-12-02 13:15:22.701 - [NOTICE] callbacks.on_step_start(182): Cycle 11/20, step 2/2: Rest for 1 hour\n",
      "2022-12-02 13:15:22.719 - [NOTICE] callbacks.on_cycle_start(174): Cycle 12/20 (383.363 ms elapsed) --------------------\n",
      "2022-12-02 13:15:22.720 - [NOTICE] callbacks.on_step_start(182): Cycle 12/20, step 1/2: Discharge at C/20 for 1 hour\n",
      "2022-12-02 13:15:22.726 - [NOTICE] callbacks.on_step_start(182): Cycle 12/20, step 2/2: Rest for 1 hour\n",
      "2022-12-02 13:15:22.745 - [NOTICE] callbacks.on_cycle_start(174): Cycle 13/20 (409.435 ms elapsed) --------------------\n",
      "2022-12-02 13:15:22.747 - [NOTICE] callbacks.on_step_start(182): Cycle 13/20, step 1/2: Discharge at C/20 for 1 hour\n",
      "2022-12-02 13:15:22.752 - [NOTICE] callbacks.on_step_start(182): Cycle 13/20, step 2/2: Rest for 1 hour\n",
      "2022-12-02 13:15:22.774 - [NOTICE] callbacks.on_cycle_start(174): Cycle 14/20 (438.052 ms elapsed) --------------------\n",
      "2022-12-02 13:15:22.774 - [NOTICE] callbacks.on_step_start(182): Cycle 14/20, step 1/2: Discharge at C/20 for 1 hour\n",
      "2022-12-02 13:15:22.780 - [NOTICE] callbacks.on_step_start(182): Cycle 14/20, step 2/2: Rest for 1 hour\n",
      "2022-12-02 13:15:22.799 - [NOTICE] callbacks.on_cycle_start(174): Cycle 15/20 (462.693 ms elapsed) --------------------\n",
      "2022-12-02 13:15:22.800 - [NOTICE] callbacks.on_step_start(182): Cycle 15/20, step 1/2: Discharge at C/20 for 1 hour\n",
      "2022-12-02 13:15:22.805 - [NOTICE] callbacks.on_step_start(182): Cycle 15/20, step 2/2: Rest for 1 hour\n",
      "2022-12-02 13:15:22.823 - [NOTICE] callbacks.on_cycle_start(174): Cycle 16/20 (487.855 ms elapsed) --------------------\n",
      "2022-12-02 13:15:22.824 - [NOTICE] callbacks.on_step_start(182): Cycle 16/20, step 1/2: Discharge at C/20 for 1 hour\n",
      "2022-12-02 13:15:22.830 - [NOTICE] callbacks.on_step_start(182): Cycle 16/20, step 2/2: Rest for 1 hour\n",
      "2022-12-02 13:15:22.850 - [NOTICE] callbacks.on_cycle_start(174): Cycle 17/20 (514.361 ms elapsed) --------------------\n",
      "2022-12-02 13:15:22.853 - [NOTICE] callbacks.on_step_start(182): Cycle 17/20, step 1/2: Discharge at C/20 for 1 hour\n",
      "2022-12-02 13:15:22.858 - [NOTICE] callbacks.on_step_start(182): Cycle 17/20, step 2/2: Rest for 1 hour\n",
      "2022-12-02 13:15:22.874 - [NOTICE] callbacks.on_cycle_start(174): Cycle 18/20 (538.821 ms elapsed) --------------------\n",
      "2022-12-02 13:15:22.875 - [NOTICE] callbacks.on_step_start(182): Cycle 18/20, step 1/2: Discharge at C/20 for 1 hour\n",
      "2022-12-02 13:15:22.881 - [NOTICE] callbacks.on_step_start(182): Cycle 18/20, step 2/2: Rest for 1 hour\n",
      "2022-12-02 13:15:22.898 - [NOTICE] callbacks.on_cycle_start(174): Cycle 19/20 (562.358 ms elapsed) --------------------\n"
     ]
    },
    {
     "name": "stderr",
     "output_type": "stream",
     "text": [
      "2022-12-02 13:15:22.899 - [NOTICE] callbacks.on_step_start(182): Cycle 19/20, step 1/2: Discharge at C/20 for 1 hour\n",
      "2022-12-02 13:15:22.904 - [NOTICE] callbacks.on_step_start(182): Cycle 19/20, step 2/2: Rest for 1 hour\n",
      "2022-12-02 13:15:22.920 - [NOTICE] callbacks.on_cycle_start(174): Cycle 20/20 (584.775 ms elapsed) --------------------\n",
      "2022-12-02 13:15:22.921 - [NOTICE] callbacks.on_step_start(182): Cycle 20/20, step 1/2: Discharge at C/20 for 1 hour\n",
      "2022-12-02 13:15:22.927 - [NOTICE] callbacks.on_step_start(182): Cycle 20/20, step 2/2: Rest for 1 hour\n",
      "2022-12-02 13:15:22.945 - [NOTICE] callbacks.on_experiment_end(222): Finish experiment simulation, took 609.683 ms\n",
      "2022-12-02 13:15:22.947 - [INFO] callbacks.on_experiment_start(166): Start running experiment\n",
      "2022-12-02 13:15:22.948 - [INFO] parameter_values.process_model(371): Start setting parameters for Doyle-Fuller-Newman model\n",
      "2022-12-02 13:15:23.000 - [INFO] parameter_values.process_model(474): Finish setting parameters for Doyle-Fuller-Newman model\n",
      "2022-12-02 13:15:23.002 - [INFO] parameter_values.process_model(371): Start setting parameters for Doyle-Fuller-Newman model\n",
      "2022-12-02 13:15:23.041 - [INFO] parameter_values.process_model(474): Finish setting parameters for Doyle-Fuller-Newman model\n",
      "2022-12-02 13:15:23.043 - [INFO] discretisation.process_model(149): Start discretising Doyle-Fuller-Newman model\n",
      "2022-12-02 13:15:23.046 - [INFO] discretisation.remove_independent_variables_from_rhs(1199): removing variable Discharge capacity [A.h] from rhs\n",
      "2022-12-02 13:15:23.250 - [INFO] discretisation.process_model(271): Finish discretising Doyle-Fuller-Newman model\n",
      "2022-12-02 13:15:23.251 - [INFO] discretisation.process_model(149): Start discretising Doyle-Fuller-Newman model\n",
      "2022-12-02 13:15:23.253 - [INFO] discretisation.remove_independent_variables_from_rhs(1199): removing variable Discharge capacity [A.h] from rhs\n",
      "2022-12-02 13:15:23.428 - [INFO] discretisation.process_model(271): Finish discretising Doyle-Fuller-Newman model\n",
      "2022-12-02 13:15:23.429 - [NOTICE] callbacks.on_cycle_start(174): Cycle 1/20 (61.800 us elapsed) --------------------\n",
      "2022-12-02 13:15:23.430 - [NOTICE] callbacks.on_step_start(182): Cycle 1/20, step 1/2: Discharge at C/20 for 1 hour\n",
      "2022-12-02 13:15:23.433 - [INFO] base_solver.set_up(110): Start solver set-up\n",
      "2022-12-02 13:15:23.487 - [INFO] base_solver.set_up(235): Finish solver set-up\n",
      "2022-12-02 13:15:23.565 - [NOTICE] callbacks.on_step_start(182): Cycle 1/20, step 2/2: Rest for 1 hour\n",
      "2022-12-02 13:15:23.567 - [INFO] base_solver.set_up(110): Start solver set-up\n",
      "2022-12-02 13:15:23.624 - [INFO] base_solver.set_up(235): Finish solver set-up\n",
      "2022-12-02 13:15:23.734 - [NOTICE] callbacks.on_cycle_start(174): Cycle 2/20 (307.726 ms elapsed) --------------------\n",
      "2022-12-02 13:15:23.738 - [NOTICE] callbacks.on_step_start(182): Cycle 2/20, step 1/2: Discharge at C/20 for 1 hour\n",
      "2022-12-02 13:15:23.794 - [NOTICE] callbacks.on_step_start(182): Cycle 2/20, step 2/2: Rest for 1 hour\n",
      "2022-12-02 13:15:23.855 - [NOTICE] callbacks.on_cycle_start(174): Cycle 3/20 (432.890 ms elapsed) --------------------\n",
      "2022-12-02 13:15:23.855 - [NOTICE] callbacks.on_step_start(182): Cycle 3/20, step 1/2: Discharge at C/20 for 1 hour\n",
      "2022-12-02 13:15:23.916 - [NOTICE] callbacks.on_step_start(182): Cycle 3/20, step 2/2: Rest for 1 hour\n",
      "2022-12-02 13:15:23.974 - [NOTICE] callbacks.on_cycle_start(174): Cycle 4/20 (545.364 ms elapsed) --------------------\n",
      "2022-12-02 13:15:23.975 - [NOTICE] callbacks.on_step_start(182): Cycle 4/20, step 1/2: Discharge at C/20 for 1 hour\n",
      "2022-12-02 13:15:24.019 - [NOTICE] callbacks.on_step_start(182): Cycle 4/20, step 2/2: Rest for 1 hour\n",
      "2022-12-02 13:15:24.076 - [NOTICE] callbacks.on_cycle_start(174): Cycle 5/20 (646.962 ms elapsed) --------------------\n",
      "2022-12-02 13:15:24.077 - [NOTICE] callbacks.on_step_start(182): Cycle 5/20, step 1/2: Discharge at C/20 for 1 hour\n",
      "2022-12-02 13:15:24.121 - [NOTICE] callbacks.on_step_start(182): Cycle 5/20, step 2/2: Rest for 1 hour\n",
      "2022-12-02 13:15:24.177 - [NOTICE] callbacks.on_cycle_start(174): Cycle 6/20 (747.859 ms elapsed) --------------------\n",
      "2022-12-02 13:15:24.178 - [NOTICE] callbacks.on_step_start(182): Cycle 6/20, step 1/2: Discharge at C/20 for 1 hour\n",
      "2022-12-02 13:15:24.219 - [NOTICE] callbacks.on_step_start(182): Cycle 6/20, step 2/2: Rest for 1 hour\n",
      "2022-12-02 13:15:24.279 - [NOTICE] callbacks.on_cycle_start(174): Cycle 7/20 (850.325 ms elapsed) --------------------\n",
      "2022-12-02 13:15:24.280 - [NOTICE] callbacks.on_step_start(182): Cycle 7/20, step 1/2: Discharge at C/20 for 1 hour\n",
      "2022-12-02 13:15:24.324 - [NOTICE] callbacks.on_step_start(182): Cycle 7/20, step 2/2: Rest for 1 hour\n",
      "2022-12-02 13:15:24.384 - [NOTICE] callbacks.on_cycle_start(174): Cycle 8/20 (955.273 ms elapsed) --------------------\n",
      "2022-12-02 13:15:24.385 - [NOTICE] callbacks.on_step_start(182): Cycle 8/20, step 1/2: Discharge at C/20 for 1 hour\n",
      "2022-12-02 13:15:24.430 - [NOTICE] callbacks.on_step_start(182): Cycle 8/20, step 2/2: Rest for 1 hour\n",
      "2022-12-02 13:15:24.492 - [NOTICE] callbacks.on_cycle_start(174): Cycle 9/20 (1.063 s elapsed) --------------------\n",
      "2022-12-02 13:15:24.493 - [NOTICE] callbacks.on_step_start(182): Cycle 9/20, step 1/2: Discharge at C/20 for 1 hour\n",
      "2022-12-02 13:15:24.540 - [NOTICE] callbacks.on_step_start(182): Cycle 9/20, step 2/2: Rest for 1 hour\n",
      "2022-12-02 13:15:24.605 - [NOTICE] callbacks.on_cycle_start(174): Cycle 10/20 (1.176 s elapsed) --------------------\n",
      "2022-12-02 13:15:24.606 - [NOTICE] callbacks.on_step_start(182): Cycle 10/20, step 1/2: Discharge at C/20 for 1 hour\n",
      "2022-12-02 13:15:24.659 - [NOTICE] callbacks.on_step_start(182): Cycle 10/20, step 2/2: Rest for 1 hour\n",
      "2022-12-02 13:15:24.719 - [NOTICE] callbacks.on_cycle_start(174): Cycle 11/20 (1.290 s elapsed) --------------------\n",
      "2022-12-02 13:15:24.720 - [NOTICE] callbacks.on_step_start(182): Cycle 11/20, step 1/2: Discharge at C/20 for 1 hour\n",
      "2022-12-02 13:15:24.768 - [NOTICE] callbacks.on_step_start(182): Cycle 11/20, step 2/2: Rest for 1 hour\n",
      "2022-12-02 13:15:24.836 - [NOTICE] callbacks.on_cycle_start(174): Cycle 12/20 (1.407 s elapsed) --------------------\n",
      "2022-12-02 13:15:24.837 - [NOTICE] callbacks.on_step_start(182): Cycle 12/20, step 1/2: Discharge at C/20 for 1 hour\n",
      "2022-12-02 13:15:24.878 - [NOTICE] callbacks.on_step_start(182): Cycle 12/20, step 2/2: Rest for 1 hour\n",
      "2022-12-02 13:15:24.937 - [NOTICE] callbacks.on_cycle_start(174): Cycle 13/20 (1.508 s elapsed) --------------------\n",
      "2022-12-02 13:15:24.938 - [NOTICE] callbacks.on_step_start(182): Cycle 13/20, step 1/2: Discharge at C/20 for 1 hour\n",
      "2022-12-02 13:15:24.981 - [NOTICE] callbacks.on_step_start(182): Cycle 13/20, step 2/2: Rest for 1 hour\n",
      "2022-12-02 13:15:25.044 - [NOTICE] callbacks.on_cycle_start(174): Cycle 14/20 (1.618 s elapsed) --------------------\n",
      "2022-12-02 13:15:25.044 - [NOTICE] callbacks.on_step_start(182): Cycle 14/20, step 1/2: Discharge at C/20 for 1 hour\n",
      "2022-12-02 13:15:25.107 - [NOTICE] callbacks.on_step_start(182): Cycle 14/20, step 2/2: Rest for 1 hour\n",
      "2022-12-02 13:15:25.179 - [NOTICE] callbacks.on_cycle_start(174): Cycle 15/20 (1.750 s elapsed) --------------------\n",
      "2022-12-02 13:15:25.179 - [NOTICE] callbacks.on_step_start(182): Cycle 15/20, step 1/2: Discharge at C/20 for 1 hour\n",
      "2022-12-02 13:15:25.224 - [NOTICE] callbacks.on_step_start(182): Cycle 15/20, step 2/2: Rest for 1 hour\n",
      "2022-12-02 13:15:25.274 - [NOTICE] callbacks.on_cycle_start(174): Cycle 16/20 (1.847 s elapsed) --------------------\n",
      "2022-12-02 13:15:25.274 - [NOTICE] callbacks.on_step_start(182): Cycle 16/20, step 1/2: Discharge at C/20 for 1 hour\n",
      "2022-12-02 13:15:25.319 - [NOTICE] callbacks.on_step_start(182): Cycle 16/20, step 2/2: Rest for 1 hour\n",
      "2022-12-02 13:15:25.394 - [NOTICE] callbacks.on_cycle_start(174): Cycle 17/20 (1.965 s elapsed) --------------------\n",
      "2022-12-02 13:15:25.394 - [NOTICE] callbacks.on_step_start(182): Cycle 17/20, step 1/2: Discharge at C/20 for 1 hour\n",
      "2022-12-02 13:15:25.441 - [NOTICE] callbacks.on_step_start(182): Cycle 17/20, step 2/2: Rest for 1 hour\n",
      "2022-12-02 13:15:25.500 - [NOTICE] callbacks.on_cycle_start(174): Cycle 18/20 (2.071 s elapsed) --------------------\n",
      "2022-12-02 13:15:25.501 - [NOTICE] callbacks.on_step_start(182): Cycle 18/20, step 1/2: Discharge at C/20 for 1 hour\n"
     ]
    },
    {
     "name": "stderr",
     "output_type": "stream",
     "text": [
      "2022-12-02 13:15:25.543 - [NOTICE] callbacks.on_step_start(182): Cycle 18/20, step 2/2: Rest for 1 hour\n",
      "2022-12-02 13:15:25.594 - [NOTICE] callbacks.on_cycle_start(174): Cycle 19/20 (2.173 s elapsed) --------------------\n",
      "2022-12-02 13:15:25.594 - [NOTICE] callbacks.on_step_start(182): Cycle 19/20, step 1/2: Discharge at C/20 for 1 hour\n",
      "2022-12-02 13:15:25.648 - [NOTICE] callbacks.on_step_start(182): Cycle 19/20, step 2/2: Rest for 1 hour\n",
      "2022-12-02 13:15:25.699 - [NOTICE] callbacks.on_cycle_start(174): Cycle 20/20 (2.271 s elapsed) --------------------\n",
      "2022-12-02 13:15:25.699 - [NOTICE] callbacks.on_step_start(182): Cycle 20/20, step 1/2: Discharge at C/20 for 1 hour\n",
      "2022-12-02 13:15:25.743 - [NOTICE] callbacks.on_step_start(182): Cycle 20/20, step 2/2: Rest for 1 hour\n",
      "2022-12-02 13:15:25.800 - [NOTICE] callbacks.on_experiment_end(222): Finish experiment simulation, took 2.373 s\n"
     ]
    }
   ],
   "source": [
    "#\n",
    "# GITT discharge\n",
    "#\n",
    "\n",
    "experiment = pybamm.Experiment(\n",
    "    [(\"Discharge at C/20 for 1 hour\", \"Rest for 1 hour\")] * 20,\n",
    ")\n",
    "\n",
    "# Run simulations\n",
    "sims = []\n",
    "for model in models:\n",
    "    sim = pybamm.Simulation(model, experiment=experiment, solver=pybamm.CasadiSolver())\n",
    "    sim.solve()\n",
    "    sims.append(sim)\n"
   ]
  },
  {
   "cell_type": "code",
   "execution_count": 22,
   "id": "e6b7ae37",
   "metadata": {},
   "outputs": [
    {
     "data": {
      "application/vnd.jupyter.widget-view+json": {
       "model_id": "e94beb2a742d4938a5d590d1f7772289",
       "version_major": 2,
       "version_minor": 0
      },
      "text/plain": [
       "interactive(children=(FloatSlider(value=0.0, description='t', max=39.99999999999998, step=0.3999999999999998),…"
      ]
     },
     "metadata": {},
     "output_type": "display_data"
    },
    {
     "data": {
      "text/plain": [
       "<pybamm.plotting.quick_plot.QuickPlot at 0x1cc0d5ebf40>"
      ]
     },
     "execution_count": 22,
     "metadata": {},
     "output_type": "execute_result"
    }
   ],
   "source": [
    "# plot\n",
    "pybamm.dynamic_plot(sims)"
   ]
  },
  {
   "cell_type": "code",
   "execution_count": 23,
   "id": "b919e5af",
   "metadata": {},
   "outputs": [
    {
     "data": {
      "application/vnd.jupyter.widget-view+json": {
       "model_id": "ace8fff0be3a4578bd6ce68409aeef55",
       "version_major": 2,
       "version_minor": 0
      },
      "text/plain": [
       "interactive(children=(FloatSlider(value=0.0, description='t', max=39.99999999999998, step=0.3999999999999998),…"
      ]
     },
     "metadata": {},
     "output_type": "display_data"
    },
    {
     "data": {
      "text/plain": [
       "<pybamm.plotting.quick_plot.QuickPlot at 0x1cc0d5ebeb0>"
      ]
     },
     "execution_count": 23,
     "metadata": {},
     "output_type": "execute_result"
    }
   ],
   "source": [
    "# plot\n",
    "pybamm.dynamic_plot(\n",
    "    sims,\n",
    "    [\n",
    "         \"Positive electrode interfacial current density [A.m-2]\",\n",
    "    ],\n",
    ")"
   ]
  },
  {
   "cell_type": "code",
   "execution_count": null,
   "id": "cf316c25",
   "metadata": {},
   "outputs": [],
   "source": []
  }
 ],
 "metadata": {
  "kernelspec": {
   "display_name": "Python 3 (ipykernel)",
   "language": "python",
   "name": "python3"
  },
  "language_info": {
   "codemirror_mode": {
    "name": "ipython",
    "version": 3
   },
   "file_extension": ".py",
   "mimetype": "text/x-python",
   "name": "python",
   "nbconvert_exporter": "python",
   "pygments_lexer": "ipython3",
   "version": "3.9.13"
  }
 },
 "nbformat": 4,
 "nbformat_minor": 5
}

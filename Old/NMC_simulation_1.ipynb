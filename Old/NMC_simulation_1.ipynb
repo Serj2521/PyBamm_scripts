{
 "cells": [
  {
   "cell_type": "code",
   "execution_count": 1,
   "id": "c7517b74",
   "metadata": {},
   "outputs": [],
   "source": [
    "import pybamm\n",
    "import numpy as np\n",
    "import matplotlib.pyplot as plt"
   ]
  },
  {
   "cell_type": "code",
   "execution_count": 2,
   "id": "6df8befc",
   "metadata": {},
   "outputs": [],
   "source": [
    "#Determine the general chemistry of the system\n",
    "chemistry = pybamm.parameter_sets.Chen2020\n",
    "\n",
    "#Change the known parameters from our cells (capacity, normal working current, upper/lower voltage limitations, etc.)\n",
    "chemistry[\"cell\"] = \"1_NMC_lab\"\n",
    "chemistry[\"experiment\"] = \"01C_discharge_from_full_NMC_lab\"\n",
    "\n",
    "#Define the parameter values\n",
    "parameter_values = pybamm.ParameterValues(chemistry=chemistry)"
   ]
  },
  {
   "cell_type": "code",
   "execution_count": 3,
   "id": "560434ad",
   "metadata": {},
   "outputs": [],
   "source": [
    "#Define the experiment realised\n",
    "experiment = pybamm.Experiment([\n",
    "    (\"Discharge at 0.033 C until 2.75V\",\n",
    "    \"Rest for 10 hours\",\n",
    "    \"Charge at 0.033 C until 4.20V\",)\n",
    "    \n",
    "])"
   ]
  },
  {
   "cell_type": "code",
   "execution_count": 4,
   "id": "4e33070c",
   "metadata": {},
   "outputs": [
    {
     "data": {
      "application/vnd.jupyter.widget-view+json": {
       "model_id": "8cc971e717f84fea9f45b31001418664",
       "version_major": 2,
       "version_minor": 0
      },
      "text/plain": [
       "interactive(children=(FloatSlider(value=0.0, description='t', max=86.34450561460473, step=0.8634450561460473),…"
      ]
     },
     "metadata": {},
     "output_type": "display_data"
    },
    {
     "data": {
      "text/plain": [
       "<pybamm.plotting.quick_plot.QuickPlot at 0x1939dcd50a0>"
      ]
     },
     "execution_count": 4,
     "metadata": {},
     "output_type": "execute_result"
    }
   ],
   "source": [
    "#Determine the model sellected:\n",
    "model = pybamm.lithium_ion.DFN()\n",
    "\n",
    "#Solve and plot\n",
    "sim = pybamm.Simulation(model, experiment=experiment, parameter_values=parameter_values)\n",
    "sim.solve()\n",
    "sim.plot([\"Terminal voltage [V]\",\"Current [A]\"])"
   ]
  },
  {
   "cell_type": "code",
   "execution_count": null,
   "id": "dd836013",
   "metadata": {},
   "outputs": [],
   "source": []
  }
 ],
 "metadata": {
  "kernelspec": {
   "display_name": "Python 3 (ipykernel)",
   "language": "python",
   "name": "python3"
  },
  "language_info": {
   "codemirror_mode": {
    "name": "ipython",
    "version": 3
   },
   "file_extension": ".py",
   "mimetype": "text/x-python",
   "name": "python",
   "nbconvert_exporter": "python",
   "pygments_lexer": "ipython3",
   "version": "3.9.13"
  }
 },
 "nbformat": 4,
 "nbformat_minor": 5
}

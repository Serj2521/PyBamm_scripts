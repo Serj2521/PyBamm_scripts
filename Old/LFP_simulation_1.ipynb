{
 "cells": [
  {
   "cell_type": "code",
   "execution_count": 1,
   "id": "807dd4ef",
   "metadata": {},
   "outputs": [],
   "source": [
    "import pybamm\n",
    "import numpy as np\n",
    "import matplotlib.pyplot as plt"
   ]
  },
  {
   "cell_type": "code",
   "execution_count": 2,
   "id": "ca3bcee3",
   "metadata": {},
   "outputs": [],
   "source": [
    "#Determine the general chemistry of the system\n",
    "chemistry = pybamm.parameter_sets.Prada2013\n",
    "\n",
    "#Change the known parameters from our cells (capacity, normal working current, upper/lower voltage limitations, etc.)\n",
    "chemistry[\"cell\"] = \"1_LFP_lab\"\n",
    "chemistry[\"experiment\"] = \"01C_discharge_from_full_LFP_lab\"\n",
    "\n",
    "#Define the parameter values\n",
    "parameter_values = pybamm.ParameterValues(chemistry=chemistry)"
   ]
  },
  {
   "cell_type": "code",
   "execution_count": 3,
   "id": "2af8b204",
   "metadata": {},
   "outputs": [],
   "source": [
    "#Define the experiment realised\n",
    "experiment = pybamm.Experiment([\n",
    "    (\"Discharge at 0.033 C until 2V\",\n",
    "    \"Rest for 10 hours\",\n",
    "    \"Charge at 0.033 C until 3.6V\",)\n",
    "    \n",
    "])"
   ]
  },
  {
   "cell_type": "code",
   "execution_count": 4,
   "id": "42f845a6",
   "metadata": {},
   "outputs": [
    {
     "name": "stderr",
     "output_type": "stream",
     "text": [
      "At t = 0.00719927 and h = 1.3229e-017, the corrector convergence failed repeatedly or with |h| = hmin.\n",
      "At t = 0.00296928 and h = 6.60992e-018, the corrector convergence failed repeatedly or with |h| = hmin.\n",
      "At t = 0.000854268 and h = 4.29268e-016, the corrector convergence failed repeatedly or with |h| = hmin.\n",
      "At t = 0.000854291, , mxstep steps taken before reaching tout.\n",
      "At t = 0.00022929 and h = 1.12836e-018, the corrector convergence failed repeatedly or with |h| = hmin.\n",
      "At t = 0.00022929 and h = 2.97105e-018, the corrector convergence failed repeatedly or with |h| = hmin.\n",
      "At t = 7.3039e-005 and h = 1.28867e-017, the corrector convergence failed repeatedly or with |h| = hmin.\n",
      "At t = 7.30401e-005, , mxstep steps taken before reaching tout.\n",
      "At t = 3.39778e-005 and h = 3.54996e-018, the corrector convergence failed repeatedly or with |h| = hmin.\n",
      "At t = 0 and h = 9.07638e-014, the error test failed repeatedly or with |h| = hmin.\n",
      "At t = 4.67987e-006 and h = 3.57723e-018, the corrector convergence failed repeatedly or with |h| = hmin.\n",
      "At t = 4.68078e-006 and h = 3.72908e-018, the corrector convergence failed repeatedly or with |h| = hmin.\n",
      "At t = 0 and h = 1.13946e-014, the error test failed repeatedly or with |h| = hmin.\n",
      "At t = 0 and h = 6.20001e-015, the error test failed repeatedly or with |h| = hmin.\n",
      "At t = 0.00731824 and h = 3.75466e-020, the corrector convergence failed repeatedly or with |h| = hmin.\n",
      "At t = 0.00308826 and h = 1.40825e-020, the corrector convergence failed repeatedly or with |h| = hmin.\n",
      "At t = 0.000973264 and h = 1.7492e-021, the corrector convergence failed repeatedly or with |h| = hmin.\n",
      "At t = 0.000973266, , mxstep steps taken before reaching tout.\n",
      "At t = 0.000348262 and h = 2.64428e-019, the corrector convergence failed repeatedly or with |h| = hmin.\n"
     ]
    },
    {
     "data": {
      "application/vnd.jupyter.widget-view+json": {
       "model_id": "e7ce2809b33e4409817a4bf7fd694b32",
       "version_major": 2,
       "version_minor": 0
      },
      "text/plain": [
       "interactive(children=(FloatSlider(value=0.0, description='t', max=19.51325225386143, step=0.19513252253861432)…"
      ]
     },
     "metadata": {},
     "output_type": "display_data"
    },
    {
     "data": {
      "text/plain": [
       "<pybamm.plotting.quick_plot.QuickPlot at 0x290d64fb610>"
      ]
     },
     "execution_count": 4,
     "metadata": {},
     "output_type": "execute_result"
    }
   ],
   "source": [
    "#Determine the model sellected:\n",
    "model = pybamm.lithium_ion.DFN()\n",
    "\n",
    "#Solve and plot\n",
    "sim = pybamm.Simulation(model, experiment=experiment, parameter_values=parameter_values)\n",
    "sim.solve(calc_esoh=False)\n",
    "sim.plot([\"Terminal voltage [V]\",\"Current [A]\"])"
   ]
  },
  {
   "cell_type": "code",
   "execution_count": null,
   "id": "6fb4e0d5",
   "metadata": {},
   "outputs": [],
   "source": []
  },
  {
   "cell_type": "code",
   "execution_count": null,
   "id": "188ad881",
   "metadata": {},
   "outputs": [],
   "source": []
  },
  {
   "cell_type": "code",
   "execution_count": null,
   "id": "469994f5",
   "metadata": {},
   "outputs": [],
   "source": []
  }
 ],
 "metadata": {
  "kernelspec": {
   "display_name": "Python 3 (ipykernel)",
   "language": "python",
   "name": "python3"
  },
  "language_info": {
   "codemirror_mode": {
    "name": "ipython",
    "version": 3
   },
   "file_extension": ".py",
   "mimetype": "text/x-python",
   "name": "python",
   "nbconvert_exporter": "python",
   "pygments_lexer": "ipython3",
   "version": "3.9.13"
  }
 },
 "nbformat": 4,
 "nbformat_minor": 5
}

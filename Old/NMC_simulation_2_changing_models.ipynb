{
 "cells": [
  {
   "cell_type": "code",
   "execution_count": 1,
   "id": "c7517b74",
   "metadata": {},
   "outputs": [],
   "source": [
    "import pybamm\n",
    "import numpy as np\n",
    "import matplotlib.pyplot as plt"
   ]
  },
  {
   "cell_type": "code",
   "execution_count": 3,
   "id": "6df8befc",
   "metadata": {},
   "outputs": [
    {
     "ename": "TypeError",
     "evalue": "'str' object does not support item assignment",
     "output_type": "error",
     "traceback": [
      "\u001b[1;31m---------------------------------------------------------------------------\u001b[0m",
      "\u001b[1;31mTypeError\u001b[0m                                 Traceback (most recent call last)",
      "Input \u001b[1;32mIn [3]\u001b[0m, in \u001b[0;36m<cell line: 3>\u001b[1;34m()\u001b[0m\n\u001b[0;32m      1\u001b[0m \u001b[38;5;66;03m#Determine the general chemistry of the system\u001b[39;00m\n\u001b[0;32m      2\u001b[0m chemistry \u001b[38;5;241m=\u001b[39m pybamm\u001b[38;5;241m.\u001b[39mparameter_sets\u001b[38;5;241m.\u001b[39mChen2020\n\u001b[1;32m----> 3\u001b[0m \u001b[43mchemistry\u001b[49m\u001b[43m[\u001b[49m\u001b[38;5;124;43m\"\u001b[39;49m\u001b[38;5;124;43mcell\u001b[39;49m\u001b[38;5;124;43m\"\u001b[39;49m\u001b[43m]\u001b[49m \u001b[38;5;241m=\u001b[39m \u001b[38;5;124m\"\u001b[39m\u001b[38;5;124mLGM50_Chen2020\u001b[39m\u001b[38;5;124m\"\u001b[39m\n\u001b[0;32m      4\u001b[0m chemistry[\u001b[38;5;124m\"\u001b[39m\u001b[38;5;124mexperiment\u001b[39m\u001b[38;5;124m\"\u001b[39m] \u001b[38;5;241m=\u001b[39m \u001b[38;5;124m\"\u001b[39m\u001b[38;5;124m1C_discharge_from_full_Chen2020\u001b[39m\u001b[38;5;124m\"\u001b[39m\n\u001b[0;32m      6\u001b[0m \u001b[38;5;66;03m#Define the parameter values\u001b[39;00m\n",
      "\u001b[1;31mTypeError\u001b[0m: 'str' object does not support item assignment"
     ]
    }
   ],
   "source": [
    "#Determine the general chemistry of the system\n",
    "chemistry = pybamm.parameter_sets.Chen2020\n",
    "chemistry[\"cell\"] = \"LGM50_Chen2020\"\n",
    "chemistry[\"experiment\"] = \"1C_discharge_from_full_Chen2020\"\n",
    "\n",
    "#Define the parameter values\n",
    "parameter_values = pybamm.ParameterValues(chemistry=chemistry)"
   ]
  },
  {
   "cell_type": "code",
   "execution_count": null,
   "id": "560434ad",
   "metadata": {},
   "outputs": [],
   "source": [
    "#Define the experiment realised\n",
    "experiment = pybamm.Experiment([\n",
    "    (\"Discharge at 1 C until 2.75V\",\n",
    "    \"Rest for 0.2 hour\",\n",
    "    \"Charge at 1 C until 4.20V\", \n",
    "     )\n",
    "    \n",
    "])"
   ]
  },
  {
   "cell_type": "code",
   "execution_count": null,
   "id": "4e33070c",
   "metadata": {},
   "outputs": [],
   "source": [
    "#Determine the models sellected:\n",
    "dfn = pybamm.lithium_ion.DFN(name = \"DFN\") #Doyle Fuller Newman\n",
    "#tdfn = pybamm.lithium_ion.DFN(options={\"thermal\": \"lumped\"}, name =\"TDFN\") #DFN with thermal lumped\n",
    "spme = pybamm.lithium_ion.SPMe(name = \"SPMe\") #Single particle model with electrolyte\n",
    "spm = pybamm.lithium_ion.SPM(name = \"SPM\") #Single particle\n",
    "\n",
    "models = [dfn, spme, spm]"
   ]
  },
  {
   "cell_type": "code",
   "execution_count": null,
   "id": "dd836013",
   "metadata": {},
   "outputs": [],
   "source": [
    "#Solve and plot\n",
    "sols = []\n",
    "for model in models:\n",
    "    sim = pybamm.Simulation(model, experiment=experiment, parameter_values=parameter_values)\n",
    "    sol = sim.solve()\n",
    "    sols.append(sol)\n",
    "    \n",
    "pybamm.dynamic_plot(sols, [\"Terminal voltage [V]\", \"Current [A]\"])"
   ]
  },
  {
   "cell_type": "code",
   "execution_count": null,
   "id": "de763b6c",
   "metadata": {},
   "outputs": [],
   "source": [
    "pybamm.dynamic_plot(sols, [\"Positive particle surface concentration [mol.m-3]\",\"Negative particle surface concentration [mol.m-3]\",\"Electrolyte concentration [mol.m-3]\"])"
   ]
  },
  {
   "cell_type": "code",
   "execution_count": null,
   "id": "746afab8",
   "metadata": {},
   "outputs": [],
   "source": [
    "pybamm.dynamic_plot(sols, [\"X-averaged positive particle concentration [mol.m-3]\", \"X-averaged negative particle concentration [mol.m-3]\"])"
   ]
  },
  {
   "cell_type": "code",
   "execution_count": null,
   "id": "88c2253f",
   "metadata": {},
   "outputs": [],
   "source": [
    "chemistry = pybamm.parameter_sets.Chen2020\n",
    "params = pybamm.ParameterValues(chemistry = chemistry)\n",
    "params.search(\"Electrolyte\")"
   ]
  },
  {
   "cell_type": "code",
   "execution_count": null,
   "id": "ed90297b",
   "metadata": {},
   "outputs": [],
   "source": [
    "#Define the experiment realised\n",
    "experiment = pybamm.Experiment([\n",
    "    (\n",
    "    \"Rest for 0.2 hour\",\"Discharge at 1 C until 2.75V\",\n",
    "    \"Charge at 1 C until 4.20V\", \n",
    "     )\n",
    "    \n",
    "])"
   ]
  },
  {
   "cell_type": "code",
   "execution_count": null,
   "id": "d99f2fa8",
   "metadata": {},
   "outputs": [],
   "source": [
    "#Determine the models sellected:\n",
    "dfn = pybamm.lithium_ion.DFN(name = \"DFN\") #Doyle Fuller Newman\n",
    "#tdfn = pybamm.lithium_ion.DFN(options={\"thermal\": \"lumped\"}, name =\"TDFN\") #DFN with thermal lumped\n",
    "spme = pybamm.lithium_ion.SPMe(name = \"SPMe\") #Single particle model with electrolyte\n",
    "spm = pybamm.lithium_ion.SPM(name = \"SPM\") #Single particle\n",
    "\n",
    "models = [dfn, spme, spm]"
   ]
  },
  {
   "cell_type": "code",
   "execution_count": null,
   "id": "92caedf5",
   "metadata": {},
   "outputs": [],
   "source": [
    "#Solve and plot\n",
    "sols = []\n",
    "for model in models:\n",
    "    sim = pybamm.Simulation(model, experiment=experiment, parameter_values=parameter_values)\n",
    "    sol = sim.solve()\n",
    "    sols.append(sol)\n",
    "    \n",
    "pybamm.dynamic_plot(sols, [\"Terminal voltage [V]\", \"Current [A]\"])"
   ]
  },
  {
   "cell_type": "code",
   "execution_count": null,
   "id": "163dc512",
   "metadata": {},
   "outputs": [],
   "source": [
    "pybamm.dynamic_plot(sols, [\"Positive particle surface concentration [mol.m-3]\",\"Negative particle surface concentration [mol.m-3]\",\"Electrolyte concentration [mol.m-3]\"])"
   ]
  },
  {
   "cell_type": "code",
   "execution_count": null,
   "id": "ed4e3e51",
   "metadata": {},
   "outputs": [],
   "source": [
    "pybamm.dynamic_plot(sols, [\"X-averaged positive particle concentration [mol.m-3]\", \"X-averaged negative particle concentration [mol.m-3]\"])\n"
   ]
  },
  {
   "cell_type": "code",
   "execution_count": null,
   "id": "d85c9fba",
   "metadata": {},
   "outputs": [],
   "source": [
    "model.variables.search(\"potential\")"
   ]
  },
  {
   "cell_type": "code",
   "execution_count": null,
   "id": "15f08c88",
   "metadata": {},
   "outputs": [],
   "source": [
    "pybamm.dynamic_plot(sols, [\"Negative electrode potential [V]\",\"Electrolyte potential [V]\"])\n"
   ]
  },
  {
   "cell_type": "code",
   "execution_count": null,
   "id": "3896846e",
   "metadata": {},
   "outputs": [],
   "source": []
  }
 ],
 "metadata": {
  "kernelspec": {
   "display_name": "Python 3 (ipykernel)",
   "language": "python",
   "name": "python3"
  },
  "language_info": {
   "codemirror_mode": {
    "name": "ipython",
    "version": 3
   },
   "file_extension": ".py",
   "mimetype": "text/x-python",
   "name": "python",
   "nbconvert_exporter": "python",
   "pygments_lexer": "ipython3",
   "version": "3.9.13"
  }
 },
 "nbformat": 4,
 "nbformat_minor": 5
}

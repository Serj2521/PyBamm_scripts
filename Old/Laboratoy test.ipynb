{
 "cells": [
  {
   "cell_type": "code",
   "execution_count": 1,
   "id": "1ea71cfc",
   "metadata": {},
   "outputs": [],
   "source": [
    "import pybamm\n",
    "import numpy as np\n",
    "import matplotlib.pyplot as plt\n",
    "pybamm.set_logging_level(\"NOTICE\")"
   ]
  },
  {
   "cell_type": "code",
   "execution_count": 2,
   "id": "95878cc6",
   "metadata": {},
   "outputs": [
    {
     "data": {
      "text/plain": [
       "{'chemistry': 'lithium_ion',\n",
       " 'cell': 'LGM50_Chen2020',\n",
       " 'negative electrode': 'graphite_Chen2020',\n",
       " 'separator': 'separator_Chen2020',\n",
       " 'positive electrode': 'nmc_Chen2020',\n",
       " 'electrolyte': 'lipf6_Nyman2008',\n",
       " 'experiment': '1C_discharge_from_full_Chen2020',\n",
       " 'sei': 'example',\n",
       " 'citation': 'Chen2020'}"
      ]
     },
     "execution_count": 2,
     "metadata": {},
     "output_type": "execute_result"
    }
   ],
   "source": [
    "pybamm.parameter_sets.Chen2020"
   ]
  },
  {
   "cell_type": "code",
   "execution_count": 3,
   "id": "99bad379",
   "metadata": {},
   "outputs": [
    {
     "data": {
      "text/plain": [
       "['C:\\\\Users\\\\SObrador\\\\OneDrive - IREC-edu\\\\PROGRAMS\\\\Python\\\\env\\\\lib\\\\site-packages',\n",
       " 'C:\\\\Users\\\\SObrador\\\\OneDrive - IREC-edu\\\\PROGRAMS\\\\Python\\\\Jupyter Notebooks\\\\1. Laboratory tests\\\\Bateries_Simulations',\n",
       " 'C:\\\\Users\\\\SObrador\\\\OneDrive - IREC-edu\\\\PROGRAMS\\\\Python\\\\env\\\\lib\\\\site-packages\\\\pybamm\\\\input\\\\parameters']"
      ]
     },
     "execution_count": 3,
     "metadata": {},
     "output_type": "execute_result"
    }
   ],
   "source": [
    "pybamm.PARAMETER_PATH"
   ]
  },
  {
   "cell_type": "code",
   "execution_count": 4,
   "id": "6782b6e2",
   "metadata": {},
   "outputs": [
    {
     "name": "stdout",
     "output_type": "stream",
     "text": [
      "Microsoft Windows [Version 10.0.22000.856]\n",
      "(c) Microsoft Corporation. All rights reserved.\n",
      "\n",
      "(env) C:\\Users\\SObrador\\OneDrive - IREC-edu\\PROGRAMS\\Python\\Jupyter Notebooks\\1. Laboratory tests\\Bateries_Simulations>pybamm_edit_parameter lithium_ion\n"
     ]
    },
    {
     "name": "stderr",
     "output_type": "stream",
     "text": [
      "Traceback (most recent call last):\n",
      "  File \"C:\\Users\\SObrador\\OneDrive - IREC-edu\\PROGRAMS\\Python\\env\\lib\\site-packages\\pybamm\\parameters_cli.py\", line 74, in copy_directory\n",
      "    shutil.copytree(source, destination)\n",
      "  File \"C:\\Users\\SObrador\\AppData\\Local\\Programs\\Python\\Python39\\lib\\shutil.py\", line 568, in copytree\n",
      "    return _copytree(entries=entries, src=src, dst=dst, symlinks=symlinks,\n",
      "  File \"C:\\Users\\SObrador\\AppData\\Local\\Programs\\Python\\Python39\\lib\\shutil.py\", line 467, in _copytree\n",
      "    os.makedirs(dst, exist_ok=dirs_exist_ok)\n",
      "  File \"C:\\Users\\SObrador\\AppData\\Local\\Programs\\Python\\Python39\\lib\\os.py\", line 225, in makedirs\n",
      "    mkdir(name, mode)\n",
      "FileExistsError: [WinError 183] Cannot create a file when that file already exists: 'lithium_ion'\n",
      "\n",
      "During handling of the above exception, another exception occurred:\n",
      "\n",
      "Traceback (most recent call last):\n",
      "  File \"C:\\Users\\SObrador\\AppData\\Local\\Programs\\Python\\Python39\\lib\\runpy.py\", line 197, in _run_module_as_main\n",
      "    return _run_code(code, main_globals, None,\n",
      "  File \"C:\\Users\\SObrador\\AppData\\Local\\Programs\\Python\\Python39\\lib\\runpy.py\", line 87, in _run_code\n",
      "    exec(code, run_globals)\n",
      "  File \"C:\\Users\\SObrador\\OneDrive - IREC-edu\\PROGRAMS\\Python\\env\\Scripts\\pybamm_edit_parameter.exe\\__main__.py\", line 7, in <module>\n",
      "  File \"C:\\Users\\SObrador\\OneDrive - IREC-edu\\PROGRAMS\\Python\\env\\lib\\site-packages\\pybamm\\parameters_cli.py\", line 169, in edit_parameter\n",
      "    copy_directory(source_dir, args.chemistry, args.force)\n",
      "  File \"C:\\Users\\SObrador\\OneDrive - IREC-edu\\PROGRAMS\\Python\\env\\lib\\site-packages\\pybamm\\parameters_cli.py\", line 79, in copy_directory\n",
      "    elif yes_or_no(\"Parameter set already defined, erase?\"):\n",
      "  File \"C:\\Users\\SObrador\\OneDrive - IREC-edu\\PROGRAMS\\Python\\env\\lib\\site-packages\\pybamm\\parameters_cli.py\", line 11, in yes_or_no\n",
      "    reply = str(input(question + \" (y/n): \")).lower().strip()\n",
      "EOFError: EOF when reading a line\n"
     ]
    },
    {
     "name": "stdout",
     "output_type": "stream",
     "text": [
      "Parameter set already defined, erase? (y/n): \n",
      "(env) C:\\Users\\SObrador\\OneDrive - IREC-edu\\PROGRAMS\\Python\\Jupyter Notebooks\\1. Laboratory tests\\Bateries_Simulations>"
     ]
    }
   ],
   "source": [
    "%%cmd\n",
    "pybamm_edit_parameter lithium_ion"
   ]
  },
  {
   "cell_type": "code",
   "execution_count": 5,
   "id": "be5e1fd4",
   "metadata": {},
   "outputs": [
    {
     "data": {
      "text/plain": [
       "{'chemistry': 'lithium_ion',\n",
       " 'cell': 'LGM50_Chen2020',\n",
       " 'negative electrode': 'graphite_Chen2020',\n",
       " 'separator': 'separator_Chen2020',\n",
       " 'positive electrode': 'nmc_Chen2020',\n",
       " 'electrolyte': 'lipf6_Nyman2008',\n",
       " 'experiment': '1C_discharge_from_full_Chen2020',\n",
       " 'sei': 'example',\n",
       " 'citation': 'Chen2020'}"
      ]
     },
     "execution_count": 5,
     "metadata": {},
     "output_type": "execute_result"
    }
   ],
   "source": [
    "chemistry = pybamm.parameter_sets.Chen2020\n",
    "chemistry"
   ]
  },
  {
   "cell_type": "code",
   "execution_count": 6,
   "id": "40528b9d",
   "metadata": {},
   "outputs": [
    {
     "data": {
      "text/plain": [
       "{'chemistry': 'lithium_ion',\n",
       " 'cell': '1_NMC_lab',\n",
       " 'negative electrode': 'graphite_Chen2020',\n",
       " 'separator': 'separator_Chen2020',\n",
       " 'positive electrode': 'nmc_Chen2020',\n",
       " 'electrolyte': 'lipf6_Nyman2008',\n",
       " 'experiment': '01C_discharge_from_full_NMC_lab',\n",
       " 'sei': 'example',\n",
       " 'citation': 'Chen2020'}"
      ]
     },
     "execution_count": 6,
     "metadata": {},
     "output_type": "execute_result"
    }
   ],
   "source": [
    "chemistry[\"cell\"] = \"1_NMC_lab\"\n",
    "chemistry[\"experiment\"] = \"01C_discharge_from_full_NMC_lab\"\n",
    "chemistry"
   ]
  },
  {
   "cell_type": "code",
   "execution_count": 7,
   "id": "7bd89a54",
   "metadata": {},
   "outputs": [
    {
     "data": {
      "text/plain": [
       "4.0"
      ]
     },
     "execution_count": 7,
     "metadata": {},
     "output_type": "execute_result"
    }
   ],
   "source": [
    "parameter_values  = pybamm.ParameterValues(chemistry=chemistry)\n",
    "# Cell parameters changed\n",
    "Capacity = parameter_values[\"Nominal cell capacity [A.h]\"]\n",
    "Capacity"
   ]
  },
  {
   "cell_type": "code",
   "execution_count": 8,
   "id": "71df6c34",
   "metadata": {},
   "outputs": [
    {
     "data": {
      "text/plain": [
       "2.0"
      ]
     },
     "execution_count": 8,
     "metadata": {},
     "output_type": "execute_result"
    }
   ],
   "source": [
    "parameter_values[\"Typical current [A]\"]"
   ]
  },
  {
   "cell_type": "code",
   "execution_count": 9,
   "id": "61427751",
   "metadata": {},
   "outputs": [
    {
     "data": {
      "text/plain": [
       "2.0"
      ]
     },
     "execution_count": 9,
     "metadata": {},
     "output_type": "execute_result"
    }
   ],
   "source": [
    "parameter_values[\"Current function [A]\"]"
   ]
  },
  {
   "cell_type": "code",
   "execution_count": 10,
   "id": "21ba4e49",
   "metadata": {},
   "outputs": [
    {
     "data": {
      "text/plain": [
       "2.75"
      ]
     },
     "execution_count": 10,
     "metadata": {},
     "output_type": "execute_result"
    }
   ],
   "source": [
    "# Experiment parameters changed\n",
    "parameter_values[\"Lower voltage cut-off [V]\"]"
   ]
  },
  {
   "cell_type": "code",
   "execution_count": 11,
   "id": "d4275b7a",
   "metadata": {},
   "outputs": [
    {
     "data": {
      "text/plain": [
       "4.2"
      ]
     },
     "execution_count": 11,
     "metadata": {},
     "output_type": "execute_result"
    }
   ],
   "source": [
    "parameter_values[\"Upper voltage cut-off [V]\"]"
   ]
  },
  {
   "cell_type": "code",
   "execution_count": 12,
   "id": "35dbb789",
   "metadata": {},
   "outputs": [],
   "source": [
    "# Experiment settings at the lab according to the Gregory Plett Books at 25ºC\n",
    "experiment = pybamm.Experiment([\n",
    "    (\"Discharge at 0.033 C until 2.75V\",\n",
    "    \"Rest for 20 hours\",\n",
    "    \"Charge at 0.033 C until 4.20V\",)\n",
    "])"
   ]
  },
  {
   "cell_type": "code",
   "execution_count": 13,
   "id": "754b72be",
   "metadata": {},
   "outputs": [
    {
     "name": "stderr",
     "output_type": "stream",
     "text": [
      "2022-09-05 16:55:19.626 - [NOTICE] callbacks.on_cycle_start(174): Cycle 1/1 (20.580 ms elapsed) --------------------\n",
      "2022-09-05 16:55:19.627 - [NOTICE] callbacks.on_step_start(182): Cycle 1/1, step 1/3: Discharge at 0.033 C until 2.75V\n",
      "2022-09-05 16:55:26.795 - [NOTICE] callbacks.on_step_start(182): Cycle 1/1, step 2/3: Rest for 20 hours\n",
      "2022-09-05 16:55:30.183 - [NOTICE] callbacks.on_step_start(182): Cycle 1/1, step 3/3: Charge at 0.033 C until 4.20V\n",
      "2022-09-05 16:55:38.411 - [NOTICE] callbacks.on_experiment_end(222): Finish experiment simulation, took 18.805 s\n"
     ]
    },
    {
     "data": {
      "application/vnd.jupyter.widget-view+json": {
       "model_id": "4996a869b7df4eedb3e64c534ef3d3db",
       "version_major": 2,
       "version_minor": 0
      },
      "text/plain": [
       "interactive(children=(FloatSlider(value=0.0, description='t', max=96.3445056163255, step=0.963445056163255), O…"
      ]
     },
     "metadata": {},
     "output_type": "display_data"
    },
    {
     "data": {
      "text/plain": [
       "<pybamm.plotting.quick_plot.QuickPlot at 0x1859db10e80>"
      ]
     },
     "execution_count": 13,
     "metadata": {},
     "output_type": "execute_result"
    }
   ],
   "source": [
    "model = pybamm.lithium_ion.DFN()\n",
    "sim = pybamm.Simulation(model, experiment=experiment, parameter_values=parameter_values)\n",
    "sim.solve()\n",
    "sim.plot([\"Terminal voltage [V]\",\"Current [A]\"])"
   ]
  },
  {
   "cell_type": "code",
   "execution_count": 14,
   "id": "edbad4b6",
   "metadata": {},
   "outputs": [
    {
     "name": "stderr",
     "output_type": "stream",
     "text": [
      "2022-09-05 16:55:40.508 - [NOTICE] callbacks.on_cycle_start(174): Cycle 1/1 (16.462 ms elapsed) --------------------\n",
      "2022-09-05 16:55:40.508 - [NOTICE] callbacks.on_step_start(182): Cycle 1/1, step 1/3: Discharge at 0.25 C until 2.75V\n",
      "2022-09-05 16:55:41.658 - [NOTICE] callbacks.on_step_start(182): Cycle 1/1, step 2/3: Rest for 15 minutes\n",
      "2022-09-05 16:55:41.865 - [NOTICE] callbacks.on_step_start(182): Cycle 1/1, step 3/3: Charge at 0.25 C until 4.20V\n",
      "2022-09-05 16:55:43.322 - [NOTICE] callbacks.on_experiment_end(222): Finish experiment simulation, took 2.831 s\n"
     ]
    },
    {
     "data": {
      "application/vnd.jupyter.widget-view+json": {
       "model_id": "cd12080e797145c0858df7fd4f8d9051",
       "version_major": 2,
       "version_minor": 0
      },
      "text/plain": [
       "interactive(children=(FloatSlider(value=0.0, description='t', max=10.016446394384976, step=0.10016446394384976…"
      ]
     },
     "metadata": {},
     "output_type": "display_data"
    },
    {
     "data": {
      "text/plain": [
       "<pybamm.plotting.quick_plot.QuickPlot at 0x185abd48fd0>"
      ]
     },
     "execution_count": 14,
     "metadata": {},
     "output_type": "execute_result"
    }
   ],
   "source": [
    "# Experiment setting s at the lab according to the paper An Electrical Equivalent Circuit Model by Seyed Saeed et all\n",
    "# Part 1\n",
    "\n",
    "experiment1 = pybamm.Experiment([\n",
    "    (\"Discharge at 0.25 C until 2.75V\",\n",
    "    \"Rest for 15 minutes\",\n",
    "    \"Charge at 0.25 C until 4.20V\",)\n",
    "])\n",
    "sim = pybamm.Simulation(model, experiment=experiment1, parameter_values=parameter_values)\n",
    "sim.solve()\n",
    "sim.plot([\"Terminal voltage [V]\",\"Current [A]\"])"
   ]
  },
  {
   "cell_type": "code",
   "execution_count": 15,
   "id": "b0f6461e",
   "metadata": {},
   "outputs": [
    {
     "data": {
      "text/plain": [
       "0.8"
      ]
     },
     "execution_count": 15,
     "metadata": {},
     "output_type": "execute_result"
    }
   ],
   "source": [
    "# Part 2 discharging at same time steps\n",
    "init_socs = [1, 0.95, 0.9, 0.85, 0.8, 0.75, 0.7, 0.65, 0.6, 0.55, 0.5, 0.45, 0.4, 0.35, 0.3, 0.25, 0.2, 0.15, 0.1, 0.05]\n",
    "n = len(init_socs)\n",
    "C_rate = float(0.25)\n",
    "t = Capacity/C_rate\n",
    "time = t/n\n",
    "time"
   ]
  },
  {
   "cell_type": "code",
   "execution_count": 16,
   "id": "2b8b7d97",
   "metadata": {},
   "outputs": [
    {
     "name": "stderr",
     "output_type": "stream",
     "text": [
      "2022-09-05 16:55:44.253 - [NOTICE] callbacks.on_cycle_start(174): Cycle 1/1 (18.510 ms elapsed) --------------------\n",
      "2022-09-05 16:55:44.254 - [NOTICE] callbacks.on_step_start(182): Cycle 1/1, step 1/100: Discharge at 0.25 C for 0.5 hour\n",
      "2022-09-05 16:55:44.494 - [NOTICE] callbacks.on_step_start(182): Cycle 1/1, step 2/100: Rest for 180 minutes\n",
      "2022-09-05 16:55:45.282 - [NOTICE] callbacks.on_step_start(182): Cycle 1/1, step 3/100: Discharge at 0.25 C for 0.5 hour\n",
      "2022-09-05 16:55:45.409 - [NOTICE] callbacks.on_step_start(182): Cycle 1/1, step 4/100: Rest for 180 minutes\n",
      "2022-09-05 16:55:46.015 - [NOTICE] callbacks.on_step_start(182): Cycle 1/1, step 5/100: Discharge at 0.25 C for 0.5 hour\n",
      "2022-09-05 16:55:46.160 - [NOTICE] callbacks.on_step_start(182): Cycle 1/1, step 6/100: Rest for 180 minutes\n",
      "2022-09-05 16:55:46.779 - [NOTICE] callbacks.on_step_start(182): Cycle 1/1, step 7/100: Discharge at 0.25 C for 0.5 hour\n",
      "2022-09-05 16:55:46.919 - [NOTICE] callbacks.on_step_start(182): Cycle 1/1, step 8/100: Rest for 180 minutes\n",
      "2022-09-05 16:55:47.522 - [NOTICE] callbacks.on_step_start(182): Cycle 1/1, step 9/100: Discharge at 0.25 C for 0.5 hour\n",
      "2022-09-05 16:55:47.694 - [NOTICE] callbacks.on_step_start(182): Cycle 1/1, step 10/100: Rest for 180 minutes\n",
      "2022-09-05 16:55:48.216 - [NOTICE] callbacks.on_step_start(182): Cycle 1/1, step 11/100: Discharge at 0.25 C for 0.5 hour\n",
      "2022-09-05 16:55:48.335 - [NOTICE] callbacks.on_step_start(182): Cycle 1/1, step 12/100: Rest for 180 minutes\n",
      "2022-09-05 16:55:48.888 - [NOTICE] callbacks.on_step_start(182): Cycle 1/1, step 13/100: Discharge at 0.25 C for 0.5 hour\n",
      "2022-09-05 16:55:49.030 - [NOTICE] callbacks.on_step_start(182): Cycle 1/1, step 14/100: Rest for 180 minutes\n",
      "2022-09-05 16:55:49.654 - [NOTICE] callbacks.on_step_start(182): Cycle 1/1, step 15/100: Discharge at 0.25 C for 0.5 hour\n",
      "2022-09-05 16:55:49.780 - [NOTICE] callbacks.on_step_start(182): Cycle 1/1, step 16/100: Rest for 180 minutes\n",
      "2022-09-05 16:55:50.310 - [NOTICE] callbacks.on_step_start(182): Cycle 1/1, step 17/100: Discharge at 0.25 C for 0.5 hour\n",
      "2022-09-05 16:55:50.431 - [NOTICE] callbacks.on_step_start(182): Cycle 1/1, step 18/100: Rest for 180 minutes\n",
      "2022-09-05 16:55:50.991 - [NOTICE] callbacks.on_step_start(182): Cycle 1/1, step 19/100: Discharge at 0.25 C for 0.5 hour\n",
      "2022-09-05 16:55:51.127 - [NOTICE] callbacks.on_step_start(182): Cycle 1/1, step 20/100: Rest for 180 minutes\n",
      "2022-09-05 16:55:51.803 - [NOTICE] callbacks.on_step_start(182): Cycle 1/1, step 21/100: Discharge at 0.25 C for 0.5 hour\n",
      "2022-09-05 16:55:51.930 - [WARNING] callbacks.on_experiment_infeasible(233): \n",
      "\n",
      "\tExperiment is infeasible: 'event: Minimum voltage' was triggered during 'Discharge at 0.25 C for 0.5 hour'. The returned solution only contains up to step 21 of cycle 1. \n",
      "2022-09-05 16:55:52.252 - [NOTICE] callbacks.on_experiment_end(222): Finish experiment simulation, took 8.017 s\n"
     ]
    },
    {
     "data": {
      "application/vnd.jupyter.widget-view+json": {
       "model_id": "6abec8af765f4957b794a34d6d952346",
       "version_major": 2,
       "version_minor": 0
      },
      "text/plain": [
       "interactive(children=(FloatSlider(value=0.0, description='t', max=35.009613883468674, step=0.35009613883468677…"
      ]
     },
     "metadata": {},
     "output_type": "display_data"
    },
    {
     "data": {
      "text/plain": [
       "<pybamm.plotting.quick_plot.QuickPlot at 0x185acfb8460>"
      ]
     },
     "execution_count": 16,
     "metadata": {},
     "output_type": "execute_result"
    }
   ],
   "source": [
    "# The time of discharge must be equal to the variable time (INSER MANUALLY)\n",
    "cycle = [\"Discharge at 0.25 C for 0.5 hour\", \"Rest for 180 minutes\"]*50\n",
    "experiment2 = pybamm.Experiment([tuple(cycle)])\n",
    "sim = pybamm.Simulation(model, experiment=experiment2, parameter_values=parameter_values)\n",
    "sim.solve()\n",
    "sim.plot([\"Terminal voltage [V]\",\"Current [A]\"])"
   ]
  },
  {
   "cell_type": "code",
   "execution_count": 17,
   "id": "e4ad236e",
   "metadata": {},
   "outputs": [
    {
     "data": {
      "text/plain": [
       "[<matplotlib.lines.Line2D at 0x185ab892160>]"
      ]
     },
     "execution_count": 17,
     "metadata": {},
     "output_type": "execute_result"
    },
    {
     "data": {
      "image/png": "[encoded data removed]",
      "text/plain": [
       "<Figure size 640x480 with 1 Axes>"
      ]
     },
     "metadata": {},
     "output_type": "display_data"
    }
   ],
   "source": [
    "# Calculating the reistance value variable of pybamm\n",
    "sol = sim.solution\n",
    "def extract_resistance(step):\n",
    "    return step[\"Local ECM resistance [Ohm]\"].data[-1]\n",
    "Rs = [extract_resistance(step) for i, step in enumerate(sol.cycles[0].steps) if i%2==0]\n",
    "plt.plot(np.arange(len(Rs)),Rs)\n",
    "\n"
   ]
  },
  {
   "cell_type": "code",
   "execution_count": 18,
   "id": "ebf436b5",
   "metadata": {},
   "outputs": [
    {
     "ename": "ValueError",
     "evalue": "units must be 'C', 'A', 'mA', 'V', 'W' or 'mW', not '5'.\n                    For example: \n\n    Discharge at 1C for 0.5 hours,\n    Discharge at C/20 for 0.5 hours,\n    Charge at 0.5 C for 45 minutes,\n    Discharge at 1 A for 90 seconds,\n    Charge at 200mA for 45 minutes (1 minute period),\n    Discharge at 1 W for 0.5 hours,\n    Charge at 200 mW for 45 minutes,\n    Rest for 10 minutes (5 minute period),\n    Hold at 1 V for 20 seconds,\n    Charge at 1 C until 4.1V,\n    Hold at 4.1 V until 50 mA,\n    Hold at 3V until C/50,\n    Run US06 (A),\n    Run US06 (A) for 20 seconds,\n    Run US06 (V) for 45 minutes,\n    Run US06 (W) for 2 hours,\n    \n                    ",
     "output_type": "error",
     "traceback": [
      "\u001b[1;31m---------------------------------------------------------------------------\u001b[0m",
      "\u001b[1;31mValueError\u001b[0m                                Traceback (most recent call last)",
      "Input \u001b[1;32mIn [18]\u001b[0m, in \u001b[0;36m<cell line: 2>\u001b[1;34m()\u001b[0m\n\u001b[0;32m      1\u001b[0m \u001b[38;5;66;03m# Part 3 discharging from different soc\u001b[39;00m\n\u001b[1;32m----> 2\u001b[0m experiment3 \u001b[38;5;241m=\u001b[39m \u001b[43mpybamm\u001b[49m\u001b[38;5;241;43m.\u001b[39;49m\u001b[43mExperiment\u001b[49m\u001b[43m(\u001b[49m\u001b[43m[\u001b[49m\n\u001b[0;32m      3\u001b[0m \u001b[43m    \u001b[49m\u001b[43m(\u001b[49m\u001b[38;5;124;43m\"\u001b[39;49m\u001b[38;5;124;43mDischarge at 0.25 C until 2.75\u001b[39;49m\u001b[38;5;124;43m\"\u001b[39;49m\u001b[43m,\u001b[49m\n\u001b[0;32m      4\u001b[0m \u001b[43m    \u001b[49m\u001b[38;5;124;43m\"\u001b[39;49m\u001b[38;5;124;43mRest for 15 minutes\u001b[39;49m\u001b[38;5;124;43m\"\u001b[39;49m\u001b[43m,\u001b[49m\u001b[43m)\u001b[49m\n\u001b[0;32m      5\u001b[0m \u001b[43m]\u001b[49m\u001b[43m)\u001b[49m\n\u001b[0;32m      6\u001b[0m sols \u001b[38;5;241m=\u001b[39m []\n\u001b[0;32m      8\u001b[0m \u001b[38;5;28;01mfor\u001b[39;00m initial_soc \u001b[38;5;129;01min\u001b[39;00m init_socs:\n",
      "File \u001b[1;32m~\\OneDrive - IREC-edu\\PROGRAMS\\Python\\env\\lib\\site-packages\\pybamm\\experiments\\experiment.py:125\u001b[0m, in \u001b[0;36mExperiment.__init__\u001b[1;34m(self, operating_conditions, period, termination, drive_cycles, cccv_handling)\u001b[0m\n\u001b[0;32m    123\u001b[0m \u001b[38;5;28mself\u001b[39m\u001b[38;5;241m.\u001b[39moperating_conditions_cycles \u001b[38;5;241m=\u001b[39m operating_conditions_cycles\n\u001b[0;32m    124\u001b[0m \u001b[38;5;28mself\u001b[39m\u001b[38;5;241m.\u001b[39moperating_conditions_strings \u001b[38;5;241m=\u001b[39m operating_conditions\n\u001b[1;32m--> 125\u001b[0m \u001b[38;5;28mself\u001b[39m\u001b[38;5;241m.\u001b[39moperating_conditions, \u001b[38;5;28mself\u001b[39m\u001b[38;5;241m.\u001b[39mevents \u001b[38;5;241m=\u001b[39m \u001b[38;5;28;43mself\u001b[39;49m\u001b[38;5;241;43m.\u001b[39;49m\u001b[43mread_operating_conditions\u001b[49m\u001b[43m(\u001b[49m\n\u001b[0;32m    126\u001b[0m \u001b[43m    \u001b[49m\u001b[43moperating_conditions\u001b[49m\u001b[43m,\u001b[49m\u001b[43m \u001b[49m\u001b[43mdrive_cycles\u001b[49m\n\u001b[0;32m    127\u001b[0m \u001b[43m\u001b[49m\u001b[43m)\u001b[49m\n\u001b[0;32m    129\u001b[0m \u001b[38;5;28mself\u001b[39m\u001b[38;5;241m.\u001b[39mtermination_string \u001b[38;5;241m=\u001b[39m termination\n\u001b[0;32m    130\u001b[0m \u001b[38;5;28mself\u001b[39m\u001b[38;5;241m.\u001b[39mtermination \u001b[38;5;241m=\u001b[39m \u001b[38;5;28mself\u001b[39m\u001b[38;5;241m.\u001b[39mread_termination(termination)\n",
      "File \u001b[1;32m~\\OneDrive - IREC-edu\\PROGRAMS\\Python\\env\\lib\\site-packages\\pybamm\\experiments\\experiment.py:157\u001b[0m, in \u001b[0;36mExperiment.read_operating_conditions\u001b[1;34m(self, operating_conditions, drive_cycles)\u001b[0m\n\u001b[0;32m    155\u001b[0m events \u001b[38;5;241m=\u001b[39m []\n\u001b[0;32m    156\u001b[0m \u001b[38;5;28;01mfor\u001b[39;00m cond \u001b[38;5;129;01min\u001b[39;00m operating_conditions:\n\u001b[1;32m--> 157\u001b[0m     next_op, next_event \u001b[38;5;241m=\u001b[39m \u001b[38;5;28;43mself\u001b[39;49m\u001b[38;5;241;43m.\u001b[39;49m\u001b[43mread_string\u001b[49m\u001b[43m(\u001b[49m\u001b[43mcond\u001b[49m\u001b[43m,\u001b[49m\u001b[43m \u001b[49m\u001b[43mdrive_cycles\u001b[49m\u001b[43m)\u001b[49m\n\u001b[0;32m    158\u001b[0m     converted_operating_conditions\u001b[38;5;241m.\u001b[39mappend(next_op)\n\u001b[0;32m    159\u001b[0m     events\u001b[38;5;241m.\u001b[39mappend(next_event)\n",
      "File \u001b[1;32m~\\OneDrive - IREC-edu\\PROGRAMS\\Python\\env\\lib\\site-packages\\pybamm\\experiments\\experiment.py:263\u001b[0m, in \u001b[0;36mExperiment.read_string\u001b[1;34m(self, cond, drive_cycles)\u001b[0m\n\u001b[0;32m    261\u001b[0m     electric \u001b[38;5;241m=\u001b[39m \u001b[38;5;28mself\u001b[39m\u001b[38;5;241m.\u001b[39mconvert_electric(cond_list[:idx])\n\u001b[0;32m    262\u001b[0m     time \u001b[38;5;241m=\u001b[39m \u001b[38;5;28;01mNone\u001b[39;00m\n\u001b[1;32m--> 263\u001b[0m     events \u001b[38;5;241m=\u001b[39m \u001b[38;5;28;43mself\u001b[39;49m\u001b[38;5;241;43m.\u001b[39;49m\u001b[43mconvert_electric\u001b[49m\u001b[43m(\u001b[49m\u001b[43mcond_list\u001b[49m\u001b[43m[\u001b[49m\u001b[43midx\u001b[49m\u001b[43m \u001b[49m\u001b[38;5;241;43m+\u001b[39;49m\u001b[43m \u001b[49m\u001b[38;5;241;43m1\u001b[39;49m\u001b[43m \u001b[49m\u001b[43m:\u001b[49m\u001b[43m]\u001b[49m\u001b[43m)\u001b[49m\n\u001b[0;32m    264\u001b[0m \u001b[38;5;28;01melse\u001b[39;00m:\n\u001b[0;32m    265\u001b[0m     \u001b[38;5;28;01mraise\u001b[39;00m \u001b[38;5;167;01mValueError\u001b[39;00m(\n\u001b[0;32m    266\u001b[0m         \u001b[38;5;124;03m\"\"\"Operating conditions must contain keyword 'for' or 'until' or\u001b[39;00m\n\u001b[0;32m    267\u001b[0m \u001b[38;5;124;03m        'Run'. For example: {}\u001b[39;00m\n\u001b[1;32m   (...)\u001b[0m\n\u001b[0;32m    272\u001b[0m         )\n\u001b[0;32m    273\u001b[0m     )\n",
      "File \u001b[1;32m~\\OneDrive - IREC-edu\\PROGRAMS\\Python\\env\\lib\\site-packages\\pybamm\\experiments\\experiment.py:386\u001b[0m, in \u001b[0;36mExperiment.convert_electric\u001b[1;34m(self, electric)\u001b[0m\n\u001b[0;32m    384\u001b[0m     \u001b[38;5;28;01mreturn\u001b[39;00m (sign \u001b[38;5;241m*\u001b[39m \u001b[38;5;28mfloat\u001b[39m(value) \u001b[38;5;241m/\u001b[39m \u001b[38;5;241m1000\u001b[39m, \u001b[38;5;124m\"\u001b[39m\u001b[38;5;124mW\u001b[39m\u001b[38;5;124m\"\u001b[39m)\n\u001b[0;32m    385\u001b[0m \u001b[38;5;28;01melse\u001b[39;00m:\n\u001b[1;32m--> 386\u001b[0m     \u001b[38;5;28;01mraise\u001b[39;00m \u001b[38;5;167;01mValueError\u001b[39;00m(\n\u001b[0;32m    387\u001b[0m         \u001b[38;5;124;03m\"\"\"units must be 'C', 'A', 'mA', 'V', 'W' or 'mW', not '{}'.\u001b[39;00m\n\u001b[0;32m    388\u001b[0m \u001b[38;5;124;03m        For example: {}\u001b[39;00m\n\u001b[0;32m    389\u001b[0m \u001b[38;5;124;03m        \"\"\"\u001b[39;00m\u001b[38;5;241m.\u001b[39mformat(\n\u001b[0;32m    390\u001b[0m             unit, examples\n\u001b[0;32m    391\u001b[0m         )\n\u001b[0;32m    392\u001b[0m     )\n",
      "\u001b[1;31mValueError\u001b[0m: units must be 'C', 'A', 'mA', 'V', 'W' or 'mW', not '5'.\n                    For example: \n\n    Discharge at 1C for 0.5 hours,\n    Discharge at C/20 for 0.5 hours,\n    Charge at 0.5 C for 45 minutes,\n    Discharge at 1 A for 90 seconds,\n    Charge at 200mA for 45 minutes (1 minute period),\n    Discharge at 1 W for 0.5 hours,\n    Charge at 200 mW for 45 minutes,\n    Rest for 10 minutes (5 minute period),\n    Hold at 1 V for 20 seconds,\n    Charge at 1 C until 4.1V,\n    Hold at 4.1 V until 50 mA,\n    Hold at 3V until C/50,\n    Run US06 (A),\n    Run US06 (A) for 20 seconds,\n    Run US06 (V) for 45 minutes,\n    Run US06 (W) for 2 hours,\n    \n                    "
     ]
    }
   ],
   "source": [
    "# Part 3 discharging from different soc\n",
    "experiment3 = pybamm.Experiment([\n",
    "    (\"Discharge at 0.25 C until 2.75\",\n",
    "    \"Rest for 15 minutes\",)\n",
    "])\n",
    "sols = []\n",
    "\n",
    "for initial_soc in init_socs:\n",
    "    sim = pybamm.Simulation(model, experiment=experiment3,parameter_values=parameter_values)\n",
    "    sol = sim.solve(initial_soc=initial_soc)\n",
    "    sols.append(sol)"
   ]
  },
  {
   "cell_type": "code",
   "execution_count": null,
   "id": "505e7f60",
   "metadata": {},
   "outputs": [],
   "source": [
    "pybamm.dynamic_plot(sols, [\"Current [A]\",\n",
    "    \"Terminal voltage [V]\"], labels=[f\"initial soc = {x}\" for x in init_socs])"
   ]
  },
  {
   "cell_type": "code",
   "execution_count": null,
   "id": "fa3275f6",
   "metadata": {},
   "outputs": [],
   "source": []
  },
  {
   "cell_type": "code",
   "execution_count": null,
   "id": "4612e967",
   "metadata": {},
   "outputs": [],
   "source": []
  },
  {
   "cell_type": "code",
   "execution_count": null,
   "id": "e5d9ade8",
   "metadata": {},
   "outputs": [],
   "source": []
  },
  {
   "cell_type": "code",
   "execution_count": null,
   "id": "db70c4dd",
   "metadata": {},
   "outputs": [],
   "source": []
  },
  {
   "cell_type": "code",
   "execution_count": null,
   "id": "55f9cf55",
   "metadata": {},
   "outputs": [],
   "source": []
  }
 ],
 "metadata": {
  "kernelspec": {
   "display_name": "Python 3 (ipykernel)",
   "language": "python",
   "name": "python3"
  },
  "language_info": {
   "codemirror_mode": {
    "name": "ipython",
    "version": 3
   },
   "file_extension": ".py",
   "mimetype": "text/x-python",
   "name": "python",
   "nbconvert_exporter": "python",
   "pygments_lexer": "ipython3",
   "version": "3.9.13"
  }
 },
 "nbformat": 4,
 "nbformat_minor": 5
}

{
 "cells": [
  {
   "cell_type": "code",
   "execution_count": 115,
   "id": "1ea71cfc",
   "metadata": {},
   "outputs": [],
   "source": [
    "import pybamm\n",
    "import numpy as np\n",
    "import matplotlib.pyplot as plt\n",
    "pybamm.set_logging_level(\"NOTICE\")"
   ]
  },
  {
   "cell_type": "code",
   "execution_count": 28,
   "id": "95878cc6",
   "metadata": {},
   "outputs": [
    {
     "data": {
      "text/plain": [
       "{'chemistry': 'lithium_ion',\n",
       " 'cell': 'NMC_lab',\n",
       " 'negative electrode': 'graphite_Chen2020',\n",
       " 'separator': 'separator_Chen2020',\n",
       " 'positive electrode': 'nmc_Chen2020',\n",
       " 'electrolyte': 'lipf6_Nyman2008',\n",
       " 'experiment': '1C_discharge_from_full_NMC_lab',\n",
       " 'sei': 'example',\n",
       " 'citation': 'Chen2020'}"
      ]
     },
     "execution_count": 28,
     "metadata": {},
     "output_type": "execute_result"
    }
   ],
   "source": [
    "pybamm.parameter_sets.Chen2020"
   ]
  },
  {
   "cell_type": "code",
   "execution_count": 29,
   "id": "99bad379",
   "metadata": {},
   "outputs": [
    {
     "data": {
      "text/plain": [
       "['C:\\\\Users\\\\ABernabeu\\\\AppData\\\\Roaming\\\\Pybamm\\\\env\\\\lib\\\\site-packages',\n",
       " 'C:\\\\Users\\\\ABernabeu\\\\AppData\\\\Roaming\\\\Pybamm\\\\1. Laboratory tests\\\\LFP_EVPS',\n",
       " 'C:\\\\Users\\\\ABernabeu\\\\AppData\\\\Roaming\\\\Pybamm\\\\env\\\\lib\\\\site-packages\\\\pybamm\\\\input\\\\parameters']"
      ]
     },
     "execution_count": 29,
     "metadata": {},
     "output_type": "execute_result"
    }
   ],
   "source": [
    "pybamm.PARAMETER_PATH"
   ]
  },
  {
   "cell_type": "code",
   "execution_count": 5,
   "id": "6782b6e2",
   "metadata": {},
   "outputs": [
    {
     "name": "stdout",
     "output_type": "stream",
     "text": [
      "Microsoft Windows [Version 10.0.22000.856]\n",
      "(c) Microsoft Corporation. All rights reserved.\n",
      "\n",
      "(env) C:\\Users\\ABernabeu\\AppData\\Roaming\\Pybamm\\1. Laboratory tests\\LFP_EVPS>pybamm_edit_parameter lithium_ion\n",
      "\n",
      "(env) C:\\Users\\ABernabeu\\AppData\\Roaming\\Pybamm\\1. Laboratory tests\\LFP_EVPS>"
     ]
    }
   ],
   "source": [
    "%%cmd\n",
    "pybamm_edit_parameter lithium_ion"
   ]
  },
  {
   "cell_type": "code",
   "execution_count": 30,
   "id": "be5e1fd4",
   "metadata": {},
   "outputs": [
    {
     "data": {
      "text/plain": [
       "{'chemistry': 'lithium_ion',\n",
       " 'cell': 'NMC_lab',\n",
       " 'negative electrode': 'graphite_Chen2020',\n",
       " 'separator': 'separator_Chen2020',\n",
       " 'positive electrode': 'nmc_Chen2020',\n",
       " 'electrolyte': 'lipf6_Nyman2008',\n",
       " 'experiment': '1C_discharge_from_full_NMC_lab',\n",
       " 'sei': 'example',\n",
       " 'citation': 'Chen2020'}"
      ]
     },
     "execution_count": 30,
     "metadata": {},
     "output_type": "execute_result"
    }
   ],
   "source": [
    "chemistry = pybamm.parameter_sets.Chen2020\n",
    "chemistry"
   ]
  },
  {
   "cell_type": "code",
   "execution_count": 31,
   "id": "40528b9d",
   "metadata": {},
   "outputs": [
    {
     "data": {
      "text/plain": [
       "{'chemistry': 'lithium_ion',\n",
       " 'cell': 'NMC_lab',\n",
       " 'negative electrode': 'graphite_Chen2020',\n",
       " 'separator': 'separator_Chen2020',\n",
       " 'positive electrode': 'nmc_Chen2020',\n",
       " 'electrolyte': 'lipf6_Nyman2008',\n",
       " 'experiment': '1C_discharge_from_full_NMC_lab',\n",
       " 'sei': 'example',\n",
       " 'citation': 'Chen2020'}"
      ]
     },
     "execution_count": 31,
     "metadata": {},
     "output_type": "execute_result"
    }
   ],
   "source": [
    "chemistry[\"cell\"] = \"NMC_lab\"\n",
    "chemistry[\"experiment\"] = \"1C_discharge_from_full_NMC_lab\"\n",
    "chemistry"
   ]
  },
  {
   "cell_type": "code",
   "execution_count": 91,
   "id": "7bd89a54",
   "metadata": {},
   "outputs": [
    {
     "data": {
      "text/plain": [
       "2.5"
      ]
     },
     "execution_count": 91,
     "metadata": {},
     "output_type": "execute_result"
    }
   ],
   "source": [
    "parameter_values  = pybamm.ParameterValues(chemistry=chemistry)\n",
    "# Cell parameters changed\n",
    "Capacity = parameter_values[\"Nominal cell capacity [A.h]\"]\n",
    "Capacity"
   ]
  },
  {
   "cell_type": "code",
   "execution_count": 33,
   "id": "71df6c34",
   "metadata": {},
   "outputs": [
    {
     "data": {
      "text/plain": [
       "2.5"
      ]
     },
     "execution_count": 33,
     "metadata": {},
     "output_type": "execute_result"
    }
   ],
   "source": [
    "parameter_values[\"Typical current [A]\"]"
   ]
  },
  {
   "cell_type": "code",
   "execution_count": 34,
   "id": "61427751",
   "metadata": {},
   "outputs": [
    {
     "data": {
      "text/plain": [
       "2.5"
      ]
     },
     "execution_count": 34,
     "metadata": {},
     "output_type": "execute_result"
    }
   ],
   "source": [
    "parameter_values[\"Current function [A]\"]"
   ]
  },
  {
   "cell_type": "code",
   "execution_count": 35,
   "id": "21ba4e49",
   "metadata": {},
   "outputs": [
    {
     "data": {
      "text/plain": [
       "2.75"
      ]
     },
     "execution_count": 35,
     "metadata": {},
     "output_type": "execute_result"
    }
   ],
   "source": [
    "# Experiment parameters changed\n",
    "parameter_values[\"Lower voltage cut-off [V]\"]"
   ]
  },
  {
   "cell_type": "code",
   "execution_count": 36,
   "id": "d4275b7a",
   "metadata": {},
   "outputs": [
    {
     "data": {
      "text/plain": [
       "4.2"
      ]
     },
     "execution_count": 36,
     "metadata": {},
     "output_type": "execute_result"
    }
   ],
   "source": [
    "parameter_values[\"Upper voltage cut-off [V]\"]"
   ]
  },
  {
   "cell_type": "code",
   "execution_count": 76,
   "id": "35dbb789",
   "metadata": {},
   "outputs": [],
   "source": [
    "# Experiment settings at the lab according to the Gregory Plett Books at 25ºC\n",
    "experiment = pybamm.Experiment([\n",
    "    (\"Discharge at 0.033 C until 2.75V\",\n",
    "    \"Rest for 20 hours\",\n",
    "    \"Charge at 0.033 C until 4.20V\",)\n",
    "])"
   ]
  },
  {
   "cell_type": "code",
   "execution_count": 77,
   "id": "754b72be",
   "metadata": {},
   "outputs": [
    {
     "data": {
      "application/vnd.jupyter.widget-view+json": {
       "model_id": "1a27afa01f14455ea31b2f9e7b56e8eb",
       "version_major": 2,
       "version_minor": 0
      },
      "text/plain": [
       "interactive(children=(FloatSlider(value=0.0, description='t', max=142.37247936463248, step=1.4237247936463249)…"
      ]
     },
     "metadata": {},
     "output_type": "display_data"
    },
    {
     "data": {
      "text/plain": [
       "<pybamm.plotting.quick_plot.QuickPlot at 0x1f5a30462b0>"
      ]
     },
     "execution_count": 77,
     "metadata": {},
     "output_type": "execute_result"
    }
   ],
   "source": [
    "model = pybamm.lithium_ion.DFN()\n",
    "sim = pybamm.Simulation(model, experiment=experiment, parameter_values=parameter_values)\n",
    "sim.solve()\n",
    "sim.plot([\"Terminal voltage [V]\",\"Current [A]\"])"
   ]
  },
  {
   "cell_type": "code",
   "execution_count": 132,
   "id": "edbad4b6",
   "metadata": {},
   "outputs": [
    {
     "name": "stderr",
     "output_type": "stream",
     "text": [
      "2022-08-19 13:35:08.141 - [NOTICE] callbacks.on_cycle_start(174): Cycle 1/1 (14.221 ms elapsed) --------------------\n",
      "2022-08-19 13:35:08.141 - [NOTICE] callbacks.on_step_start(182): Cycle 1/1, step 1/3: Discharge at 0.25 C until 2.75V\n",
      "2022-08-19 13:35:09.926 - [NOTICE] callbacks.on_step_start(182): Cycle 1/1, step 2/3: Rest for 15 minutes\n",
      "2022-08-19 13:35:10.111 - [NOTICE] callbacks.on_step_start(182): Cycle 1/1, step 3/3: Charge at 0.25 C until 4.20V\n",
      "2022-08-19 13:35:12.023 - [NOTICE] callbacks.on_experiment_end(222): Finish experiment simulation, took 3.898 s\n"
     ]
    },
    {
     "data": {
      "application/vnd.jupyter.widget-view+json": {
       "model_id": "08df34d16dce4bbab11991c226e5bf62",
       "version_major": 2,
       "version_minor": 0
      },
      "text/plain": [
       "interactive(children=(FloatSlider(value=0.0, description='t', max=16.08865175719645, step=0.16088651757196448)…"
      ]
     },
     "metadata": {},
     "output_type": "display_data"
    },
    {
     "data": {
      "text/plain": [
       "<pybamm.plotting.quick_plot.QuickPlot at 0x1f5d62b02e0>"
      ]
     },
     "execution_count": 132,
     "metadata": {},
     "output_type": "execute_result"
    }
   ],
   "source": [
    "# Experiment setting s at the lab according to the paper An Electrical Equivalent Circuit Model by Seyed Saeed et all\n",
    "# Part 1\n",
    "\n",
    "experiment1 = pybamm.Experiment([\n",
    "    (\"Discharge at 0.25 C until 2.75V\",\n",
    "    \"Rest for 15 minutes\",\n",
    "    \"Charge at 0.25 C until 4.20V\",)\n",
    "])\n",
    "sim = pybamm.Simulation(model, experiment=experiment1, parameter_values=parameter_values)\n",
    "sim.solve()\n",
    "sim.plot([\"Terminal voltage [V]\",\"Current [A]\"])"
   ]
  },
  {
   "cell_type": "code",
   "execution_count": 109,
   "id": "b0f6461e",
   "metadata": {},
   "outputs": [
    {
     "data": {
      "text/plain": [
       "0.5"
      ]
     },
     "execution_count": 109,
     "metadata": {},
     "output_type": "execute_result"
    }
   ],
   "source": [
    "# Part 2 discharging at same time steps\n",
    "init_socs = [1, 0.95, 0.9, 0.85, 0.8, 0.75, 0.7, 0.65, 0.6, 0.55, 0.5, 0.45, 0.4, 0.35, 0.3, 0.25, 0.2, 0.15, 0.1, 0.05]\n",
    "n = len(init_socs)\n",
    "C_rate = float(0.25)\n",
    "t = Capacity/C_rate\n",
    "time = t/n\n",
    "time"
   ]
  },
  {
   "cell_type": "code",
   "execution_count": 136,
   "id": "2b8b7d97",
   "metadata": {},
   "outputs": [
    {
     "name": "stderr",
     "output_type": "stream",
     "text": [
      "2022-08-19 13:44:06.262 - [NOTICE] callbacks.on_cycle_start(174): Cycle 1/1 (15.022 ms elapsed) --------------------\n",
      "2022-08-19 13:44:06.262 - [NOTICE] callbacks.on_step_start(182): Cycle 1/1, step 1/100: Discharge at 0.2 C for 0.5 hour\n",
      "2022-08-19 13:44:06.458 - [NOTICE] callbacks.on_step_start(182): Cycle 1/1, step 2/100: Rest for 50 minutes\n",
      "2022-08-19 13:44:06.715 - [NOTICE] callbacks.on_step_start(182): Cycle 1/1, step 3/100: Discharge at 0.2 C for 0.5 hour\n",
      "2022-08-19 13:44:06.826 - [NOTICE] callbacks.on_step_start(182): Cycle 1/1, step 4/100: Rest for 50 minutes\n",
      "2022-08-19 13:44:07.008 - [NOTICE] callbacks.on_step_start(182): Cycle 1/1, step 5/100: Discharge at 0.2 C for 0.5 hour\n",
      "2022-08-19 13:44:07.124 - [NOTICE] callbacks.on_step_start(182): Cycle 1/1, step 6/100: Rest for 50 minutes\n",
      "2022-08-19 13:44:07.282 - [NOTICE] callbacks.on_step_start(182): Cycle 1/1, step 7/100: Discharge at 0.2 C for 0.5 hour\n",
      "2022-08-19 13:44:07.392 - [NOTICE] callbacks.on_step_start(182): Cycle 1/1, step 8/100: Rest for 50 minutes\n",
      "2022-08-19 13:44:07.557 - [NOTICE] callbacks.on_step_start(182): Cycle 1/1, step 9/100: Discharge at 0.2 C for 0.5 hour\n",
      "2022-08-19 13:44:07.667 - [NOTICE] callbacks.on_step_start(182): Cycle 1/1, step 10/100: Rest for 50 minutes\n",
      "2022-08-19 13:44:07.827 - [NOTICE] callbacks.on_step_start(182): Cycle 1/1, step 11/100: Discharge at 0.2 C for 0.5 hour\n",
      "2022-08-19 13:44:07.932 - [NOTICE] callbacks.on_step_start(182): Cycle 1/1, step 12/100: Rest for 50 minutes\n",
      "2022-08-19 13:44:08.092 - [NOTICE] callbacks.on_step_start(182): Cycle 1/1, step 13/100: Discharge at 0.2 C for 0.5 hour\n",
      "2022-08-19 13:44:08.211 - [NOTICE] callbacks.on_step_start(182): Cycle 1/1, step 14/100: Rest for 50 minutes\n",
      "2022-08-19 13:44:08.392 - [NOTICE] callbacks.on_step_start(182): Cycle 1/1, step 15/100: Discharge at 0.2 C for 0.5 hour\n",
      "2022-08-19 13:44:08.502 - [NOTICE] callbacks.on_step_start(182): Cycle 1/1, step 16/100: Rest for 50 minutes\n",
      "2022-08-19 13:44:08.662 - [NOTICE] callbacks.on_step_start(182): Cycle 1/1, step 17/100: Discharge at 0.2 C for 0.5 hour\n",
      "2022-08-19 13:44:08.762 - [NOTICE] callbacks.on_step_start(182): Cycle 1/1, step 18/100: Rest for 50 minutes\n",
      "2022-08-19 13:44:08.924 - [NOTICE] callbacks.on_step_start(182): Cycle 1/1, step 19/100: Discharge at 0.2 C for 0.5 hour\n",
      "2022-08-19 13:44:09.035 - [NOTICE] callbacks.on_step_start(182): Cycle 1/1, step 20/100: Rest for 50 minutes\n",
      "2022-08-19 13:44:09.190 - [NOTICE] callbacks.on_step_start(182): Cycle 1/1, step 21/100: Discharge at 0.2 C for 0.5 hour\n",
      "2022-08-19 13:44:09.300 - [NOTICE] callbacks.on_step_start(182): Cycle 1/1, step 22/100: Rest for 50 minutes\n",
      "2022-08-19 13:44:09.473 - [NOTICE] callbacks.on_step_start(182): Cycle 1/1, step 23/100: Discharge at 0.2 C for 0.5 hour\n",
      "2022-08-19 13:44:09.588 - [NOTICE] callbacks.on_step_start(182): Cycle 1/1, step 24/100: Rest for 50 minutes\n",
      "2022-08-19 13:44:09.760 - [NOTICE] callbacks.on_step_start(182): Cycle 1/1, step 25/100: Discharge at 0.2 C for 0.5 hour\n",
      "2022-08-19 13:44:09.875 - [NOTICE] callbacks.on_step_start(182): Cycle 1/1, step 26/100: Rest for 50 minutes\n",
      "2022-08-19 13:44:10.043 - [NOTICE] callbacks.on_step_start(182): Cycle 1/1, step 27/100: Discharge at 0.2 C for 0.5 hour\n",
      "2022-08-19 13:44:10.156 - [NOTICE] callbacks.on_step_start(182): Cycle 1/1, step 28/100: Rest for 50 minutes\n",
      "2022-08-19 13:44:10.329 - [NOTICE] callbacks.on_step_start(182): Cycle 1/1, step 29/100: Discharge at 0.2 C for 0.5 hour\n",
      "2022-08-19 13:44:10.438 - [NOTICE] callbacks.on_step_start(182): Cycle 1/1, step 30/100: Rest for 50 minutes\n",
      "2022-08-19 13:44:10.603 - [NOTICE] callbacks.on_step_start(182): Cycle 1/1, step 31/100: Discharge at 0.2 C for 0.5 hour\n",
      "2022-08-19 13:44:10.715 - [NOTICE] callbacks.on_step_start(182): Cycle 1/1, step 32/100: Rest for 50 minutes\n",
      "2022-08-19 13:44:10.882 - [NOTICE] callbacks.on_step_start(182): Cycle 1/1, step 33/100: Discharge at 0.2 C for 0.5 hour\n",
      "2022-08-19 13:44:10.982 - [NOTICE] callbacks.on_step_start(182): Cycle 1/1, step 34/100: Rest for 50 minutes\n",
      "2022-08-19 13:44:11.144 - [NOTICE] callbacks.on_step_start(182): Cycle 1/1, step 35/100: Discharge at 0.2 C for 0.5 hour\n",
      "2022-08-19 13:44:11.258 - [NOTICE] callbacks.on_step_start(182): Cycle 1/1, step 36/100: Rest for 50 minutes\n",
      "2022-08-19 13:44:11.413 - [NOTICE] callbacks.on_step_start(182): Cycle 1/1, step 37/100: Discharge at 0.2 C for 0.5 hour\n",
      "2022-08-19 13:44:11.532 - [NOTICE] callbacks.on_step_start(182): Cycle 1/1, step 38/100: Rest for 50 minutes\n",
      "2022-08-19 13:44:11.696 - [NOTICE] callbacks.on_step_start(182): Cycle 1/1, step 39/100: Discharge at 0.2 C for 0.5 hour\n",
      "2022-08-19 13:44:11.812 - [NOTICE] callbacks.on_step_start(182): Cycle 1/1, step 40/100: Rest for 50 minutes\n",
      "2022-08-19 13:44:11.983 - [NOTICE] callbacks.on_step_start(182): Cycle 1/1, step 41/100: Discharge at 0.2 C for 0.5 hour\n",
      "2022-08-19 13:44:12.072 - [WARNING] callbacks.on_experiment_infeasible(233): \n",
      "\n",
      "\tExperiment is infeasible: 'event: Minimum voltage' was triggered during 'Discharge at 0.2 C for 0.5 hour'. The returned solution only contains up to step 41 of cycle 1. \n",
      "2022-08-19 13:44:12.277 - [NOTICE] callbacks.on_experiment_end(222): Finish experiment simulation, took 6.023 s\n"
     ]
    },
    {
     "data": {
      "application/vnd.jupyter.widget-view+json": {
       "model_id": "2311b6964ae8441eaefbb1d6e2c95f2f",
       "version_major": 2,
       "version_minor": 0
      },
      "text/plain": [
       "interactive(children=(FloatSlider(value=0.0, description='t', max=26.71230539493814, step=0.2671230539493814),…"
      ]
     },
     "metadata": {},
     "output_type": "display_data"
    },
    {
     "data": {
      "text/plain": [
       "<pybamm.plotting.quick_plot.QuickPlot at 0x1f5c5aac370>"
      ]
     },
     "execution_count": 136,
     "metadata": {},
     "output_type": "execute_result"
    }
   ],
   "source": [
    "# The time of discharge must be equal to the variable time (INSER MANUALLY)\n",
    "cycle = [\"Discharge at 0.25 C for 0.5 hour\", \"Rest for 180 minutes\"]*50\n",
    "experiment2 = pybamm.Experiment([tuple(cycle)])\n",
    "sim = pybamm.Simulation(model, experiment=experiment2, parameter_values=parameter_values)\n",
    "sim.solve()\n",
    "sim.plot([\"Terminal voltage [V]\",\"Current [A]\"])"
   ]
  },
  {
   "cell_type": "code",
   "execution_count": 137,
   "id": "e4ad236e",
   "metadata": {},
   "outputs": [
    {
     "data": {
      "text/plain": [
       "[<matplotlib.lines.Line2D at 0x1f5ce74a820>]"
      ]
     },
     "execution_count": 137,
     "metadata": {},
     "output_type": "execute_result"
    },
    {
     "data": {
      "image/png": "[encoded data removed]",
      "text/plain": [
       "<Figure size 432x288 with 1 Axes>"
      ]
     },
     "metadata": {
      "needs_background": "light"
     },
     "output_type": "display_data"
    }
   ],
   "source": [
    "# Calculating the reistance value variable of pybamm\n",
    "sol = sim.solution\n",
    "def extract_resistance(step):\n",
    "    return step[\"Local ECM resistance [Ohm]\"].data[-1]\n",
    "Rs = [extract_resistance(step) for i, step in enumerate(sol.cycles[0].steps) if i%2==0]\n",
    "plt.plot(np.arange(len(Rs)),Rs)\n",
    "\n"
   ]
  },
  {
   "cell_type": "code",
   "execution_count": 85,
   "id": "ebf436b5",
   "metadata": {},
   "outputs": [],
   "source": [
    "# Part 3 discharging from different soc\n",
    "experiment3 = pybamm.Experiment([\n",
    "    (\"Discharge at 0.25 C until 2.75\",\n",
    "    \"Rest for 15 minutes\",)\n",
    "])\n",
    "sols = []\n",
    "\n",
    "for initial_soc in init_socs:\n",
    "    sim = pybamm.Simulation(model, experiment=experiment3,parameter_values=parameter_values)\n",
    "    sol = sim.solve(initial_soc=initial_soc)\n",
    "    sols.append(sol)"
   ]
  },
  {
   "cell_type": "code",
   "execution_count": 83,
   "id": "505e7f60",
   "metadata": {},
   "outputs": [
    {
     "data": {
      "application/vnd.jupyter.widget-view+json": {
       "model_id": "5d7cb89aae6d444ea47dbd22215d0f47",
       "version_major": 2,
       "version_minor": 0
      },
      "text/plain": [
       "interactive(children=(FloatSlider(value=0.0, description='t', max=16.174571562364168, step=0.16174571562364168…"
      ]
     },
     "metadata": {},
     "output_type": "display_data"
    },
    {
     "data": {
      "text/plain": [
       "<pybamm.plotting.quick_plot.QuickPlot at 0x1f5a62cf9a0>"
      ]
     },
     "execution_count": 83,
     "metadata": {},
     "output_type": "execute_result"
    }
   ],
   "source": [
    "pybamm.dynamic_plot(sols, [\"Current [A]\",\n",
    "    \"Terminal voltage [V]\"], labels=[f\"initial soc = {x}\" for x in init_socs])"
   ]
  },
  {
   "cell_type": "code",
   "execution_count": null,
   "id": "fa3275f6",
   "metadata": {},
   "outputs": [],
   "source": []
  },
  {
   "cell_type": "code",
   "execution_count": null,
   "id": "4612e967",
   "metadata": {},
   "outputs": [],
   "source": []
  }
 ],
 "metadata": {
  "kernelspec": {
   "display_name": "Python 3 (ipykernel)",
   "language": "python",
   "name": "python3"
  },
  "language_info": {
   "codemirror_mode": {
    "name": "ipython",
    "version": 3
   },
   "file_extension": ".py",
   "mimetype": "text/x-python",
   "name": "python",
   "nbconvert_exporter": "python",
   "pygments_lexer": "ipython3",
   "version": "3.9.13"
  }
 },
 "nbformat": 4,
 "nbformat_minor": 5
}

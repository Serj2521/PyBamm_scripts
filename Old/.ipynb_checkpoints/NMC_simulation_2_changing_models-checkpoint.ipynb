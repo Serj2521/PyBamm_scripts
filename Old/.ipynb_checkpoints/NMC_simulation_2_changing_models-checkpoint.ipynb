{
 "cells": [
  {
   "cell_type": "code",
   "execution_count": 1,
   "id": "c7517b74",
   "metadata": {},
   "outputs": [],
   "source": [
    "import pybamm\n",
    "import numpy as np\n",
    "import matplotlib.pyplot as plt"
   ]
  },
  {
   "cell_type": "code",
   "execution_count": 2,
   "id": "6df8befc",
   "metadata": {},
   "outputs": [],
   "source": [
    "#Determine the general chemistry of the system\n",
    "chemistry = pybamm.parameter_sets.Chen2020\n",
    "chemistry[\"cell\"] = \"LGM50_Chen2020\"\n",
    "chemistry[\"experiment\"] = \"1C_discharge_from_full_Chen2020\"\n",
    "\n",
    "#Define the parameter values\n",
    "parameter_values = pybamm.ParameterValues(chemistry=chemistry)"
   ]
  },
  {
   "cell_type": "code",
   "execution_count": 3,
   "id": "560434ad",
   "metadata": {},
   "outputs": [],
   "source": [
    "#Define the experiment realised\n",
    "experiment = pybamm.Experiment([\n",
    "    (\"Discharge at 1 C until 2.75V\",\n",
    "    \"Rest for 0.2 hour\",\n",
    "    \"Charge at 1 C until 4.20V\", \n",
    "     )\n",
    "    \n",
    "])"
   ]
  },
  {
   "cell_type": "code",
   "execution_count": 4,
   "id": "4e33070c",
   "metadata": {},
   "outputs": [],
   "source": [
    "#Determine the models sellected:\n",
    "dfn = pybamm.lithium_ion.DFN(name = \"DFN\") #Doyle Fuller Newman\n",
    "#tdfn = pybamm.lithium_ion.DFN(options={\"thermal\": \"lumped\"}, name =\"TDFN\") #DFN with thermal lumped\n",
    "spme = pybamm.lithium_ion.SPMe(name = \"SPMe\") #Single particle model with electrolyte\n",
    "spm = pybamm.lithium_ion.SPM(name = \"SPM\") #Single particle\n",
    "\n",
    "models = [dfn, spme, spm]"
   ]
  },
  {
   "cell_type": "code",
   "execution_count": 5,
   "id": "dd836013",
   "metadata": {},
   "outputs": [
    {
     "data": {
      "application/vnd.jupyter.widget-view+json": {
       "model_id": "63e88b7d2b71418fb732dc2acf9bf1c5",
       "version_major": 2,
       "version_minor": 0
      },
      "text/plain": [
       "interactive(children=(FloatSlider(value=0.0, description='t', max=1.9460215040374484, step=0.01946021504037448…"
      ]
     },
     "metadata": {},
     "output_type": "display_data"
    },
    {
     "data": {
      "text/plain": [
       "<pybamm.plotting.quick_plot.QuickPlot at 0x2848260cdf0>"
      ]
     },
     "execution_count": 5,
     "metadata": {},
     "output_type": "execute_result"
    }
   ],
   "source": [
    "#Solve and plot\n",
    "sols = []\n",
    "for model in models:\n",
    "    sim = pybamm.Simulation(model, experiment=experiment, parameter_values=parameter_values)\n",
    "    sol = sim.solve()\n",
    "    sols.append(sol)\n",
    "    \n",
    "pybamm.dynamic_plot(sols, [\"Terminal voltage [V]\", \"Current [A]\"])"
   ]
  },
  {
   "cell_type": "code",
   "execution_count": 6,
   "id": "de763b6c",
   "metadata": {},
   "outputs": [
    {
     "data": {
      "application/vnd.jupyter.widget-view+json": {
       "model_id": "d65f218897d84f37b5bb92c1d75acc40",
       "version_major": 2,
       "version_minor": 0
      },
      "text/plain": [
       "interactive(children=(FloatSlider(value=0.0, description='t', max=1.9460215040374484, step=0.01946021504037448…"
      ]
     },
     "metadata": {},
     "output_type": "display_data"
    },
    {
     "data": {
      "text/plain": [
       "<pybamm.plotting.quick_plot.QuickPlot at 0x28482054eb0>"
      ]
     },
     "execution_count": 6,
     "metadata": {},
     "output_type": "execute_result"
    }
   ],
   "source": [
    "pybamm.dynamic_plot(sols, [\"Positive particle surface concentration [mol.m-3]\",\"Negative particle surface concentration [mol.m-3]\",\"Electrolyte concentration [mol.m-3]\"])"
   ]
  },
  {
   "cell_type": "code",
   "execution_count": 7,
   "id": "746afab8",
   "metadata": {},
   "outputs": [
    {
     "data": {
      "application/vnd.jupyter.widget-view+json": {
       "model_id": "70e1e90d3b2543aaab7af1e2389ab24a",
       "version_major": 2,
       "version_minor": 0
      },
      "text/plain": [
       "interactive(children=(FloatSlider(value=0.0, description='t', max=1.9460215040374484, step=0.01946021504037448…"
      ]
     },
     "metadata": {},
     "output_type": "display_data"
    },
    {
     "data": {
      "text/plain": [
       "<pybamm.plotting.quick_plot.QuickPlot at 0x2848259af70>"
      ]
     },
     "execution_count": 7,
     "metadata": {},
     "output_type": "execute_result"
    }
   ],
   "source": [
    "pybamm.dynamic_plot(sols, [\"X-averaged positive particle concentration [mol.m-3]\", \"X-averaged negative particle concentration [mol.m-3]\"])"
   ]
  },
  {
   "cell_type": "code",
   "execution_count": 11,
   "id": "88c2253f",
   "metadata": {},
   "outputs": [
    {
     "name": "stdout",
     "output_type": "stream",
     "text": [
      "1 + dlnf/dlnc\t1.0\n",
      "Ambient temperature [K]\t298.15\n",
      "Bulk solvent concentration [mol.m-3]\t2636.0\n",
      "Cation transference number\t0.2594\n",
      "Cell cooling surface area [m2]\t0.00531\n",
      "Cell thermal expansion coefficient [m.K-1]\t1.1e-06\n",
      "Cell volume [m3]\t2.42e-05\n",
      "Current function [A]\t5.0\n",
      "EC diffusivity [m2.s-1]\t2e-18\n",
      "EC initial concentration in electrolyte [mol.m-3]\t4541.0\n",
      "Electrode height [m]\t0.065\n",
      "Electrode width [m]\t1.58\n",
      "Electrolyte conductivity [S.m-1]\t<function electrolyte_conductivity_Nyman2008 at 0x000002848203F820>\n",
      "Electrolyte diffusivity [m2.s-1]\t<function electrolyte_diffusivity_Nyman2008 at 0x000002848203F790>\n",
      "Initial concentration in electrolyte [mol.m-3]\t1000.0\n",
      "Initial concentration in negative electrode [mol.m-3]\t29866.0\n",
      "Initial concentration in positive electrode [mol.m-3]\t17038.0\n",
      "Initial inner SEI thickness [m]\t2.5e-09\n",
      "Initial outer SEI thickness [m]\t2.5e-09\n",
      "Initial temperature [K]\t298.15\n",
      "Inner SEI electron conductivity [S.m-1]\t8.95e-14\n",
      "Inner SEI lithium interstitial diffusivity [m2.s-1]\t1e-20\n",
      "Inner SEI open-circuit potential [V]\t0.1\n",
      "Inner SEI partial molar volume [m3.mol-1]\t9.585e-05\n",
      "Inner SEI reaction proportion\t0.5\n",
      "Lithium interstitial reference concentration [mol.m-3]\t15.0\n",
      "Lower voltage cut-off [V]\t2.5\n",
      "Maximum concentration in negative electrode [mol.m-3]\t33133.0\n",
      "Maximum concentration in positive electrode [mol.m-3]\t63104.0\n",
      "Negative current collector conductivity [S.m-1]\t58411000.0\n",
      "Negative current collector density [kg.m-3]\t8960.0\n",
      "Negative current collector specific heat capacity [J.kg-1.K-1]\t385.0\n",
      "Negative current collector thermal conductivity [W.m-1.K-1]\t401.0\n",
      "Negative current collector thickness [m]\t1.2e-05\n",
      "Negative electrode Bruggeman coefficient (electrode)\t1.5\n",
      "Negative electrode Bruggeman coefficient (electrolyte)\t1.5\n",
      "Negative electrode OCP [V]\t<function graphite_LGM50_ocp_Chen2020 at 0x000002848203F430>\n",
      "Negative electrode OCP entropic change [V.K-1]\t0.0\n",
      "Negative electrode active material volume fraction\t0.75\n",
      "Negative electrode cation signed stoichiometry\t-1.0\n",
      "Negative electrode charge transfer coefficient\t0.5\n",
      "Negative electrode conductivity [S.m-1]\t215.0\n",
      "Negative electrode density [kg.m-3]\t1657.0\n",
      "Negative electrode diffusivity [m2.s-1]\t3.3e-14\n",
      "Negative electrode double-layer capacity [F.m-2]\t0.2\n",
      "Negative electrode electrons in reaction\t1.0\n",
      "Negative electrode exchange-current density [A.m-2]\t<function graphite_LGM50_electrolyte_exchange_current_density_Chen2020 at 0x000002848203F550>\n",
      "Negative electrode porosity\t0.25\n",
      "Negative electrode reaction-driven LAM factor [m3.mol-1]\t0.0\n",
      "Negative electrode specific heat capacity [J.kg-1.K-1]\t700.0\n",
      "Negative electrode thermal conductivity [W.m-1.K-1]\t1.7\n",
      "Negative electrode thickness [m]\t8.52e-05\n",
      "Negative particle radius [m]\t5.86e-06\n",
      "Nominal cell capacity [A.h]\t5.0\n",
      "Number of cells connected in series to make a battery\t1.0\n",
      "Number of electrodes connected in parallel to make a cell\t1.0\n",
      "Outer SEI open-circuit potential [V]\t0.8\n",
      "Outer SEI partial molar volume [m3.mol-1]\t9.585e-05\n",
      "Outer SEI solvent diffusivity [m2.s-1]\t2.5000000000000002e-22\n",
      "Positive current collector conductivity [S.m-1]\t36914000.0\n",
      "Positive current collector density [kg.m-3]\t2700.0\n",
      "Positive current collector specific heat capacity [J.kg-1.K-1]\t897.0\n",
      "Positive current collector thermal conductivity [W.m-1.K-1]\t237.0\n",
      "Positive current collector thickness [m]\t1.6e-05\n",
      "Positive electrode Bruggeman coefficient (electrode)\t1.5\n",
      "Positive electrode Bruggeman coefficient (electrolyte)\t1.5\n",
      "Positive electrode OCP [V]\t<function nmc_LGM50_ocp_Chen2020 at 0x000002848203F5E0>\n",
      "Positive electrode OCP entropic change [V.K-1]\t0.0\n",
      "Positive electrode active material volume fraction\t0.665\n",
      "Positive electrode cation signed stoichiometry\t-1.0\n",
      "Positive electrode charge transfer coefficient\t0.5\n",
      "Positive electrode conductivity [S.m-1]\t0.18\n",
      "Positive electrode density [kg.m-3]\t3262.0\n",
      "Positive electrode diffusivity [m2.s-1]\t4e-15\n",
      "Positive electrode double-layer capacity [F.m-2]\t0.2\n",
      "Positive electrode electrons in reaction\t1.0\n",
      "Positive electrode exchange-current density [A.m-2]\t<function nmc_LGM50_electrolyte_exchange_current_density_Chen2020 at 0x000002848203F700>\n",
      "Positive electrode porosity\t0.335\n",
      "Positive electrode reaction-driven LAM factor [m3.mol-1]\t0.0\n",
      "Positive electrode specific heat capacity [J.kg-1.K-1]\t700.0\n",
      "Positive electrode thermal conductivity [W.m-1.K-1]\t2.1\n",
      "Positive electrode thickness [m]\t7.56e-05\n",
      "Positive particle radius [m]\t5.22e-06\n",
      "Reference temperature [K]\t298.15\n",
      "SEI growth activation energy [J.mol-1]\t0.0\n",
      "SEI kinetic rate constant [m.s-1]\t1e-12\n",
      "SEI open-circuit potential [V]\t0.4\n",
      "SEI reaction exchange current density [A.m-2]\t1.5e-07\n",
      "SEI resistivity [Ohm.m]\t200000.0\n",
      "Separator Bruggeman coefficient (electrolyte)\t1.5\n",
      "Separator density [kg.m-3]\t397.0\n",
      "Separator porosity\t0.47\n",
      "Separator specific heat capacity [J.kg-1.K-1]\t700.0\n",
      "Separator thermal conductivity [W.m-1.K-1]\t0.16\n",
      "Separator thickness [m]\t1.2e-05\n",
      "Total heat transfer coefficient [W.m-2.K-1]\t10.0\n",
      "Typical current [A]\t5.0\n",
      "Typical electrolyte concentration [mol.m-3]\t1000.0\n",
      "Upper voltage cut-off [V]\t4.2\n"
     ]
    }
   ],
   "source": [
    "chemistry = pybamm.parameter_sets.Chen2020\n",
    "params = pybamm.ParameterValues(chemistry = chemistry)\n",
    "params.search(\"\")"
   ]
  },
  {
   "cell_type": "code",
   "execution_count": 16,
   "id": "ed90297b",
   "metadata": {},
   "outputs": [],
   "source": [
    "#Define the experiment realised\n",
    "experiment = pybamm.Experiment([\n",
    "    (\n",
    "    \"Rest for 0.2 hour\",\"Discharge at 1 C until 2.75V\",\n",
    "    \"Charge at 1 C until 4.20V\", \n",
    "     )\n",
    "    \n",
    "])"
   ]
  },
  {
   "cell_type": "code",
   "execution_count": 17,
   "id": "d99f2fa8",
   "metadata": {},
   "outputs": [],
   "source": [
    "#Determine the models sellected:\n",
    "dfn = pybamm.lithium_ion.DFN(name = \"DFN\") #Doyle Fuller Newman\n",
    "#tdfn = pybamm.lithium_ion.DFN(options={\"thermal\": \"lumped\"}, name =\"TDFN\") #DFN with thermal lumped\n",
    "spme = pybamm.lithium_ion.SPMe(name = \"SPMe\") #Single particle model with electrolyte\n",
    "spm = pybamm.lithium_ion.SPM(name = \"SPM\") #Single particle\n",
    "\n",
    "models = [dfn, spme, spm]"
   ]
  },
  {
   "cell_type": "code",
   "execution_count": 18,
   "id": "92caedf5",
   "metadata": {},
   "outputs": [
    {
     "data": {
      "application/vnd.jupyter.widget-view+json": {
       "model_id": "dae58b03b4c24027abbaa58c79bc86e8",
       "version_major": 2,
       "version_minor": 0
      },
      "text/plain": [
       "interactive(children=(FloatSlider(value=0.0, description='t', max=1.9460355042697508, step=0.01946035504269750…"
      ]
     },
     "metadata": {},
     "output_type": "display_data"
    },
    {
     "data": {
      "text/plain": [
       "<pybamm.plotting.quick_plot.QuickPlot at 0x2848df4e8e0>"
      ]
     },
     "execution_count": 18,
     "metadata": {},
     "output_type": "execute_result"
    }
   ],
   "source": [
    "#Solve and plot\n",
    "sols = []\n",
    "for model in models:\n",
    "    sim = pybamm.Simulation(model, experiment=experiment, parameter_values=parameter_values)\n",
    "    sol = sim.solve()\n",
    "    sols.append(sol)\n",
    "    \n",
    "pybamm.dynamic_plot(sols, [\"Terminal voltage [V]\", \"Current [A]\"])"
   ]
  },
  {
   "cell_type": "code",
   "execution_count": 19,
   "id": "163dc512",
   "metadata": {},
   "outputs": [
    {
     "data": {
      "application/vnd.jupyter.widget-view+json": {
       "model_id": "d4f389bcaed44c12bb9ae75c92ae1353",
       "version_major": 2,
       "version_minor": 0
      },
      "text/plain": [
       "interactive(children=(FloatSlider(value=0.0, description='t', max=1.9460355042697508, step=0.01946035504269750…"
      ]
     },
     "metadata": {},
     "output_type": "display_data"
    },
    {
     "data": {
      "text/plain": [
       "<pybamm.plotting.quick_plot.QuickPlot at 0x28485c14430>"
      ]
     },
     "execution_count": 19,
     "metadata": {},
     "output_type": "execute_result"
    }
   ],
   "source": [
    "pybamm.dynamic_plot(sols, [\"Positive particle surface concentration [mol.m-3]\",\"Negative particle surface concentration [mol.m-3]\",\"Electrolyte concentration [mol.m-3]\"])"
   ]
  },
  {
   "cell_type": "code",
   "execution_count": 20,
   "id": "ed4e3e51",
   "metadata": {},
   "outputs": [
    {
     "data": {
      "application/vnd.jupyter.widget-view+json": {
       "model_id": "a8622f551bda4dcfae422c6638d07ab4",
       "version_major": 2,
       "version_minor": 0
      },
      "text/plain": [
       "interactive(children=(FloatSlider(value=0.0, description='t', max=1.9460355042697508, step=0.01946035504269750…"
      ]
     },
     "metadata": {},
     "output_type": "display_data"
    },
    {
     "data": {
      "text/plain": [
       "<pybamm.plotting.quick_plot.QuickPlot at 0x28483a19760>"
      ]
     },
     "execution_count": 20,
     "metadata": {},
     "output_type": "execute_result"
    }
   ],
   "source": [
    "pybamm.dynamic_plot(sols, [\"X-averaged positive particle concentration [mol.m-3]\", \"X-averaged negative particle concentration [mol.m-3]\"])\n"
   ]
  },
  {
   "cell_type": "code",
   "execution_count": null,
   "id": "5f23fbce",
   "metadata": {},
   "outputs": [],
   "source": []
  }
 ],
 "metadata": {
  "kernelspec": {
   "display_name": "Python 3 (ipykernel)",
   "language": "python",
   "name": "python3"
  },
  "language_info": {
   "codemirror_mode": {
    "name": "ipython",
    "version": 3
   },
   "file_extension": ".py",
   "mimetype": "text/x-python",
   "name": "python",
   "nbconvert_exporter": "python",
   "pygments_lexer": "ipython3",
   "version": "3.9.13"
  }
 },
 "nbformat": 4,
 "nbformat_minor": 5
}

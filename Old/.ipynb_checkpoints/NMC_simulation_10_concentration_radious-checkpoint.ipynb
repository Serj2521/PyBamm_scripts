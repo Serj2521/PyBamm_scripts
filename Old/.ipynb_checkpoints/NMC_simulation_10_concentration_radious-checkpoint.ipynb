{
 "cells": [
  {
   "cell_type": "code",
   "execution_count": 1,
   "id": "3cd63c87",
   "metadata": {},
   "outputs": [],
   "source": [
    "import pybamm\n",
    "import numpy as np\n",
    "import matplotlib.pyplot as plt"
   ]
  },
  {
   "cell_type": "code",
   "execution_count": 2,
   "id": "500c11e4",
   "metadata": {},
   "outputs": [],
   "source": [
    "#Determine the general chemistry of the system\n",
    "chemistry = pybamm.parameter_sets.Chen2020\n",
    "\n",
    "#Define the parameter values\n",
    "parameter_values = pybamm.ParameterValues(chemistry=chemistry)\n",
    "\n",
    "#Define the model\n",
    "spm = pybamm.lithium_ion.SPM()"
   ]
  },
  {
   "cell_type": "code",
   "execution_count": 3,
   "id": "11ae6711",
   "metadata": {},
   "outputs": [
    {
     "name": "stdout",
     "output_type": "stream",
     "text": [
      "Average negative particle concentration\n",
      "Average negative particle concentration [mol.m-3]\n",
      "Average positive particle concentration\n",
      "Average positive particle concentration [mol.m-3]\n",
      "Dead lithium concentration\n",
      "Dead lithium concentration [mol.m-3]\n",
      "Electrolyte concentration\n",
      "Electrolyte concentration [Molar]\n",
      "Electrolyte concentration [mol.m-3]\n",
      "Inner SEI concentration [mol.m-3]\n",
      "Inner SEI on cracks concentration [mol.m-3]\n",
      "Lithium plating concentration\n",
      "Lithium plating concentration [mol.m-3]\n",
      "Maximum negative particle concentration\n",
      "Maximum negative particle concentration [mol.m-3]\n",
      "Maximum negative particle surface concentration\n",
      "Maximum negative particle surface concentration [mol.m-3]\n",
      "Maximum positive particle concentration\n",
      "Maximum positive particle concentration [mol.m-3]\n",
      "Maximum positive particle surface concentration\n",
      "Maximum positive particle surface concentration [mol.m-3]\n",
      "Minimum negative particle concentration\n",
      "Minimum negative particle concentration [mol.m-3]\n",
      "Minimum negative particle surface concentration\n",
      "Minimum negative particle surface concentration [mol.m-3]\n",
      "Minimum positive particle concentration\n",
      "Minimum positive particle concentration [mol.m-3]\n",
      "Minimum positive particle surface concentration\n",
      "Minimum positive particle surface concentration [mol.m-3]\n",
      "Negative electrode porosity times concentration\n",
      "Negative electrode volume-averaged concentration\n",
      "Negative electrode volume-averaged concentration [mol.m-3]\n",
      "Negative electrolyte concentration\n",
      "Negative electrolyte concentration [Molar]\n",
      "Negative electrolyte concentration [mol.m-3]\n",
      "Negative particle concentration\n",
      "Negative particle concentration [mol.m-3]\n",
      "Negative particle surface concentration\n",
      "Negative particle surface concentration [mol.m-3]\n",
      "Outer SEI concentration [mol.m-3]\n",
      "Outer SEI on cracks concentration [mol.m-3]\n",
      "Porosity times concentration\n",
      "Positive electrode porosity times concentration\n",
      "Positive electrode volume-averaged concentration\n",
      "Positive electrode volume-averaged concentration [mol.m-3]\n",
      "Positive electrolyte concentration\n",
      "Positive electrolyte concentration [Molar]\n",
      "Positive electrolyte concentration [mol.m-3]\n",
      "Positive particle concentration\n",
      "Positive particle concentration [mol.m-3]\n",
      "Positive particle surface concentration\n",
      "Positive particle surface concentration [mol.m-3]\n",
      "R-averaged negative particle concentration\n",
      "R-averaged negative particle concentration [mol.m-3]\n",
      "R-averaged positive particle concentration\n",
      "R-averaged positive particle concentration [mol.m-3]\n",
      "SEI concentration [mol.m-3]\n",
      "SEI on cracks concentration [mol.m-3]\n",
      "Separator electrolyte concentration\n",
      "Separator electrolyte concentration [Molar]\n",
      "Separator electrolyte concentration [mol.m-3]\n",
      "Separator porosity times concentration\n",
      "X-averaged SEI concentration [mol.m-3]\n",
      "X-averaged SEI on cracks concentration [mol.m-3]\n",
      "X-averaged battery concentration overpotential [V]\n",
      "X-averaged concentration overpotential\n",
      "X-averaged concentration overpotential [V]\n",
      "X-averaged dead lithium concentration\n",
      "X-averaged dead lithium concentration [mol.m-3]\n",
      "X-averaged electrolyte concentration\n",
      "X-averaged electrolyte concentration [Molar]\n",
      "X-averaged electrolyte concentration [mol.m-3]\n",
      "X-averaged inner SEI concentration [mol.m-3]\n",
      "X-averaged inner SEI on cracks concentration [mol.m-3]\n",
      "X-averaged lithium plating concentration\n",
      "X-averaged lithium plating concentration [mol.m-3]\n",
      "X-averaged negative electrolyte concentration\n",
      "X-averaged negative electrolyte concentration [mol.m-3]\n",
      "X-averaged negative particle concentration\n",
      "X-averaged negative particle concentration [mol.m-3]\n",
      "X-averaged negative particle surface concentration\n",
      "X-averaged negative particle surface concentration [mol.m-3]\n",
      "X-averaged outer SEI concentration [mol.m-3]\n",
      "X-averaged outer SEI on cracks concentration [mol.m-3]\n",
      "X-averaged positive electrolyte concentration\n",
      "X-averaged positive electrolyte concentration [mol.m-3]\n",
      "X-averaged positive particle concentration\n",
      "X-averaged positive particle concentration [mol.m-3]\n",
      "X-averaged positive particle surface concentration\n",
      "X-averaged positive particle surface concentration [mol.m-3]\n",
      "X-averaged separator electrolyte concentration\n",
      "X-averaged separator electrolyte concentration [mol.m-3]\n"
     ]
    }
   ],
   "source": [
    "spm.variables.search(\"concentration\")"
   ]
  },
  {
   "cell_type": "code",
   "execution_count": 4,
   "id": "8c4bac24",
   "metadata": {},
   "outputs": [],
   "source": [
    "cpe = spm.variables[\"Positive electrode volume-averaged concentration [mol.m-3]\"]\n",
    "cxa = spm.variables[\"X-averaged positive particle concentration [mol.m-3]\"]"
   ]
  },
  {
   "cell_type": "code",
   "execution_count": 5,
   "id": "a854bac9",
   "metadata": {},
   "outputs": [
    {
     "data": {
      "text/plain": [
       "['current collector']"
      ]
     },
     "execution_count": 5,
     "metadata": {},
     "output_type": "execute_result"
    }
   ],
   "source": [
    "cpe.domain"
   ]
  },
  {
   "cell_type": "code",
   "execution_count": 6,
   "id": "e07f77e3",
   "metadata": {},
   "outputs": [
    {
     "data": {
      "text/plain": [
       "['positive particle']"
      ]
     },
     "execution_count": 6,
     "metadata": {},
     "output_type": "execute_result"
    }
   ],
   "source": [
    "cxa.domain"
   ]
  },
  {
   "cell_type": "code",
   "execution_count": 7,
   "id": "fcae0497",
   "metadata": {},
   "outputs": [
    {
     "name": "stdout",
     "output_type": "stream",
     "text": [
      "x_n has 20 mesh points\n",
      "x_s has 20 mesh points\n",
      "x_p has 20 mesh points\n",
      "r_n has 20 mesh points\n",
      "r_p has 20 mesh points\n",
      "r_n_prim has 20 mesh points\n",
      "r_p_prim has 20 mesh points\n",
      "r_n_sec has 20 mesh points\n",
      "r_p_sec has 20 mesh points\n",
      "y has 10 mesh points\n",
      "z has 10 mesh points\n",
      "R_n has 30 mesh points\n",
      "R_p has 30 mesh points\n"
     ]
    }
   ],
   "source": [
    "for var, npts in spm.default_var_pts.items():\n",
    "    print(var,'has', npts,'mesh points')"
   ]
  },
  {
   "cell_type": "code",
   "execution_count": 8,
   "id": "538b04eb",
   "metadata": {},
   "outputs": [
    {
     "data": {
      "text/plain": [
       "<pybamm.solvers.solution.Solution at 0x16da74b5d30>"
      ]
     },
     "execution_count": 8,
     "metadata": {},
     "output_type": "execute_result"
    }
   ],
   "source": [
    "sim = pybamm.Simulation(spm)\n",
    "sim.solve(t_eval=[0,3600])"
   ]
  },
  {
   "cell_type": "code",
   "execution_count": 10,
   "id": "045a64b0",
   "metadata": {},
   "outputs": [
    {
     "data": {
      "application/vnd.jupyter.widget-view+json": {
       "model_id": "46f5ba32186648caab5ef857258ff5fd",
       "version_major": 2,
       "version_minor": 0
      },
      "text/plain": [
       "interactive(children=(FloatSlider(value=0.0, description='t', max=1.0, step=0.01), Output()), _dom_classes=('w…"
      ]
     },
     "metadata": {},
     "output_type": "display_data"
    },
    {
     "data": {
      "text/plain": [
       "<pybamm.plotting.quick_plot.QuickPlot at 0x16da7bc4e50>"
      ]
     },
     "execution_count": 10,
     "metadata": {},
     "output_type": "execute_result"
    }
   ],
   "source": [
    "#Plot variables depending on R\n",
    "output_vars = [\n",
    "    \n",
    "               \"X-averaged positive particle concentration [mol.m-3]\",\n",
    "               \"X-averaged negative particle concentration [mol.m-3]\",\n",
    "               \"Terminal voltage [V]\",\n",
    "               \"Positive particle surface concentration [mol.m-3]\",\n",
    "               \"Negative particle surface concentration [mol.m-3]\",\n",
    "               \"Electrolyte concentration [mol.m-3]\",\n",
    "               \n",
    "              ]\n",
    "\n",
    "# plot\n",
    "sim.plot(output_variables = output_vars)"
   ]
  },
  {
   "cell_type": "code",
   "execution_count": 11,
   "id": "88207346",
   "metadata": {},
   "outputs": [
    {
     "name": "stdout",
     "output_type": "stream",
     "text": [
      "EC initial concentration in electrolyte [mol.m-3]\t4541.0\n",
      "Electrolyte conductivity [S.m-1]\t<function electrolyte_conductivity_Nyman2008 at 0x0000016DA7082790>\n",
      "Electrolyte diffusivity [m2.s-1]\t<function electrolyte_diffusivity_Nyman2008 at 0x0000016DA7082670>\n",
      "Initial concentration in electrolyte [mol.m-3]\t1000.0\n",
      "Negative electrode Bruggeman coefficient (electrolyte)\t1.5\n",
      "Positive electrode Bruggeman coefficient (electrolyte)\t1.5\n",
      "Separator Bruggeman coefficient (electrolyte)\t1.5\n",
      "Typical electrolyte concentration [mol.m-3]\t1000.0\n"
     ]
    }
   ],
   "source": [
    "chemistry = pybamm.parameter_sets.Chen2020\n",
    "params = pybamm.ParameterValues(chemistry = chemistry)\n",
    "params.search(\"electrolyte\")"
   ]
  },
  {
   "cell_type": "code",
   "execution_count": 12,
   "id": "c48e20e9",
   "metadata": {},
   "outputs": [
    {
     "name": "stdout",
     "output_type": "stream",
     "text": [
      "Initial concentration in positive electrode [mol.m-3]\t17038.0\n",
      "Maximum concentration in positive electrode [mol.m-3]\t63104.0\n",
      "Positive current collector conductivity [S.m-1]\t36914000.0\n",
      "Positive current collector density [kg.m-3]\t2700.0\n",
      "Positive current collector specific heat capacity [J.kg-1.K-1]\t897.0\n",
      "Positive current collector thermal conductivity [W.m-1.K-1]\t237.0\n",
      "Positive current collector thickness [m]\t1.6e-05\n",
      "Positive electrode Bruggeman coefficient (electrode)\t1.5\n",
      "Positive electrode Bruggeman coefficient (electrolyte)\t1.5\n",
      "Positive electrode OCP [V]\t<function nmc_LGM50_ocp_Chen2020 at 0x0000016DA7082550>\n",
      "Positive electrode OCP entropic change [V.K-1]\t0.0\n",
      "Positive electrode active material volume fraction\t0.665\n",
      "Positive electrode cation signed stoichiometry\t-1.0\n",
      "Positive electrode charge transfer coefficient\t0.5\n",
      "Positive electrode conductivity [S.m-1]\t0.18\n",
      "Positive electrode density [kg.m-3]\t3262.0\n",
      "Positive electrode diffusivity [m2.s-1]\t4e-15\n",
      "Positive electrode double-layer capacity [F.m-2]\t0.2\n",
      "Positive electrode electrons in reaction\t1.0\n",
      "Positive electrode exchange-current density [A.m-2]\t<function nmc_LGM50_electrolyte_exchange_current_density_Chen2020 at 0x0000016DA70824C0>\n",
      "Positive electrode porosity\t0.335\n",
      "Positive electrode reaction-driven LAM factor [m3.mol-1]\t0.0\n",
      "Positive electrode specific heat capacity [J.kg-1.K-1]\t700.0\n",
      "Positive electrode thermal conductivity [W.m-1.K-1]\t2.1\n",
      "Positive electrode thickness [m]\t7.56e-05\n",
      "Positive particle radius [m]\t5.22e-06\n"
     ]
    }
   ],
   "source": [
    "chemistry = pybamm.parameter_sets.Chen2020\n",
    "params = pybamm.ParameterValues(chemistry = chemistry)\n",
    "params.search(\"positive\")"
   ]
  },
  {
   "cell_type": "code",
   "execution_count": 13,
   "id": "3dd29cb7",
   "metadata": {},
   "outputs": [
    {
     "name": "stdout",
     "output_type": "stream",
     "text": [
      "Initial concentration in negative electrode [mol.m-3]\t29866.0\n",
      "Maximum concentration in negative electrode [mol.m-3]\t33133.0\n",
      "Negative current collector conductivity [S.m-1]\t58411000.0\n",
      "Negative current collector density [kg.m-3]\t8960.0\n",
      "Negative current collector specific heat capacity [J.kg-1.K-1]\t385.0\n",
      "Negative current collector thermal conductivity [W.m-1.K-1]\t401.0\n",
      "Negative current collector thickness [m]\t1.2e-05\n",
      "Negative electrode Bruggeman coefficient (electrode)\t1.5\n",
      "Negative electrode Bruggeman coefficient (electrolyte)\t1.5\n",
      "Negative electrode OCP [V]\t<function graphite_LGM50_ocp_Chen2020 at 0x0000016D848E5EE0>\n",
      "Negative electrode OCP entropic change [V.K-1]\t0.0\n",
      "Negative electrode active material volume fraction\t0.75\n",
      "Negative electrode cation signed stoichiometry\t-1.0\n",
      "Negative electrode charge transfer coefficient\t0.5\n",
      "Negative electrode conductivity [S.m-1]\t215.0\n",
      "Negative electrode density [kg.m-3]\t1657.0\n",
      "Negative electrode diffusivity [m2.s-1]\t3.3e-14\n",
      "Negative electrode double-layer capacity [F.m-2]\t0.2\n",
      "Negative electrode electrons in reaction\t1.0\n",
      "Negative electrode exchange-current density [A.m-2]\t<function graphite_LGM50_electrolyte_exchange_current_density_Chen2020 at 0x0000016D848E5AF0>\n",
      "Negative electrode porosity\t0.25\n",
      "Negative electrode reaction-driven LAM factor [m3.mol-1]\t0.0\n",
      "Negative electrode specific heat capacity [J.kg-1.K-1]\t700.0\n",
      "Negative electrode thermal conductivity [W.m-1.K-1]\t1.7\n",
      "Negative electrode thickness [m]\t8.52e-05\n",
      "Negative particle radius [m]\t5.86e-06\n"
     ]
    }
   ],
   "source": [
    "chemistry = pybamm.parameter_sets.Chen2020\n",
    "params = pybamm.ParameterValues(chemistry = chemistry)\n",
    "params.search(\"negative\")"
   ]
  },
  {
   "cell_type": "code",
   "execution_count": null,
   "id": "648b1603",
   "metadata": {},
   "outputs": [],
   "source": []
  }
 ],
 "metadata": {
  "kernelspec": {
   "display_name": "Python 3 (ipykernel)",
   "language": "python",
   "name": "python3"
  },
  "language_info": {
   "codemirror_mode": {
    "name": "ipython",
    "version": 3
   },
   "file_extension": ".py",
   "mimetype": "text/x-python",
   "name": "python",
   "nbconvert_exporter": "python",
   "pygments_lexer": "ipython3",
   "version": "3.9.13"
  }
 },
 "nbformat": 4,
 "nbformat_minor": 5
}

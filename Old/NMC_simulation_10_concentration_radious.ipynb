{
 "cells": [
  {
   "cell_type": "code",
   "execution_count": 1,
   "id": "3cd63c87",
   "metadata": {},
   "outputs": [],
   "source": [
    "import pybamm\n",
    "import numpy as np\n",
    "import matplotlib.pyplot as plt"
   ]
  },
  {
   "cell_type": "code",
   "execution_count": 2,
   "id": "500c11e4",
   "metadata": {},
   "outputs": [],
   "source": [
    "#Determine the general chemistry of the system\n",
    "chemistry = pybamm.parameter_sets.Chen2020\n",
    "\n",
    "#Define the parameter values\n",
    "parameter_values = pybamm.ParameterValues(chemistry=chemistry)\n",
    "\n",
    "#Define the model\n",
    "spm = pybamm.lithium_ion.SPM()"
   ]
  },
  {
   "cell_type": "code",
   "execution_count": 3,
   "id": "11ae6711",
   "metadata": {},
   "outputs": [
    {
     "name": "stdout",
     "output_type": "stream",
     "text": [
      "Average negative particle concentration\n",
      "Average negative particle concentration [mol.m-3]\n",
      "Average positive particle concentration\n",
      "Average positive particle concentration [mol.m-3]\n",
      "Dead lithium concentration\n",
      "Dead lithium concentration [mol.m-3]\n",
      "Electrolyte concentration\n",
      "Electrolyte concentration [Molar]\n",
      "Electrolyte concentration [mol.m-3]\n",
      "Inner SEI concentration [mol.m-3]\n",
      "Inner SEI on cracks concentration [mol.m-3]\n",
      "Lithium plating concentration\n",
      "Lithium plating concentration [mol.m-3]\n",
      "Maximum negative particle concentration\n",
      "Maximum negative particle concentration [mol.m-3]\n",
      "Maximum negative particle surface concentration\n",
      "Maximum negative particle surface concentration [mol.m-3]\n",
      "Maximum positive particle concentration\n",
      "Maximum positive particle concentration [mol.m-3]\n",
      "Maximum positive particle surface concentration\n",
      "Maximum positive particle surface concentration [mol.m-3]\n",
      "Minimum negative particle concentration\n",
      "Minimum negative particle concentration [mol.m-3]\n",
      "Minimum negative particle surface concentration\n",
      "Minimum negative particle surface concentration [mol.m-3]\n",
      "Minimum positive particle concentration\n",
      "Minimum positive particle concentration [mol.m-3]\n",
      "Minimum positive particle surface concentration\n",
      "Minimum positive particle surface concentration [mol.m-3]\n",
      "Negative electrode porosity times concentration\n",
      "Negative electrode volume-averaged concentration\n",
      "Negative electrode volume-averaged concentration [mol.m-3]\n",
      "Negative electrolyte concentration\n",
      "Negative electrolyte concentration [Molar]\n",
      "Negative electrolyte concentration [mol.m-3]\n",
      "Negative particle concentration\n",
      "Negative particle concentration [mol.m-3]\n",
      "Negative particle surface concentration\n",
      "Negative particle surface concentration [mol.m-3]\n",
      "Outer SEI concentration [mol.m-3]\n",
      "Outer SEI on cracks concentration [mol.m-3]\n",
      "Porosity times concentration\n",
      "Positive electrode porosity times concentration\n",
      "Positive electrode volume-averaged concentration\n",
      "Positive electrode volume-averaged concentration [mol.m-3]\n",
      "Positive electrolyte concentration\n",
      "Positive electrolyte concentration [Molar]\n",
      "Positive electrolyte concentration [mol.m-3]\n",
      "Positive particle concentration\n",
      "Positive particle concentration [mol.m-3]\n",
      "Positive particle surface concentration\n",
      "Positive particle surface concentration [mol.m-3]\n",
      "R-averaged negative particle concentration\n",
      "R-averaged negative particle concentration [mol.m-3]\n",
      "R-averaged positive particle concentration\n",
      "R-averaged positive particle concentration [mol.m-3]\n",
      "SEI concentration [mol.m-3]\n",
      "SEI on cracks concentration [mol.m-3]\n",
      "Separator electrolyte concentration\n",
      "Separator electrolyte concentration [Molar]\n",
      "Separator electrolyte concentration [mol.m-3]\n",
      "Separator porosity times concentration\n",
      "X-averaged SEI concentration [mol.m-3]\n",
      "X-averaged SEI on cracks concentration [mol.m-3]\n",
      "X-averaged battery concentration overpotential [V]\n",
      "X-averaged concentration overpotential\n",
      "X-averaged concentration overpotential [V]\n",
      "X-averaged dead lithium concentration\n",
      "X-averaged dead lithium concentration [mol.m-3]\n",
      "X-averaged electrolyte concentration\n",
      "X-averaged electrolyte concentration [Molar]\n",
      "X-averaged electrolyte concentration [mol.m-3]\n",
      "X-averaged inner SEI concentration [mol.m-3]\n",
      "X-averaged inner SEI on cracks concentration [mol.m-3]\n",
      "X-averaged lithium plating concentration\n",
      "X-averaged lithium plating concentration [mol.m-3]\n",
      "X-averaged negative electrolyte concentration\n",
      "X-averaged negative electrolyte concentration [mol.m-3]\n",
      "X-averaged negative particle concentration\n",
      "X-averaged negative particle concentration [mol.m-3]\n",
      "X-averaged negative particle surface concentration\n",
      "X-averaged negative particle surface concentration [mol.m-3]\n",
      "X-averaged outer SEI concentration [mol.m-3]\n",
      "X-averaged outer SEI on cracks concentration [mol.m-3]\n",
      "X-averaged positive electrolyte concentration\n",
      "X-averaged positive electrolyte concentration [mol.m-3]\n",
      "X-averaged positive particle concentration\n",
      "X-averaged positive particle concentration [mol.m-3]\n",
      "X-averaged positive particle surface concentration\n",
      "X-averaged positive particle surface concentration [mol.m-3]\n",
      "X-averaged separator electrolyte concentration\n",
      "X-averaged separator electrolyte concentration [mol.m-3]\n"
     ]
    }
   ],
   "source": [
    "spm.variables.search(\"concentration\")"
   ]
  },
  {
   "cell_type": "code",
   "execution_count": 4,
   "id": "8c4bac24",
   "metadata": {},
   "outputs": [],
   "source": [
    "cpe = spm.variables[\"Positive electrode volume-averaged concentration [mol.m-3]\"]\n",
    "cxa = spm.variables[\"X-averaged positive particle concentration [mol.m-3]\"]"
   ]
  },
  {
   "cell_type": "code",
   "execution_count": 5,
   "id": "a854bac9",
   "metadata": {},
   "outputs": [
    {
     "data": {
      "text/plain": [
       "['current collector']"
      ]
     },
     "execution_count": 5,
     "metadata": {},
     "output_type": "execute_result"
    }
   ],
   "source": [
    "cpe.domain"
   ]
  },
  {
   "cell_type": "code",
   "execution_count": 6,
   "id": "e07f77e3",
   "metadata": {},
   "outputs": [
    {
     "data": {
      "text/plain": [
       "['positive particle']"
      ]
     },
     "execution_count": 6,
     "metadata": {},
     "output_type": "execute_result"
    }
   ],
   "source": [
    "cxa.domain"
   ]
  },
  {
   "cell_type": "code",
   "execution_count": 7,
   "id": "fcae0497",
   "metadata": {},
   "outputs": [
    {
     "name": "stdout",
     "output_type": "stream",
     "text": [
      "x_n has 20 mesh points\n",
      "x_s has 20 mesh points\n",
      "x_p has 20 mesh points\n",
      "r_n has 20 mesh points\n",
      "r_p has 20 mesh points\n",
      "r_n_prim has 20 mesh points\n",
      "r_p_prim has 20 mesh points\n",
      "r_n_sec has 20 mesh points\n",
      "r_p_sec has 20 mesh points\n",
      "y has 10 mesh points\n",
      "z has 10 mesh points\n",
      "R_n has 30 mesh points\n",
      "R_p has 30 mesh points\n"
     ]
    }
   ],
   "source": [
    "for var, npts in spm.default_var_pts.items():\n",
    "    print(var,'has', npts,'mesh points')"
   ]
  },
  {
   "cell_type": "code",
   "execution_count": 8,
   "id": "538b04eb",
   "metadata": {},
   "outputs": [
    {
     "data": {
      "text/plain": [
       "<pybamm.solvers.solution.Solution at 0x1ab9c00f1c0>"
      ]
     },
     "execution_count": 8,
     "metadata": {},
     "output_type": "execute_result"
    }
   ],
   "source": [
    "sim = pybamm.Simulation(spm)\n",
    "sim.solve(t_eval=[0,3600])"
   ]
  },
  {
   "cell_type": "code",
   "execution_count": 9,
   "id": "045a64b0",
   "metadata": {},
   "outputs": [
    {
     "data": {
      "application/vnd.jupyter.widget-view+json": {
       "model_id": "e925494ec47f4da3806079e32b8efca4",
       "version_major": 2,
       "version_minor": 0
      },
      "text/plain": [
       "interactive(children=(FloatSlider(value=0.0, description='t', max=1.0, step=0.01), Output()), _dom_classes=('w…"
      ]
     },
     "metadata": {},
     "output_type": "display_data"
    },
    {
     "data": {
      "text/plain": [
       "<pybamm.plotting.quick_plot.QuickPlot at 0x1abf91b31c0>"
      ]
     },
     "execution_count": 9,
     "metadata": {},
     "output_type": "execute_result"
    }
   ],
   "source": [
    "#Plot variables depending on R\n",
    "output_vars = [\n",
    "    \n",
    "               \"X-averaged positive particle concentration [mol.m-3]\",\n",
    "               \"X-averaged negative particle concentration [mol.m-3]\",\n",
    "               \"Terminal voltage [V]\",\n",
    "               \"Positive particle surface concentration [mol.m-3]\",\n",
    "               \"Negative particle surface concentration [mol.m-3]\",\n",
    "               \"Electrolyte concentration [mol.m-3]\",\n",
    "               \n",
    "              ]\n",
    "\n",
    "# plot\n",
    "sim.plot(output_variables = output_vars)"
   ]
  },
  {
   "cell_type": "code",
   "execution_count": 10,
   "id": "88207346",
   "metadata": {},
   "outputs": [
    {
     "name": "stdout",
     "output_type": "stream",
     "text": [
      "EC initial concentration in electrolyte [mol.m-3]\t4541.0\n",
      "Electrolyte conductivity [S.m-1]\t<function electrolyte_conductivity_Nyman2008 at 0x000001AB9BBE1820>\n",
      "Electrolyte diffusivity [m2.s-1]\t<function electrolyte_diffusivity_Nyman2008 at 0x000001AB9BBE1790>\n",
      "Initial concentration in electrolyte [mol.m-3]\t1000.0\n",
      "Negative electrode Bruggeman coefficient (electrolyte)\t1.5\n",
      "Positive electrode Bruggeman coefficient (electrolyte)\t1.5\n",
      "Separator Bruggeman coefficient (electrolyte)\t1.5\n",
      "Typical electrolyte concentration [mol.m-3]\t1000.0\n"
     ]
    }
   ],
   "source": [
    "chemistry = pybamm.parameter_sets.Chen2020\n",
    "params = pybamm.ParameterValues(chemistry = chemistry)\n",
    "params.search(\"electrolyte\")"
   ]
  },
  {
   "cell_type": "code",
   "execution_count": 11,
   "id": "d026d6cf",
   "metadata": {},
   "outputs": [
    {
     "name": "stdout",
     "output_type": "stream",
     "text": [
      "Initial concentration in positive electrode [mol.m-3]\t17038.0\n",
      "Maximum concentration in positive electrode [mol.m-3]\t63104.0\n",
      "Positive current collector conductivity [S.m-1]\t36914000.0\n",
      "Positive current collector density [kg.m-3]\t2700.0\n",
      "Positive current collector specific heat capacity [J.kg-1.K-1]\t897.0\n",
      "Positive current collector thermal conductivity [W.m-1.K-1]\t237.0\n",
      "Positive current collector thickness [m]\t1.6e-05\n",
      "Positive electrode Bruggeman coefficient (electrode)\t1.5\n",
      "Positive electrode Bruggeman coefficient (electrolyte)\t1.5\n",
      "Positive electrode OCP [V]\t<function nmc_LGM50_ocp_Chen2020 at 0x000001AB9BBE15E0>\n",
      "Positive electrode OCP entropic change [V.K-1]\t0.0\n",
      "Positive electrode active material volume fraction\t0.665\n",
      "Positive electrode cation signed stoichiometry\t-1.0\n",
      "Positive electrode charge transfer coefficient\t0.5\n",
      "Positive electrode conductivity [S.m-1]\t0.18\n",
      "Positive electrode density [kg.m-3]\t3262.0\n",
      "Positive electrode diffusivity [m2.s-1]\t4e-15\n",
      "Positive electrode double-layer capacity [F.m-2]\t0.2\n",
      "Positive electrode electrons in reaction\t1.0\n",
      "Positive electrode exchange-current density [A.m-2]\t<function nmc_LGM50_electrolyte_exchange_current_density_Chen2020 at 0x000001AB9BBE1700>\n",
      "Positive electrode porosity\t0.335\n",
      "Positive electrode reaction-driven LAM factor [m3.mol-1]\t0.0\n",
      "Positive electrode specific heat capacity [J.kg-1.K-1]\t700.0\n",
      "Positive electrode thermal conductivity [W.m-1.K-1]\t2.1\n",
      "Positive electrode thickness [m]\t7.56e-05\n",
      "Positive particle radius [m]\t5.22e-06\n"
     ]
    }
   ],
   "source": [
    "chemistry = pybamm.parameter_sets.Chen2020\n",
    "params = pybamm.ParameterValues(chemistry = chemistry)\n",
    "params.search(\"positive\")"
   ]
  },
  {
   "cell_type": "code",
   "execution_count": 12,
   "id": "2a15158e",
   "metadata": {},
   "outputs": [
    {
     "name": "stdout",
     "output_type": "stream",
     "text": [
      "Initial concentration in negative electrode [mol.m-3]\t29866.0\n",
      "Maximum concentration in negative electrode [mol.m-3]\t33133.0\n",
      "Negative current collector conductivity [S.m-1]\t58411000.0\n",
      "Negative current collector density [kg.m-3]\t8960.0\n",
      "Negative current collector specific heat capacity [J.kg-1.K-1]\t385.0\n",
      "Negative current collector thermal conductivity [W.m-1.K-1]\t401.0\n",
      "Negative current collector thickness [m]\t1.2e-05\n",
      "Negative electrode Bruggeman coefficient (electrode)\t1.5\n",
      "Negative electrode Bruggeman coefficient (electrolyte)\t1.5\n",
      "Negative electrode OCP [V]\t<function graphite_LGM50_ocp_Chen2020 at 0x000001AB9BBE1430>\n",
      "Negative electrode OCP entropic change [V.K-1]\t0.0\n",
      "Negative electrode active material volume fraction\t0.75\n",
      "Negative electrode cation signed stoichiometry\t-1.0\n",
      "Negative electrode charge transfer coefficient\t0.5\n",
      "Negative electrode conductivity [S.m-1]\t215.0\n",
      "Negative electrode density [kg.m-3]\t1657.0\n",
      "Negative electrode diffusivity [m2.s-1]\t3.3e-14\n",
      "Negative electrode double-layer capacity [F.m-2]\t0.2\n",
      "Negative electrode electrons in reaction\t1.0\n",
      "Negative electrode exchange-current density [A.m-2]\t<function graphite_LGM50_electrolyte_exchange_current_density_Chen2020 at 0x000001AB9BBE1550>\n",
      "Negative electrode porosity\t0.25\n",
      "Negative electrode reaction-driven LAM factor [m3.mol-1]\t0.0\n",
      "Negative electrode specific heat capacity [J.kg-1.K-1]\t700.0\n",
      "Negative electrode thermal conductivity [W.m-1.K-1]\t1.7\n",
      "Negative electrode thickness [m]\t8.52e-05\n",
      "Negative particle radius [m]\t5.86e-06\n"
     ]
    }
   ],
   "source": [
    "chemistry = pybamm.parameter_sets.Chen2020\n",
    "params = pybamm.ParameterValues(chemistry = chemistry)\n",
    "params.search(\"negative\")"
   ]
  },
  {
   "cell_type": "markdown",
   "id": "a6246d42",
   "metadata": {},
   "source": [
    "### chemistry = pybamm.parameter_sets.Chen2020\n",
    "params = pybamm.ParameterValues(chemistry = chemistry)\n",
    "params.search(\"Diffusivity\")"
   ]
  },
  {
   "cell_type": "code",
   "execution_count": 14,
   "id": "f0460c4d",
   "metadata": {},
   "outputs": [
    {
     "name": "stdout",
     "output_type": "stream",
     "text": [
      "1 + dlnf/dlnc\t1.0\n",
      "Ambient temperature [K]\t298.15\n",
      "Bulk solvent concentration [mol.m-3]\t2636.0\n",
      "Cation transference number\t0.2594\n",
      "Cell cooling surface area [m2]\t0.00531\n",
      "Cell thermal expansion coefficient [m.K-1]\t1.1e-06\n",
      "Cell volume [m3]\t2.42e-05\n",
      "Current function [A]\t5.0\n",
      "EC diffusivity [m2.s-1]\t2e-18\n",
      "EC initial concentration in electrolyte [mol.m-3]\t4541.0\n",
      "Electrode height [m]\t0.065\n",
      "Electrode width [m]\t1.58\n",
      "Electrolyte conductivity [S.m-1]\t<function electrolyte_conductivity_Nyman2008 at 0x000001AB9BBE1820>\n",
      "Electrolyte diffusivity [m2.s-1]\t<function electrolyte_diffusivity_Nyman2008 at 0x000001AB9BBE1790>\n",
      "Initial concentration in electrolyte [mol.m-3]\t1000.0\n",
      "Initial concentration in negative electrode [mol.m-3]\t29866.0\n",
      "Initial concentration in positive electrode [mol.m-3]\t17038.0\n",
      "Initial inner SEI thickness [m]\t2.5e-09\n",
      "Initial outer SEI thickness [m]\t2.5e-09\n",
      "Initial temperature [K]\t298.15\n",
      "Inner SEI electron conductivity [S.m-1]\t8.95e-14\n",
      "Inner SEI lithium interstitial diffusivity [m2.s-1]\t1e-20\n",
      "Inner SEI open-circuit potential [V]\t0.1\n",
      "Inner SEI partial molar volume [m3.mol-1]\t9.585e-05\n",
      "Inner SEI reaction proportion\t0.5\n",
      "Lithium interstitial reference concentration [mol.m-3]\t15.0\n",
      "Lower voltage cut-off [V]\t2.5\n",
      "Maximum concentration in negative electrode [mol.m-3]\t33133.0\n",
      "Maximum concentration in positive electrode [mol.m-3]\t63104.0\n",
      "Negative current collector conductivity [S.m-1]\t58411000.0\n",
      "Negative current collector density [kg.m-3]\t8960.0\n",
      "Negative current collector specific heat capacity [J.kg-1.K-1]\t385.0\n",
      "Negative current collector thermal conductivity [W.m-1.K-1]\t401.0\n",
      "Negative current collector thickness [m]\t1.2e-05\n",
      "Negative electrode Bruggeman coefficient (electrode)\t1.5\n",
      "Negative electrode Bruggeman coefficient (electrolyte)\t1.5\n",
      "Negative electrode OCP [V]\t<function graphite_LGM50_ocp_Chen2020 at 0x000001AB9BBE1430>\n",
      "Negative electrode OCP entropic change [V.K-1]\t0.0\n",
      "Negative electrode active material volume fraction\t0.75\n",
      "Negative electrode cation signed stoichiometry\t-1.0\n",
      "Negative electrode charge transfer coefficient\t0.5\n",
      "Negative electrode conductivity [S.m-1]\t215.0\n",
      "Negative electrode density [kg.m-3]\t1657.0\n",
      "Negative electrode diffusivity [m2.s-1]\t3.3e-14\n",
      "Negative electrode double-layer capacity [F.m-2]\t0.2\n",
      "Negative electrode electrons in reaction\t1.0\n",
      "Negative electrode exchange-current density [A.m-2]\t<function graphite_LGM50_electrolyte_exchange_current_density_Chen2020 at 0x000001AB9BBE1550>\n",
      "Negative electrode porosity\t0.25\n",
      "Negative electrode reaction-driven LAM factor [m3.mol-1]\t0.0\n",
      "Negative electrode specific heat capacity [J.kg-1.K-1]\t700.0\n",
      "Negative electrode thermal conductivity [W.m-1.K-1]\t1.7\n",
      "Negative electrode thickness [m]\t8.52e-05\n",
      "Negative particle radius [m]\t5.86e-06\n",
      "Nominal cell capacity [A.h]\t5.0\n",
      "Number of cells connected in series to make a battery\t1.0\n",
      "Number of electrodes connected in parallel to make a cell\t1.0\n",
      "Outer SEI open-circuit potential [V]\t0.8\n",
      "Outer SEI partial molar volume [m3.mol-1]\t9.585e-05\n",
      "Outer SEI solvent diffusivity [m2.s-1]\t2.5000000000000002e-22\n",
      "Positive current collector conductivity [S.m-1]\t36914000.0\n",
      "Positive current collector density [kg.m-3]\t2700.0\n",
      "Positive current collector specific heat capacity [J.kg-1.K-1]\t897.0\n",
      "Positive current collector thermal conductivity [W.m-1.K-1]\t237.0\n",
      "Positive current collector thickness [m]\t1.6e-05\n",
      "Positive electrode Bruggeman coefficient (electrode)\t1.5\n",
      "Positive electrode Bruggeman coefficient (electrolyte)\t1.5\n",
      "Positive electrode OCP [V]\t<function nmc_LGM50_ocp_Chen2020 at 0x000001AB9BBE15E0>\n",
      "Positive electrode OCP entropic change [V.K-1]\t0.0\n",
      "Positive electrode active material volume fraction\t0.665\n",
      "Positive electrode cation signed stoichiometry\t-1.0\n",
      "Positive electrode charge transfer coefficient\t0.5\n",
      "Positive electrode conductivity [S.m-1]\t0.18\n",
      "Positive electrode density [kg.m-3]\t3262.0\n",
      "Positive electrode diffusivity [m2.s-1]\t4e-15\n",
      "Positive electrode double-layer capacity [F.m-2]\t0.2\n",
      "Positive electrode electrons in reaction\t1.0\n",
      "Positive electrode exchange-current density [A.m-2]\t<function nmc_LGM50_electrolyte_exchange_current_density_Chen2020 at 0x000001AB9BBE1700>\n",
      "Positive electrode porosity\t0.335\n",
      "Positive electrode reaction-driven LAM factor [m3.mol-1]\t0.0\n",
      "Positive electrode specific heat capacity [J.kg-1.K-1]\t700.0\n",
      "Positive electrode thermal conductivity [W.m-1.K-1]\t2.1\n",
      "Positive electrode thickness [m]\t7.56e-05\n",
      "Positive particle radius [m]\t5.22e-06\n",
      "Reference temperature [K]\t298.15\n",
      "SEI growth activation energy [J.mol-1]\t0.0\n",
      "SEI kinetic rate constant [m.s-1]\t1e-12\n",
      "SEI open-circuit potential [V]\t0.4\n",
      "SEI reaction exchange current density [A.m-2]\t1.5e-07\n",
      "SEI resistivity [Ohm.m]\t200000.0\n",
      "Separator Bruggeman coefficient (electrolyte)\t1.5\n",
      "Separator density [kg.m-3]\t397.0\n",
      "Separator porosity\t0.47\n",
      "Separator specific heat capacity [J.kg-1.K-1]\t700.0\n",
      "Separator thermal conductivity [W.m-1.K-1]\t0.16\n",
      "Separator thickness [m]\t1.2e-05\n",
      "Total heat transfer coefficient [W.m-2.K-1]\t10.0\n",
      "Typical current [A]\t5.0\n",
      "Typical electrolyte concentration [mol.m-3]\t1000.0\n",
      "Upper voltage cut-off [V]\t4.2\n"
     ]
    }
   ],
   "source": [
    "chemistry = pybamm.parameter_sets.Chen2020\n",
    "params = pybamm.ParameterValues(chemistry = chemistry)\n",
    "params.search(\"\")"
   ]
  },
  {
   "cell_type": "code",
   "execution_count": 17,
   "id": "6974c41c",
   "metadata": {},
   "outputs": [
    {
     "name": "stdout",
     "output_type": "stream",
     "text": [
      "EC diffusivity [m2.s-1]\t2e-18\n",
      "Electrolyte diffusivity [m2.s-1]\t<function electrolyte_diffusivity_Nyman2008 at 0x000001AB9BBE1790>\n",
      "Inner SEI lithium interstitial diffusivity [m2.s-1]\t1e-20\n",
      "Negative electrode diffusivity [m2.s-1]\t3.3e-14\n",
      "Outer SEI solvent diffusivity [m2.s-1]\t2.5000000000000002e-22\n",
      "Positive electrode diffusivity [m2.s-1]\t4e-15\n"
     ]
    }
   ],
   "source": [
    "chemistry = pybamm.parameter_sets.Chen2020\n",
    "params = pybamm.ParameterValues(chemistry = chemistry)\n",
    "params.search(\"diffusivity\")"
   ]
  },
  {
   "cell_type": "code",
   "execution_count": null,
   "id": "9741dafb",
   "metadata": {},
   "outputs": [],
   "source": [
    "chemistry = pybamm.parameter_sets.Chen2020\n",
    "params = pybamm.ParameterValues(chemistry = chemistry)\n",
    "params.search(\"particle\")"
   ]
  }
 ],
 "metadata": {
  "kernelspec": {
   "display_name": "Python 3 (ipykernel)",
   "language": "python",
   "name": "python3"
  },
  "language_info": {
   "codemirror_mode": {
    "name": "ipython",
    "version": 3
   },
   "file_extension": ".py",
   "mimetype": "text/x-python",
   "name": "python",
   "nbconvert_exporter": "python",
   "pygments_lexer": "ipython3",
   "version": "3.9.13"
  }
 },
 "nbformat": 4,
 "nbformat_minor": 5
}
